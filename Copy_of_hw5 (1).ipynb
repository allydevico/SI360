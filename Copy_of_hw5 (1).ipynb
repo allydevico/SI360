{
  "cells": [
    {
      "cell_type": "code",
      "execution_count": 3,
      "metadata": {
        "deletable": false,
        "editable": false,
        "nbgrader": {
          "grade": false,
          "grade_id": "cell-1be04a157d86c84b",
          "locked": true,
          "schema_version": 3,
          "solution": false
        },
        "id": "kUz-6-JP_59U",
        "outputId": "8ac38bbf-b89c-4635-e468-1e9350da585a",
        "colab": {
          "base_uri": "https://localhost:8080/"
        }
      },
      "outputs": [
        {
          "output_type": "stream",
          "name": "stderr",
          "text": [
            "Warning message in system(\"timedatectl\", intern = TRUE):\n",
            "“running command 'timedatectl' had status 1”\n",
            "── \u001b[1mAttaching packages\u001b[22m ─────────────────────────────────────── tidyverse 1.3.1 ──\n",
            "\n",
            "\u001b[32m✔\u001b[39m \u001b[34mggplot2\u001b[39m 3.4.0     \u001b[32m✔\u001b[39m \u001b[34mpurrr  \u001b[39m 1.0.1\n",
            "\u001b[32m✔\u001b[39m \u001b[34mtibble \u001b[39m 3.1.8     \u001b[32m✔\u001b[39m \u001b[34mdplyr  \u001b[39m 1.1.0\n",
            "\u001b[32m✔\u001b[39m \u001b[34mtidyr  \u001b[39m 1.3.0     \u001b[32m✔\u001b[39m \u001b[34mstringr\u001b[39m 1.4.1\n",
            "\u001b[32m✔\u001b[39m \u001b[34mreadr  \u001b[39m 2.1.3     \u001b[32m✔\u001b[39m \u001b[34mforcats\u001b[39m 1.0.0\n",
            "\n",
            "── \u001b[1mConflicts\u001b[22m ────────────────────────────────────────── tidyverse_conflicts() ──\n",
            "\u001b[31m✖\u001b[39m \u001b[34mdplyr\u001b[39m::\u001b[32mfilter()\u001b[39m masks \u001b[34mstats\u001b[39m::filter()\n",
            "\u001b[31m✖\u001b[39m \u001b[34mdplyr\u001b[39m::\u001b[32mlag()\u001b[39m    masks \u001b[34mstats\u001b[39m::lag()\n",
            "\n"
          ]
        }
      ],
      "source": [
        "library(tidyverse)\n",
        "options(repr.plot.width=5, repr.plot.height=4)"
      ]
    },
    {
      "cell_type": "markdown",
      "metadata": {
        "deletable": false,
        "editable": false,
        "nbgrader": {
          "grade": false,
          "grade_id": "cell-281caadd66986182",
          "locked": true,
          "schema_version": 3,
          "solution": false
        },
        "id": "O7i7R6VQ_59X"
      },
      "source": [
        "# STATS 306\n",
        "## Homework 5: Relational Data and SQL\n",
        "\n",
        "For each problem, enter the R code in the cell marked \"YOUR SOLUTION HERE\". All of the problems in this problem set use the `nycflights13` data:\n",
        "\n",
        "This package provides the following data tables.\n",
        "\n",
        "* `?flights`: all flights that departed from NYC in 2013\n",
        "* `?weather`: hourly meterological data for each airport\n",
        "* `?planes`: construction information about each plane\n",
        "* `?airports`: airport names and locations\n",
        "* `?airlines`: translation between two letter carrier codes and names"
      ]
    },
    {
      "cell_type": "code",
      "execution_count": 4,
      "metadata": {
        "id": "mhAFz4YB_59X",
        "colab": {
          "base_uri": "https://localhost:8080/"
        },
        "outputId": "3c1425c1-5f04-4158-f431-ab3a0a594b62"
      },
      "outputs": [
        {
          "output_type": "stream",
          "name": "stderr",
          "text": [
            "Installing package into ‘/usr/local/lib/R/site-library’\n",
            "(as ‘lib’ is unspecified)\n",
            "\n"
          ]
        }
      ],
      "source": [
        "install.packages('nycflights13') # if necessary"
      ]
    },
    {
      "cell_type": "code",
      "execution_count": 5,
      "metadata": {
        "deletable": false,
        "editable": false,
        "id": "wCgq-eNo_59X"
      },
      "outputs": [],
      "source": [
        "library(nycflights13)"
      ]
    },
    {
      "cell_type": "markdown",
      "metadata": {
        "deletable": false,
        "editable": false,
        "nbgrader": {
          "grade": false,
          "grade_id": "cell-421557d86106e43b",
          "locked": true,
          "schema_version": 3,
          "solution": false
        },
        "id": "DdbzaWAY_59Y"
      },
      "source": [
        "## Problem 1: Joins (4 points)\n"
      ]
    },
    {
      "cell_type": "markdown",
      "metadata": {
        "deletable": false,
        "editable": false,
        "run_control": {
          "frozen": true
        },
        "id": "FRHZEOlA_59Y"
      },
      "source": [
        "**(a)** Is there a relationship between a) a plane's age, and b) the proportion of flights schedule to use that plane that got cancelled? Here we consider a flight cancellation to be when `dep_time` is `NA` as described in HW 3 Problem 1 (b): 1 point"
      ]
    },
    {
      "cell_type": "code",
      "execution_count": 4,
      "metadata": {
        "id": "AKcRwpTS_59Y"
      },
      "outputs": [],
      "source": [
        "# Your solution here\n",
        "\n",
        "flightsCancelled <- flights %>%\n",
        "    inner_join(planes, by = \"tailnum\") %>%\n",
        "    mutate(age = 2023-year.y) %>%\n",
        "    select(age, dep_time) %>%\n",
        "    mutate(isCancelled = is.na(dep_time))%>%\n",
        "    group_by(age) %>%\n",
        "    mutate(propFlightsCancelled = mean(isCancelled)) "
      ]
    },
    {
      "cell_type": "code",
      "source": [
        "flightsCancelled %>%\n",
        "    ggplot(aes(x=age, y=propFlightsCancelled))  +\n",
        "    geom_point()"
      ],
      "metadata": {
        "colab": {
          "base_uri": "https://localhost:8080/",
          "height": 291
        },
        "id": "e_oUNj5DJgme",
        "outputId": "9c556843-c927-4ecd-e51a-5efe250c02d6"
      },
      "execution_count": 5,
      "outputs": [
        {
          "output_type": "stream",
          "name": "stderr",
          "text": [
            "Warning message:\n",
            "“\u001b[1m\u001b[22mRemoved 5306 rows containing missing values (`geom_point()`).”\n"
          ]
        },
        {
          "output_type": "display_data",
          "data": {
            "text/plain": [
              "plot without title"
            ],
            "image/png": "[encoded data removed]"
          },
          "metadata": {
            "image/png": {
              "width": 300,
              "height": 240
            }
          }
        }
      ]
    },
    {
      "cell_type": "code",
      "source": [
        "cor(flightsCancelled$age, flightsCancelled$propFlightsCancelled, method = \"pearson\", use = \"pairwise.complete.obs\")"
      ],
      "metadata": {
        "colab": {
          "base_uri": "https://localhost:8080/",
          "height": 34
        },
        "id": "q7Oo_NGcJFGF",
        "outputId": "b6b2a0fc-0130-4f54-abdd-f1861e28bc9f"
      },
      "execution_count": 6,
      "outputs": [
        {
          "output_type": "display_data",
          "data": {
            "text/html": [
              "0.14562463753001"
            ],
            "text/markdown": "0.14562463753001",
            "text/latex": "0.14562463753001",
            "text/plain": [
              "[1] 0.1456246"
            ]
          },
          "metadata": {}
        }
      ]
    },
    {
      "cell_type": "markdown",
      "source": [
        "There does not appear to be a relationship between a plane's age and the proportion of flights scheduled to use that plane of that age. As we see from the scatterplot, the points are randomly distributed and follow no clear pattern. Also, the correlaiton coefficient is 0.145 which is close to 0, indicating a very week relationship. "
      ],
      "metadata": {
        "id": "HqxJhmdxK9Ai"
      }
    },
    {
      "cell_type": "markdown",
      "metadata": {
        "deletable": false,
        "editable": false,
        "run_control": {
          "frozen": true
        },
        "id": "Y4-CmUf0_59Y"
      },
      "source": [
        "**(b)** Are some planes used by multiple carriers? (Recall that each plane is uniquely identified by its `tailnum`.) _1 point_"
      ]
    },
    {
      "cell_type": "code",
      "execution_count": 8,
      "metadata": {
        "id": "HcsfzPTY_59Y",
        "colab": {
          "base_uri": "https://localhost:8080/",
          "height": 655
        },
        "outputId": "f5500b6c-523a-4a5b-b980-63a8d49b2b94"
      },
      "outputs": [
        {
          "output_type": "display_data",
          "data": {
            "text/html": [
              "<table class=\"dataframe\">\n",
              "<caption>A tibble: 18 × 2</caption>\n",
              "<thead>\n",
              "\t<tr><th scope=col>tailnum</th><th scope=col>distinctCarriers</th></tr>\n",
              "\t<tr><th scope=col>&lt;chr&gt;</th><th scope=col>&lt;int&gt;</th></tr>\n",
              "</thead>\n",
              "<tbody>\n",
              "\t<tr><td>N146PQ</td><td>2</td></tr>\n",
              "\t<tr><td>N153PQ</td><td>2</td></tr>\n",
              "\t<tr><td>N176PQ</td><td>2</td></tr>\n",
              "\t<tr><td>N181PQ</td><td>2</td></tr>\n",
              "\t<tr><td>N197PQ</td><td>2</td></tr>\n",
              "\t<tr><td>N200PQ</td><td>2</td></tr>\n",
              "\t<tr><td>N228PQ</td><td>2</td></tr>\n",
              "\t<tr><td>N232PQ</td><td>2</td></tr>\n",
              "\t<tr><td>N933AT</td><td>2</td></tr>\n",
              "\t<tr><td>N935AT</td><td>2</td></tr>\n",
              "\t<tr><td>N977AT</td><td>2</td></tr>\n",
              "\t<tr><td>N978AT</td><td>2</td></tr>\n",
              "\t<tr><td>N979AT</td><td>2</td></tr>\n",
              "\t<tr><td>N981AT</td><td>2</td></tr>\n",
              "\t<tr><td>N989AT</td><td>2</td></tr>\n",
              "\t<tr><td>N990AT</td><td>2</td></tr>\n",
              "\t<tr><td>N994AT</td><td>2</td></tr>\n",
              "\t<tr><td>NA    </td><td>7</td></tr>\n",
              "</tbody>\n",
              "</table>\n"
            ],
            "text/markdown": "\nA tibble: 18 × 2\n\n| tailnum &lt;chr&gt; | distinctCarriers &lt;int&gt; |\n|---|---|\n| N146PQ | 2 |\n| N153PQ | 2 |\n| N176PQ | 2 |\n| N181PQ | 2 |\n| N197PQ | 2 |\n| N200PQ | 2 |\n| N228PQ | 2 |\n| N232PQ | 2 |\n| N933AT | 2 |\n| N935AT | 2 |\n| N977AT | 2 |\n| N978AT | 2 |\n| N979AT | 2 |\n| N981AT | 2 |\n| N989AT | 2 |\n| N990AT | 2 |\n| N994AT | 2 |\n| NA     | 7 |\n\n",
            "text/latex": "A tibble: 18 × 2\n\\begin{tabular}{ll}\n tailnum & distinctCarriers\\\\\n <chr> & <int>\\\\\n\\hline\n\t N146PQ & 2\\\\\n\t N153PQ & 2\\\\\n\t N176PQ & 2\\\\\n\t N181PQ & 2\\\\\n\t N197PQ & 2\\\\\n\t N200PQ & 2\\\\\n\t N228PQ & 2\\\\\n\t N232PQ & 2\\\\\n\t N933AT & 2\\\\\n\t N935AT & 2\\\\\n\t N977AT & 2\\\\\n\t N978AT & 2\\\\\n\t N979AT & 2\\\\\n\t N981AT & 2\\\\\n\t N989AT & 2\\\\\n\t N990AT & 2\\\\\n\t N994AT & 2\\\\\n\t NA     & 7\\\\\n\\end{tabular}\n",
            "text/plain": [
              "   tailnum distinctCarriers\n",
              "1  N146PQ  2               \n",
              "2  N153PQ  2               \n",
              "3  N176PQ  2               \n",
              "4  N181PQ  2               \n",
              "5  N197PQ  2               \n",
              "6  N200PQ  2               \n",
              "7  N228PQ  2               \n",
              "8  N232PQ  2               \n",
              "9  N933AT  2               \n",
              "10 N935AT  2               \n",
              "11 N977AT  2               \n",
              "12 N978AT  2               \n",
              "13 N979AT  2               \n",
              "14 N981AT  2               \n",
              "15 N989AT  2               \n",
              "16 N990AT  2               \n",
              "17 N994AT  2               \n",
              "18 NA      7               "
            ]
          },
          "metadata": {}
        }
      ],
      "source": [
        "# Your solution here\n",
        "\n",
        "flights %>%\n",
        "  group_by(tailnum) %>%\n",
        "  summarise(distinctCarriers = n_distinct(carrier)) %>%\n",
        "  filter(distinctCarriers>1)"
      ]
    },
    {
      "cell_type": "markdown",
      "source": [
        "Yes, there are 18 planes (including one NA plane) that uses multiple carriers."
      ],
      "metadata": {
        "id": "7MhRwNszNOV9"
      }
    },
    {
      "cell_type": "markdown",
      "metadata": {
        "deletable": false,
        "editable": false,
        "run_control": {
          "frozen": true
        },
        "id": "6hHS6jM0_59Y"
      },
      "source": [
        "install.packages(\"maps\")In the next few problems you are asked to draw some data on a map of the United States. Fortunately, this is easy to do using `ggplot`. Here is an example which draws the location of each airport in the dataset:"
      ]
    },
    {
      "cell_type": "code",
      "source": [
        "install.packages(\"maps\") # if necessary"
      ],
      "metadata": {
        "colab": {
          "base_uri": "https://localhost:8080/"
        },
        "id": "h_nWeWx9Nf1x",
        "outputId": "e24e85a7-9cfb-4096-d453-c82abc0bd343"
      },
      "execution_count": 7,
      "outputs": [
        {
          "output_type": "stream",
          "name": "stderr",
          "text": [
            "Installing package into ‘/usr/local/lib/R/site-library’\n",
            "(as ‘lib’ is unspecified)\n",
            "\n"
          ]
        }
      ]
    },
    {
      "cell_type": "code",
      "execution_count": 9,
      "metadata": {
        "deletable": false,
        "editable": false,
        "id": "7N1JFKc7_59Y",
        "outputId": "9321e2f3-1c80-40bd-da53-e8918deda2cf",
        "colab": {
          "base_uri": "https://localhost:8080/",
          "height": 257
        }
      },
      "outputs": [
        {
          "output_type": "display_data",
          "data": {
            "text/plain": [
              "plot without title"
            ],
            "image/png": "[encoded data removed]"
          },
          "metadata": {
            "image/png": {
              "width": 300,
              "height": 240
            }
          }
        }
      ],
      "source": [
        "airports  %>% \n",
        "  semi_join(flights, by=c(\"faa\"=\"dest\")) %>% \n",
        "  ggplot(aes(x = lon, y = lat)) +\n",
        "    borders(\"state\") +\n",
        "    geom_point() +\n",
        "    coord_quickmap()"
      ]
    },
    {
      "cell_type": "markdown",
      "metadata": {
        "deletable": false,
        "editable": false,
        "run_control": {
          "frozen": true
        },
        "id": "I-V4HTvm_59Z"
      },
      "source": [
        "**(c)** For each destination in the continental U.S., compute the average arrival delay to that destination, and draw them on a map: _1 point_"
      ]
    },
    {
      "cell_type": "code",
      "execution_count": 10,
      "metadata": {
        "id": "FU4ECeR9_59Z",
        "colab": {
          "base_uri": "https://localhost:8080/",
          "height": 342
        },
        "outputId": "22b8a84a-df06-4ea2-f7bc-b784f600c5b7"
      },
      "outputs": [
        {
          "output_type": "stream",
          "name": "stderr",
          "text": [
            "Warning message in inner_join(., flights, by = c(faa = \"dest\")):\n",
            "“\u001b[1m\u001b[22mEach row in `x` is expected to match at most 1 row in `y`.\n",
            "\u001b[36mℹ\u001b[39m Row 88 of `x` matches multiple rows.\n",
            "\u001b[36mℹ\u001b[39m If multiple matches are expected, set `multiple = \"all\"` to silence this\n",
            "  warning.”\n"
          ]
        },
        {
          "output_type": "display_data",
          "data": {
            "text/plain": [
              "plot without title"
            ],
            "image/png": "[encoded data removed]"
          },
          "metadata": {
            "image/png": {
              "width": 300,
              "height": 240
            }
          }
        }
      ],
      "source": [
        "# Your solution here\n",
        "\n",
        "airports  %>% \n",
        "  inner_join(flights, by=c(\"faa\"=\"dest\")) %>%\n",
        "  drop_na(arr_delay) %>%\n",
        "  group_by(faa) %>%\n",
        "  mutate(avgArrivalDelay = mean(arr_delay))  %>%\n",
        "  ungroup %>%\n",
        "  filter(!(faa %in% c(\"ANC\",\"HNL\"))) %>%\n",
        "  ggplot(aes(x = lon, y = lat, color = avgArrivalDelay)) +\n",
        "    borders(\"state\") +\n",
        "    geom_point() +\n",
        "    coord_quickmap()\n"
      ]
    },
    {
      "cell_type": "markdown",
      "metadata": {
        "deletable": false,
        "editable": false,
        "run_control": {
          "frozen": true
        },
        "id": "Qs0ssIbN_59Z"
      },
      "source": [
        "**(d)** Draw a map of the total number of passengers that flew from NYC to each destination airport in the continental US. (Hint: assume every flight was full, and use the `seats` variable in `planes` to estimate the number of passengers.) _1 point_"
      ]
    },
    {
      "cell_type": "code",
      "execution_count": 13,
      "metadata": {
        "id": "WeQ10BvN_59Z",
        "colab": {
          "base_uri": "https://localhost:8080/",
          "height": 342
        },
        "outputId": "a58cc38f-fb42-47fb-84ca-1b065a3e4b48"
      },
      "outputs": [
        {
          "output_type": "stream",
          "name": "stderr",
          "text": [
            "Warning message in inner_join(., flights, by = c(faa = \"dest\")):\n",
            "“\u001b[1m\u001b[22mEach row in `x` is expected to match at most 1 row in `y`.\n",
            "\u001b[36mℹ\u001b[39m Row 88 of `x` matches multiple rows.\n",
            "\u001b[36mℹ\u001b[39m If multiple matches are expected, set `multiple = \"all\"` to silence this\n",
            "  warning.”\n"
          ]
        },
        {
          "output_type": "display_data",
          "data": {
            "text/plain": [
              "plot without title"
            ],
            "image/png": "[encoded data removed]"
          },
          "metadata": {
            "image/png": {
              "width": 300,
              "height": 240
            }
          }
        }
      ],
      "source": [
        "# Your solution here\n",
        "\n",
        "airports  %>% \n",
        "  inner_join(flights, by=c(\"faa\"=\"dest\")) %>%\n",
        "  inner_join(planes, by = \"tailnum\") %>%\n",
        "  filter(!(faa %in% c(\"ANC\",\"HNL\"))) %>%\n",
        "  filter(origin %in% c(\"LGA\",\"JFK\")) %>%\n",
        "  group_by(faa) %>%\n",
        "  mutate(totalPassengers = sum(seats)) %>%\n",
        "  ggplot(aes(x = lon, y = lat, color = totalPassengers)) +\n",
        "  borders(\"state\") +\n",
        "  geom_point() +\n",
        "  coord_quickmap()\n",
        "\n"
      ]
    },
    {
      "cell_type": "markdown",
      "metadata": {
        "deletable": false,
        "editable": false,
        "id": "ABp3Y72O_59Z"
      },
      "source": [
        "## Problem 2, Weather Delays (4 points)\n",
        "\n",
        "Use the tables in the `nycflights13` package to answer the following questions:\n",
        "\n"
      ]
    },
    {
      "cell_type": "markdown",
      "metadata": {
        "deletable": false,
        "editable": false,
        "run_control": {
          "frozen": true
        },
        "id": "s-FzfEWm_59a"
      },
      "source": [
        "**(a)** The average departure delay during the first two days of the year was:"
      ]
    },
    {
      "cell_type": "code",
      "execution_count": 14,
      "metadata": {
        "deletable": false,
        "editable": false,
        "run_control": {
          "frozen": true
        },
        "id": "tOtFBBKP_59a",
        "outputId": "231c015a-14f8-468e-9f19-82d69734bef3",
        "colab": {
          "base_uri": "https://localhost:8080/"
        }
      },
      "outputs": [
        {
          "output_type": "stream",
          "name": "stdout",
          "text": [
            "\u001b[90m# A tibble: 1 × 1\u001b[39m\n",
            "  `mean(dep_delay, na.rm = T)`\n",
            "                         \u001b[3m\u001b[90m<dbl>\u001b[39m\u001b[23m\n",
            "\u001b[90m1\u001b[39m                         12.8\n"
          ]
        }
      ],
      "source": [
        "flights %>% filter(month == 1, day %in% c(1, 2)) %>% summarise(mean(dep_delay, na.rm = T)) %>% print"
      ]
    },
    {
      "cell_type": "markdown",
      "metadata": {
        "deletable": false,
        "editable": false,
        "run_control": {
          "frozen": true
        },
        "id": "7G-0UcVV_59a"
      },
      "source": [
        "whereas for the second two days of the year it was: "
      ]
    },
    {
      "cell_type": "code",
      "execution_count": 15,
      "metadata": {
        "deletable": false,
        "editable": false,
        "run_control": {
          "frozen": true
        },
        "id": "VXq9V2Xt_59a",
        "outputId": "f5c0f08e-9431-4b7a-b3cc-3b8e886a1025",
        "colab": {
          "base_uri": "https://localhost:8080/"
        }
      },
      "outputs": [
        {
          "output_type": "stream",
          "name": "stdout",
          "text": [
            "\u001b[90m# A tibble: 1 × 1\u001b[39m\n",
            "  `mean(dep_delay, na.rm = T)`\n",
            "                         \u001b[3m\u001b[90m<dbl>\u001b[39m\u001b[23m\n",
            "\u001b[90m1\u001b[39m                         12.4\n"
          ]
        }
      ],
      "source": [
        "flights %>% filter(month == 1, day %in% c(2, 3)) %>% summarise(mean(dep_delay, na.rm = T)) %>% print"
      ]
    },
    {
      "cell_type": "markdown",
      "metadata": {
        "deletable": false,
        "editable": false,
        "run_control": {
          "frozen": true
        },
        "id": "xwDVDXZq_59a"
      },
      "source": [
        "What are the two consecutive days in flights with the highest average departure delay? (Hint: use the `lag()` function.) _2 points_"
      ]
    },
    {
      "cell_type": "code",
      "execution_count": 16,
      "metadata": {
        "id": "NEOq8jEL_59a",
        "colab": {
          "base_uri": "https://localhost:8080/",
          "height": 1000
        },
        "outputId": "f82b3111-ad8c-4592-81a6-c41b57c39323"
      },
      "outputs": [
        {
          "output_type": "stream",
          "name": "stderr",
          "text": [
            "\u001b[1m\u001b[22m`summarise()` has grouped output by 'month'. You can override using the\n",
            "`.groups` argument.\n"
          ]
        },
        {
          "output_type": "display_data",
          "data": {
            "text/html": [
              "<table class=\"dataframe\">\n",
              "<caption>A grouped_df: 365 × 3</caption>\n",
              "<thead>\n",
              "\t<tr><th scope=col>month</th><th scope=col>day</th><th scope=col>twoDayDepDelayMean</th></tr>\n",
              "\t<tr><th scope=col>&lt;int&gt;</th><th scope=col>&lt;int&gt;</th><th scope=col>&lt;dbl&gt;</th></tr>\n",
              "</thead>\n",
              "<tbody>\n",
              "\t<tr><td> 3</td><td> 8</td><td>167.15789</td></tr>\n",
              "\t<tr><td> 7</td><td> 1</td><td>112.13864</td></tr>\n",
              "\t<tr><td> 9</td><td> 2</td><td>106.09704</td></tr>\n",
              "\t<tr><td> 7</td><td>10</td><td>105.53515</td></tr>\n",
              "\t<tr><td>12</td><td> 5</td><td>104.61481</td></tr>\n",
              "\t<tr><td> 5</td><td>23</td><td>102.08486</td></tr>\n",
              "\t<tr><td> 9</td><td>12</td><td> 99.51815</td></tr>\n",
              "\t<tr><td> 6</td><td>28</td><td> 97.32759</td></tr>\n",
              "\t<tr><td> 6</td><td>24</td><td> 94.13719</td></tr>\n",
              "\t<tr><td> 7</td><td>22</td><td> 93.04110</td></tr>\n",
              "\t<tr><td> 4</td><td>19</td><td> 91.82220</td></tr>\n",
              "\t<tr><td> 6</td><td>13</td><td> 91.30571</td></tr>\n",
              "\t<tr><td> 7</td><td>23</td><td> 89.36182</td></tr>\n",
              "\t<tr><td> 6</td><td>30</td><td> 88.15700</td></tr>\n",
              "\t<tr><td> 8</td><td> 8</td><td> 86.39915</td></tr>\n",
              "\t<tr><td> 5</td><td> 8</td><td> 86.36040</td></tr>\n",
              "\t<tr><td> 6</td><td>25</td><td> 85.98212</td></tr>\n",
              "\t<tr><td> 6</td><td>27</td><td> 81.60667</td></tr>\n",
              "\t<tr><td>12</td><td>17</td><td> 81.28878</td></tr>\n",
              "\t<tr><td> 8</td><td>28</td><td> 80.90440</td></tr>\n",
              "\t<tr><td>10</td><td> 7</td><td> 78.11447</td></tr>\n",
              "\t<tr><td> 2</td><td>11</td><td> 77.85731</td></tr>\n",
              "\t<tr><td> 2</td><td>27</td><td> 75.51827</td></tr>\n",
              "\t<tr><td> 7</td><td>28</td><td> 75.50405</td></tr>\n",
              "\t<tr><td> 7</td><td> 8</td><td> 74.42497</td></tr>\n",
              "\t<tr><td> 7</td><td> 7</td><td> 72.95409</td></tr>\n",
              "\t<tr><td> 6</td><td>18</td><td> 71.71522</td></tr>\n",
              "\t<tr><td> 4</td><td>12</td><td> 69.55191</td></tr>\n",
              "\t<tr><td>12</td><td> 9</td><td> 69.47182</td></tr>\n",
              "\t<tr><td> 4</td><td>18</td><td> 69.46653</td></tr>\n",
              "\t<tr><td>⋮</td><td>⋮</td><td>⋮</td></tr>\n",
              "\t<tr><td>10</td><td> 8</td><td> 3.3326382</td></tr>\n",
              "\t<tr><td>10</td><td>20</td><td> 3.2396061</td></tr>\n",
              "\t<tr><td> 1</td><td>12</td><td> 3.1522694</td></tr>\n",
              "\t<tr><td> 9</td><td>14</td><td> 2.8067350</td></tr>\n",
              "\t<tr><td>10</td><td>23</td><td> 1.9711340</td></tr>\n",
              "\t<tr><td>10</td><td>21</td><td> 1.9209726</td></tr>\n",
              "\t<tr><td> 9</td><td> 9</td><td> 1.6052632</td></tr>\n",
              "\t<tr><td> 9</td><td>28</td><td> 1.4321534</td></tr>\n",
              "\t<tr><td>10</td><td>16</td><td> 1.2136223</td></tr>\n",
              "\t<tr><td>11</td><td>15</td><td> 1.1761711</td></tr>\n",
              "\t<tr><td>10</td><td>30</td><td> 1.1363636</td></tr>\n",
              "\t<tr><td> 9</td><td>25</td><td> 0.9595855</td></tr>\n",
              "\t<tr><td>11</td><td> 6</td><td> 0.9357513</td></tr>\n",
              "\t<tr><td>11</td><td>19</td><td> 0.8200620</td></tr>\n",
              "\t<tr><td> 9</td><td> 4</td><td> 0.7664544</td></tr>\n",
              "\t<tr><td>11</td><td> 2</td><td> 0.5022026</td></tr>\n",
              "\t<tr><td> 5</td><td>26</td><td> 0.4780220</td></tr>\n",
              "\t<tr><td>11</td><td>29</td><td> 0.2954545</td></tr>\n",
              "\t<tr><td> 1</td><td>15</td><td> 0.2590909</td></tr>\n",
              "\t<tr><td>10</td><td> 1</td><td>-0.1741397</td></tr>\n",
              "\t<tr><td> 9</td><td>17</td><td>-0.1765935</td></tr>\n",
              "\t<tr><td>10</td><td>19</td><td>-0.2011747</td></tr>\n",
              "\t<tr><td>11</td><td> 5</td><td>-0.3718750</td></tr>\n",
              "\t<tr><td> 9</td><td> 7</td><td>-0.5189504</td></tr>\n",
              "\t<tr><td>10</td><td>29</td><td>-0.6889353</td></tr>\n",
              "\t<tr><td> 9</td><td> 5</td><td>-0.7587992</td></tr>\n",
              "\t<tr><td> 9</td><td> 6</td><td>-0.8589212</td></tr>\n",
              "\t<tr><td>11</td><td> 9</td><td>-1.3281907</td></tr>\n",
              "\t<tr><td>10</td><td> 2</td><td>-1.8119219</td></tr>\n",
              "\t<tr><td> 9</td><td>24</td><td>-2.6456362</td></tr>\n",
              "</tbody>\n",
              "</table>\n"
            ],
            "text/markdown": "\nA grouped_df: 365 × 3\n\n| month &lt;int&gt; | day &lt;int&gt; | twoDayDepDelayMean &lt;dbl&gt; |\n|---|---|---|\n|  3 |  8 | 167.15789 |\n|  7 |  1 | 112.13864 |\n|  9 |  2 | 106.09704 |\n|  7 | 10 | 105.53515 |\n| 12 |  5 | 104.61481 |\n|  5 | 23 | 102.08486 |\n|  9 | 12 |  99.51815 |\n|  6 | 28 |  97.32759 |\n|  6 | 24 |  94.13719 |\n|  7 | 22 |  93.04110 |\n|  4 | 19 |  91.82220 |\n|  6 | 13 |  91.30571 |\n|  7 | 23 |  89.36182 |\n|  6 | 30 |  88.15700 |\n|  8 |  8 |  86.39915 |\n|  5 |  8 |  86.36040 |\n|  6 | 25 |  85.98212 |\n|  6 | 27 |  81.60667 |\n| 12 | 17 |  81.28878 |\n|  8 | 28 |  80.90440 |\n| 10 |  7 |  78.11447 |\n|  2 | 11 |  77.85731 |\n|  2 | 27 |  75.51827 |\n|  7 | 28 |  75.50405 |\n|  7 |  8 |  74.42497 |\n|  7 |  7 |  72.95409 |\n|  6 | 18 |  71.71522 |\n|  4 | 12 |  69.55191 |\n| 12 |  9 |  69.47182 |\n|  4 | 18 |  69.46653 |\n| ⋮ | ⋮ | ⋮ |\n| 10 |  8 |  3.3326382 |\n| 10 | 20 |  3.2396061 |\n|  1 | 12 |  3.1522694 |\n|  9 | 14 |  2.8067350 |\n| 10 | 23 |  1.9711340 |\n| 10 | 21 |  1.9209726 |\n|  9 |  9 |  1.6052632 |\n|  9 | 28 |  1.4321534 |\n| 10 | 16 |  1.2136223 |\n| 11 | 15 |  1.1761711 |\n| 10 | 30 |  1.1363636 |\n|  9 | 25 |  0.9595855 |\n| 11 |  6 |  0.9357513 |\n| 11 | 19 |  0.8200620 |\n|  9 |  4 |  0.7664544 |\n| 11 |  2 |  0.5022026 |\n|  5 | 26 |  0.4780220 |\n| 11 | 29 |  0.2954545 |\n|  1 | 15 |  0.2590909 |\n| 10 |  1 | -0.1741397 |\n|  9 | 17 | -0.1765935 |\n| 10 | 19 | -0.2011747 |\n| 11 |  5 | -0.3718750 |\n|  9 |  7 | -0.5189504 |\n| 10 | 29 | -0.6889353 |\n|  9 |  5 | -0.7587992 |\n|  9 |  6 | -0.8589212 |\n| 11 |  9 | -1.3281907 |\n| 10 |  2 | -1.8119219 |\n|  9 | 24 | -2.6456362 |\n\n",
            "text/latex": "A grouped\\_df: 365 × 3\n\\begin{tabular}{lll}\n month & day & twoDayDepDelayMean\\\\\n <int> & <int> & <dbl>\\\\\n\\hline\n\t  3 &  8 & 167.15789\\\\\n\t  7 &  1 & 112.13864\\\\\n\t  9 &  2 & 106.09704\\\\\n\t  7 & 10 & 105.53515\\\\\n\t 12 &  5 & 104.61481\\\\\n\t  5 & 23 & 102.08486\\\\\n\t  9 & 12 &  99.51815\\\\\n\t  6 & 28 &  97.32759\\\\\n\t  6 & 24 &  94.13719\\\\\n\t  7 & 22 &  93.04110\\\\\n\t  4 & 19 &  91.82220\\\\\n\t  6 & 13 &  91.30571\\\\\n\t  7 & 23 &  89.36182\\\\\n\t  6 & 30 &  88.15700\\\\\n\t  8 &  8 &  86.39915\\\\\n\t  5 &  8 &  86.36040\\\\\n\t  6 & 25 &  85.98212\\\\\n\t  6 & 27 &  81.60667\\\\\n\t 12 & 17 &  81.28878\\\\\n\t  8 & 28 &  80.90440\\\\\n\t 10 &  7 &  78.11447\\\\\n\t  2 & 11 &  77.85731\\\\\n\t  2 & 27 &  75.51827\\\\\n\t  7 & 28 &  75.50405\\\\\n\t  7 &  8 &  74.42497\\\\\n\t  7 &  7 &  72.95409\\\\\n\t  6 & 18 &  71.71522\\\\\n\t  4 & 12 &  69.55191\\\\\n\t 12 &  9 &  69.47182\\\\\n\t  4 & 18 &  69.46653\\\\\n\t ⋮ & ⋮ & ⋮\\\\\n\t 10 &  8 &  3.3326382\\\\\n\t 10 & 20 &  3.2396061\\\\\n\t  1 & 12 &  3.1522694\\\\\n\t  9 & 14 &  2.8067350\\\\\n\t 10 & 23 &  1.9711340\\\\\n\t 10 & 21 &  1.9209726\\\\\n\t  9 &  9 &  1.6052632\\\\\n\t  9 & 28 &  1.4321534\\\\\n\t 10 & 16 &  1.2136223\\\\\n\t 11 & 15 &  1.1761711\\\\\n\t 10 & 30 &  1.1363636\\\\\n\t  9 & 25 &  0.9595855\\\\\n\t 11 &  6 &  0.9357513\\\\\n\t 11 & 19 &  0.8200620\\\\\n\t  9 &  4 &  0.7664544\\\\\n\t 11 &  2 &  0.5022026\\\\\n\t  5 & 26 &  0.4780220\\\\\n\t 11 & 29 &  0.2954545\\\\\n\t  1 & 15 &  0.2590909\\\\\n\t 10 &  1 & -0.1741397\\\\\n\t  9 & 17 & -0.1765935\\\\\n\t 10 & 19 & -0.2011747\\\\\n\t 11 &  5 & -0.3718750\\\\\n\t  9 &  7 & -0.5189504\\\\\n\t 10 & 29 & -0.6889353\\\\\n\t  9 &  5 & -0.7587992\\\\\n\t  9 &  6 & -0.8589212\\\\\n\t 11 &  9 & -1.3281907\\\\\n\t 10 &  2 & -1.8119219\\\\\n\t  9 & 24 & -2.6456362\\\\\n\\end{tabular}\n",
            "text/plain": [
              "    month day twoDayDepDelayMean\n",
              "1    3     8  167.15789         \n",
              "2    7     1  112.13864         \n",
              "3    9     2  106.09704         \n",
              "4    7    10  105.53515         \n",
              "5   12     5  104.61481         \n",
              "6    5    23  102.08486         \n",
              "7    9    12   99.51815         \n",
              "8    6    28   97.32759         \n",
              "9    6    24   94.13719         \n",
              "10   7    22   93.04110         \n",
              "11   4    19   91.82220         \n",
              "12   6    13   91.30571         \n",
              "13   7    23   89.36182         \n",
              "14   6    30   88.15700         \n",
              "15   8     8   86.39915         \n",
              "16   5     8   86.36040         \n",
              "17   6    25   85.98212         \n",
              "18   6    27   81.60667         \n",
              "19  12    17   81.28878         \n",
              "20   8    28   80.90440         \n",
              "21  10     7   78.11447         \n",
              "22   2    11   77.85731         \n",
              "23   2    27   75.51827         \n",
              "24   7    28   75.50405         \n",
              "25   7     8   74.42497         \n",
              "26   7     7   72.95409         \n",
              "27   6    18   71.71522         \n",
              "28   4    12   69.55191         \n",
              "29  12     9   69.47182         \n",
              "30   4    18   69.46653         \n",
              "⋮   ⋮     ⋮   ⋮                 \n",
              "336 10     8   3.3326382        \n",
              "337 10    20   3.2396061        \n",
              "338  1    12   3.1522694        \n",
              "339  9    14   2.8067350        \n",
              "340 10    23   1.9711340        \n",
              "341 10    21   1.9209726        \n",
              "342  9     9   1.6052632        \n",
              "343  9    28   1.4321534        \n",
              "344 10    16   1.2136223        \n",
              "345 11    15   1.1761711        \n",
              "346 10    30   1.1363636        \n",
              "347  9    25   0.9595855        \n",
              "348 11     6   0.9357513        \n",
              "349 11    19   0.8200620        \n",
              "350  9     4   0.7664544        \n",
              "351 11     2   0.5022026        \n",
              "352  5    26   0.4780220        \n",
              "353 11    29   0.2954545        \n",
              "354  1    15   0.2590909        \n",
              "355 10     1  -0.1741397        \n",
              "356  9    17  -0.1765935        \n",
              "357 10    19  -0.2011747        \n",
              "358 11     5  -0.3718750        \n",
              "359  9     7  -0.5189504        \n",
              "360 10    29  -0.6889353        \n",
              "361  9     5  -0.7587992        \n",
              "362  9     6  -0.8589212        \n",
              "363 11     9  -1.3281907        \n",
              "364 10     2  -1.8119219        \n",
              "365  9    24  -2.6456362        "
            ]
          },
          "metadata": {}
        }
      ],
      "source": [
        "# Your solution here\n",
        "flights %>%\n",
        "  group_by(month, day) %>%\n",
        "  summarise(twoDayDepDelayMean = mean(dep_delay + lag(dep_delay), na.rm = T)) %>%\n",
        "  arrange(desc(twoDayDepDelayMean)) "
      ]
    },
    {
      "cell_type": "markdown",
      "source": [
        "3/7 and 3/8 are the two consecutive days with the highest average departure delay of 167.16 minutes."
      ],
      "metadata": {
        "id": "ptjQOy9Ma54S"
      }
    },
    {
      "cell_type": "markdown",
      "metadata": {
        "id": "E5eyJ5tQ_59b"
      },
      "source": [
        "**(b)** Which of humidity, temperature, or precipitation is more likely to cause flight cancellations? (Here cancelation is defined as it was in Problem 1(a).) Study this by comparing the joint distribution of a) the fraction of flights that were cancelled each day and b) (a summary of) each of the three measurements shown above. \n",
        "\n",
        "(Hint: use `pivot_longer` to create a data frame with a variable that contains `humidity`, `temperature`, and `precipitation` as values): _2 points_"
      ]
    },
    {
      "cell_type": "code",
      "execution_count": 65,
      "metadata": {
        "id": "UepigboP_59b",
        "colab": {
          "base_uri": "https://localhost:8080/"
        },
        "outputId": "beecb1a4-be92-4d23-d0a3-e153c8e82f0a"
      },
      "outputs": [
        {
          "output_type": "stream",
          "name": "stderr",
          "text": [
            "\u001b[1m\u001b[22m`summarise()` has grouped output by 'month'. You can override using the\n",
            "`.groups` argument.\n"
          ]
        }
      ],
      "source": [
        "# Your solution here\n",
        "\n",
        "weatherDF <- flights %>%\n",
        "  inner_join(weather, by = c(\"month\", \"day\", \"hour\", \"year\", \"origin\")) %>%\n",
        "  mutate(isCancelled = is.na(dep_time)) %>%\n",
        "  group_by(month, day) %>%\n",
        "  summarise(propOfFlightsCancelled = mean(isCancelled), meanHumid = mean(humid), meanTemp = mean(temp), meanPrecip = mean(precip))\n"
      ]
    },
    {
      "cell_type": "code",
      "source": [
        "weatherDF %>% ggplot(aes(x = meanHumid, propOfFlightsCancelled)) +\n",
        "  geom_point()"
      ],
      "metadata": {
        "colab": {
          "base_uri": "https://localhost:8080/",
          "height": 291
        },
        "id": "Ci1nVuV9l-Lj",
        "outputId": "abd9d050-7c90-4fc5-d481-47b6bfdf9cb7"
      },
      "execution_count": 66,
      "outputs": [
        {
          "output_type": "stream",
          "name": "stderr",
          "text": [
            "Warning message:\n",
            "“\u001b[1m\u001b[22mRemoved 1 rows containing missing values (`geom_point()`).”\n"
          ]
        },
        {
          "output_type": "display_data",
          "data": {
            "text/plain": [
              "plot without title"
            ],
            "image/png": "[encoded data removed]"
          },
          "metadata": {
            "image/png": {
              "width": 300,
              "height": 240
            }
          }
        }
      ]
    },
    {
      "cell_type": "code",
      "source": [
        "cor(weatherDF$meanHumid, weatherDF$propOfFlightsCancelled, method = \"pearson\", use = \"pairwise.complete.obs\")"
      ],
      "metadata": {
        "colab": {
          "base_uri": "https://localhost:8080/",
          "height": 34
        },
        "id": "8mzmUV5Fm35T",
        "outputId": "e05883aa-acd7-4294-ab0e-e1f5a723a9e6"
      },
      "execution_count": 67,
      "outputs": [
        {
          "output_type": "display_data",
          "data": {
            "text/html": [
              "0.346694186226436"
            ],
            "text/markdown": "0.346694186226436",
            "text/latex": "0.346694186226436",
            "text/plain": [
              "[1] 0.3466942"
            ]
          },
          "metadata": {}
        }
      ]
    },
    {
      "cell_type": "code",
      "source": [
        "weatherDF %>% ggplot(aes(x = meanTemp, propOfFlightsCancelled)) +\n",
        "  geom_point()"
      ],
      "metadata": {
        "colab": {
          "base_uri": "https://localhost:8080/",
          "height": 291
        },
        "id": "9NODFaBCmWxJ",
        "outputId": "c21ba1c6-7c3e-4195-a63a-0895056dc1d1"
      },
      "execution_count": 68,
      "outputs": [
        {
          "output_type": "stream",
          "name": "stderr",
          "text": [
            "Warning message:\n",
            "“\u001b[1m\u001b[22mRemoved 1 rows containing missing values (`geom_point()`).”\n"
          ]
        },
        {
          "output_type": "display_data",
          "data": {
            "text/plain": [
              "plot without title"
            ],
            "image/png": "[encoded data removed]"
          },
          "metadata": {
            "image/png": {
              "width": 300,
              "height": 240
            }
          }
        }
      ]
    },
    {
      "cell_type": "code",
      "source": [
        "cor(weatherDF$meanTemp, weatherDF$propOfFlightsCancelled, method = \"pearson\", use = \"pairwise.complete.obs\")"
      ],
      "metadata": {
        "colab": {
          "base_uri": "https://localhost:8080/",
          "height": 34
        },
        "id": "bVtjH8KVm-4U",
        "outputId": "d6737894-9193-4881-e795-f15772fad62e"
      },
      "execution_count": 69,
      "outputs": [
        {
          "output_type": "display_data",
          "data": {
            "text/html": [
              "-0.0534753093299163"
            ],
            "text/markdown": "-0.0534753093299163",
            "text/latex": "-0.0534753093299163",
            "text/plain": [
              "[1] -0.05347531"
            ]
          },
          "metadata": {}
        }
      ]
    },
    {
      "cell_type": "code",
      "source": [
        "weatherDF %>% ggplot(aes(x = meanPrecip, propOfFlightsCancelled)) +\n",
        "  geom_point()"
      ],
      "metadata": {
        "colab": {
          "base_uri": "https://localhost:8080/",
          "height": 257
        },
        "id": "_wr6wMOxmkEz",
        "outputId": "8c510484-0a11-4b2d-bd1b-d109b427bc25"
      },
      "execution_count": 70,
      "outputs": [
        {
          "output_type": "display_data",
          "data": {
            "text/plain": [
              "plot without title"
            ],
            "image/png": "[encoded data removed]"
          },
          "metadata": {
            "image/png": {
              "width": 300,
              "height": 240
            }
          }
        }
      ]
    },
    {
      "cell_type": "code",
      "source": [
        "cor(weatherDF$meanPrecip, weatherDF$propOfFlightsCancelled, method = \"pearson\", use = \"pairwise.complete.obs\")"
      ],
      "metadata": {
        "colab": {
          "base_uri": "https://localhost:8080/",
          "height": 34
        },
        "id": "hipFZiownCTq",
        "outputId": "f3b9b654-b1e8-4107-fc2b-9b9c545c225f"
      },
      "execution_count": 71,
      "outputs": [
        {
          "output_type": "display_data",
          "data": {
            "text/html": [
              "0.273817945015414"
            ],
            "text/markdown": "0.273817945015414",
            "text/latex": "0.273817945015414",
            "text/plain": [
              "[1] 0.2738179"
            ]
          },
          "metadata": {}
        }
      ]
    },
    {
      "cell_type": "markdown",
      "source": [
        "Since all the correlation coefficients are very low, there is no strong correlation between weather and proportion of flights cancelled. However, humidity has the highest correlation coefficient of 0.347 making it most likely to cause flight cancellations."
      ],
      "metadata": {
        "id": "v2WbqQgln5FN"
      }
    },
    {
      "cell_type": "markdown",
      "metadata": {
        "deletable": false,
        "editable": false,
        "run_control": {
          "frozen": true
        },
        "id": "kGIWPiBE_59b"
      },
      "source": [
        "## Challenge problem: Writing SQL queries ( 2 points)\n",
        "The following code loads `nycflights13` into a SQLite database:"
      ]
    },
    {
      "cell_type": "code",
      "execution_count": 6,
      "metadata": {
        "id": "1J9YXWSI_59b",
        "colab": {
          "base_uri": "https://localhost:8080/"
        },
        "outputId": "181d8f94-1093-4079-adda-278888acf5cc"
      },
      "outputs": [
        {
          "output_type": "stream",
          "name": "stderr",
          "text": [
            "Installing package into ‘/usr/local/lib/R/site-library’\n",
            "(as ‘lib’ is unspecified)\n",
            "\n",
            "also installing the dependencies ‘Rcpp’, ‘plogr’\n",
            "\n",
            "\n"
          ]
        }
      ],
      "source": [
        "install.packages('RSQLite') # if necessary"
      ]
    },
    {
      "cell_type": "code",
      "execution_count": 7,
      "metadata": {
        "deletable": false,
        "editable": false,
        "id": "QZAXiql3_59b"
      },
      "outputs": [],
      "source": [
        "# SQLite database\n",
        "library(nycflights13)\n",
        "library(DBI)\n",
        "library(RSQLite)\n",
        "con <- dbConnect(SQLite(), \":memory:\")\n",
        "copy_to(con, flights, \"flights\")\n",
        "copy_to(con, airports, \"airports\")\n",
        "copy_to(con, airlines, \"airlines\")"
      ]
    },
    {
      "cell_type": "markdown",
      "metadata": {
        "deletable": false,
        "editable": false,
        "run_control": {
          "frozen": true
        },
        "id": "nFwVz091_59b"
      },
      "source": [
        "For each question below, write an appropriate SQL query that produces the answer. For example, if the question was \"How many flights departed each month\", an appropriate answer would be:"
      ]
    },
    {
      "cell_type": "code",
      "execution_count": 26,
      "metadata": {
        "deletable": false,
        "editable": false,
        "id": "5Nd43A9d_59b",
        "outputId": "2edb6bc3-5142-44da-f471-741c2813f38d",
        "colab": {
          "base_uri": "https://localhost:8080/",
          "height": 469
        }
      },
      "outputs": [
        {
          "output_type": "display_data",
          "data": {
            "text/html": [
              "<table class=\"dataframe\">\n",
              "<caption>A data.frame: 12 × 2</caption>\n",
              "<thead>\n",
              "\t<tr><th scope=col>month</th><th scope=col>COUNT(month)</th></tr>\n",
              "\t<tr><th scope=col>&lt;int&gt;</th><th scope=col>&lt;int&gt;</th></tr>\n",
              "</thead>\n",
              "<tbody>\n",
              "\t<tr><td> 1</td><td>27004</td></tr>\n",
              "\t<tr><td> 2</td><td>24951</td></tr>\n",
              "\t<tr><td> 3</td><td>28834</td></tr>\n",
              "\t<tr><td> 4</td><td>28330</td></tr>\n",
              "\t<tr><td> 5</td><td>28796</td></tr>\n",
              "\t<tr><td> 6</td><td>28243</td></tr>\n",
              "\t<tr><td> 7</td><td>29425</td></tr>\n",
              "\t<tr><td> 8</td><td>29327</td></tr>\n",
              "\t<tr><td> 9</td><td>27574</td></tr>\n",
              "\t<tr><td>10</td><td>28889</td></tr>\n",
              "\t<tr><td>11</td><td>27268</td></tr>\n",
              "\t<tr><td>12</td><td>28135</td></tr>\n",
              "</tbody>\n",
              "</table>\n"
            ],
            "text/markdown": "\nA data.frame: 12 × 2\n\n| month &lt;int&gt; | COUNT(month) &lt;int&gt; |\n|---|---|\n|  1 | 27004 |\n|  2 | 24951 |\n|  3 | 28834 |\n|  4 | 28330 |\n|  5 | 28796 |\n|  6 | 28243 |\n|  7 | 29425 |\n|  8 | 29327 |\n|  9 | 27574 |\n| 10 | 28889 |\n| 11 | 27268 |\n| 12 | 28135 |\n\n",
            "text/latex": "A data.frame: 12 × 2\n\\begin{tabular}{ll}\n month & COUNT(month)\\\\\n <int> & <int>\\\\\n\\hline\n\t  1 & 27004\\\\\n\t  2 & 24951\\\\\n\t  3 & 28834\\\\\n\t  4 & 28330\\\\\n\t  5 & 28796\\\\\n\t  6 & 28243\\\\\n\t  7 & 29425\\\\\n\t  8 & 29327\\\\\n\t  9 & 27574\\\\\n\t 10 & 28889\\\\\n\t 11 & 27268\\\\\n\t 12 & 28135\\\\\n\\end{tabular}\n",
            "text/plain": [
              "   month COUNT(month)\n",
              "1   1    27004       \n",
              "2   2    24951       \n",
              "3   3    28834       \n",
              "4   4    28330       \n",
              "5   5    28796       \n",
              "6   6    28243       \n",
              "7   7    29425       \n",
              "8   8    29327       \n",
              "9   9    27574       \n",
              "10 10    28889       \n",
              "11 11    27268       \n",
              "12 12    28135       "
            ]
          },
          "metadata": {}
        }
      ],
      "source": [
        "dbGetQuery(con, \"SELECT month, COUNT(month) FROM flights GROUP BY month\")"
      ]
    },
    {
      "cell_type": "markdown",
      "metadata": {
        "deletable": false,
        "editable": false,
        "id": "hbPQjRnB_59c"
      },
      "source": [
        "**Your answers should only use SQL -- no dplyr allowed!** (However, it is fine to use dplyr to check your answers.)"
      ]
    },
    {
      "cell_type": "markdown",
      "metadata": {
        "deletable": false,
        "editable": false,
        "run_control": {
          "frozen": true
        },
        "id": "QF9lDgZ5_59c"
      },
      "source": [
        "**(a)** Find the origin and destination with the longest trip for each carrier in the whole dataset, and order your result based on the maximum `air_time`. : 1/2 point"
      ]
    },
    {
      "cell_type": "code",
      "execution_count": 38,
      "metadata": {
        "id": "mDYskq4M_59c",
        "colab": {
          "base_uri": "https://localhost:8080/",
          "height": 593
        },
        "outputId": "d7af1693-5c99-4aaa-9ed7-24016b54c325"
      },
      "outputs": [
        {
          "output_type": "display_data",
          "data": {
            "text/html": [
              "<table class=\"dataframe\">\n",
              "<caption>A data.frame: 16 × 4</caption>\n",
              "<thead>\n",
              "\t<tr><th scope=col>origin</th><th scope=col>dest</th><th scope=col>carrier</th><th scope=col>MAX(air_time)</th></tr>\n",
              "\t<tr><th scope=col>&lt;chr&gt;</th><th scope=col>&lt;chr&gt;</th><th scope=col>&lt;chr&gt;</th><th scope=col>&lt;dbl&gt;</th></tr>\n",
              "</thead>\n",
              "<tbody>\n",
              "\t<tr><td>EWR</td><td>HNL</td><td>UA</td><td>695</td></tr>\n",
              "\t<tr><td>JFK</td><td>HNL</td><td>HA</td><td>691</td></tr>\n",
              "\t<tr><td>JFK</td><td>SFO</td><td>DL</td><td>490</td></tr>\n",
              "\t<tr><td>JFK</td><td>SFO</td><td>AA</td><td>426</td></tr>\n",
              "\t<tr><td>JFK</td><td>SAN</td><td>B6</td><td>413</td></tr>\n",
              "\t<tr><td>JFK</td><td>SFO</td><td>VX</td><td>406</td></tr>\n",
              "\t<tr><td>EWR</td><td>SEA</td><td>AS</td><td>392</td></tr>\n",
              "\t<tr><td>EWR</td><td>PHX</td><td>WN</td><td>362</td></tr>\n",
              "\t<tr><td>JFK</td><td>PHX</td><td>US</td><td>359</td></tr>\n",
              "\t<tr><td>EWR</td><td>OKC</td><td>EV</td><td>286</td></tr>\n",
              "\t<tr><td>LGA</td><td>DEN</td><td>F9</td><td>278</td></tr>\n",
              "\t<tr><td>JFK</td><td>SAT</td><td>9E</td><td>272</td></tr>\n",
              "\t<tr><td>LGA</td><td>XNA</td><td>MQ</td><td>236</td></tr>\n",
              "\t<tr><td>EWR</td><td>MSP</td><td>OO</td><td>177</td></tr>\n",
              "\t<tr><td>LGA</td><td>ATL</td><td>FL</td><td>161</td></tr>\n",
              "\t<tr><td>LGA</td><td>CLT</td><td>YV</td><td>122</td></tr>\n",
              "</tbody>\n",
              "</table>\n"
            ],
            "text/markdown": "\nA data.frame: 16 × 4\n\n| origin &lt;chr&gt; | dest &lt;chr&gt; | carrier &lt;chr&gt; | MAX(air_time) &lt;dbl&gt; |\n|---|---|---|---|\n| EWR | HNL | UA | 695 |\n| JFK | HNL | HA | 691 |\n| JFK | SFO | DL | 490 |\n| JFK | SFO | AA | 426 |\n| JFK | SAN | B6 | 413 |\n| JFK | SFO | VX | 406 |\n| EWR | SEA | AS | 392 |\n| EWR | PHX | WN | 362 |\n| JFK | PHX | US | 359 |\n| EWR | OKC | EV | 286 |\n| LGA | DEN | F9 | 278 |\n| JFK | SAT | 9E | 272 |\n| LGA | XNA | MQ | 236 |\n| EWR | MSP | OO | 177 |\n| LGA | ATL | FL | 161 |\n| LGA | CLT | YV | 122 |\n\n",
            "text/latex": "A data.frame: 16 × 4\n\\begin{tabular}{llll}\n origin & dest & carrier & MAX(air\\_time)\\\\\n <chr> & <chr> & <chr> & <dbl>\\\\\n\\hline\n\t EWR & HNL & UA & 695\\\\\n\t JFK & HNL & HA & 691\\\\\n\t JFK & SFO & DL & 490\\\\\n\t JFK & SFO & AA & 426\\\\\n\t JFK & SAN & B6 & 413\\\\\n\t JFK & SFO & VX & 406\\\\\n\t EWR & SEA & AS & 392\\\\\n\t EWR & PHX & WN & 362\\\\\n\t JFK & PHX & US & 359\\\\\n\t EWR & OKC & EV & 286\\\\\n\t LGA & DEN & F9 & 278\\\\\n\t JFK & SAT & 9E & 272\\\\\n\t LGA & XNA & MQ & 236\\\\\n\t EWR & MSP & OO & 177\\\\\n\t LGA & ATL & FL & 161\\\\\n\t LGA & CLT & YV & 122\\\\\n\\end{tabular}\n",
            "text/plain": [
              "   origin dest carrier MAX(air_time)\n",
              "1  EWR    HNL  UA      695          \n",
              "2  JFK    HNL  HA      691          \n",
              "3  JFK    SFO  DL      490          \n",
              "4  JFK    SFO  AA      426          \n",
              "5  JFK    SAN  B6      413          \n",
              "6  JFK    SFO  VX      406          \n",
              "7  EWR    SEA  AS      392          \n",
              "8  EWR    PHX  WN      362          \n",
              "9  JFK    PHX  US      359          \n",
              "10 EWR    OKC  EV      286          \n",
              "11 LGA    DEN  F9      278          \n",
              "12 JFK    SAT  9E      272          \n",
              "13 LGA    XNA  MQ      236          \n",
              "14 EWR    MSP  OO      177          \n",
              "15 LGA    ATL  FL      161          \n",
              "16 LGA    CLT  YV      122          "
            ]
          },
          "metadata": {}
        }
      ],
      "source": [
        "# Your solution here\n",
        "\n",
        "dbGetQuery(con, \n",
        "\"SELECT origin, dest, carrier, MAX(air_time) \n",
        "FROM flights \n",
        "GROUP BY carrier\n",
        "ORDER By air_time DESC\")"
      ]
    },
    {
      "cell_type": "markdown",
      "metadata": {
        "deletable": false,
        "editable": false,
        "run_control": {
          "frozen": true
        },
        "id": "RVM7E3YS_59c"
      },
      "source": [
        "**(b)** Find all the busy routes in December 2013 with more than 500 flights in total. (Your query should return the route's origin, destination, and the number of flights.): 1/2 point"
      ]
    },
    {
      "cell_type": "code",
      "execution_count": 48,
      "metadata": {
        "id": "n-ovTu8n_59c",
        "colab": {
          "base_uri": "https://localhost:8080/",
          "height": 283
        },
        "outputId": "adac68cd-cfb6-4c73-fc81-6a269a7c311b"
      },
      "outputs": [
        {
          "output_type": "display_data",
          "data": {
            "text/html": [
              "<table class=\"dataframe\">\n",
              "<caption>A data.frame: 6 × 3</caption>\n",
              "<thead>\n",
              "\t<tr><th scope=col>origin</th><th scope=col>dest</th><th scope=col>COUNT()</th></tr>\n",
              "\t<tr><th scope=col>&lt;chr&gt;</th><th scope=col>&lt;chr&gt;</th><th scope=col>&lt;int&gt;</th></tr>\n",
              "</thead>\n",
              "<tbody>\n",
              "\t<tr><td>JFK</td><td>LAX</td><td>947</td></tr>\n",
              "\t<tr><td>JFK</td><td>SFO</td><td>698</td></tr>\n",
              "\t<tr><td>LGA</td><td>ATL</td><td>862</td></tr>\n",
              "\t<tr><td>LGA</td><td>CLT</td><td>535</td></tr>\n",
              "\t<tr><td>LGA</td><td>MIA</td><td>575</td></tr>\n",
              "\t<tr><td>LGA</td><td>ORD</td><td>637</td></tr>\n",
              "</tbody>\n",
              "</table>\n"
            ],
            "text/markdown": "\nA data.frame: 6 × 3\n\n| origin &lt;chr&gt; | dest &lt;chr&gt; | COUNT() &lt;int&gt; |\n|---|---|---|\n| JFK | LAX | 947 |\n| JFK | SFO | 698 |\n| LGA | ATL | 862 |\n| LGA | CLT | 535 |\n| LGA | MIA | 575 |\n| LGA | ORD | 637 |\n\n",
            "text/latex": "A data.frame: 6 × 3\n\\begin{tabular}{lll}\n origin & dest & COUNT()\\\\\n <chr> & <chr> & <int>\\\\\n\\hline\n\t JFK & LAX & 947\\\\\n\t JFK & SFO & 698\\\\\n\t LGA & ATL & 862\\\\\n\t LGA & CLT & 535\\\\\n\t LGA & MIA & 575\\\\\n\t LGA & ORD & 637\\\\\n\\end{tabular}\n",
            "text/plain": [
              "  origin dest COUNT()\n",
              "1 JFK    LAX  947    \n",
              "2 JFK    SFO  698    \n",
              "3 LGA    ATL  862    \n",
              "4 LGA    CLT  535    \n",
              "5 LGA    MIA  575    \n",
              "6 LGA    ORD  637    "
            ]
          },
          "metadata": {}
        }
      ],
      "source": [
        "# Your solution here\n",
        "\n",
        "dbGetQuery(con, \n",
        "\"SELECT origin, dest, COUNT() as NumberOfFlights\n",
        "FROM flights \n",
        "WHERE month = 12\n",
        "GROUP BY origin, dest\n",
        "HAVING COUNT() > 500\")"
      ]
    },
    {
      "cell_type": "markdown",
      "metadata": {
        "deletable": false,
        "editable": false,
        "run_control": {
          "frozen": true
        },
        "id": "ECRkPjDR_59c"
      },
      "source": [
        "**(c)** What percentage of the flights were cancelled overall? (A cancelled flight is one for which `dep_delay` is missing.): 1/2 point"
      ]
    },
    {
      "cell_type": "code",
      "execution_count": 53,
      "metadata": {
        "id": "H0__uXHD_59d",
        "colab": {
          "base_uri": "https://localhost:8080/",
          "height": 128
        },
        "outputId": "7ceb00a8-c28c-476d-88bf-f2a595778900"
      },
      "outputs": [
        {
          "output_type": "display_data",
          "data": {
            "text/html": [
              "<table class=\"dataframe\">\n",
              "<caption>A data.frame: 1 × 1</caption>\n",
              "<thead>\n",
              "\t<tr><th scope=col>PercentageOfFlightsCancelled</th></tr>\n",
              "\t<tr><th scope=col>&lt;dbl&gt;</th></tr>\n",
              "</thead>\n",
              "<tbody>\n",
              "\t<tr><td>0.02451184</td></tr>\n",
              "</tbody>\n",
              "</table>\n"
            ],
            "text/markdown": "\nA data.frame: 1 × 1\n\n| PercentageOfFlightsCancelled &lt;dbl&gt; |\n|---|\n| 0.02451184 |\n\n",
            "text/latex": "A data.frame: 1 × 1\n\\begin{tabular}{l}\n PercentageOfFlightsCancelled\\\\\n <dbl>\\\\\n\\hline\n\t 0.02451184\\\\\n\\end{tabular}\n",
            "text/plain": [
              "  PercentageOfFlightsCancelled\n",
              "1 0.02451184                  "
            ]
          },
          "metadata": {}
        }
      ],
      "source": [
        "# Your solution here\n",
        "\n",
        "dbGetQuery(con, \n",
        "\"SELECT AVG(case when dep_delay is null then 1.0 else 0 end) as PercentageOfFlightsCancelled\n",
        "FROM flights\")"
      ]
    },
    {
      "cell_type": "markdown",
      "metadata": {
        "deletable": false,
        "editable": false,
        "run_control": {
          "frozen": true
        },
        "id": "qLQzcuT2_59d"
      },
      "source": [
        "**(d)** How many flights are there for each weekday? (Your query should return two columns `num` and `weekday`, where `num` is the number of flights, and `weekday` is the day of week with numerical expressions such as Sunday=0, Monday=1, etc.): 1/2 point"
      ]
    },
    {
      "cell_type": "code",
      "execution_count": 8,
      "metadata": {
        "id": "7VqE8iWD_59d",
        "colab": {
          "base_uri": "https://localhost:8080/",
          "height": 314
        },
        "outputId": "bb59db1b-0839-44a8-9ffc-579cf6a8f76b"
      },
      "outputs": [
        {
          "output_type": "display_data",
          "data": {
            "text/html": [
              "<table class=\"dataframe\">\n",
              "<caption>A data.frame: 7 × 2</caption>\n",
              "<thead>\n",
              "\t<tr><th scope=col>num</th><th scope=col>weekday</th></tr>\n",
              "\t<tr><th scope=col>&lt;int&gt;</th><th scope=col>&lt;chr&gt;</th></tr>\n",
              "</thead>\n",
              "<tbody>\n",
              "\t<tr><td>43796</td><td>0</td></tr>\n",
              "\t<tr><td>50709</td><td>1</td></tr>\n",
              "\t<tr><td>50705</td><td>2</td></tr>\n",
              "\t<tr><td>49998</td><td>3</td></tr>\n",
              "\t<tr><td>50137</td><td>4</td></tr>\n",
              "\t<tr><td>50153</td><td>5</td></tr>\n",
              "\t<tr><td>41278</td><td>6</td></tr>\n",
              "</tbody>\n",
              "</table>\n"
            ],
            "text/markdown": "\nA data.frame: 7 × 2\n\n| num &lt;int&gt; | weekday &lt;chr&gt; |\n|---|---|\n| 43796 | 0 |\n| 50709 | 1 |\n| 50705 | 2 |\n| 49998 | 3 |\n| 50137 | 4 |\n| 50153 | 5 |\n| 41278 | 6 |\n\n",
            "text/latex": "A data.frame: 7 × 2\n\\begin{tabular}{ll}\n num & weekday\\\\\n <int> & <chr>\\\\\n\\hline\n\t 43796 & 0\\\\\n\t 50709 & 1\\\\\n\t 50705 & 2\\\\\n\t 49998 & 3\\\\\n\t 50137 & 4\\\\\n\t 50153 & 5\\\\\n\t 41278 & 6\\\\\n\\end{tabular}\n",
            "text/plain": [
              "  num   weekday\n",
              "1 43796 0      \n",
              "2 50709 1      \n",
              "3 50705 2      \n",
              "4 49998 3      \n",
              "5 50137 4      \n",
              "6 50153 5      \n",
              "7 41278 6      "
            ]
          },
          "metadata": {}
        }
      ],
      "source": [
        "# Your solution here\n",
        "\n",
        "dbGetQuery(con, \n",
        "\"SELECT COUNT() as num, strftime('%w',time_hour,'unixepoch') AS weekday\n",
        "FROM flights \n",
        "GROUP BY strftime('%w',time_hour,'unixepoch')\")"
      ]
    },
    {
      "cell_type": "code",
      "source": [
        "dbDisconnect(con)"
      ],
      "metadata": {
        "id": "XNRvOS_APAIY"
      },
      "execution_count": 9,
      "outputs": []
    }
  ],
  "metadata": {
    "celltoolbar": "Create Assignment",
    "kernelspec": {
      "display_name": "R",
      "language": "R",
      "name": "ir"
    },
    "language_info": {
      "codemirror_mode": "r",
      "file_extension": ".r",
      "mimetype": "text/x-r-source",
      "name": "R",
      "pygments_lexer": "r",
      "version": "4.2.2"
    },
    "colab": {
      "provenance": []
    }
  },
  "nbformat": 4,
  "nbformat_minor": 0
}