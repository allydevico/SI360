{
  "cells": [
    {
      "cell_type": "code",
      "execution_count": 1,
      "metadata": {
        "id": "B-U07Ub1Wejm",
        "nbgrader": {
          "grade": false,
          "grade_id": "cell-1be04a157d86c84b",
          "locked": true,
          "schema_version": 3,
          "solution": false
        },
        "colab": {
          "base_uri": "https://localhost:8080/"
        },
        "outputId": "dbe4b57e-c0de-4f6e-a6f1-5345f8990ba7"
      },
      "outputs": [
        {
          "output_type": "stream",
          "name": "stderr",
          "text": [
            "Warning message in system(\"timedatectl\", intern = TRUE):\n",
            "“running command 'timedatectl' had status 1”\n",
            "── \u001b[1mAttaching packages\u001b[22m ─────────────────────────────────────── tidyverse 1.3.1 ──\n",
            "\n",
            "\u001b[32m✔\u001b[39m \u001b[34mggplot2\u001b[39m 3.4.1     \u001b[32m✔\u001b[39m \u001b[34mpurrr  \u001b[39m 1.0.1\n",
            "\u001b[32m✔\u001b[39m \u001b[34mtibble \u001b[39m 3.1.8     \u001b[32m✔\u001b[39m \u001b[34mdplyr  \u001b[39m 1.1.0\n",
            "\u001b[32m✔\u001b[39m \u001b[34mtidyr  \u001b[39m 1.3.0     \u001b[32m✔\u001b[39m \u001b[34mstringr\u001b[39m 1.4.1\n",
            "\u001b[32m✔\u001b[39m \u001b[34mreadr  \u001b[39m 2.1.4     \u001b[32m✔\u001b[39m \u001b[34mforcats\u001b[39m 1.0.0\n",
            "\n",
            "── \u001b[1mConflicts\u001b[22m ────────────────────────────────────────── tidyverse_conflicts() ──\n",
            "\u001b[31m✖\u001b[39m \u001b[34mdplyr\u001b[39m::\u001b[32mfilter()\u001b[39m masks \u001b[34mstats\u001b[39m::filter()\n",
            "\u001b[31m✖\u001b[39m \u001b[34mdplyr\u001b[39m::\u001b[32mlag()\u001b[39m    masks \u001b[34mstats\u001b[39m::lag()\n",
            "\n"
          ]
        }
      ],
      "source": [
        "library(tidyverse)\n",
        "options(repr.plot.width = 5, repr.plot.height = 4)"
      ]
    },
    {
      "cell_type": "markdown",
      "metadata": {
        "deletable": false,
        "editable": false,
        "id": "VFPX3STQWejq",
        "nbgrader": {
          "grade": false,
          "grade_id": "cell-281caadd66986182",
          "locked": true,
          "schema_version": 3,
          "solution": false
        },
        "run_control": {
          "frozen": true
        }
      },
      "source": [
        "# STATS 306\n",
        "## Homework 6: Importing data\n",
        "\n",
        "Because midterms are coming up, **this homework is shorter than usual**: it is worth 5 points instead of 10. (Problem 3 is worth up to 2 points extra credit.)\n",
        "\n",
        "For each problem, enter the R code in the cell marked \"YOUR SOLUTION HERE\"."
      ]
    },
    {
      "cell_type": "markdown",
      "metadata": {
        "deletable": false,
        "editable": false,
        "id": "WkwFQ7vlWejr",
        "nbgrader": {
          "grade": false,
          "grade_id": "cell-421557d86106e43b",
          "locked": true,
          "schema_version": 3,
          "solution": false
        },
        "run_control": {
          "frozen": true
        }
      },
      "source": [
        "## Problem 1: Scraping with `rvest` (3 points)\n",
        "\n",
        "Use the `rvest` package to answer the following questions."
      ]
    },
    {
      "cell_type": "code",
      "execution_count": 2,
      "metadata": {
        "id": "fG269r323HCi",
        "colab": {
          "base_uri": "https://localhost:8080/"
        },
        "outputId": "30a9bd48-516e-4532-908f-d56f341970ae"
      },
      "outputs": [
        {
          "output_type": "stream",
          "name": "stderr",
          "text": [
            "\n",
            "Attaching package: ‘rvest’\n",
            "\n",
            "\n",
            "The following object is masked from ‘package:readr’:\n",
            "\n",
            "    guess_encoding\n",
            "\n",
            "\n"
          ]
        }
      ],
      "source": [
        "library(rvest)"
      ]
    },
    {
      "cell_type": "markdown",
      "metadata": {
        "deletable": false,
        "editable": false,
        "run_control": {
          "frozen": true
        },
        "id": "fz5zohNl3HCj"
      },
      "source": [
        "**(a)** [This web page](https://fiscalnote.com/blog/how-old-118th-congress) has a table that records the age of every current U.S. senator. Scrape this table and construct a histogram of the ages (in years) of U.S. senators. *(1 point)*\n",
        "\n",
        "**HINT:** After reading in the above web page with `read_html()`, one way to scrape the table is to use `html_element(\"table\")` followed by `html_table()`. You may also find these functions useful in parts (b) and (c) below."
      ]
    },
    {
      "cell_type": "code",
      "execution_count": 22,
      "metadata": {
        "id": "uc23WLjP3HCj",
        "colab": {
          "base_uri": "https://localhost:8080/",
          "height": 274
        },
        "outputId": "fac22b39-460f-4673-9945-74c2dfece1f4"
      },
      "outputs": [
        {
          "output_type": "stream",
          "name": "stderr",
          "text": [
            "\u001b[1m\u001b[22m`stat_bin()` using `bins = 30`. Pick better value with `binwidth`.\n"
          ]
        },
        {
          "output_type": "display_data",
          "data": {
            "text/plain": [
              "plot without title"
            ],
            "image/png": "[encoded data removed]"
          },
          "metadata": {
            "image/png": {
              "width": 300,
              "height": 240
            }
          }
        }
      ],
      "source": [
        "### YOUR SOLUTION HERE\n",
        "\n",
        "html <- read_html(\"https://fiscalnote.com/blog/how-old-118th-congress\")\n",
        "\n",
        "html %>%\n",
        "  html_element(\"table\") %>%\n",
        "  html_table() %>%\n",
        "  ggplot(aes(x=Age)) +\n",
        "  geom_histogram()"
      ]
    },
    {
      "cell_type": "markdown",
      "metadata": {
        "deletable": false,
        "editable": false,
        "run_control": {
          "frozen": true
        },
        "id": "aIiiq4DA3HCj"
      },
      "source": [
        "**(b)** The following code chunk creates a table of world cities. This table lists the name, country, latitude, and longitude of each city."
      ]
    },
    {
      "cell_type": "code",
      "execution_count": 23,
      "metadata": {
        "id": "7x22yOTM3HCj",
        "colab": {
          "base_uri": "https://localhost:8080/",
          "height": 334
        },
        "outputId": "6395be5b-2550-4d17-9d44-104d93a6b2e7"
      },
      "outputs": [
        {
          "output_type": "stream",
          "name": "stderr",
          "text": [
            "Installing package into ‘/usr/local/lib/R/site-library’\n",
            "(as ‘lib’ is unspecified)\n",
            "\n"
          ]
        },
        {
          "output_type": "display_data",
          "data": {
            "text/html": [
              "<table class=\"dataframe\">\n",
              "<caption>A data.frame: 6 × 4</caption>\n",
              "<thead>\n",
              "\t<tr><th></th><th scope=col>name</th><th scope=col>country</th><th scope=col>lat</th><th scope=col>lon</th></tr>\n",
              "\t<tr><th></th><th scope=col>&lt;chr&gt;</th><th scope=col>&lt;chr&gt;</th><th scope=col>&lt;dbl&gt;</th><th scope=col>&lt;dbl&gt;</th></tr>\n",
              "</thead>\n",
              "<tbody>\n",
              "\t<tr><th scope=row>1</th><td>'Abasan al-Jadidah</td><td>Palestine</td><td>31.31</td><td>34.34</td></tr>\n",
              "\t<tr><th scope=row>2</th><td>'Abasan al-Kabirah</td><td>Palestine</td><td>31.32</td><td>34.35</td></tr>\n",
              "\t<tr><th scope=row>3</th><td>'Abdul Hakim      </td><td>Pakistan </td><td>30.55</td><td>72.11</td></tr>\n",
              "\t<tr><th scope=row>4</th><td>'Abdullah-as-Salam</td><td>Kuwait   </td><td>29.36</td><td>47.98</td></tr>\n",
              "\t<tr><th scope=row>5</th><td>'Abud             </td><td>Palestine</td><td>32.03</td><td>35.07</td></tr>\n",
              "\t<tr><th scope=row>6</th><td>'Abwein           </td><td>Palestine</td><td>32.03</td><td>35.20</td></tr>\n",
              "</tbody>\n",
              "</table>\n"
            ],
            "text/markdown": "\nA data.frame: 6 × 4\n\n| <!--/--> | name &lt;chr&gt; | country &lt;chr&gt; | lat &lt;dbl&gt; | lon &lt;dbl&gt; |\n|---|---|---|---|---|\n| 1 | 'Abasan al-Jadidah | Palestine | 31.31 | 34.34 |\n| 2 | 'Abasan al-Kabirah | Palestine | 31.32 | 34.35 |\n| 3 | 'Abdul Hakim       | Pakistan  | 30.55 | 72.11 |\n| 4 | 'Abdullah-as-Salam | Kuwait    | 29.36 | 47.98 |\n| 5 | 'Abud              | Palestine | 32.03 | 35.07 |\n| 6 | 'Abwein            | Palestine | 32.03 | 35.20 |\n\n",
            "text/latex": "A data.frame: 6 × 4\n\\begin{tabular}{r|llll}\n  & name & country & lat & lon\\\\\n  & <chr> & <chr> & <dbl> & <dbl>\\\\\n\\hline\n\t1 & 'Abasan al-Jadidah & Palestine & 31.31 & 34.34\\\\\n\t2 & 'Abasan al-Kabirah & Palestine & 31.32 & 34.35\\\\\n\t3 & 'Abdul Hakim       & Pakistan  & 30.55 & 72.11\\\\\n\t4 & 'Abdullah-as-Salam & Kuwait    & 29.36 & 47.98\\\\\n\t5 & 'Abud              & Palestine & 32.03 & 35.07\\\\\n\t6 & 'Abwein            & Palestine & 32.03 & 35.20\\\\\n\\end{tabular}\n",
            "text/plain": [
              "  name               country   lat   lon  \n",
              "1 'Abasan al-Jadidah Palestine 31.31 34.34\n",
              "2 'Abasan al-Kabirah Palestine 31.32 34.35\n",
              "3 'Abdul Hakim       Pakistan  30.55 72.11\n",
              "4 'Abdullah-as-Salam Kuwait    29.36 47.98\n",
              "5 'Abud              Palestine 32.03 35.07\n",
              "6 'Abwein            Palestine 32.03 35.20"
            ]
          },
          "metadata": {}
        }
      ],
      "source": [
        "install.packages(\"maps\")\n",
        "library(maps)\n",
        "cities <- world.cities %>%\n",
        "            rename(country = country.etc) %>%\n",
        "            mutate(country = replace(country, country == \"UK\", \"England\")) %>%\n",
        "            select(name, country, lat, lon = long)\n",
        "head(cities)"
      ]
    },
    {
      "cell_type": "markdown",
      "metadata": {
        "deletable": false,
        "editable": false,
        "run_control": {
          "frozen": true
        },
        "id": "QS8AQE1V3HCk"
      },
      "source": [
        "And this next chunk demonstrates how to create a map of Europe that displays some of the cities in `cities`. "
      ]
    },
    {
      "cell_type": "code",
      "execution_count": 5,
      "metadata": {
        "id": "Kp8fK2MN3HCk",
        "colab": {
          "base_uri": "https://localhost:8080/",
          "height": 257
        },
        "outputId": "e0cea395-ccbf-468f-aa00-2a483dc76853"
      },
      "outputs": [
        {
          "output_type": "display_data",
          "data": {
            "text/plain": [
              "plot without title"
            ],
            "image/png": "[encoded data removed]"
          },
          "metadata": {
            "image/png": {
              "width": 300,
              "height": 240
            }
          }
        }
      ],
      "source": [
        "slice_head(cities, n = 1000) %>%\n",
        "    ggplot(aes(x = lon, y = lat)) +\n",
        "        borders(\"world\") +\n",
        "        geom_point() +\n",
        "        coord_quickmap(xlim = c(-15, 50), ylim = c(35, 75)) +\n",
        "        theme_classic()"
      ]
    },
    {
      "cell_type": "markdown",
      "metadata": {
        "deletable": false,
        "editable": false,
        "run_control": {
          "frozen": true
        },
        "id": "GuzlrE1G3HCk"
      },
      "source": [
        "Here is your task: [This web page](https://www.stadiumguide.com/figures-and-statistics/lists/europes-largest-football-stadiums/) has a table that lists the largest soccer stadiums in Europe in terms of seating capacity. Scrape this table and use it to create a map of Europe that shows the locations of the ten largest European soccer stadiums in terms of seating capacity. *(1 point)*\n",
        "\n",
        "**HINT:** You should join your scraped table with `cities` by the city and country columns (e.g., `by = c(City = \"name\", Country = \"country\")`."
      ]
    },
    {
      "cell_type": "code",
      "execution_count": 41,
      "metadata": {
        "id": "QgzFcLOp3HCl",
        "colab": {
          "base_uri": "https://localhost:8080/",
          "height": 257
        },
        "outputId": "4401ee4d-d89a-437c-f41e-bc599d385b7f"
      },
      "outputs": [
        {
          "output_type": "display_data",
          "data": {
            "text/plain": [
              "plot without title"
            ],
            "image/png": "[encoded data removed]"
          },
          "metadata": {
            "image/png": {
              "width": 300,
              "height": 240
            }
          }
        }
      ],
      "source": [
        "### YOUR SOLUTION HERE\n",
        "\n",
        "html <- read_html(\"https://www.stadiumguide.com/figures-and-statistics/lists/europes-largest-football-stadiums/\")\n",
        "\n",
        "html %>%\n",
        "  html_element(\"table\") %>%\n",
        "  html_table() %>%\n",
        "  head(10) %>%\n",
        "  inner_join(cities, by = c(City = \"name\", Country = \"country\")) %>%\n",
        "  ggplot(aes(x = lon, y = lat)) +\n",
        "      borders(\"world\") +\n",
        "      geom_point() +\n",
        "      coord_quickmap(xlim = c(-15, 50), ylim = c(35, 75)) +\n",
        "      theme_classic()"
      ]
    },
    {
      "cell_type": "markdown",
      "metadata": {
        "deletable": false,
        "editable": false,
        "run_control": {
          "frozen": true
        },
        "id": "_7l0Dps03HCl"
      },
      "source": [
        "**(c)** [This web page](https://www.boxofficemojo.com/chart/top_lifetime_gross/?area=XWW) has a table that records information about the highest-grossing films of all time. It lists the title and lifetime gross earnings of each film, as well as the year in which it was made.\n",
        "\n",
        "Scrape this table and use `geom_col()` to create a chart of the gross earnings (in billions of US dollars) of the 25 highest-grossing films of all time, and color the bars of this chart by decade. *(1 point)*\n",
        "\n",
        "**HINT 1:** There is a column called Lifetime Gross in the scraped table. To create a new column that drops the $ symbol from Lifetime Gross and changes the scale to billions of US dollars, you can use ``parse_number(`Lifetime Gross`)/1000000000`` inside `mutate()`.\n",
        "\n",
        "**HINT 2:** You can use `case_when()` inside `mutate()` to create a new variable that records the decade of each film."
      ]
    },
    {
      "cell_type": "code",
      "execution_count": 78,
      "metadata": {
        "id": "KFedLBXq3HCl",
        "colab": {
          "base_uri": "https://localhost:8080/",
          "height": 257
        },
        "outputId": "b559cbbc-6d10-4b60-f903-41a5e026cee2"
      },
      "outputs": [
        {
          "output_type": "display_data",
          "data": {
            "text/plain": [
              "plot without title"
            ],
            "image/png": "[encoded data removed]"
          },
          "metadata": {
            "image/png": {
              "width": 300,
              "height": 240
            }
          }
        }
      ],
      "source": [
        "### YOUR SOLUTION HERE\n",
        "\n",
        "html <- read_html(\"https://www.boxofficemojo.com/chart/top_lifetime_gross/?area=XWW\")\n",
        "\n",
        "html %>%\n",
        "  html_element(\"table\") %>%\n",
        "  html_table() %>%\n",
        "  mutate(Gross = parse_number(`Lifetime Gross`)/1000000000) %>%\n",
        "  mutate(decade =  Year - Year %% 10) %>%\n",
        "  arrange(-Gross) %>%\n",
        "  head(25) %>%\n",
        "  ggplot(aes(x=Title, y = Gross, fill = factor(decade))) +\n",
        "  geom_col() +\n",
        "  theme(axis.text.x = element_text(angle = 45, vjust = 1, hjust=1))"
      ]
    },
    {
      "cell_type": "markdown",
      "metadata": {
        "deletable": false,
        "editable": false,
        "run_control": {
          "frozen": true
        },
        "id": "Gy7VwEnI3HCm"
      },
      "source": [
        "## Problem 2: IMDB top 250 (2 points)\n",
        "\n",
        "The following CSV file contains data on the [top 250 rated movies on IMDB](https://www.imdb.com/chart/top):"
      ]
    },
    {
      "cell_type": "code",
      "execution_count": 84,
      "metadata": {
        "id": "hq1uxZ-N3HCm",
        "colab": {
          "base_uri": "https://localhost:8080/",
          "height": 725
        },
        "outputId": "bccd3b22-91b3-4809-a51b-c737d6914f89"
      },
      "outputs": [
        {
          "output_type": "stream",
          "name": "stderr",
          "text": [
            "\u001b[1mRows: \u001b[22m\u001b[34m250\u001b[39m \u001b[1mColumns: \u001b[22m\u001b[34m7\u001b[39m\n",
            "\u001b[36m──\u001b[39m \u001b[1mColumn specification\u001b[22m \u001b[36m────────────────────────────────────────────────────────\u001b[39m\n",
            "\u001b[1mDelimiter:\u001b[22m \",\"\n",
            "\u001b[31mchr\u001b[39m (5): movie_name, movie_year, genre, director_name, actors_list\n",
            "\u001b[32mdbl\u001b[39m (2): rank, rating\n",
            "\n",
            "\u001b[36mℹ\u001b[39m Use `spec()` to retrieve the full column specification for this data.\n",
            "\u001b[36mℹ\u001b[39m Specify the column types or set `show_col_types = FALSE` to quiet this message.\n"
          ]
        },
        {
          "output_type": "display_data",
          "data": {
            "text/html": [
              "<table class=\"dataframe\">\n",
              "<caption>A tibble: 6 × 7</caption>\n",
              "<thead>\n",
              "\t<tr><th scope=col>rank</th><th scope=col>movie_name</th><th scope=col>movie_year</th><th scope=col>genre</th><th scope=col>director_name</th><th scope=col>rating</th><th scope=col>actors_list</th></tr>\n",
              "\t<tr><th scope=col>&lt;dbl&gt;</th><th scope=col>&lt;chr&gt;</th><th scope=col>&lt;dbl&gt;</th><th scope=col>&lt;chr&gt;</th><th scope=col>&lt;chr&gt;</th><th scope=col>&lt;dbl&gt;</th><th scope=col>&lt;chr&gt;</th></tr>\n",
              "</thead>\n",
              "<tbody>\n",
              "\t<tr><td>1</td><td>The Shawshank Redemption</td><td>1994</td><td>[\"Drama\"]                      </td><td>Frank Darabont      </td><td>99.3</td><td>[\"Tim Robbins\",\"Morgan Freeman\",\"Bob Gunton\",\"William Sadler\",\"Clancy Brown\",\"Gil Bellows\",\"Mark Rolston\",\"James Whitmore\",\"Jeffrey DeMunn\",\"Larry Brandenburg\",\"Neil Giuntoli\",\"Brian Libby\",\"David Proval\",\"Joseph Ragno\",\"Jude Ciccolella\",\"Paul McCrane\",\"Renee Blaine\",\"Scott Mann\"]                          </td></tr>\n",
              "\t<tr><td>2</td><td>The Godfather           </td><td>1972</td><td>[\"Crime\",\"Drama\"]              </td><td>Francis Ford Coppola</td><td> 9.2</td><td>[\"Marlon Brando\",\"Al Pacino\",\"James Caan\",\"Diane Keaton\",\"Richard S. Castellano\",\"Robert Duvall\",\"Sterling Hayden\",\"John Marley\",\"Richard Conte\",\"Al Lettieri\",\"Abe Vigoda\",\"Talia Shire\",\"Gianni Russo\",\"John Cazale\",\"Rudy Bond\",\"Al Martino\",\"Morgana King\",\"Lenny Montana\"]                                    </td></tr>\n",
              "\t<tr><td>3</td><td>The Dark Knight         </td><td>2008</td><td>[\"Action\",\"Crime\",\"Drama\"]     </td><td>Christopher Nolan   </td><td> 9.0</td><td>[\"Christian Bale\",\"Heath Ledger\",\"Aaron Eckhart\",\"Michael Caine\",\"Maggie Gyllenhaal\",\"Gary Oldman\",\"Morgan Freeman\",\"Monique Gabriela Curnen\",\"Ron Dean\",\"Cillian Murphy\",\"Chin Han\",\"Nestor Carbonell\",\"Eric Roberts\",\"Ritchie Coster\",\"Anthony Michael Hall\",\"Keith Szarabajka\",\"Colin McFarlane\",\"Joshua Harto\"]</td></tr>\n",
              "\t<tr><td>4</td><td>The Godfather: Part II  </td><td>1974</td><td>[\"Crime\",\"Drama\"]              </td><td>Francis Ford Coppola</td><td> 9.0</td><td>[\"Al Pacino\",\"Robert De Niro\",\"Robert Duvall\",\"Diane Keaton\",\"John Cazale\",\"Talia Shire\",\"Lee Strasberg\",\"Michael V. Gazzo\",\"G.D. Spradlin\",\"Richard Bright\",\"Gastone Moschin\",\"Tom Rosqui\",\"Bruno Kirby\",\"Frank Sivero\",\"Francesca De Sapio\",\"Morgana King\",\"Marianna Hill\",\"Leopoldo Trieste\"]                   </td></tr>\n",
              "\t<tr><td>5</td><td>12 Angry Men            </td><td>1957</td><td>[\"Crime\",\"Drama\"]              </td><td>Sidney Lumet        </td><td> 9.0</td><td>[\"Henry Fonda\",\"Lee J. Cobb\",\"Martin Balsam\",\"John Fiedler\",\"E.G. Marshall\",\"Jack Klugman\",\"Edward Binns\",\"Jack Warden\",\"Joseph Sweeney\",\"Ed Begley\",\"George Voskovec\",\"Robert Webber\",\"Rudy Bond\",\"Tom Gorman\",\"James Kelly\",\"Billy Nelson\",\"John Savoca\",\"Walter Stocker\"]                                       </td></tr>\n",
              "\t<tr><td>6</td><td>Schindler's List        </td><td>1993</td><td>[\"Biography\",\"Drama\",\"History\"]</td><td>Steven Spielberg    </td><td> 9.0</td><td>[\"Liam Neeson\",\"Ralph Fiennes\",\"Ben Kingsley\",\"Caroline Goodall\",\"Jonathan Sagall\",\"Embeth Davidtz\",\"Malgorzata Gebel\",\"Shmuel Levy\",\"Mark Ivanir\",\"Béatrice Macola\",\"Andrzej Seweryn\",\"Friedrich von Thun\",\"Krzysztof Luft\",\"Harry Nehring\",\"Norbert Weisser\",\"Adi Nitzan\",\"Michael Schneider\",\"Miri Fabian\"]     </td></tr>\n",
              "</tbody>\n",
              "</table>\n"
            ],
            "text/markdown": "\nA tibble: 6 × 7\n\n| rank &lt;dbl&gt; | movie_name &lt;chr&gt; | movie_year &lt;dbl&gt; | genre &lt;chr&gt; | director_name &lt;chr&gt; | rating &lt;dbl&gt; | actors_list &lt;chr&gt; |\n|---|---|---|---|---|---|---|\n| 1 | The Shawshank Redemption | 1994 | [\"Drama\"]                       | Frank Darabont       | 99.3 | [\"Tim Robbins\",\"Morgan Freeman\",\"Bob Gunton\",\"William Sadler\",\"Clancy Brown\",\"Gil Bellows\",\"Mark Rolston\",\"James Whitmore\",\"Jeffrey DeMunn\",\"Larry Brandenburg\",\"Neil Giuntoli\",\"Brian Libby\",\"David Proval\",\"Joseph Ragno\",\"Jude Ciccolella\",\"Paul McCrane\",\"Renee Blaine\",\"Scott Mann\"]                           |\n| 2 | The Godfather            | 1972 | [\"Crime\",\"Drama\"]               | Francis Ford Coppola |  9.2 | [\"Marlon Brando\",\"Al Pacino\",\"James Caan\",\"Diane Keaton\",\"Richard S. Castellano\",\"Robert Duvall\",\"Sterling Hayden\",\"John Marley\",\"Richard Conte\",\"Al Lettieri\",\"Abe Vigoda\",\"Talia Shire\",\"Gianni Russo\",\"John Cazale\",\"Rudy Bond\",\"Al Martino\",\"Morgana King\",\"Lenny Montana\"]                                     |\n| 3 | The Dark Knight          | 2008 | [\"Action\",\"Crime\",\"Drama\"]      | Christopher Nolan    |  9.0 | [\"Christian Bale\",\"Heath Ledger\",\"Aaron Eckhart\",\"Michael Caine\",\"Maggie Gyllenhaal\",\"Gary Oldman\",\"Morgan Freeman\",\"Monique Gabriela Curnen\",\"Ron Dean\",\"Cillian Murphy\",\"Chin Han\",\"Nestor Carbonell\",\"Eric Roberts\",\"Ritchie Coster\",\"Anthony Michael Hall\",\"Keith Szarabajka\",\"Colin McFarlane\",\"Joshua Harto\"] |\n| 4 | The Godfather: Part II   | 1974 | [\"Crime\",\"Drama\"]               | Francis Ford Coppola |  9.0 | [\"Al Pacino\",\"Robert De Niro\",\"Robert Duvall\",\"Diane Keaton\",\"John Cazale\",\"Talia Shire\",\"Lee Strasberg\",\"Michael V. Gazzo\",\"G.D. Spradlin\",\"Richard Bright\",\"Gastone Moschin\",\"Tom Rosqui\",\"Bruno Kirby\",\"Frank Sivero\",\"Francesca De Sapio\",\"Morgana King\",\"Marianna Hill\",\"Leopoldo Trieste\"]                    |\n| 5 | 12 Angry Men             | 1957 | [\"Crime\",\"Drama\"]               | Sidney Lumet         |  9.0 | [\"Henry Fonda\",\"Lee J. Cobb\",\"Martin Balsam\",\"John Fiedler\",\"E.G. Marshall\",\"Jack Klugman\",\"Edward Binns\",\"Jack Warden\",\"Joseph Sweeney\",\"Ed Begley\",\"George Voskovec\",\"Robert Webber\",\"Rudy Bond\",\"Tom Gorman\",\"James Kelly\",\"Billy Nelson\",\"John Savoca\",\"Walter Stocker\"]                                        |\n| 6 | Schindler's List         | 1993 | [\"Biography\",\"Drama\",\"History\"] | Steven Spielberg     |  9.0 | [\"Liam Neeson\",\"Ralph Fiennes\",\"Ben Kingsley\",\"Caroline Goodall\",\"Jonathan Sagall\",\"Embeth Davidtz\",\"Malgorzata Gebel\",\"Shmuel Levy\",\"Mark Ivanir\",\"Béatrice Macola\",\"Andrzej Seweryn\",\"Friedrich von Thun\",\"Krzysztof Luft\",\"Harry Nehring\",\"Norbert Weisser\",\"Adi Nitzan\",\"Michael Schneider\",\"Miri Fabian\"]      |\n\n",
            "text/latex": "A tibble: 6 × 7\n\\begin{tabular}{lllllll}\n rank & movie\\_name & movie\\_year & genre & director\\_name & rating & actors\\_list\\\\\n <dbl> & <chr> & <dbl> & <chr> & <chr> & <dbl> & <chr>\\\\\n\\hline\n\t 1 & The Shawshank Redemption & 1994 & {[}\"Drama\"{]}                       & Frank Darabont       & 99.3 & {[}\"Tim Robbins\",\"Morgan Freeman\",\"Bob Gunton\",\"William Sadler\",\"Clancy Brown\",\"Gil Bellows\",\"Mark Rolston\",\"James Whitmore\",\"Jeffrey DeMunn\",\"Larry Brandenburg\",\"Neil Giuntoli\",\"Brian Libby\",\"David Proval\",\"Joseph Ragno\",\"Jude Ciccolella\",\"Paul McCrane\",\"Renee Blaine\",\"Scott Mann\"{]}                          \\\\\n\t 2 & The Godfather            & 1972 & {[}\"Crime\",\"Drama\"{]}               & Francis Ford Coppola &  9.2 & {[}\"Marlon Brando\",\"Al Pacino\",\"James Caan\",\"Diane Keaton\",\"Richard S. Castellano\",\"Robert Duvall\",\"Sterling Hayden\",\"John Marley\",\"Richard Conte\",\"Al Lettieri\",\"Abe Vigoda\",\"Talia Shire\",\"Gianni Russo\",\"John Cazale\",\"Rudy Bond\",\"Al Martino\",\"Morgana King\",\"Lenny Montana\"{]}                                    \\\\\n\t 3 & The Dark Knight          & 2008 & {[}\"Action\",\"Crime\",\"Drama\"{]}      & Christopher Nolan    &  9.0 & {[}\"Christian Bale\",\"Heath Ledger\",\"Aaron Eckhart\",\"Michael Caine\",\"Maggie Gyllenhaal\",\"Gary Oldman\",\"Morgan Freeman\",\"Monique Gabriela Curnen\",\"Ron Dean\",\"Cillian Murphy\",\"Chin Han\",\"Nestor Carbonell\",\"Eric Roberts\",\"Ritchie Coster\",\"Anthony Michael Hall\",\"Keith Szarabajka\",\"Colin McFarlane\",\"Joshua Harto\"{]}\\\\\n\t 4 & The Godfather: Part II   & 1974 & {[}\"Crime\",\"Drama\"{]}               & Francis Ford Coppola &  9.0 & {[}\"Al Pacino\",\"Robert De Niro\",\"Robert Duvall\",\"Diane Keaton\",\"John Cazale\",\"Talia Shire\",\"Lee Strasberg\",\"Michael V. Gazzo\",\"G.D. Spradlin\",\"Richard Bright\",\"Gastone Moschin\",\"Tom Rosqui\",\"Bruno Kirby\",\"Frank Sivero\",\"Francesca De Sapio\",\"Morgana King\",\"Marianna Hill\",\"Leopoldo Trieste\"{]}                   \\\\\n\t 5 & 12 Angry Men             & 1957 & {[}\"Crime\",\"Drama\"{]}               & Sidney Lumet         &  9.0 & {[}\"Henry Fonda\",\"Lee J. Cobb\",\"Martin Balsam\",\"John Fiedler\",\"E.G. Marshall\",\"Jack Klugman\",\"Edward Binns\",\"Jack Warden\",\"Joseph Sweeney\",\"Ed Begley\",\"George Voskovec\",\"Robert Webber\",\"Rudy Bond\",\"Tom Gorman\",\"James Kelly\",\"Billy Nelson\",\"John Savoca\",\"Walter Stocker\"{]}                                       \\\\\n\t 6 & Schindler's List         & 1993 & {[}\"Biography\",\"Drama\",\"History\"{]} & Steven Spielberg     &  9.0 & {[}\"Liam Neeson\",\"Ralph Fiennes\",\"Ben Kingsley\",\"Caroline Goodall\",\"Jonathan Sagall\",\"Embeth Davidtz\",\"Malgorzata Gebel\",\"Shmuel Levy\",\"Mark Ivanir\",\"Béatrice Macola\",\"Andrzej Seweryn\",\"Friedrich von Thun\",\"Krzysztof Luft\",\"Harry Nehring\",\"Norbert Weisser\",\"Adi Nitzan\",\"Michael Schneider\",\"Miri Fabian\"{]}     \\\\\n\\end{tabular}\n",
            "text/plain": [
              "  rank movie_name               movie_year genre                          \n",
              "1 1    The Shawshank Redemption 1994       [\"Drama\"]                      \n",
              "2 2    The Godfather            1972       [\"Crime\",\"Drama\"]              \n",
              "3 3    The Dark Knight          2008       [\"Action\",\"Crime\",\"Drama\"]     \n",
              "4 4    The Godfather: Part II   1974       [\"Crime\",\"Drama\"]              \n",
              "5 5    12 Angry Men             1957       [\"Crime\",\"Drama\"]              \n",
              "6 6    Schindler's List         1993       [\"Biography\",\"Drama\",\"History\"]\n",
              "  director_name        rating\n",
              "1 Frank Darabont       99.3  \n",
              "2 Francis Ford Coppola  9.2  \n",
              "3 Christopher Nolan     9.0  \n",
              "4 Francis Ford Coppola  9.0  \n",
              "5 Sidney Lumet          9.0  \n",
              "6 Steven Spielberg      9.0  \n",
              "  actors_list                                                                                                                                                                                                                                                                                                        \n",
              "1 [\"Tim Robbins\",\"Morgan Freeman\",\"Bob Gunton\",\"William Sadler\",\"Clancy Brown\",\"Gil Bellows\",\"Mark Rolston\",\"James Whitmore\",\"Jeffrey DeMunn\",\"Larry Brandenburg\",\"Neil Giuntoli\",\"Brian Libby\",\"David Proval\",\"Joseph Ragno\",\"Jude Ciccolella\",\"Paul McCrane\",\"Renee Blaine\",\"Scott Mann\"]                          \n",
              "2 [\"Marlon Brando\",\"Al Pacino\",\"James Caan\",\"Diane Keaton\",\"Richard S. Castellano\",\"Robert Duvall\",\"Sterling Hayden\",\"John Marley\",\"Richard Conte\",\"Al Lettieri\",\"Abe Vigoda\",\"Talia Shire\",\"Gianni Russo\",\"John Cazale\",\"Rudy Bond\",\"Al Martino\",\"Morgana King\",\"Lenny Montana\"]                                    \n",
              "3 [\"Christian Bale\",\"Heath Ledger\",\"Aaron Eckhart\",\"Michael Caine\",\"Maggie Gyllenhaal\",\"Gary Oldman\",\"Morgan Freeman\",\"Monique Gabriela Curnen\",\"Ron Dean\",\"Cillian Murphy\",\"Chin Han\",\"Nestor Carbonell\",\"Eric Roberts\",\"Ritchie Coster\",\"Anthony Michael Hall\",\"Keith Szarabajka\",\"Colin McFarlane\",\"Joshua Harto\"]\n",
              "4 [\"Al Pacino\",\"Robert De Niro\",\"Robert Duvall\",\"Diane Keaton\",\"John Cazale\",\"Talia Shire\",\"Lee Strasberg\",\"Michael V. Gazzo\",\"G.D. Spradlin\",\"Richard Bright\",\"Gastone Moschin\",\"Tom Rosqui\",\"Bruno Kirby\",\"Frank Sivero\",\"Francesca De Sapio\",\"Morgana King\",\"Marianna Hill\",\"Leopoldo Trieste\"]                   \n",
              "5 [\"Henry Fonda\",\"Lee J. Cobb\",\"Martin Balsam\",\"John Fiedler\",\"E.G. Marshall\",\"Jack Klugman\",\"Edward Binns\",\"Jack Warden\",\"Joseph Sweeney\",\"Ed Begley\",\"George Voskovec\",\"Robert Webber\",\"Rudy Bond\",\"Tom Gorman\",\"James Kelly\",\"Billy Nelson\",\"John Savoca\",\"Walter Stocker\"]                                       \n",
              "6 [\"Liam Neeson\",\"Ralph Fiennes\",\"Ben Kingsley\",\"Caroline Goodall\",\"Jonathan Sagall\",\"Embeth Davidtz\",\"Malgorzata Gebel\",\"Shmuel Levy\",\"Mark Ivanir\",\"Béatrice Macola\",\"Andrzej Seweryn\",\"Friedrich von Thun\",\"Krzysztof Luft\",\"Harry Nehring\",\"Norbert Weisser\",\"Adi Nitzan\",\"Michael Schneider\",\"Miri Fabian\"]     "
            ]
          },
          "metadata": {}
        }
      ],
      "source": [
        "download.file(\"https://datasets.stats306.org/imdb250.csv\", \"imdb250.csv\")\n",
        "\n",
        "# Read in imdb250.csv and clean up the movie_year column\n",
        "imdb250 <- read_csv('imdb250.csv') %>%\n",
        "                mutate(movie_year = as.numeric(str_replace(movie_year, \"l\", \"1\")))\n",
        "head(imdb250)"
      ]
    },
    {
      "cell_type": "markdown",
      "metadata": {
        "deletable": false,
        "editable": false,
        "run_control": {
          "frozen": true
        },
        "id": "y--bXIpA3HCm"
      },
      "source": [
        "**(a)** The following table displays the six movies in the IMDB top 250 in which Tom Hanks appears as an actor:"
      ]
    },
    {
      "cell_type": "raw",
      "metadata": {
        "id": "HELKUt3j3HCn"
      },
      "source": [
        "A tibble: 6 × 3\n",
        "year\ttitle\t              rating\n",
        "<dbl>\t<chr>\t              <dbl>\n",
        "1994\tForrest Gump\t      8.8\n",
        "1998\tSaving Private Ryan\t  8.6\n",
        "1999\tThe Green Mile\t      8.6\n",
        "1995\tToy Story\t          8.3\n",
        "2010\tToy Story 3\t          8.3\n",
        "2002\tCatch Me If You Can\t  8.1"
      ]
    },
    {
      "cell_type": "markdown",
      "metadata": {
        "deletable": false,
        "editable": false,
        "run_control": {
          "frozen": true
        },
        "id": "rjYZHCOl3HCn"
      },
      "source": [
        "Use `dplyr` functions (e.g., `filter()`, `mutate()`, `select()`, `arrange()`) to reproduce this table. Your table should match the above table exactly. *(1 point)*\n",
        "\n",
        "**HINT 1:** You can use the [`str_detect()` function](https://stringr.tidyverse.org/reference/str_detect.html) to find the rows in which \"Tom Hanks\" appears in `actors_list`.\n",
        "\n",
        "**HINT 2:** The movie Forrest Gump is incorrectly listed as Forest Bump in `imdb250`. You will need to fix this in order to match the table exactly."
      ]
    },
    {
      "cell_type": "code",
      "execution_count": 114,
      "metadata": {
        "scrolled": true,
        "id": "WPlq9D_t3HCn",
        "colab": {
          "base_uri": "https://localhost:8080/",
          "height": 436
        },
        "outputId": "ae7ec4c1-7d5d-420e-ad30-dd2a0dd57da6"
      },
      "outputs": [
        {
          "output_type": "stream",
          "name": "stderr",
          "text": [
            "Warning message:\n",
            "“\u001b[1m\u001b[22m`funs()` was deprecated in dplyr 0.8.0.\n",
            "\u001b[36mℹ\u001b[39m Please use a list of either functions or lambdas:\n",
            "\n",
            "# Simple named list: list(mean = mean, median = median)\n",
            "\n",
            "# Auto named with `tibble::lst()`: tibble::lst(mean, median)\n",
            "\n",
            "# Using lambdas list(~ mean(., trim = .2), ~ median(., na.rm = TRUE))”\n"
          ]
        },
        {
          "output_type": "display_data",
          "data": {
            "text/html": [
              "<table class=\"dataframe\">\n",
              "<caption>A tibble: 6 × 3</caption>\n",
              "<thead>\n",
              "\t<tr><th scope=col>year</th><th scope=col>title</th><th scope=col>rating</th></tr>\n",
              "\t<tr><th scope=col>&lt;dbl&gt;</th><th scope=col>&lt;chr&gt;</th><th scope=col>&lt;dbl&gt;</th></tr>\n",
              "</thead>\n",
              "<tbody>\n",
              "\t<tr><td>1994</td><td>Forest Gump        </td><td>8.8</td></tr>\n",
              "\t<tr><td>1998</td><td>Saving Private Ryan</td><td>8.6</td></tr>\n",
              "\t<tr><td>1999</td><td>The Green Mile     </td><td>8.6</td></tr>\n",
              "\t<tr><td>1995</td><td>Toy Story          </td><td>8.3</td></tr>\n",
              "\t<tr><td>2010</td><td>Toy Story 3        </td><td>8.3</td></tr>\n",
              "\t<tr><td>2002</td><td>Catch Me If You Can</td><td>8.1</td></tr>\n",
              "</tbody>\n",
              "</table>\n"
            ],
            "text/markdown": "\nA tibble: 6 × 3\n\n| year &lt;dbl&gt; | title &lt;chr&gt; | rating &lt;dbl&gt; |\n|---|---|---|\n| 1994 | Forest Gump         | 8.8 |\n| 1998 | Saving Private Ryan | 8.6 |\n| 1999 | The Green Mile      | 8.6 |\n| 1995 | Toy Story           | 8.3 |\n| 2010 | Toy Story 3         | 8.3 |\n| 2002 | Catch Me If You Can | 8.1 |\n\n",
            "text/latex": "A tibble: 6 × 3\n\\begin{tabular}{lll}\n year & title & rating\\\\\n <dbl> & <chr> & <dbl>\\\\\n\\hline\n\t 1994 & Forest Gump         & 8.8\\\\\n\t 1998 & Saving Private Ryan & 8.6\\\\\n\t 1999 & The Green Mile      & 8.6\\\\\n\t 1995 & Toy Story           & 8.3\\\\\n\t 2010 & Toy Story 3         & 8.3\\\\\n\t 2002 & Catch Me If You Can & 8.1\\\\\n\\end{tabular}\n",
            "text/plain": [
              "  year title               rating\n",
              "1 1994 Forest Gump         8.8   \n",
              "2 1998 Saving Private Ryan 8.6   \n",
              "3 1999 The Green Mile      8.6   \n",
              "4 1995 Toy Story           8.3   \n",
              "5 2010 Toy Story 3         8.3   \n",
              "6 2002 Catch Me If You Can 8.1   "
            ]
          },
          "metadata": {}
        }
      ],
      "source": [
        "### YOUR SOLUTION HERE\n",
        "\n",
        "imdb250 %>%\n",
        "  filter(str_detect(actors_list, \"Tom Hanks\")) %>%\n",
        "  mutate_all(funs(str_replace(., \"Forest Bump\", \"Forest Gump\"))) %>%\n",
        "  select(movie_year, movie_name, rating) %>%\n",
        "  setNames(c(\"year\", \"title\", \"rating\")) %>%\n",
        "  mutate(year = as.numeric(year), rating  = as.numeric(rating)) %>%\n",
        "  arrange(-rating)"
      ]
    },
    {
      "cell_type": "markdown",
      "metadata": {
        "deletable": false,
        "editable": false,
        "run_control": {
          "frozen": true
        },
        "id": "zNRK6jpg3HCo"
      },
      "source": [
        "**(b)** Create a plot that displays the number of top 250 films from each decade. Would you say there was a \"golden age\" of cinema (i.e., an era in which comparatively more good films were released)? *(1 point)*"
      ]
    },
    {
      "cell_type": "code",
      "execution_count": 131,
      "metadata": {
        "id": "jZK0MQ5V3HCo",
        "colab": {
          "base_uri": "https://localhost:8080/",
          "height": 257
        },
        "outputId": "b32bab05-373d-4e66-b3e8-22d352c56c46"
      },
      "outputs": [
        {
          "output_type": "display_data",
          "data": {
            "text/plain": [
              "plot without title"
            ],
            "image/png": "[encoded data removed]"
          },
          "metadata": {
            "image/png": {
              "width": 300,
              "height": 240
            }
          }
        }
      ],
      "source": [
        "### YOUR SOLUTION HERE\n",
        "\n",
        "imdb250 %>%\n",
        "mutate(decade =  movie_year - movie_year %% 10) %>%\n",
        "group_by(decade) %>%\n",
        "summarise(numMoviesInDecade = n()) %>%\n",
        "ggplot(aes(x = factor(decade), y = numMoviesInDecade)) +\n",
        "geom_col()"
      ]
    },
    {
      "cell_type": "markdown",
      "source": [
        "The 2000's appear to be the \"golden age\" of cinema as it has the most films that appear in the top 250 (48 films to be exact)."
      ],
      "metadata": {
        "id": "LSpNcjJDfARp"
      }
    },
    {
      "cell_type": "markdown",
      "metadata": {
        "deletable": false,
        "editable": false,
        "id": "PANaSHV5Wejw",
        "run_control": {
          "frozen": true
        }
      },
      "source": [
        "## Problem 3: Extra credit! (2 points)\n",
        "\n",
        "You can earn up to 2 extra credit points for this problem. There are four parts, and each part is worth 0.5 points of extra credit.\n",
        "\n",
        "The following spreadsheet contains data from the [Current Population Survey](https://www.census.gov/data/tables/time-series/demo/educational-attainment/cps-historical-time-series.html) on wages by sex and education level in the U.S.:\n",
        "\n",
        "https://docs.google.com/spreadsheets/d/1N3-Ez5wDVhUgbjy2zsLULrbrYkpVYvDrf-a88-5ED8Q/edit?usp=sharing\n",
        "\n",
        "You can download the spreadsheet to your local/Colab folder by executing:"
      ]
    },
    {
      "cell_type": "code",
      "execution_count": null,
      "metadata": {
        "id": "q42yNhLKCGXm"
      },
      "outputs": [],
      "source": [
        "# download.file(\"https://datasets.stats306.org/taba-3.xlsx\", 'taba-3.xlsx')"
      ]
    },
    {
      "cell_type": "markdown",
      "metadata": {
        "deletable": false,
        "editable": false,
        "run_control": {
          "frozen": true
        },
        "id": "DKhHbN9-3HCp"
      },
      "source": [
        "As you will see, the data are in a highly non-tidy format. It's your job to tidy them up in order to answer the following questions.\n",
        "\n",
        "Tidying this dataset is challenging. It's okay to use any strategy that works. For example, you might have to \"hardcode\" some column names, rather than having R infer them automatically for you. Use whatever techniques you need to answer the questions below, while minimizing the amount of manual data entry you have to perform.\n",
        "\n",
        "**HINT:** It helps to look at the spreadsheet to understand the data before trying to fix everything in `R`. \n",
        "\n",
        "**HINT:** The spreadsheet really contains several different datasets, for example, lines 6-52 is the data for all demographics and sexes, and lines 53-99 contain the data just for males. Rather than loading all of the data at once, consider loading only the data that are necessary for the question at hand. This can be done with the argument `range = \"A1:B2\"`, where in this case `A-B` would define the column numbers in the spreadsheet that you want to read into `R`, and `1-2` are the rows that you want to read into `R`. \n",
        "\n",
        "**HINT:** Consider making a vector of column names that could be used for any dataset from the spreadsheet. Pick the column names so that it's easy to remember what the data are, but also convenient to work with in `dplyr`. This can be done \"by hand\" or any other way. \n",
        "\n",
        "While there are many ways you could try to solve the problem, the last two hints suggest you might want to try something like: \n",
        "\n",
        "```\n",
        "readxl::read_xlsx(\n",
        "  'taba-3.xlsx',\n",
        "  range = ____,\n",
        "  col_names = ____,\n",
        "  na = 'N'  # HINT: Some missing data are stored as Ns. \n",
        " )\n",
        "```"
      ]
    },
    {
      "cell_type": "markdown",
      "metadata": {
        "deletable": false,
        "editable": false,
        "run_control": {
          "frozen": true
        },
        "id": "dMPmd_E33HCp"
      },
      "source": [
        "**(a)** Across all races and genders, which level of education earns the most money on average? The least? How has this changed over time? Answer these questions by making an appropriate figure. *(0.5 points extra credit)*"
      ]
    },
    {
      "cell_type": "code",
      "execution_count": null,
      "metadata": {
        "id": "F58CtPoF3HCp"
      },
      "outputs": [],
      "source": [
        "### YOUR SOLUTION HERE"
      ]
    },
    {
      "cell_type": "markdown",
      "metadata": {
        "deletable": false,
        "editable": false,
        "run_control": {
          "frozen": true
        },
        "id": "_Q9NSSsP3HCp"
      },
      "source": [
        "**(b)** The figure in part (a) should show that average income has generally increased over the years for each education group. One possible explaination is that money is worth less now than it was in the 70s due to inflation. Do you think the increase in wages has resulted in more spending power for each education level, or is it about the same after accounting for inflation? Support your response by creating an appropriate figure. *(0.5 points extra credit)*\n",
        "\n",
        "\n",
        "**HINT:** You could try to use the average annual inflation to manually adjust annual wages. Because inflation levels change from year to year, a better solution would be to adjust based on the inflation rate for each year. There is an `R` package called `priceR` that helps us do this! Consider installing the package and reading the documentation for the `adjust_for_inflation` function to help adjust for the inflation in the US. "
      ]
    },
    {
      "cell_type": "code",
      "execution_count": null,
      "metadata": {
        "id": "APFieYte3HCp"
      },
      "outputs": [],
      "source": [
        "### YOUR SOLUTION HERE"
      ]
    },
    {
      "cell_type": "markdown",
      "metadata": {
        "deletable": false,
        "editable": false,
        "run_control": {
          "frozen": true
        },
        "id": "53RgvzOe3HCq"
      },
      "source": [
        "**(c)** Use the data from the spreadsheet to produce an appropriate visualization showing how the average wage gap between men and women has changed from 1975 to the present, for all education levels. *(0.5 points extra credit)*\n",
        "\n",
        "**HINTS:** You will need to use the information from two different sections from the spreadsheet, for example, getting the information from the rows that contain data for females of all demographics, and seperately from the rows that contain information about males. Once you have figured out how to appropriately read data from one of these sections, the other section should be similar. You then can combine the two datasets using `bind_rows`."
      ]
    },
    {
      "cell_type": "code",
      "execution_count": null,
      "metadata": {
        "id": "G85IIPcp3HCq"
      },
      "outputs": [],
      "source": [
        "### YOUR SOLUTION HERE"
      ]
    },
    {
      "cell_type": "markdown",
      "metadata": {
        "deletable": false,
        "editable": false,
        "run_control": {
          "frozen": true
        },
        "id": "HC2AXSdA3HCq"
      },
      "source": [
        "**(d)** Create the same figure from above but this time account for inflation using the same technique used in previous questions. How has the \"spending power gap\" increased over time? *(0.5 points extra credit)*"
      ]
    },
    {
      "cell_type": "code",
      "execution_count": null,
      "metadata": {
        "id": "ZpxORUWI3HCq"
      },
      "outputs": [],
      "source": [
        "### YOUR SOLUTION HERE"
      ]
    }
  ],
  "metadata": {
    "celltoolbar": "Create Assignment",
    "colab": {
      "collapsed_sections": [
        "WkwFQ7vlWejr"
      ],
      "provenance": []
    },
    "kernelspec": {
      "display_name": "R",
      "language": "R",
      "name": "ir"
    },
    "language_info": {
      "codemirror_mode": "r",
      "file_extension": ".r",
      "mimetype": "text/x-r-source",
      "name": "R",
      "pygments_lexer": "r",
      "version": "4.2.1"
    }
  },
  "nbformat": 4,
  "nbformat_minor": 0
}