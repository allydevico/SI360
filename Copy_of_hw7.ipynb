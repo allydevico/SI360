{
  "cells": [
    {
      "cell_type": "code",
      "execution_count": 2,
      "metadata": {
        "deletable": false,
        "editable": false,
        "id": "1SPCENz_KDM-",
        "nbgrader": {
          "grade": false,
          "grade_id": "cell-d1761bfdb43c7ec3",
          "locked": true,
          "schema_version": 3,
          "solution": false
        },
        "vscode": {
          "languageId": "r"
        },
        "colab": {
          "base_uri": "https://localhost:8080/"
        },
        "outputId": "1693a5a5-bdfc-4a3e-de8f-0b248052c7ca"
      },
      "outputs": [
        {
          "output_type": "stream",
          "name": "stderr",
          "text": [
            "Installing package into ‘/usr/local/lib/R/site-library’\n",
            "(as ‘lib’ is unspecified)\n",
            "\n",
            "also installing the dependencies ‘textshaping’, ‘ragg’\n",
            "\n",
            "\n",
            "Warning message in install.packages(\"tidyverse\"):\n",
            "“installation of package ‘textshaping’ had non-zero exit status”\n",
            "Warning message in install.packages(\"tidyverse\"):\n",
            "“installation of package ‘ragg’ had non-zero exit status”\n",
            "Warning message in install.packages(\"tidyverse\"):\n",
            "“installation of package ‘tidyverse’ had non-zero exit status”\n",
            "Skipping install of 'harrypotter' from a github remote, the SHA1 (51f71461) has not changed since last install.\n",
            "  Use `force = TRUE` to force installation\n",
            "\n",
            "Installing package into ‘/usr/local/lib/R/site-library’\n",
            "(as ‘lib’ is unspecified)\n",
            "\n"
          ]
        }
      ],
      "source": [
        "install.packages(\"tidyverse\")\n",
        "remotes::install_github(\"bradleyboehmke/harrypotter\")\n",
        "install.packages(\"tidytext\")\n",
        "library(tidyverse)\n",
        "library(stringr)\n",
        "options(jupyter.rich_display=T)\n",
        "library(harrypotter)\n",
        "library(tidytext)\n",
        "options(repr.plot.width=4, repr.plot.height=3)"
      ]
    },
    {
      "cell_type": "markdown",
      "metadata": {
        "deletable": false,
        "editable": false,
        "id": "i8VBJe1DLrKG",
        "run_control": {
          "frozen": true
        }
      },
      "source": [
        "# STATS 306\n",
        "## Homework 7: Text Analysis\n",
        "\n",
        "For each problem, enter the R code in the cell marked \"YOUR SOLUTION HERE\"."
      ]
    },
    {
      "cell_type": "markdown",
      "metadata": {
        "deletable": false,
        "editable": false,
        "id": "Yp7WT7I1KDNF",
        "nbgrader": {
          "grade": false,
          "grade_id": "cell-2be6421ceea97f78",
          "locked": true,
          "schema_version": 3,
          "solution": false,
          "task": false
        },
        "run_control": {
          "frozen": true
        }
      },
      "source": [
        "## Problem 1: Sentiment Analysis (4 points)\n",
        "\n",
        "In problem 1 we will perform *sentiment analysis* of the Harry Potter books. The file `afinn.RData` contains a sentiment score for a large number of words in the English language:"
      ]
    },
    {
      "cell_type": "code",
      "execution_count": 3,
      "metadata": {
        "colab": {
          "base_uri": "https://localhost:8080/",
          "height": 283
        },
        "deletable": false,
        "editable": false,
        "id": "rVaiwyOLKDNE",
        "nbgrader": {
          "grade": false,
          "grade_id": "cell-a0b1b3db5aa2f68d",
          "locked": true,
          "schema_version": 3,
          "solution": false,
          "task": false
        },
        "outputId": "8a6ce48e-9f5e-4cca-845f-65bf118c487f",
        "vscode": {
          "languageId": "r"
        }
      },
      "outputs": [
        {
          "output_type": "display_data",
          "data": {
            "text/html": [
              "<table class=\"dataframe\">\n",
              "<caption>A tibble: 6 × 2</caption>\n",
              "<thead>\n",
              "\t<tr><th scope=col>word</th><th scope=col>value</th></tr>\n",
              "\t<tr><th scope=col>&lt;chr&gt;</th><th scope=col>&lt;dbl&gt;</th></tr>\n",
              "</thead>\n",
              "<tbody>\n",
              "\t<tr><td>abandon   </td><td>-2</td></tr>\n",
              "\t<tr><td>abandoned </td><td>-2</td></tr>\n",
              "\t<tr><td>abandons  </td><td>-2</td></tr>\n",
              "\t<tr><td>abducted  </td><td>-2</td></tr>\n",
              "\t<tr><td>abduction </td><td>-2</td></tr>\n",
              "\t<tr><td>abductions</td><td>-2</td></tr>\n",
              "</tbody>\n",
              "</table>\n"
            ],
            "text/markdown": "\nA tibble: 6 × 2\n\n| word &lt;chr&gt; | value &lt;dbl&gt; |\n|---|---|\n| abandon    | -2 |\n| abandoned  | -2 |\n| abandons   | -2 |\n| abducted   | -2 |\n| abduction  | -2 |\n| abductions | -2 |\n\n",
            "text/latex": "A tibble: 6 × 2\n\\begin{tabular}{ll}\n word & value\\\\\n <chr> & <dbl>\\\\\n\\hline\n\t abandon    & -2\\\\\n\t abandoned  & -2\\\\\n\t abandons   & -2\\\\\n\t abducted   & -2\\\\\n\t abduction  & -2\\\\\n\t abductions & -2\\\\\n\\end{tabular}\n",
            "text/plain": [
              "  word       value\n",
              "1 abandon    -2   \n",
              "2 abandoned  -2   \n",
              "3 abandons   -2   \n",
              "4 abducted   -2   \n",
              "5 abduction  -2   \n",
              "6 abductions -2   "
            ]
          },
          "metadata": {}
        }
      ],
      "source": [
        "load(url(\"https://datasets.stats306.org/afinn.RData\"))\n",
        "head(afinn)"
      ]
    },
    {
      "cell_type": "markdown",
      "metadata": {
        "deletable": false,
        "editable": false,
        "id": "eQZaf91hKDNE",
        "nbgrader": {
          "grade": false,
          "grade_id": "cell-fd453d3925b1ec23",
          "locked": true,
          "schema_version": 3,
          "solution": false,
          "task": false
        },
        "run_control": {
          "frozen": true
        }
      },
      "source": [
        "Negatively connoted words receive low scores, while positively connoted words receive high scores:"
      ]
    },
    {
      "cell_type": "code",
      "execution_count": 4,
      "metadata": {
        "colab": {
          "base_uri": "https://localhost:8080/",
          "height": 176
        },
        "deletable": false,
        "editable": false,
        "id": "GIRs7RepKDNF",
        "nbgrader": {
          "grade": false,
          "grade_id": "cell-727f2c40cd76f830",
          "locked": true,
          "schema_version": 3,
          "solution": false,
          "task": false
        },
        "outputId": "f42a4f0b-97f4-4871-e007-b75498efe4ed",
        "vscode": {
          "languageId": "r"
        }
      },
      "outputs": [
        {
          "output_type": "display_data",
          "data": {
            "text/html": [
              "<table class=\"dataframe\">\n",
              "<caption>A spec_tbl_df: 2 × 2</caption>\n",
              "<thead>\n",
              "\t<tr><th scope=col>word</th><th scope=col>value</th></tr>\n",
              "\t<tr><th scope=col>&lt;chr&gt;</th><th scope=col>&lt;dbl&gt;</th></tr>\n",
              "</thead>\n",
              "<tbody>\n",
              "\t<tr><td>death </td><td>-2</td></tr>\n",
              "\t<tr><td>hurrah</td><td> 5</td></tr>\n",
              "</tbody>\n",
              "</table>\n"
            ],
            "text/markdown": "\nA spec_tbl_df: 2 × 2\n\n| word &lt;chr&gt; | value &lt;dbl&gt; |\n|---|---|\n| death  | -2 |\n| hurrah |  5 |\n\n",
            "text/latex": "A spec\\_tbl\\_df: 2 × 2\n\\begin{tabular}{ll}\n word & value\\\\\n <chr> & <dbl>\\\\\n\\hline\n\t death  & -2\\\\\n\t hurrah &  5\\\\\n\\end{tabular}\n",
            "text/plain": [
              "  word   value\n",
              "1 death  -2   \n",
              "2 hurrah  5   "
            ]
          },
          "metadata": {}
        }
      ],
      "source": [
        "filter(afinn, word %in% c(\"death\", \"hurrah\"))"
      ]
    },
    {
      "cell_type": "markdown",
      "metadata": {
        "deletable": false,
        "editable": false,
        "id": "bnxGYxYuN0Va",
        "run_control": {
          "frozen": true
        }
      },
      "source": [
        "The `tidytext::unnest_tokens()` function can be used to break a chunk of text into \"tokens\" (words, sentences, etc.) It works as follows. Consider the following tibble, which contains all 17 chapters of the first book in the Harry Potter series:"
      ]
    },
    {
      "cell_type": "code",
      "execution_count": 150,
      "metadata": {
        "colab": {
          "base_uri": "https://localhost:8080/"
        },
        "deletable": false,
        "editable": false,
        "id": "afSFdPizKDNG",
        "nbgrader": {
          "grade": false,
          "grade_id": "cell-5720923eadb15f71",
          "locked": true,
          "schema_version": 3,
          "solution": false,
          "task": false
        },
        "outputId": "1a294ba1-292c-4c77-8a51-ce8566d7454a",
        "vscode": {
          "languageId": "r"
        }
      },
      "outputs": [
        {
          "output_type": "stream",
          "name": "stdout",
          "text": [
            "\u001b[90m# A tibble: 17 × 2\u001b[39m\n",
            "   chapter text                                                                 \n",
            "     \u001b[3m\u001b[90m<int>\u001b[39m\u001b[23m \u001b[3m\u001b[90m<chr>\u001b[39m\u001b[23m                                                                \n",
            "\u001b[90m 1\u001b[39m       1 \u001b[90m\"\u001b[39mTHE BOY WHO LIVED　　Mr. and Mrs. Dursley, of number four, Privet D…\n",
            "\u001b[90m 2\u001b[39m       2 \u001b[90m\"\u001b[39mTHE VANISHING GLASS　　Nearly ten years had passed since the Dursle…\n",
            "\u001b[90m 3\u001b[39m       3 \u001b[90m\"\u001b[39mTHE LETTERS FROM NO ONE　　The escape of the Brazilian boa constric…\n",
            "\u001b[90m 4\u001b[39m       4 \u001b[90m\"\u001b[39mTHE KEEPER OF THE KEYS　　BOOM. They knocked again. Dudley jerked a…\n",
            "\u001b[90m 5\u001b[39m       5 \u001b[90m\"\u001b[39mDIAGON ALLEY　　Harry woke early the next morning. Although he coul…\n",
            "\u001b[90m 6\u001b[39m       6 \u001b[90m\"\u001b[39mTHE JOURNEY FROM PLATFORM NINE AND THREE-QUARTERS　　Harry's last m…\n",
            "\u001b[90m 7\u001b[39m       7 \u001b[90m\"\u001b[39mTHE SORTING HAT　　The door swung open at once. A tall, black-haire…\n",
            "\u001b[90m 8\u001b[39m       8 \u001b[90m\"\u001b[39mTHE POTIONS MASTER　　There, look.\\\"　　\\\"Where?\\\"　　\\\"Next to the…\n",
            "\u001b[90m 9\u001b[39m       9 \u001b[90m\"\u001b[39mTHE MIDNIGHT DUEL　　Harry had never believed he would meet a boy h…\n",
            "\u001b[90m10\u001b[39m      10 \u001b[90m\"\u001b[39mHALLOWEEN　　Malfoy couldn't believe his eyes when he saw that Harr…\n",
            "\u001b[90m11\u001b[39m      11 \u001b[90m\"\u001b[39mQUIDDITCH　　As they entered November, the weather turned very cold…\n",
            "\u001b[90m12\u001b[39m      12 \u001b[90m\"\u001b[39mTHE MIRROR OF ERISED　　Christmas was coming. One morning in mid-De…\n",
            "\u001b[90m13\u001b[39m      13 \u001b[90m\"\u001b[39mNICOLAS FLAMEL　　Dumbledore had convinced Harry not to go looking …\n",
            "\u001b[90m14\u001b[39m      14 \u001b[90m\"\u001b[39mNORBERT THE NORWEGIAN RIDGEBACK　　Quirrell, however, must have bee…\n",
            "\u001b[90m15\u001b[39m      15 \u001b[90m\"\u001b[39mTHE FORIBIDDEN FOREST　　Things couldn't have been worse.　　Filch …\n",
            "\u001b[90m16\u001b[39m      16 \u001b[90m\"\u001b[39mTHROUGH THE TRAPDOOR　　In years to come, Harry would never quite r…\n",
            "\u001b[90m17\u001b[39m      17 \u001b[90m\"\u001b[39mTHE MAN WITH TWO FACES　　It was Quirrell.　　\\\"You!\\\" gasped Harry…\n"
          ]
        }
      ],
      "source": [
        "phil_tbl <- tibble(chapter=seq_along(philosophers_stone), \n",
        "                   text=philosophers_stone) %>% print"
      ]
    },
    {
      "cell_type": "markdown",
      "metadata": {
        "deletable": false,
        "editable": false,
        "id": "dF5BEX6KKDNG",
        "nbgrader": {
          "grade": false,
          "grade_id": "cell-6458005323726b6c",
          "locked": true,
          "schema_version": 3,
          "solution": false,
          "task": false
        },
        "run_control": {
          "frozen": true
        }
      },
      "source": [
        "To perform sentiment analysis, we need to break each chapter into words so that we can join it to the `afinn` table. This is what `unnest_tokens()` does:"
      ]
    },
    {
      "cell_type": "code",
      "execution_count": 7,
      "metadata": {
        "colab": {
          "base_uri": "https://localhost:8080/"
        },
        "deletable": false,
        "editable": false,
        "id": "k5JwDuDhKDNH",
        "nbgrader": {
          "grade": false,
          "grade_id": "cell-d9a1412ce1c67af4",
          "locked": true,
          "schema_version": 3,
          "solution": false,
          "task": false
        },
        "outputId": "4a4fdd39-fb5a-47a5-fd99-bacadb306eae",
        "vscode": {
          "languageId": "r"
        }
      },
      "outputs": [
        {
          "output_type": "stream",
          "name": "stdout",
          "text": [
            "\u001b[90m# A tibble: 77,875 × 2\u001b[39m\n",
            "   chapter word   \n",
            "     \u001b[3m\u001b[90m<int>\u001b[39m\u001b[23m \u001b[3m\u001b[90m<chr>\u001b[39m\u001b[23m  \n",
            "\u001b[90m 1\u001b[39m       1 the    \n",
            "\u001b[90m 2\u001b[39m       1 boy    \n",
            "\u001b[90m 3\u001b[39m       1 who    \n",
            "\u001b[90m 4\u001b[39m       1 lived  \n",
            "\u001b[90m 5\u001b[39m       1 mr     \n",
            "\u001b[90m 6\u001b[39m       1 and    \n",
            "\u001b[90m 7\u001b[39m       1 mrs    \n",
            "\u001b[90m 8\u001b[39m       1 dursley\n",
            "\u001b[90m 9\u001b[39m       1 of     \n",
            "\u001b[90m10\u001b[39m       1 number \n",
            "\u001b[90m# … with 77,865 more rows\u001b[39m\n"
          ]
        }
      ],
      "source": [
        "phil_tok <- unnest_tokens(phil_tbl, input=text, output=word) %>% print"
      ]
    },
    {
      "cell_type": "markdown",
      "metadata": {
        "deletable": false,
        "editable": false,
        "id": "kPM1RnIKKDNH",
        "nbgrader": {
          "grade": false,
          "grade_id": "cell-f434554a9cb77230",
          "locked": true,
          "schema_version": 3,
          "solution": false,
          "task": false
        },
        "run_control": {
          "frozen": true
        }
      },
      "source": [
        "**1(a)** By joining this table to other tables containing text data and summarizing, we can generate scores of how positive or negative the text is. Using the table and `afinn`, we can assign sentiment scores to various portions of text. Generate a plot reflecting how the sentiment changes over 17 chapters of the first book in the Harry Potter series. What conclusion can you draw from the plot? (1 point)"
      ]
    },
    {
      "cell_type": "code",
      "execution_count": 20,
      "metadata": {
        "id": "MnG3nbbBY8ps",
        "vscode": {
          "languageId": "r"
        },
        "colab": {
          "base_uri": "https://localhost:8080/"
        },
        "outputId": "1e1d2bb0-5815-44f4-9844-195f5810bb13"
      },
      "outputs": [
        {
          "output_type": "stream",
          "name": "stderr",
          "text": [
            "\u001b[1m\u001b[22mJoining with `by = join_by(word)`\n"
          ]
        }
      ],
      "source": [
        "### YOUR SOLUTION HERE\n",
        "phil_df <- phil_tok %>%\n",
        "  inner_join(afinn) %>%\n",
        "  group_by(chapter) %>%\n",
        "  summarise(avgSentimentScore = mean(value))\n",
        "\n",
        "phil_df[\"book\"] = \"philosophers_stone\""
      ]
    },
    {
      "cell_type": "code",
      "source": [
        "phil_df %>%\n",
        "  ggplot(aes(x=chapter, y=avgSentimentScore)) +\n",
        "  geom_line()"
      ],
      "metadata": {
        "colab": {
          "base_uri": "https://localhost:8080/",
          "height": 197
        },
        "id": "XoUJzZwUCoXz",
        "outputId": "c039e617-8fa7-47f9-e640-45985b19ff43"
      },
      "execution_count": 21,
      "outputs": [
        {
          "output_type": "display_data",
          "data": {
            "text/plain": [
              "plot without title"
            ],
            "image/png": "[encoded data removed]"
          },
          "metadata": {
            "image/png": {
              "width": 240,
              "height": 180
            }
          }
        }
      ]
    },
    {
      "cell_type": "markdown",
      "source": [
        "From the graph above we can see that the average sentiment per chapter flucutates greatly over the course of the book (and thus there is no clear pattern). Most notably, the average sentiment per chapter greatly increased from chapter 4 to 5 and greatly decreased from chapter 14 to 15."
      ],
      "metadata": {
        "id": "ct6mKc-Sha_A"
      }
    },
    {
      "cell_type": "markdown",
      "metadata": {
        "deletable": false,
        "editable": false,
        "id": "-YSgb5cqKDNH",
        "nbgrader": {
          "grade": false,
          "grade_id": "cell-764bdd8bbd4ec469",
          "locked": true,
          "schema_version": 3,
          "solution": false,
          "task": false
        },
        "run_control": {
          "frozen": true
        }
      },
      "source": [
        "**1(b)**\n",
        "Some people say that the Harry Potter books became darker (more negative) over time. Use sentiment analysis to investigate this, and report your conclusion here. (1 point)\n",
        "\n",
        "**HINT**: A list of all the Harry Potter books can be obtained by looking at the help page for the `harrypotter` package."
      ]
    },
    {
      "cell_type": "code",
      "execution_count": null,
      "metadata": {
        "id": "dHoAejNaKDNH",
        "nbgrader": {
          "grade": true,
          "grade_id": "cell-456e0f9282dcf3e0",
          "locked": false,
          "points": 0,
          "schema_version": 3,
          "solution": true,
          "task": false
        },
        "vscode": {
          "languageId": "r"
        }
      },
      "outputs": [],
      "source": [
        "### YOUR SOLUTION HERE"
      ]
    },
    {
      "cell_type": "code",
      "source": [
        "chapters_chamber <- tibble(chapter=seq_along(chamber_of_secrets), \n",
        "                   text=chamber_of_secrets) \n",
        "\n",
        "words_chamber <- unnest_tokens(chapters_chamber, input=text, output=word) \n",
        "\n",
        "chamber_df <- words_chamber %>% \n",
        "  inner_join(afinn) %>%\n",
        "  group_by(chapter) %>%\n",
        "  summarise(avgSentimentScore = mean(value)) \n",
        "\n",
        "chamber_df[\"book\"] = \"chamber_of_secrets\""
      ],
      "metadata": {
        "id": "hzXR5POdj3gu",
        "colab": {
          "base_uri": "https://localhost:8080/"
        },
        "outputId": "b8583c21-da8c-4fd0-e301-2e66a690bc9d"
      },
      "execution_count": 22,
      "outputs": [
        {
          "output_type": "stream",
          "name": "stderr",
          "text": [
            "\u001b[1m\u001b[22mJoining with `by = join_by(word)`\n"
          ]
        }
      ]
    },
    {
      "cell_type": "code",
      "source": [
        "chapters_prisoner <- tibble(chapter=seq_along(prisoner_of_azkaban), \n",
        "                   text=prisoner_of_azkaban) \n",
        "\n",
        "words_prisoner <- unnest_tokens(chapters_prisoner, input=text, output=word)\n",
        "\n",
        "prisoner_df <- words_prisoner %>% \n",
        "  inner_join(afinn) %>%\n",
        "  group_by(chapter) %>%\n",
        "  summarise(avgSentimentScore = mean(value)) \n",
        "\n",
        "prisoner_df[\"book\"] = \"prisoner_of_azkaban\""
      ],
      "metadata": {
        "colab": {
          "base_uri": "https://localhost:8080/"
        },
        "id": "IXNv1unkjshM",
        "outputId": "ca891741-9a49-4cac-c87b-b5a63fd965c6"
      },
      "execution_count": 23,
      "outputs": [
        {
          "output_type": "stream",
          "name": "stderr",
          "text": [
            "\u001b[1m\u001b[22mJoining with `by = join_by(word)`\n"
          ]
        }
      ]
    },
    {
      "cell_type": "code",
      "source": [
        "chapters_goblet <- tibble(chapter=seq_along(goblet_of_fire), \n",
        "                   text=goblet_of_fire) \n",
        "\n",
        "words_goblet <- unnest_tokens(chapters_goblet, input=text, output=word)\n",
        "\n",
        "goblet_df <- words_goblet %>% \n",
        "  inner_join(afinn) %>%\n",
        "  group_by(chapter) %>%\n",
        "  summarise(avgSentimentScore = mean(value))\n",
        "\n",
        "goblet_df[\"book\"] = \"goblet_of_fire\""
      ],
      "metadata": {
        "colab": {
          "base_uri": "https://localhost:8080/"
        },
        "id": "CnNDYyEKDxhR",
        "outputId": "ef9a248e-6420-485b-e7a7-68d267c21952"
      },
      "execution_count": 24,
      "outputs": [
        {
          "output_type": "stream",
          "name": "stderr",
          "text": [
            "\u001b[1m\u001b[22mJoining with `by = join_by(word)`\n"
          ]
        }
      ]
    },
    {
      "cell_type": "code",
      "source": [
        "chapters_phoenix <- tibble(chapter=seq_along(order_of_the_phoenix), \n",
        "                   text=order_of_the_phoenix) \n",
        "\n",
        "words_phoenix <- unnest_tokens(chapters_phoenix, input=text, output=word)\n",
        "\n",
        "phoenix_df <- words_phoenix %>% \n",
        "  inner_join(afinn) %>%\n",
        "  group_by(chapter) %>%\n",
        "  summarise(avgSentimentScore = mean(value)) \n",
        "\n",
        "phoenix_df[\"book\"] = \"order_of_the_phoenix\""
      ],
      "metadata": {
        "colab": {
          "base_uri": "https://localhost:8080/"
        },
        "id": "42wrOxFAEU9T",
        "outputId": "712a1c9d-909e-481b-acd2-3ef6dee75504"
      },
      "execution_count": 151,
      "outputs": [
        {
          "output_type": "stream",
          "name": "stderr",
          "text": [
            "\u001b[1m\u001b[22mJoining with `by = join_by(word)`\n"
          ]
        }
      ]
    },
    {
      "cell_type": "code",
      "source": [
        "chapters_blood <- tibble(chapter=seq_along(half_blood_prince), \n",
        "                   text=half_blood_prince) \n",
        "\n",
        "words_blood <- unnest_tokens(chapters_blood, input=text, output=word)\n",
        "\n",
        "blood_df <- words_blood %>% \n",
        "  inner_join(afinn) %>%\n",
        "  group_by(chapter) %>%\n",
        "  summarise(avgSentimentScore = mean(value)) \n",
        "\n",
        "blood_df[\"book\"] = \"half_blood_prince\""
      ],
      "metadata": {
        "colab": {
          "base_uri": "https://localhost:8080/"
        },
        "id": "MnqsRDrjEmOF",
        "outputId": "08c20c15-3375-49f5-8006-8691665ea8bd"
      },
      "execution_count": 26,
      "outputs": [
        {
          "output_type": "stream",
          "name": "stderr",
          "text": [
            "\u001b[1m\u001b[22mJoining with `by = join_by(word)`\n"
          ]
        }
      ]
    },
    {
      "cell_type": "code",
      "source": [
        "chapters_deathly <- tibble(chapter=seq_along(deathly_hallows), \n",
        "                   text=deathly_hallows) \n",
        "\n",
        "words_deathly <- unnest_tokens(chapters_deathly, input=text, output=word)\n",
        "\n",
        "deathly_df <- words_deathly %>% \n",
        "  inner_join(afinn) %>%\n",
        "  group_by(chapter) %>%\n",
        "  summarise(avgSentimentScore = mean(value)) \n",
        "\n",
        "deathly_df[\"book\"] = \"deathly_hallows\""
      ],
      "metadata": {
        "colab": {
          "base_uri": "https://localhost:8080/"
        },
        "id": "I4w8CexzE5Vd",
        "outputId": "a6b67822-3635-40e6-c008-ee1b67ac7053"
      },
      "execution_count": 27,
      "outputs": [
        {
          "output_type": "stream",
          "name": "stderr",
          "text": [
            "\u001b[1m\u001b[22mJoining with `by = join_by(word)`\n"
          ]
        }
      ]
    },
    {
      "cell_type": "code",
      "source": [
        "all_books <- rbind(phil_df, chamber_df, prisoner_df, goblet_df, phoenix_df, blood_df, deathly_df)"
      ],
      "metadata": {
        "id": "5Czs9UOsUhU1"
      },
      "execution_count": 31,
      "outputs": []
    },
    {
      "cell_type": "code",
      "source": [
        "all_books %>%\n",
        "  group_by(book) %>%\n",
        "  mutate(\"avgSentimentScore\" = mean(avgSentimentScore)) %>%\n",
        "  ggplot(aes(x=book, y=avgSentimentScore)) +\n",
        "  geom_point() + \n",
        "  theme(axis.text.x = element_text(angle = 45, vjust = 0.5, hjust=.5))"
      ],
      "metadata": {
        "colab": {
          "base_uri": "https://localhost:8080/",
          "height": 197
        },
        "id": "T8xLKSmiVy2c",
        "outputId": "9388e26f-397d-45ef-8e89-2cf3de9d8fae"
      },
      "execution_count": 69,
      "outputs": [
        {
          "output_type": "display_data",
          "data": {
            "text/plain": [
              "plot without title"
            ],
            "image/png": "[encoded data removed]"
          },
          "metadata": {
            "image/png": {
              "width": 240,
              "height": 180
            }
          }
        }
      ]
    },
    {
      "cell_type": "markdown",
      "source": [
        "It does not appear that harry potter books become darker (more negative) overtime. As we can see from the graph above, there is no clear pattern of avgSentimentScores across books overtime."
      ],
      "metadata": {
        "id": "584Vmu5uWVQ4"
      }
    },
    {
      "cell_type": "markdown",
      "metadata": {
        "deletable": false,
        "editable": false,
        "id": "0mC9u3CgKDNI",
        "nbgrader": {
          "grade": false,
          "grade_id": "cell-0b846c7349b1ca76",
          "locked": true,
          "schema_version": 3,
          "solution": false,
          "task": false
        },
        "run_control": {
          "frozen": true
        }
      },
      "source": [
        "**1(c)** According to the sentiment scores, what are the most negative and positive chapters in any of the Harry Potter books? (1 point)"
      ]
    },
    {
      "cell_type": "code",
      "execution_count": 65,
      "metadata": {
        "id": "layiSLfxhQFv",
        "vscode": {
          "languageId": "r"
        },
        "colab": {
          "base_uri": "https://localhost:8080/",
          "height": 128
        },
        "outputId": "ebb068aa-9875-4b74-9639-60630af402c0"
      },
      "outputs": [
        {
          "output_type": "display_data",
          "data": {
            "text/html": [
              "<table class=\"dataframe\">\n",
              "<caption>A grouped_df: 1 × 3</caption>\n",
              "<thead>\n",
              "\t<tr><th scope=col>chapter</th><th scope=col>avgSentimentScore</th><th scope=col>book</th></tr>\n",
              "\t<tr><th scope=col>&lt;int&gt;</th><th scope=col>&lt;dbl&gt;</th><th scope=col>&lt;chr&gt;</th></tr>\n",
              "</thead>\n",
              "<tbody>\n",
              "\t<tr><td>28</td><td>-1.142857</td><td>half_blood_prince</td></tr>\n",
              "</tbody>\n",
              "</table>\n"
            ],
            "text/markdown": "\nA grouped_df: 1 × 3\n\n| chapter &lt;int&gt; | avgSentimentScore &lt;dbl&gt; | book &lt;chr&gt; |\n|---|---|---|\n| 28 | -1.142857 | half_blood_prince |\n\n",
            "text/latex": "A grouped\\_df: 1 × 3\n\\begin{tabular}{lll}\n chapter & avgSentimentScore & book\\\\\n <int> & <dbl> & <chr>\\\\\n\\hline\n\t 28 & -1.142857 & half\\_blood\\_prince\\\\\n\\end{tabular}\n",
            "text/plain": [
              "  chapter avgSentimentScore book             \n",
              "1 28      -1.142857         half_blood_prince"
            ]
          },
          "metadata": {}
        }
      ],
      "source": [
        "### YOUR SOLUTION HERE\n",
        "\n",
        "all_books %>%\n",
        "  group_by(book, chapter) %>%\n",
        "  arrange(avgSentimentScore) %>%\n",
        "  head(1)"
      ]
    },
    {
      "cell_type": "code",
      "source": [
        "all_books %>%\n",
        "  group_by(book, chapter) %>%\n",
        "  arrange(avgSentimentScore) %>%\n",
        "  tail(1)"
      ],
      "metadata": {
        "colab": {
          "base_uri": "https://localhost:8080/",
          "height": 128
        },
        "id": "RyxsUqRdaKfq",
        "outputId": "ba791c2b-77a6-456e-b667-2d801fe7dcd3"
      },
      "execution_count": 67,
      "outputs": [
        {
          "output_type": "display_data",
          "data": {
            "text/html": [
              "<table class=\"dataframe\">\n",
              "<caption>A grouped_df: 1 × 3</caption>\n",
              "<thead>\n",
              "\t<tr><th scope=col>chapter</th><th scope=col>avgSentimentScore</th><th scope=col>book</th></tr>\n",
              "\t<tr><th scope=col>&lt;int&gt;</th><th scope=col>&lt;dbl&gt;</th><th scope=col>&lt;chr&gt;</th></tr>\n",
              "</thead>\n",
              "<tbody>\n",
              "\t<tr><td>9</td><td>0.6862745</td><td>half_blood_prince</td></tr>\n",
              "</tbody>\n",
              "</table>\n"
            ],
            "text/markdown": "\nA grouped_df: 1 × 3\n\n| chapter &lt;int&gt; | avgSentimentScore &lt;dbl&gt; | book &lt;chr&gt; |\n|---|---|---|\n| 9 | 0.6862745 | half_blood_prince |\n\n",
            "text/latex": "A grouped\\_df: 1 × 3\n\\begin{tabular}{lll}\n chapter & avgSentimentScore & book\\\\\n <int> & <dbl> & <chr>\\\\\n\\hline\n\t 9 & 0.6862745 & half\\_blood\\_prince\\\\\n\\end{tabular}\n",
            "text/plain": [
              "  chapter avgSentimentScore book             \n",
              "1 9       0.6862745         half_blood_prince"
            ]
          },
          "metadata": {}
        }
      ]
    },
    {
      "cell_type": "markdown",
      "source": [
        "The most negative chapter in any Harry Potter books is chapter 28 in \"Half Blood Prince.\" The most positive chapter in any Harry Potter books is chapter 9 in \"Half Blood Prince.\""
      ],
      "metadata": {
        "id": "tjPf2EYjaPuF"
      }
    },
    {
      "cell_type": "markdown",
      "metadata": {
        "deletable": false,
        "editable": false,
        "id": "aqZmeQx9hHVl",
        "run_control": {
          "frozen": true
        }
      },
      "source": [
        "**1(d)** Of the sentences that contain three or more scored words, what is the happiest (most positive)? (1 points)"
      ]
    },
    {
      "cell_type": "code",
      "source": [
        "library(tokenizers)"
      ],
      "metadata": {
        "id": "FiJOZydxdMMB"
      },
      "execution_count": 80,
      "outputs": []
    },
    {
      "cell_type": "code",
      "execution_count": 117,
      "metadata": {
        "id": "pY01jzuSKDNJ",
        "nbgrader": {
          "grade": true,
          "grade_id": "cell-d133bf2bdbc6ae66",
          "locked": false,
          "points": 0,
          "schema_version": 3,
          "solution": true,
          "task": false
        },
        "vscode": {
          "languageId": "r"
        },
        "colab": {
          "base_uri": "https://localhost:8080/"
        },
        "outputId": "9f880a58-76ef-4e15-865c-b1b7cabffdb1"
      },
      "outputs": [
        {
          "output_type": "stream",
          "name": "stderr",
          "text": [
            "\u001b[1m\u001b[22mJoining with `by = join_by(word)`\n"
          ]
        }
      ],
      "source": [
        "### YOUR SOLUTION HERE\n",
        "\n",
        "phil <- phil_tbl %>%\n",
        "  unnest_tokens(input = text, token = \"sentences\", output = sentence)  %>%\n",
        "  mutate(sentenceNum = row_number()) %>%\n",
        "  unnest_tokens(input = sentence, token = \"words\", output = word) %>%\n",
        "  inner_join(afinn)\n",
        "\n",
        "phil[\"book\"] = \"philosophers_stone\""
      ]
    },
    {
      "cell_type": "code",
      "source": [
        "chamber <- chapters_chamber %>%\n",
        "  unnest_tokens(input = text, token = \"sentences\", output = sentence)  %>%\n",
        "  mutate(sentenceNum = row_number()) %>%\n",
        "  unnest_tokens(input = sentence, token = \"words\", output = word) %>%\n",
        "  inner_join(afinn)\n",
        "\n",
        "chamber[\"book\"] = \"chamber_of_secrets\""
      ],
      "metadata": {
        "colab": {
          "base_uri": "https://localhost:8080/"
        },
        "id": "5XljQyJ7ijDS",
        "outputId": "0e7f5140-94e8-4da4-b9dc-da05715e317f"
      },
      "execution_count": 128,
      "outputs": [
        {
          "output_type": "stream",
          "name": "stderr",
          "text": [
            "\u001b[1m\u001b[22mJoining with `by = join_by(word)`\n"
          ]
        }
      ]
    },
    {
      "cell_type": "code",
      "source": [
        "prisoner <- chapters_prisoner %>%\n",
        "  unnest_tokens(input = text, token = \"sentences\", output = sentence)  %>%\n",
        "  mutate(sentenceNum = row_number()) %>%\n",
        "  unnest_tokens(input = sentence, token = \"words\", output = word) %>%\n",
        "  inner_join(afinn)\n",
        "\n",
        "prisoner[\"book\"] = \"prisoner_of_azkaban\""
      ],
      "metadata": {
        "colab": {
          "base_uri": "https://localhost:8080/"
        },
        "id": "_IdTYMEaiseJ",
        "outputId": "c75ee715-6917-4c68-c318-0b241c889142"
      },
      "execution_count": 119,
      "outputs": [
        {
          "output_type": "stream",
          "name": "stderr",
          "text": [
            "\u001b[1m\u001b[22mJoining with `by = join_by(word)`\n"
          ]
        }
      ]
    },
    {
      "cell_type": "code",
      "source": [
        "goblet <- chapters_goblet %>%\n",
        "  unnest_tokens(input = text, token = \"sentences\", output = sentence)  %>%\n",
        "  mutate(sentenceNum = row_number()) %>%\n",
        "  unnest_tokens(input = sentence, token = \"words\", output = word) %>%\n",
        "  inner_join(afinn)\n",
        "\n",
        "goblet[\"book\"] = \"goblet_of_fire\""
      ],
      "metadata": {
        "colab": {
          "base_uri": "https://localhost:8080/"
        },
        "id": "IR2BCWZujE4Z",
        "outputId": "b95e9dc9-842e-41aa-87a4-7333b1b5b82d"
      },
      "execution_count": 121,
      "outputs": [
        {
          "output_type": "stream",
          "name": "stderr",
          "text": [
            "\u001b[1m\u001b[22mJoining with `by = join_by(word)`\n"
          ]
        }
      ]
    },
    {
      "cell_type": "code",
      "source": [
        "phoenix <- chapters_phoenix %>%\n",
        "  unnest_tokens(input = text, token = \"sentences\", output = sentence)  %>%\n",
        "  mutate(sentenceNum = row_number()) %>%\n",
        "  unnest_tokens(input = sentence, token = \"words\", output = word) %>%\n",
        "  inner_join(afinn)\n",
        "\n",
        "phoenix[\"book\"] = \"order_of_the_phoenix\""
      ],
      "metadata": {
        "colab": {
          "base_uri": "https://localhost:8080/"
        },
        "id": "J2xy28JpjUBL",
        "outputId": "3be54ee7-e123-41a7-8a0d-ea2093ef7d0f"
      },
      "execution_count": 122,
      "outputs": [
        {
          "output_type": "stream",
          "name": "stderr",
          "text": [
            "\u001b[1m\u001b[22mJoining with `by = join_by(word)`\n"
          ]
        }
      ]
    },
    {
      "cell_type": "code",
      "source": [
        "blood <- chapters_blood %>%\n",
        "  unnest_tokens(input = text, token = \"sentences\", output = sentence)  %>%\n",
        "  mutate(sentenceNum = row_number()) %>%\n",
        "  unnest_tokens(input = sentence, token = \"words\", output = word) %>%\n",
        "  inner_join(afinn)\n",
        "\n",
        "blood[\"book\"] = \"half_blood_prince\""
      ],
      "metadata": {
        "colab": {
          "base_uri": "https://localhost:8080/"
        },
        "id": "9p8Jjsd5jay1",
        "outputId": "02e402d8-5bfc-4758-9207-1a1b50d413bd"
      },
      "execution_count": 123,
      "outputs": [
        {
          "output_type": "stream",
          "name": "stderr",
          "text": [
            "\u001b[1m\u001b[22mJoining with `by = join_by(word)`\n"
          ]
        }
      ]
    },
    {
      "cell_type": "code",
      "source": [
        "deathly <- chapters_deathly %>%\n",
        "  unnest_tokens(input = text, token = \"sentences\", output = sentence)  %>%\n",
        "  mutate(sentenceNum = row_number()) %>%\n",
        "  unnest_tokens(input = sentence, token = \"words\", output = word) %>%\n",
        "  inner_join(afinn)\n",
        "\n",
        "deathly[\"book\"] = \"deathly_hallows\""
      ],
      "metadata": {
        "colab": {
          "base_uri": "https://localhost:8080/"
        },
        "id": "IHnsIihvkAZR",
        "outputId": "88ac971d-a35b-42d8-a440-fa174555957f"
      },
      "execution_count": 124,
      "outputs": [
        {
          "output_type": "stream",
          "name": "stderr",
          "text": [
            "\u001b[1m\u001b[22mJoining with `by = join_by(word)`\n"
          ]
        }
      ]
    },
    {
      "cell_type": "code",
      "source": [
        "all <- rbind(phil, chamber, prisoner, goblet, phoenix, blood, deathly)"
      ],
      "metadata": {
        "id": "7vP_te0skFpf"
      },
      "execution_count": 129,
      "outputs": []
    },
    {
      "cell_type": "code",
      "source": [
        "all %>%\n",
        "  group_by(book, chapter, sentenceNum) %>%\n",
        "  mutate(wordCountForSentence = n()) %>%\n",
        "  mutate(avgSentForSentence = mean(value)) %>%\n",
        "  filter(wordCountForSentence >= 3) %>%\n",
        "  arrange(-avgSentForSentence) %>%\n",
        "  head(1)"
      ],
      "metadata": {
        "colab": {
          "base_uri": "https://localhost:8080/",
          "height": 128
        },
        "id": "e-3zxbOTkPPf",
        "outputId": "bd70f968-7354-419d-8abf-7b870e8616db"
      },
      "execution_count": 161,
      "outputs": [
        {
          "output_type": "display_data",
          "data": {
            "text/html": [
              "<table class=\"dataframe\">\n",
              "<caption>A grouped_df: 1 × 7</caption>\n",
              "<thead>\n",
              "\t<tr><th scope=col>chapter</th><th scope=col>sentenceNum</th><th scope=col>word</th><th scope=col>value</th><th scope=col>book</th><th scope=col>wordCountForSentence</th><th scope=col>avgSentForSentence</th></tr>\n",
              "\t<tr><th scope=col>&lt;int&gt;</th><th scope=col>&lt;int&gt;</th><th scope=col>&lt;chr&gt;</th><th scope=col>&lt;dbl&gt;</th><th scope=col>&lt;chr&gt;</th><th scope=col>&lt;int&gt;</th><th scope=col>&lt;dbl&gt;</th></tr>\n",
              "</thead>\n",
              "<tbody>\n",
              "\t<tr><td>24</td><td>11237</td><td>jubilant</td><td>3</td><td>order_of_the_phoenix</td><td>5</td><td>3.8</td></tr>\n",
              "</tbody>\n",
              "</table>\n"
            ],
            "text/markdown": "\nA grouped_df: 1 × 7\n\n| chapter &lt;int&gt; | sentenceNum &lt;int&gt; | word &lt;chr&gt; | value &lt;dbl&gt; | book &lt;chr&gt; | wordCountForSentence &lt;int&gt; | avgSentForSentence &lt;dbl&gt; |\n|---|---|---|---|---|---|---|\n| 24 | 11237 | jubilant | 3 | order_of_the_phoenix | 5 | 3.8 |\n\n",
            "text/latex": "A grouped\\_df: 1 × 7\n\\begin{tabular}{lllllll}\n chapter & sentenceNum & word & value & book & wordCountForSentence & avgSentForSentence\\\\\n <int> & <int> & <chr> & <dbl> & <chr> & <int> & <dbl>\\\\\n\\hline\n\t 24 & 11237 & jubilant & 3 & order\\_of\\_the\\_phoenix & 5 & 3.8\\\\\n\\end{tabular}\n",
            "text/plain": [
              "  chapter sentenceNum word     value book                 wordCountForSentence\n",
              "1 24      11237       jubilant 3     order_of_the_phoenix 5                   \n",
              "  avgSentForSentence\n",
              "1 3.8               "
            ]
          },
          "metadata": {}
        }
      ]
    },
    {
      "cell_type": "code",
      "source": [
        "chapters_phoenix %>%\n",
        "  unnest_tokens(input = text, token = \"sentences\", output = sentence) %>%\n",
        "  mutate(sentenceNum = row_number()) %>%\n",
        "  filter(sentenceNum == 11237) "
      ],
      "metadata": {
        "colab": {
          "base_uri": "https://localhost:8080/",
          "height": 145
        },
        "id": "y0TcBgbpm0MO",
        "outputId": "861293a4-298e-412b-92ae-96e007643685"
      },
      "execution_count": 162,
      "outputs": [
        {
          "output_type": "display_data",
          "data": {
            "text/html": [
              "<table class=\"dataframe\">\n",
              "<caption>A tibble: 1 × 3</caption>\n",
              "<thead>\n",
              "\t<tr><th scope=col>chapter</th><th scope=col>sentence</th><th scope=col>sentenceNum</th></tr>\n",
              "\t<tr><th scope=col>&lt;int&gt;</th><th scope=col>&lt;chr&gt;</th><th scope=col>&lt;int&gt;</th></tr>\n",
              "</thead>\n",
              "<tbody>\n",
              "\t<tr><td>24</td><td>maniacal laughter was ringing in his ears . . . he was happier than he had been in a very long time . . . jubilant, ecstatic, triumphant . . . a wonderful, wonderful thing had happened . . .</td><td>11237</td></tr>\n",
              "</tbody>\n",
              "</table>\n"
            ],
            "text/markdown": "\nA tibble: 1 × 3\n\n| chapter &lt;int&gt; | sentence &lt;chr&gt; | sentenceNum &lt;int&gt; |\n|---|---|---|\n| 24 | maniacal laughter was ringing in his ears . . . he was happier than he had been in a very long time . . . jubilant, ecstatic, triumphant . . . a wonderful, wonderful thing had happened . . . | 11237 |\n\n",
            "text/latex": "A tibble: 1 × 3\n\\begin{tabular}{lll}\n chapter & sentence & sentenceNum\\\\\n <int> & <chr> & <int>\\\\\n\\hline\n\t 24 & maniacal laughter was ringing in his ears . . . he was happier than he had been in a very long time . . . jubilant, ecstatic, triumphant . . . a wonderful, wonderful thing had happened . . . & 11237\\\\\n\\end{tabular}\n",
            "text/plain": [
              "  chapter\n",
              "1 24     \n",
              "  sentence                                                                                                                                                                                      \n",
              "1 maniacal laughter was ringing in his ears . . . he was happier than he had been in a very long time . . . jubilant, ecstatic, triumphant . . . a wonderful, wonderful thing had happened . . .\n",
              "  sentenceNum\n",
              "1 11237      "
            ]
          },
          "metadata": {}
        }
      ]
    },
    {
      "cell_type": "markdown",
      "source": [
        "Of the sentences that contain three or more scored words, the happiest (most positive) appears in the 11237th sentence in \"The Order of the Phoenix.\" When we find this sentence it contains the text “maniacal laughter was ringing in his ears . . . he was happier than he had been in a very long time . . . jubilant, ecstatic, triumphant . . . a wonderful, wonderful thing had happened . . .”"
      ],
      "metadata": {
        "id": "HHqDhVMro77I"
      }
    },
    {
      "cell_type": "markdown",
      "metadata": {
        "deletable": false,
        "editable": false,
        "id": "XnnFosC3KDNJ",
        "nbgrader": {
          "grade": false,
          "grade_id": "cell-718c986a9bef0aca",
          "locked": true,
          "schema_version": 3,
          "solution": false
        },
        "run_control": {
          "frozen": true
        }
      },
      "source": [
        "## Problem 2: Reddit dataset (4 points)\n",
        "The file `reddit_xmas_2017.RData` contains 100,000 comments posted to Reddit on Christmas Day, 2017. Unless specified otherwise, all matches are case insensitive."
      ]
    },
    {
      "cell_type": "code",
      "execution_count": 164,
      "metadata": {
        "colab": {
          "base_uri": "https://localhost:8080/"
        },
        "id": "4v6vwcp0KDNJ",
        "nbgrader": {
          "grade": false,
          "grade_id": "cell-1fa7cd0e5989af42",
          "locked": true,
          "schema_version": 3,
          "solution": false
        },
        "outputId": "6153b2b0-a067-44f3-a3f6-d8ca810390bf",
        "vscode": {
          "languageId": "r"
        }
      },
      "outputs": [
        {
          "output_type": "stream",
          "name": "stdout",
          "text": [
            "\u001b[90m# A tibble: 100,000 × 3\u001b[39m\n",
            "   author              body                                  created_utc        \n",
            "   \u001b[3m\u001b[90m<chr>\u001b[39m\u001b[23m               \u001b[3m\u001b[90m<chr>\u001b[39m\u001b[23m                                 \u001b[3m\u001b[90m<dttm>\u001b[39m\u001b[23m             \n",
            "\u001b[90m 1\u001b[39m br_shadow           \u001b[90m\"\u001b[39mThank you for this, there is a pers… 2017-12-25 \u001b[90m15:49:08\u001b[39m\n",
            "\u001b[90m 2\u001b[39m Ksalol              \u001b[90m\"\u001b[39mThey are not to quick actually. It'… 2017-12-25 \u001b[90m17:42:50\u001b[39m\n",
            "\u001b[90m 3\u001b[39m itscool83           \u001b[90m\"\u001b[39mtell her you guys should hang out w… 2017-12-25 \u001b[90m18:54:13\u001b[39m\n",
            "\u001b[90m 4\u001b[39m Glu7enFree          \u001b[90m\"\u001b[39mAutism is a high honor in the tech … 2017-12-25 \u001b[90m07:48:17\u001b[39m\n",
            "\u001b[90m 5\u001b[39m Theotheogreato      \u001b[90m\"\u001b[39mYou thought a cat was your son?! \u001b[90m\"\u001b[39m   2017-12-25 \u001b[90m20:58:08\u001b[39m\n",
            "\u001b[90m 6\u001b[39m Shadrac121          \u001b[90m\"\u001b[39mHopfully she takes wat people say i… 2017-12-25 \u001b[90m22:27:31\u001b[39m\n",
            "\u001b[90m 7\u001b[39m 1fzUjhemoSB1QV7zI7  \u001b[90m\"\u001b[39mSi ce propui sa facem cu toata piel… 2017-12-25 \u001b[90m07:41:31\u001b[39m\n",
            "\u001b[90m 8\u001b[39m MinisterOfEducation \u001b[90m\"\u001b[39mI don't mean to be impolite, but if… 2017-12-25 \u001b[90m19:28:35\u001b[39m\n",
            "\u001b[90m 9\u001b[39m AabidS10            \u001b[90m\"\u001b[39mi dont have a 720p x265 of it, sorr… 2017-12-25 \u001b[90m13:20:32\u001b[39m\n",
            "\u001b[90m10\u001b[39m S3RG10              \u001b[90m\"\u001b[39mI'm dying to try Guatemalan sandals… 2017-12-25 \u001b[90m00:48:46\u001b[39m\n",
            "\u001b[90m# … with 99,990 more rows\u001b[39m\n"
          ]
        }
      ],
      "source": [
        "load(url('https://datasets.stats306.org/reddit_xmas_2017.RData'))\n",
        "reddit %>% print"
      ]
    },
    {
      "cell_type": "markdown",
      "metadata": {
        "id": "YZErB86_KDNK",
        "nbgrader": {
          "grade": false,
          "grade_id": "cell-d055c5ffc0dc61ba",
          "locked": true,
          "schema_version": 3,
          "solution": false
        }
      },
      "source": [
        "Comment 174 wishes everyone a happy holidays:"
      ]
    },
    {
      "cell_type": "code",
      "execution_count": 165,
      "metadata": {
        "colab": {
          "base_uri": "https://localhost:8080/",
          "height": 128
        },
        "id": "fvlU2g-fKDNK",
        "nbgrader": {
          "grade": false,
          "grade_id": "cell-f56b4f43b6f4cafa",
          "locked": true,
          "schema_version": 3,
          "solution": false,
          "task": false
        },
        "outputId": "8385c903-550a-4e5c-93cc-cb3c47c3f559",
        "vscode": {
          "languageId": "r"
        }
      },
      "outputs": [
        {
          "output_type": "display_data",
          "data": {
            "text/html": [
              "<table class=\"dataframe\">\n",
              "<caption>A tibble: 1 × 3</caption>\n",
              "<thead>\n",
              "\t<tr><th scope=col>author</th><th scope=col>body</th><th scope=col>created_utc</th></tr>\n",
              "\t<tr><th scope=col>&lt;chr&gt;</th><th scope=col>&lt;chr&gt;</th><th scope=col>&lt;dttm&gt;</th></tr>\n",
              "</thead>\n",
              "<tbody>\n",
              "\t<tr><td>Bareilles</td><td>Thank you. Happy holidays everyone!</td><td>2017-12-25 01:33:50</td></tr>\n",
              "</tbody>\n",
              "</table>\n"
            ],
            "text/markdown": "\nA tibble: 1 × 3\n\n| author &lt;chr&gt; | body &lt;chr&gt; | created_utc &lt;dttm&gt; |\n|---|---|---|\n| Bareilles | Thank you. Happy holidays everyone! | 2017-12-25 01:33:50 |\n\n",
            "text/latex": "A tibble: 1 × 3\n\\begin{tabular}{lll}\n author & body & created\\_utc\\\\\n <chr> & <chr> & <dttm>\\\\\n\\hline\n\t Bareilles & Thank you. Happy holidays everyone! & 2017-12-25 01:33:50\\\\\n\\end{tabular}\n",
            "text/plain": [
              "  author    body                                created_utc        \n",
              "1 Bareilles Thank you. Happy holidays everyone! 2017-12-25 01:33:50"
            ]
          },
          "metadata": {}
        }
      ],
      "source": [
        "reddit %>% slice(174)"
      ]
    },
    {
      "cell_type": "markdown",
      "metadata": {
        "id": "jWuZAcnAKDNK",
        "nbgrader": {
          "grade": false,
          "grade_id": "cell-ce3d459d5d49dde1",
          "locked": true,
          "schema_version": 3,
          "solution": false
        }
      },
      "source": [
        "**2(a)**  What are other people wishing? Count the first occurrence of the string \"Happy `<word>`\" or \"Merry `<word>`\" in the comment body, if any, count the matches. To keep things interesting, do *not* include phrases matching `(happy|merry) (to|with|for|about|and|that|if|i|you|when)`. \n",
        "\n",
        "Print a table containing the top 10 matches; a few of the rows are:\n",
        "\n",
        "<table>\n",
        "<thead>\n",
        "    <tr><th scope=\"col\">greeting</th><th scope=\"col\">n</th></tr>\n",
        "    <tr><th scope=\"col\">&lt;chr&gt;</th><th scope=\"col\">&lt;int&gt;</th></tr>\n",
        "</thead>\n",
        "<tbody>\n",
        "    <tr><td>merry christmas</td><td>2040</td></tr>\n",
        "    <tr><td>happy holidays </td><td> &mdash;</td></tr>\n",
        "    <tr><td>&mdash;        </td><td> &mdash;</td></tr>\n",
        "    <tr><td>&mdash;        </td><td> &mdash;</td></tr>\n",
        "    <tr><td>&mdash;        </td><td> &mdash;</td></tr>\n",
        "    <tr><td>&mdash;        </td><td> &mdash;</td></tr>\n",
        "    <tr><td>&mdash;        </td><td> &mdash;</td></tr>\n",
        "    <tr><td>&mdash;        </td><td> &mdash;</td></tr>\n",
        "    <tr><td>&mdash;        </td><td>   7</td></tr>\n",
        "    <tr><td>happy cakeday  </td><td>   6</td></tr>\n",
        "</tbody>\n",
        "</table>\n",
        "\n",
        "Your numbers may vary slightly depending on how you performed the match."
      ]
    },
    {
      "cell_type": "code",
      "execution_count": 278,
      "metadata": {
        "id": "ih_LFXpgKDNL",
        "nbgrader": {
          "grade": true,
          "grade_id": "problem7",
          "locked": false,
          "points": 0,
          "schema_version": 3,
          "solution": true,
          "task": false
        },
        "vscode": {
          "languageId": "r"
        },
        "colab": {
          "base_uri": "https://localhost:8080/",
          "height": 407
        },
        "outputId": "b5096a29-64f9-47fb-85ed-fda726873df0"
      },
      "outputs": [
        {
          "output_type": "display_data",
          "data": {
            "text/html": [
              "<table class=\"dataframe\">\n",
              "<caption>A tibble: 10 × 2</caption>\n",
              "<thead>\n",
              "\t<tr><th scope=col>greeting</th><th scope=col>n</th></tr>\n",
              "\t<tr><th scope=col>&lt;chr&gt;</th><th scope=col>&lt;int&gt;</th></tr>\n",
              "</thead>\n",
              "<tbody>\n",
              "\t<tr><td>merry christmas</td><td>2050</td></tr>\n",
              "\t<tr><td>happy holidays </td><td> 480</td></tr>\n",
              "\t<tr><td>merry xmas     </td><td>  94</td></tr>\n",
              "\t<tr><td>happy christmas</td><td>  44</td></tr>\n",
              "\t<tr><td>happy cake     </td><td>  28</td></tr>\n",
              "\t<tr><td>happy birthday </td><td>  23</td></tr>\n",
              "\t<tr><td>happy new      </td><td>  16</td></tr>\n",
              "\t<tr><td>happy holiday  </td><td>  13</td></tr>\n",
              "\t<tr><td>happy cakeday  </td><td>   6</td></tr>\n",
              "\t<tr><td>happy xmas     </td><td>   6</td></tr>\n",
              "</tbody>\n",
              "</table>\n"
            ],
            "text/markdown": "\nA tibble: 10 × 2\n\n| greeting &lt;chr&gt; | n &lt;int&gt; |\n|---|---|\n| merry christmas | 2050 |\n| happy holidays  |  480 |\n| merry xmas      |   94 |\n| happy christmas |   44 |\n| happy cake      |   28 |\n| happy birthday  |   23 |\n| happy new       |   16 |\n| happy holiday   |   13 |\n| happy cakeday   |    6 |\n| happy xmas      |    6 |\n\n",
            "text/latex": "A tibble: 10 × 2\n\\begin{tabular}{ll}\n greeting & n\\\\\n <chr> & <int>\\\\\n\\hline\n\t merry christmas & 2050\\\\\n\t happy holidays  &  480\\\\\n\t merry xmas      &   94\\\\\n\t happy christmas &   44\\\\\n\t happy cake      &   28\\\\\n\t happy birthday  &   23\\\\\n\t happy new       &   16\\\\\n\t happy holiday   &   13\\\\\n\t happy cakeday   &    6\\\\\n\t happy xmas      &    6\\\\\n\\end{tabular}\n",
            "text/plain": [
              "   greeting        n   \n",
              "1  merry christmas 2050\n",
              "2  happy holidays   480\n",
              "3  merry xmas        94\n",
              "4  happy christmas   44\n",
              "5  happy cake        28\n",
              "6  happy birthday    23\n",
              "7  happy new         16\n",
              "8  happy holiday     13\n",
              "9  happy cakeday      6\n",
              "10 happy xmas         6"
            ]
          },
          "metadata": {}
        }
      ],
      "source": [
        "### YOUR SOLUTION HERE\n",
        "\n",
        "reddit %>%\n",
        "  mutate(body = str_to_lower(body)) %>%\n",
        "  mutate(greeting = str_extract(body, regex('(happy|merry).(?!to|with|for|about|and|that|if|i|you|when)\\\\S\\\\w+'))) %>%\n",
        "  drop_na() %>%\n",
        "  group_by(greeting) %>%\n",
        "  summarise(n = n()) %>%\n",
        "  arrange(-n) %>%\n",
        "  head(10)\n"
      ]
    },
    {
      "cell_type": "markdown",
      "metadata": {
        "deletable": false,
        "editable": false,
        "id": "nStN0Jb5KDNL",
        "nbgrader": {
          "grade": false,
          "grade_id": "cell-0868e4922137bd0e",
          "locked": true,
          "schema_version": 3,
          "solution": false
        },
        "run_control": {
          "frozen": true
        }
      },
      "source": [
        "**2(b)** Find the number of times `christmas`or `xmas` mentioned each hour. Similarly, find the number of mentions per hour of `snow` or `flakes`. Draw a plot comparing these two time series. (1 point)"
      ]
    },
    {
      "cell_type": "code",
      "source": [
        "library(lubridate)"
      ],
      "metadata": {
        "colab": {
          "base_uri": "https://localhost:8080/"
        },
        "id": "vJOh_IrNEagq",
        "outputId": "c09ae926-9616-43d1-e9f0-88c881197191"
      },
      "execution_count": 179,
      "outputs": [
        {
          "output_type": "stream",
          "name": "stderr",
          "text": [
            "\n",
            "Attaching package: ‘lubridate’\n",
            "\n",
            "\n",
            "The following objects are masked from ‘package:base’:\n",
            "\n",
            "    date, intersect, setdiff, union\n",
            "\n",
            "\n"
          ]
        }
      ]
    },
    {
      "cell_type": "code",
      "execution_count": 213,
      "metadata": {
        "id": "nuzuglV-KDNL",
        "nbgrader": {
          "grade": true,
          "grade_id": "cell-2eb072f24d1e2cad",
          "locked": false,
          "points": 2,
          "schema_version": 3,
          "solution": true
        },
        "vscode": {
          "languageId": "r"
        },
        "colab": {
          "base_uri": "https://localhost:8080/",
          "height": 231
        },
        "outputId": "d98ebf90-cd99-47d7-866f-b4d7cf1ac007"
      },
      "outputs": [
        {
          "output_type": "stream",
          "name": "stderr",
          "text": [
            "\u001b[1m\u001b[22m`summarise()` has grouped output by 'match'. You can override using the\n",
            "`.groups` argument.\n"
          ]
        },
        {
          "output_type": "display_data",
          "data": {
            "text/plain": [
              "plot without title"
            ],
            "image/png": "[encoded data removed]"
          },
          "metadata": {
            "image/png": {
              "width": 240,
              "height": 180
            }
          }
        }
      ],
      "source": [
        "### YOUR SOLUTION HERE\n",
        "\n",
        "reddit %>%\n",
        "  mutate(body = str_to_lower(body)) %>%\n",
        "  mutate(match = case_when(str_detect(body, pattern = '(christmas|xmas)') ~ 'XMAS',\n",
        "                 str_detect(body, pattern = '(snow|flake)') ~ 'SNOW')) %>%\n",
        "  filter(match == 'XMAS' | match == 'SNOW') %>%\n",
        "  group_by(match, Military_Hour=hour(floor_date(created_utc, \"1 hour\"))) %>%\n",
        "  summarise(Count = n()) %>%\n",
        "  ggplot(aes(x = Military_Hour, y = Count, color = match)) +\n",
        "  geom_line()"
      ]
    },
    {
      "cell_type": "markdown",
      "metadata": {
        "deletable": false,
        "editable": false,
        "id": "Bl53I2qzKDNM",
        "nbgrader": {
          "grade": false,
          "grade_id": "cell-7674a04533f8934b",
          "locked": true,
          "schema_version": 3,
          "solution": false
        },
        "run_control": {
          "frozen": true
        }
      },
      "source": [
        "**2(c)** On Christmas Day, the word `christmas` occurs 4264 times. What is the next most common word after Christmas, and how many times does it appear? (1 point)"
      ]
    },
    {
      "cell_type": "code",
      "execution_count": 236,
      "metadata": {
        "id": "SceqDZbwKDNM",
        "nbgrader": {
          "grade": true,
          "grade_id": "problem9",
          "locked": false,
          "points": 0,
          "schema_version": 3,
          "solution": true,
          "task": false
        },
        "vscode": {
          "languageId": "r"
        },
        "colab": {
          "base_uri": "https://localhost:8080/",
          "height": 1000
        },
        "outputId": "28bcc4bd-47b7-41b5-dff9-a4b43370a2e8"
      },
      "outputs": [
        {
          "output_type": "display_data",
          "data": {
            "text/html": [
              "<table class=\"dataframe\">\n",
              "<caption>A tibble: 92342 × 2</caption>\n",
              "<thead>\n",
              "\t<tr><th scope=col>word</th><th scope=col>count</th></tr>\n",
              "\t<tr><th scope=col>&lt;chr&gt;</th><th scope=col>&lt;int&gt;</th></tr>\n",
              "</thead>\n",
              "<tbody>\n",
              "\t<tr><td>christmas     </td><td>4259</td></tr>\n",
              "\t<tr><td>only          </td><td>4151</td></tr>\n",
              "\t<tr><td>am            </td><td>4017</td></tr>\n",
              "\t<tr><td>then          </td><td>3992</td></tr>\n",
              "\t<tr><td>been          </td><td>3929</td></tr>\n",
              "\t<tr><td>please        </td><td>3860</td></tr>\n",
              "\t<tr><td>also          </td><td>3823</td></tr>\n",
              "\t<tr><td>www.reddit.com</td><td>3786</td></tr>\n",
              "\t<tr><td>than          </td><td>3695</td></tr>\n",
              "\t<tr><td>too           </td><td>3640</td></tr>\n",
              "\t<tr><td>message       </td><td>3588</td></tr>\n",
              "\t<tr><td>much          </td><td>3578</td></tr>\n",
              "\t<tr><td>now           </td><td>3558</td></tr>\n",
              "\t<tr><td>got           </td><td>3549</td></tr>\n",
              "\t<tr><td>post          </td><td>3519</td></tr>\n",
              "\t<tr><td>even          </td><td>3496</td></tr>\n",
              "\t<tr><td>see           </td><td>3493</td></tr>\n",
              "\t<tr><td>had           </td><td>3490</td></tr>\n",
              "\t<tr><td>game          </td><td>3475</td></tr>\n",
              "\t<tr><td>well          </td><td>3453</td></tr>\n",
              "\t<tr><td>other         </td><td>3406</td></tr>\n",
              "\t<tr><td>make          </td><td>3365</td></tr>\n",
              "\t<tr><td>want          </td><td>3298</td></tr>\n",
              "\t<tr><td>still         </td><td>3265</td></tr>\n",
              "\t<tr><td>their         </td><td>3252</td></tr>\n",
              "\t<tr><td>his           </td><td>3221</td></tr>\n",
              "\t<tr><td>go            </td><td>3183</td></tr>\n",
              "\t<tr><td>who           </td><td>3173</td></tr>\n",
              "\t<tr><td>gt            </td><td>3084</td></tr>\n",
              "\t<tr><td>why           </td><td>3060</td></tr>\n",
              "\t<tr><td>⋮</td><td>⋮</td></tr>\n",
              "\t<tr><td>𝕛𝕖𝕖𝕓𝕦𝕤     </td><td>1</td></tr>\n",
              "\t<tr><td>🅱ext       </td><td>1</td></tr>\n",
              "\t<tr><td>🅱oi        </td><td>1</td></tr>\n",
              "\t<tr><td>🅱ot        </td><td>1</td></tr>\n",
              "\t<tr><td>🅱ottom     </td><td>1</td></tr>\n",
              "\t<tr><td>🅱roke      </td><td>1</td></tr>\n",
              "\t<tr><td>🅱️anmin     </td><td>1</td></tr>\n",
              "\t<tr><td>🅱️appy      </td><td>1</td></tr>\n",
              "\t<tr><td>🅱️atong     </td><td>1</td></tr>\n",
              "\t<tr><td>🅱️ear       </td><td>1</td></tr>\n",
              "\t<tr><td>🅱️epsi      </td><td>1</td></tr>\n",
              "\t<tr><td>🅱️eter      </td><td>1</td></tr>\n",
              "\t<tr><td>🅱️ew        </td><td>1</td></tr>\n",
              "\t<tr><td>🅱️his       </td><td>1</td></tr>\n",
              "\t<tr><td>🅱️ho        </td><td>1</td></tr>\n",
              "\t<tr><td>🅱️ian       </td><td>1</td></tr>\n",
              "\t<tr><td>🅱️id        </td><td>1</td></tr>\n",
              "\t<tr><td>🅱️in        </td><td>1</td></tr>\n",
              "\t<tr><td>🅱️inguo     </td><td>1</td></tr>\n",
              "\t<tr><td>🅱️inqianfeng</td><td>1</td></tr>\n",
              "\t<tr><td>🅱️itches    </td><td>1</td></tr>\n",
              "\t<tr><td>🅱️orax      </td><td>1</td></tr>\n",
              "\t<tr><td>🅱️u         </td><td>1</td></tr>\n",
              "\t<tr><td>🅱️uanche    </td><td>1</td></tr>\n",
              "\t<tr><td>🅱️uo        </td><td>1</td></tr>\n",
              "\t<tr><td>🅱️uoshi     </td><td>1</td></tr>\n",
              "\t<tr><td>🅱️uye       </td><td>1</td></tr>\n",
              "\t<tr><td>🅱🅾️dy       </td><td>1</td></tr>\n",
              "\t<tr><td>🅿          </td><td>1</td></tr>\n",
              "\t<tr><td>🅿️ope       </td><td>1</td></tr>\n",
              "</tbody>\n",
              "</table>\n"
            ],
            "text/markdown": "\nA tibble: 92342 × 2\n\n| word &lt;chr&gt; | count &lt;int&gt; |\n|---|---|\n| christmas      | 4259 |\n| only           | 4151 |\n| am             | 4017 |\n| then           | 3992 |\n| been           | 3929 |\n| please         | 3860 |\n| also           | 3823 |\n| www.reddit.com | 3786 |\n| than           | 3695 |\n| too            | 3640 |\n| message        | 3588 |\n| much           | 3578 |\n| now            | 3558 |\n| got            | 3549 |\n| post           | 3519 |\n| even           | 3496 |\n| see            | 3493 |\n| had            | 3490 |\n| game           | 3475 |\n| well           | 3453 |\n| other          | 3406 |\n| make           | 3365 |\n| want           | 3298 |\n| still          | 3265 |\n| their          | 3252 |\n| his            | 3221 |\n| go             | 3183 |\n| who            | 3173 |\n| gt             | 3084 |\n| why            | 3060 |\n| ⋮ | ⋮ |\n| 𝕛𝕖𝕖𝕓𝕦𝕤      | 1 |\n| 🅱ext        | 1 |\n| 🅱oi         | 1 |\n| 🅱ot         | 1 |\n| 🅱ottom      | 1 |\n| 🅱roke       | 1 |\n| 🅱️anmin      | 1 |\n| 🅱️appy       | 1 |\n| 🅱️atong      | 1 |\n| 🅱️ear        | 1 |\n| 🅱️epsi       | 1 |\n| 🅱️eter       | 1 |\n| 🅱️ew         | 1 |\n| 🅱️his        | 1 |\n| 🅱️ho         | 1 |\n| 🅱️ian        | 1 |\n| 🅱️id         | 1 |\n| 🅱️in         | 1 |\n| 🅱️inguo      | 1 |\n| 🅱️inqianfeng | 1 |\n| 🅱️itches     | 1 |\n| 🅱️orax       | 1 |\n| 🅱️u          | 1 |\n| 🅱️uanche     | 1 |\n| 🅱️uo         | 1 |\n| 🅱️uoshi      | 1 |\n| 🅱️uye        | 1 |\n| 🅱🅾️dy        | 1 |\n| 🅿           | 1 |\n| 🅿️ope        | 1 |\n\n",
            "text/latex": "A tibble: 92342 × 2\n\\begin{tabular}{ll}\n word & count\\\\\n <chr> & <int>\\\\\n\\hline\n\t christmas      & 4259\\\\\n\t only           & 4151\\\\\n\t am             & 4017\\\\\n\t then           & 3992\\\\\n\t been           & 3929\\\\\n\t please         & 3860\\\\\n\t also           & 3823\\\\\n\t www.reddit.com & 3786\\\\\n\t than           & 3695\\\\\n\t too            & 3640\\\\\n\t message        & 3588\\\\\n\t much           & 3578\\\\\n\t now            & 3558\\\\\n\t got            & 3549\\\\\n\t post           & 3519\\\\\n\t even           & 3496\\\\\n\t see            & 3493\\\\\n\t had            & 3490\\\\\n\t game           & 3475\\\\\n\t well           & 3453\\\\\n\t other          & 3406\\\\\n\t make           & 3365\\\\\n\t want           & 3298\\\\\n\t still          & 3265\\\\\n\t their          & 3252\\\\\n\t his            & 3221\\\\\n\t go             & 3183\\\\\n\t who            & 3173\\\\\n\t gt             & 3084\\\\\n\t why            & 3060\\\\\n\t ⋮ & ⋮\\\\\n\t 𝕛𝕖𝕖𝕓𝕦𝕤      & 1\\\\\n\t 🅱ext        & 1\\\\\n\t 🅱oi         & 1\\\\\n\t 🅱ot         & 1\\\\\n\t 🅱ottom      & 1\\\\\n\t 🅱roke       & 1\\\\\n\t 🅱️anmin      & 1\\\\\n\t 🅱️appy       & 1\\\\\n\t 🅱️atong      & 1\\\\\n\t 🅱️ear        & 1\\\\\n\t 🅱️epsi       & 1\\\\\n\t 🅱️eter       & 1\\\\\n\t 🅱️ew         & 1\\\\\n\t 🅱️his        & 1\\\\\n\t 🅱️ho         & 1\\\\\n\t 🅱️ian        & 1\\\\\n\t 🅱️id         & 1\\\\\n\t 🅱️in         & 1\\\\\n\t 🅱️inguo      & 1\\\\\n\t 🅱️inqianfeng & 1\\\\\n\t 🅱️itches     & 1\\\\\n\t 🅱️orax       & 1\\\\\n\t 🅱️u          & 1\\\\\n\t 🅱️uanche     & 1\\\\\n\t 🅱️uo         & 1\\\\\n\t 🅱️uoshi      & 1\\\\\n\t 🅱️uye        & 1\\\\\n\t 🅱🅾️dy        & 1\\\\\n\t 🅿           & 1\\\\\n\t 🅿️ope        & 1\\\\\n\\end{tabular}\n",
            "text/plain": [
              "      word           count\n",
              "1     christmas      4259 \n",
              "2     only           4151 \n",
              "3     am             4017 \n",
              "4     then           3992 \n",
              "5     been           3929 \n",
              "6     please         3860 \n",
              "7     also           3823 \n",
              "8     www.reddit.com 3786 \n",
              "9     than           3695 \n",
              "10    too            3640 \n",
              "11    message        3588 \n",
              "12    much           3578 \n",
              "13    now            3558 \n",
              "14    got            3549 \n",
              "15    post           3519 \n",
              "16    even           3496 \n",
              "17    see            3493 \n",
              "18    had            3490 \n",
              "19    game           3475 \n",
              "20    well           3453 \n",
              "21    other          3406 \n",
              "22    make           3365 \n",
              "23    want           3298 \n",
              "24    still          3265 \n",
              "25    their          3252 \n",
              "26    his            3221 \n",
              "27    go             3183 \n",
              "28    who            3173 \n",
              "29    gt             3084 \n",
              "30    why            3060 \n",
              "⋮     ⋮              ⋮    \n",
              "92313 𝕛𝕖𝕖𝕓𝕦𝕤         1    \n",
              "92314 🅱ext           1    \n",
              "92315 🅱oi            1    \n",
              "92316 🅱ot            1    \n",
              "92317 🅱ottom         1    \n",
              "92318 🅱roke          1    \n",
              "92319 🅱️anmin         1    \n",
              "92320 🅱️appy          1    \n",
              "92321 🅱️atong         1    \n",
              "92322 🅱️ear           1    \n",
              "92323 🅱️epsi          1    \n",
              "92324 🅱️eter          1    \n",
              "92325 🅱️ew            1    \n",
              "92326 🅱️his           1    \n",
              "92327 🅱️ho            1    \n",
              "92328 🅱️ian           1    \n",
              "92329 🅱️id            1    \n",
              "92330 🅱️in            1    \n",
              "92331 🅱️inguo         1    \n",
              "92332 🅱️inqianfeng    1    \n",
              "92333 🅱️itches        1    \n",
              "92334 🅱️orax          1    \n",
              "92335 🅱️u             1    \n",
              "92336 🅱️uanche        1    \n",
              "92337 🅱️uo            1    \n",
              "92338 🅱️uoshi         1    \n",
              "92339 🅱️uye           1    \n",
              "92340 🅱🅾️dy           1    \n",
              "92341 🅿              1    \n",
              "92342 🅿️ope           1    "
            ]
          },
          "metadata": {}
        }
      ],
      "source": [
        "### YOUR SOLUTION HERE\n",
        "\n",
        "reddit %>%\n",
        "  mutate(body = str_to_lower(body)) %>%\n",
        "  unnest_tokens(input=body, output=word) %>%\n",
        "  group_by(word) %>%\n",
        "  summarise(count = n()) %>%\n",
        "  filter(count <= 4264) %>%\n",
        "  arrange(-count) "
      ]
    },
    {
      "cell_type": "markdown",
      "source": [
        "The next most common word is \"only\" and it appears 4151 times."
      ],
      "metadata": {
        "id": "7JyelBTzlljD"
      }
    },
    {
      "cell_type": "markdown",
      "metadata": {
        "deletable": false,
        "editable": false,
        "id": "lr2DRmGZvcXQ",
        "run_control": {
          "frozen": true
        }
      },
      "source": [
        "**2(d)** Using `afinn` dataset, calculate the average sentiment scores of reddit comments for each hour. When is the most positive time in Christmas Day? (1 point)"
      ]
    },
    {
      "cell_type": "code",
      "execution_count": 234,
      "metadata": {
        "id": "BcjSBHwl0Dtr",
        "vscode": {
          "languageId": "r"
        },
        "colab": {
          "base_uri": "https://localhost:8080/",
          "height": 858
        },
        "outputId": "95abc374-e156-4910-9f2a-cc8b6222bf07"
      },
      "outputs": [
        {
          "output_type": "stream",
          "name": "stderr",
          "text": [
            "\u001b[1m\u001b[22mJoining with `by = join_by(word)`\n"
          ]
        },
        {
          "output_type": "display_data",
          "data": {
            "text/html": [
              "<table class=\"dataframe\">\n",
              "<caption>A tibble: 24 × 2</caption>\n",
              "<thead>\n",
              "\t<tr><th scope=col>Military_Hour</th><th scope=col>Mean_Sentiment</th></tr>\n",
              "\t<tr><th scope=col>&lt;int&gt;</th><th scope=col>&lt;dbl&gt;</th></tr>\n",
              "</thead>\n",
              "<tbody>\n",
              "\t<tr><td> 4</td><td>0.9891790</td></tr>\n",
              "\t<tr><td> 5</td><td>0.9697171</td></tr>\n",
              "\t<tr><td>21</td><td>0.9642078</td></tr>\n",
              "\t<tr><td>14</td><td>0.9584906</td></tr>\n",
              "\t<tr><td>11</td><td>0.9511098</td></tr>\n",
              "\t<tr><td>19</td><td>0.9363501</td></tr>\n",
              "\t<tr><td>13</td><td>0.9325351</td></tr>\n",
              "\t<tr><td> 0</td><td>0.9318977</td></tr>\n",
              "\t<tr><td> 3</td><td>0.9298659</td></tr>\n",
              "\t<tr><td>16</td><td>0.9263173</td></tr>\n",
              "\t<tr><td> 7</td><td>0.9160472</td></tr>\n",
              "\t<tr><td> 1</td><td>0.9130623</td></tr>\n",
              "\t<tr><td> 2</td><td>0.9116215</td></tr>\n",
              "\t<tr><td> 6</td><td>0.9102180</td></tr>\n",
              "\t<tr><td> 8</td><td>0.9089990</td></tr>\n",
              "\t<tr><td>17</td><td>0.9054000</td></tr>\n",
              "\t<tr><td>10</td><td>0.9036073</td></tr>\n",
              "\t<tr><td>15</td><td>0.9034550</td></tr>\n",
              "\t<tr><td>18</td><td>0.9003204</td></tr>\n",
              "\t<tr><td>20</td><td>0.8993703</td></tr>\n",
              "\t<tr><td>12</td><td>0.8827462</td></tr>\n",
              "\t<tr><td>23</td><td>0.8746450</td></tr>\n",
              "\t<tr><td> 9</td><td>0.8684955</td></tr>\n",
              "\t<tr><td>22</td><td>0.8570007</td></tr>\n",
              "</tbody>\n",
              "</table>\n"
            ],
            "text/markdown": "\nA tibble: 24 × 2\n\n| Military_Hour &lt;int&gt; | Mean_Sentiment &lt;dbl&gt; |\n|---|---|\n|  4 | 0.9891790 |\n|  5 | 0.9697171 |\n| 21 | 0.9642078 |\n| 14 | 0.9584906 |\n| 11 | 0.9511098 |\n| 19 | 0.9363501 |\n| 13 | 0.9325351 |\n|  0 | 0.9318977 |\n|  3 | 0.9298659 |\n| 16 | 0.9263173 |\n|  7 | 0.9160472 |\n|  1 | 0.9130623 |\n|  2 | 0.9116215 |\n|  6 | 0.9102180 |\n|  8 | 0.9089990 |\n| 17 | 0.9054000 |\n| 10 | 0.9036073 |\n| 15 | 0.9034550 |\n| 18 | 0.9003204 |\n| 20 | 0.8993703 |\n| 12 | 0.8827462 |\n| 23 | 0.8746450 |\n|  9 | 0.8684955 |\n| 22 | 0.8570007 |\n\n",
            "text/latex": "A tibble: 24 × 2\n\\begin{tabular}{ll}\n Military\\_Hour & Mean\\_Sentiment\\\\\n <int> & <dbl>\\\\\n\\hline\n\t  4 & 0.9891790\\\\\n\t  5 & 0.9697171\\\\\n\t 21 & 0.9642078\\\\\n\t 14 & 0.9584906\\\\\n\t 11 & 0.9511098\\\\\n\t 19 & 0.9363501\\\\\n\t 13 & 0.9325351\\\\\n\t  0 & 0.9318977\\\\\n\t  3 & 0.9298659\\\\\n\t 16 & 0.9263173\\\\\n\t  7 & 0.9160472\\\\\n\t  1 & 0.9130623\\\\\n\t  2 & 0.9116215\\\\\n\t  6 & 0.9102180\\\\\n\t  8 & 0.9089990\\\\\n\t 17 & 0.9054000\\\\\n\t 10 & 0.9036073\\\\\n\t 15 & 0.9034550\\\\\n\t 18 & 0.9003204\\\\\n\t 20 & 0.8993703\\\\\n\t 12 & 0.8827462\\\\\n\t 23 & 0.8746450\\\\\n\t  9 & 0.8684955\\\\\n\t 22 & 0.8570007\\\\\n\\end{tabular}\n",
            "text/plain": [
              "   Military_Hour Mean_Sentiment\n",
              "1   4            0.9891790     \n",
              "2   5            0.9697171     \n",
              "3  21            0.9642078     \n",
              "4  14            0.9584906     \n",
              "5  11            0.9511098     \n",
              "6  19            0.9363501     \n",
              "7  13            0.9325351     \n",
              "8   0            0.9318977     \n",
              "9   3            0.9298659     \n",
              "10 16            0.9263173     \n",
              "11  7            0.9160472     \n",
              "12  1            0.9130623     \n",
              "13  2            0.9116215     \n",
              "14  6            0.9102180     \n",
              "15  8            0.9089990     \n",
              "16 17            0.9054000     \n",
              "17 10            0.9036073     \n",
              "18 15            0.9034550     \n",
              "19 18            0.9003204     \n",
              "20 20            0.8993703     \n",
              "21 12            0.8827462     \n",
              "22 23            0.8746450     \n",
              "23  9            0.8684955     \n",
              "24 22            0.8570007     "
            ]
          },
          "metadata": {}
        }
      ],
      "source": [
        "### YOUR SOLUTION HERE\n",
        "#similar to 1b but now grouping by hour\n",
        "\n",
        "reddit %>%\n",
        "  mutate(body = str_to_lower(body)) %>%\n",
        "  unnest_tokens(input=body, output=word) %>%\n",
        "  inner_join(afinn) %>%\n",
        "  mutate(Military_Hour=hour(floor_date(created_utc, \"1 hour\"))) %>%\n",
        "  group_by(Military_Hour) %>%\n",
        "  summarise(Mean_Sentiment = mean(value)) %>%\n",
        "  arrange(-Mean_Sentiment)"
      ]
    },
    {
      "cell_type": "markdown",
      "source": [
        "The most positive sentiment score on Christmas Day is at 4 AM UTC."
      ],
      "metadata": {
        "id": "wHkT9mXnSi6u"
      }
    },
    {
      "cell_type": "markdown",
      "metadata": {
        "id": "_DTj2_MG0dDA"
      },
      "source": [
        "## Challenge Problem: Text Ranking (2 points)\n",
        "Not all terms/words are equally important, and some carry more information about contents. But how do we measure the importance? One popular method is using TF-IDF (term frequency–inverse document frequency). TF-IDF is a numerical statistic that is intended to reflect how important a word is to a document in a collection. Term Frequency measures the relative frequency of term within document. Inverse Document Frequency measures of how much information the word provides for the collection. \n",
        "\n",
        "We defined TF-IDF as:\n",
        "$$\\text{TF-IDF} = \\operatorname{TF}(t,d) \\times \\operatorname{IDF}(t)$$\n",
        "$$\\operatorname{TF}(t, d) = \\log(1+c(t,d))$$\n",
        "$$\\operatorname{IDF}(t) = 1 + \\log(N/k)$$\n",
        "where $c(t,d)$ is the frequency count of term $t$ in document $d$, $N$ is the total number of documents in the collection, $k$ is the number\n",
        "of documents containing term $t$\n"
      ]
    },
    {
      "cell_type": "markdown",
      "metadata": {
        "deletable": false,
        "editable": false,
        "id": "hZu4hDN843rC",
        "run_control": {
          "frozen": true
        }
      },
      "source": [
        "**(a)** Consider the Harry Potter series as a collection of documents(books), find top 5 words in each book ranked by TF-IDF. Comment on your finding. (1 point) \n",
        "\n",
        "_Hint_: You can either compute this by hand, using the definitions shown above, or employ built-in functions in the `tidytext` package."
      ]
    },
    {
      "cell_type": "code",
      "execution_count": 279,
      "metadata": {
        "id": "l6Pl8fTY1jQo",
        "vscode": {
          "languageId": "r"
        },
        "colab": {
          "base_uri": "https://localhost:8080/",
          "height": 1000
        },
        "outputId": "b59c570d-f630-4171-fc09-9dfa6a5fa9da"
      },
      "outputs": [
        {
          "output_type": "display_data",
          "data": {
            "text/html": [
              "<table class=\"dataframe\">\n",
              "<caption>A grouped_df: 37 × 6</caption>\n",
              "<thead>\n",
              "\t<tr><th scope=col>book</th><th scope=col>word</th><th scope=col>n</th><th scope=col>tf</th><th scope=col>idf</th><th scope=col>tf_idf</th></tr>\n",
              "\t<tr><th scope=col>&lt;chr&gt;</th><th scope=col>&lt;chr&gt;</th><th scope=col>&lt;int&gt;</th><th scope=col>&lt;dbl&gt;</th><th scope=col>&lt;dbl&gt;</th><th scope=col>&lt;dbl&gt;</th></tr>\n",
              "</thead>\n",
              "<tbody>\n",
              "\t<tr><td>chamber_of_secrets  </td><td>stall      </td><td> 12</td><td>0.0028017745</td><td>1.9459101</td><td>0.0054520014</td></tr>\n",
              "\t<tr><td>chamber_of_secrets  </td><td>attacks    </td><td> 17</td><td>0.0039691805</td><td>0.3364722</td><td>0.0013355190</td></tr>\n",
              "\t<tr><td>chamber_of_secrets  </td><td>award      </td><td> 10</td><td>0.0023348120</td><td>0.5596158</td><td>0.0013065977</td></tr>\n",
              "\t<tr><td>chamber_of_secrets  </td><td>expel      </td><td>  5</td><td>0.0011674060</td><td>0.8472979</td><td>0.0009891406</td></tr>\n",
              "\t<tr><td>chamber_of_secrets  </td><td>jaunty     </td><td>  2</td><td>0.0004669624</td><td>1.9459101</td><td>0.0009086669</td></tr>\n",
              "\t<tr><td>deathly_hallows     </td><td>stunning   </td><td> 20</td><td>0.0018777580</td><td>0.5596158</td><td>0.0010508230</td></tr>\n",
              "\t<tr><td>deathly_hallows     </td><td>undesirable</td><td>  7</td><td>0.0006572153</td><td>1.2527630</td><td>0.0008233350</td></tr>\n",
              "\t<tr><td>deathly_hallows     </td><td>destruction</td><td>  6</td><td>0.0005633274</td><td>1.2527630</td><td>0.0007057157</td></tr>\n",
              "\t<tr><td>deathly_hallows     </td><td>destroy    </td><td> 22</td><td>0.0020655338</td><td>0.3364722</td><td>0.0006949948</td></tr>\n",
              "\t<tr><td>deathly_hallows     </td><td>moody      </td><td> 21</td><td>0.0019716459</td><td>0.3364722</td><td>0.0006634041</td></tr>\n",
              "\t<tr><td>deathly_hallows     </td><td>prisoners  </td><td> 21</td><td>0.0019716459</td><td>0.3364722</td><td>0.0006634041</td></tr>\n",
              "\t<tr><td>goblet_of_fire      </td><td>moody      </td><td>309</td><td>0.0317966660</td><td>0.3364722</td><td>0.0106986953</td></tr>\n",
              "\t<tr><td>goblet_of_fire      </td><td>applauding </td><td> 12</td><td>0.0012348220</td><td>0.8472979</td><td>0.0010462620</td></tr>\n",
              "\t<tr><td>goblet_of_fire      </td><td>supporters </td><td> 24</td><td>0.0024696440</td><td>0.3364722</td><td>0.0008309666</td></tr>\n",
              "\t<tr><td>goblet_of_fire      </td><td>ensure     </td><td> 14</td><td>0.0014406256</td><td>0.5596158</td><td>0.0008061969</td></tr>\n",
              "\t<tr><td>goblet_of_fire      </td><td>horrific   </td><td>  5</td><td>0.0005145092</td><td>1.2527630</td><td>0.0006445580</td></tr>\n",
              "\t<tr><td>half_blood_prince   </td><td>outstanding</td><td>  9</td><td>0.0009672219</td><td>0.8472979</td><td>0.0008195251</td></tr>\n",
              "\t<tr><td>half_blood_prince   </td><td>disastrous </td><td>  6</td><td>0.0006448146</td><td>1.2527630</td><td>0.0008077999</td></tr>\n",
              "\t<tr><td>half_blood_prince   </td><td>firing     </td><td>  7</td><td>0.0007522837</td><td>0.8472979</td><td>0.0006374084</td></tr>\n",
              "\t<tr><td>half_blood_prince   </td><td>aggression </td><td>  3</td><td>0.0003224073</td><td>1.9459101</td><td>0.0006273757</td></tr>\n",
              "\t<tr><td>half_blood_prince   </td><td>arrests    </td><td>  3</td><td>0.0003224073</td><td>1.9459101</td><td>0.0006273757</td></tr>\n",
              "\t<tr><td>half_blood_prince   </td><td>compelled  </td><td>  3</td><td>0.0003224073</td><td>1.9459101</td><td>0.0006273757</td></tr>\n",
              "\t<tr><td>order_of_the_phoenix</td><td>grey       </td><td> 38</td><td>0.0028659778</td><td>0.8472979</td><td>0.0024283369</td></tr>\n",
              "\t<tr><td>order_of_the_phoenix</td><td>moody      </td><td> 85</td><td>0.0064107399</td><td>0.3364722</td><td>0.0021570360</td></tr>\n",
              "\t<tr><td>order_of_the_phoenix</td><td>improvement</td><td> 10</td><td>0.0007542047</td><td>0.8472979</td><td>0.0006390360</td></tr>\n",
              "\t<tr><td>order_of_the_phoenix</td><td>ban        </td><td>  9</td><td>0.0006787842</td><td>0.8472979</td><td>0.0005751324</td></tr>\n",
              "\t<tr><td>order_of_the_phoenix</td><td>authority  </td><td> 13</td><td>0.0009804661</td><td>0.5596158</td><td>0.0005486843</td></tr>\n",
              "\t<tr><td>philosophers_stone  </td><td>rob        </td><td>  5</td><td>0.0012889920</td><td>0.8472979</td><td>0.0010921602</td></tr>\n",
              "\t<tr><td>philosophers_stone  </td><td>heaven     </td><td>  2</td><td>0.0005155968</td><td>1.9459101</td><td>0.0010033051</td></tr>\n",
              "\t<tr><td>philosophers_stone  </td><td>favored    </td><td>  3</td><td>0.0007733952</td><td>1.2527630</td><td>0.0009688809</td></tr>\n",
              "\t<tr><td>philosophers_stone  </td><td>wicked     </td><td>  3</td><td>0.0007733952</td><td>0.8472979</td><td>0.0006552961</td></tr>\n",
              "\t<tr><td>philosophers_stone  </td><td>amuse      </td><td>  2</td><td>0.0005155968</td><td>1.2527630</td><td>0.0006459206</td></tr>\n",
              "\t<tr><td>prisoner_of_azkaban </td><td>mischief   </td><td>  4</td><td>0.0007668712</td><td>1.2527630</td><td>0.0009607078</td></tr>\n",
              "\t<tr><td>prisoner_of_azkaban </td><td>prisoner   </td><td>  4</td><td>0.0007668712</td><td>1.2527630</td><td>0.0009607078</td></tr>\n",
              "\t<tr><td>prisoner_of_azkaban </td><td>axe        </td><td>  5</td><td>0.0009585890</td><td>0.8472979</td><td>0.0008122104</td></tr>\n",
              "\t<tr><td>prisoner_of_azkaban </td><td>sabotage   </td><td>  3</td><td>0.0005751534</td><td>1.2527630</td><td>0.0007205308</td></tr>\n",
              "\t<tr><td>prisoner_of_azkaban </td><td>betrayed   </td><td> 11</td><td>0.0021088957</td><td>0.3364722</td><td>0.0007095849</td></tr>\n",
              "</tbody>\n",
              "</table>\n"
            ],
            "text/markdown": "\nA grouped_df: 37 × 6\n\n| book &lt;chr&gt; | word &lt;chr&gt; | n &lt;int&gt; | tf &lt;dbl&gt; | idf &lt;dbl&gt; | tf_idf &lt;dbl&gt; |\n|---|---|---|---|---|---|\n| chamber_of_secrets   | stall       |  12 | 0.0028017745 | 1.9459101 | 0.0054520014 |\n| chamber_of_secrets   | attacks     |  17 | 0.0039691805 | 0.3364722 | 0.0013355190 |\n| chamber_of_secrets   | award       |  10 | 0.0023348120 | 0.5596158 | 0.0013065977 |\n| chamber_of_secrets   | expel       |   5 | 0.0011674060 | 0.8472979 | 0.0009891406 |\n| chamber_of_secrets   | jaunty      |   2 | 0.0004669624 | 1.9459101 | 0.0009086669 |\n| deathly_hallows      | stunning    |  20 | 0.0018777580 | 0.5596158 | 0.0010508230 |\n| deathly_hallows      | undesirable |   7 | 0.0006572153 | 1.2527630 | 0.0008233350 |\n| deathly_hallows      | destruction |   6 | 0.0005633274 | 1.2527630 | 0.0007057157 |\n| deathly_hallows      | destroy     |  22 | 0.0020655338 | 0.3364722 | 0.0006949948 |\n| deathly_hallows      | moody       |  21 | 0.0019716459 | 0.3364722 | 0.0006634041 |\n| deathly_hallows      | prisoners   |  21 | 0.0019716459 | 0.3364722 | 0.0006634041 |\n| goblet_of_fire       | moody       | 309 | 0.0317966660 | 0.3364722 | 0.0106986953 |\n| goblet_of_fire       | applauding  |  12 | 0.0012348220 | 0.8472979 | 0.0010462620 |\n| goblet_of_fire       | supporters  |  24 | 0.0024696440 | 0.3364722 | 0.0008309666 |\n| goblet_of_fire       | ensure      |  14 | 0.0014406256 | 0.5596158 | 0.0008061969 |\n| goblet_of_fire       | horrific    |   5 | 0.0005145092 | 1.2527630 | 0.0006445580 |\n| half_blood_prince    | outstanding |   9 | 0.0009672219 | 0.8472979 | 0.0008195251 |\n| half_blood_prince    | disastrous  |   6 | 0.0006448146 | 1.2527630 | 0.0008077999 |\n| half_blood_prince    | firing      |   7 | 0.0007522837 | 0.8472979 | 0.0006374084 |\n| half_blood_prince    | aggression  |   3 | 0.0003224073 | 1.9459101 | 0.0006273757 |\n| half_blood_prince    | arrests     |   3 | 0.0003224073 | 1.9459101 | 0.0006273757 |\n| half_blood_prince    | compelled   |   3 | 0.0003224073 | 1.9459101 | 0.0006273757 |\n| order_of_the_phoenix | grey        |  38 | 0.0028659778 | 0.8472979 | 0.0024283369 |\n| order_of_the_phoenix | moody       |  85 | 0.0064107399 | 0.3364722 | 0.0021570360 |\n| order_of_the_phoenix | improvement |  10 | 0.0007542047 | 0.8472979 | 0.0006390360 |\n| order_of_the_phoenix | ban         |   9 | 0.0006787842 | 0.8472979 | 0.0005751324 |\n| order_of_the_phoenix | authority   |  13 | 0.0009804661 | 0.5596158 | 0.0005486843 |\n| philosophers_stone   | rob         |   5 | 0.0012889920 | 0.8472979 | 0.0010921602 |\n| philosophers_stone   | heaven      |   2 | 0.0005155968 | 1.9459101 | 0.0010033051 |\n| philosophers_stone   | favored     |   3 | 0.0007733952 | 1.2527630 | 0.0009688809 |\n| philosophers_stone   | wicked      |   3 | 0.0007733952 | 0.8472979 | 0.0006552961 |\n| philosophers_stone   | amuse       |   2 | 0.0005155968 | 1.2527630 | 0.0006459206 |\n| prisoner_of_azkaban  | mischief    |   4 | 0.0007668712 | 1.2527630 | 0.0009607078 |\n| prisoner_of_azkaban  | prisoner    |   4 | 0.0007668712 | 1.2527630 | 0.0009607078 |\n| prisoner_of_azkaban  | axe         |   5 | 0.0009585890 | 0.8472979 | 0.0008122104 |\n| prisoner_of_azkaban  | sabotage    |   3 | 0.0005751534 | 1.2527630 | 0.0007205308 |\n| prisoner_of_azkaban  | betrayed    |  11 | 0.0021088957 | 0.3364722 | 0.0007095849 |\n\n",
            "text/latex": "A grouped\\_df: 37 × 6\n\\begin{tabular}{llllll}\n book & word & n & tf & idf & tf\\_idf\\\\\n <chr> & <chr> & <int> & <dbl> & <dbl> & <dbl>\\\\\n\\hline\n\t chamber\\_of\\_secrets   & stall       &  12 & 0.0028017745 & 1.9459101 & 0.0054520014\\\\\n\t chamber\\_of\\_secrets   & attacks     &  17 & 0.0039691805 & 0.3364722 & 0.0013355190\\\\\n\t chamber\\_of\\_secrets   & award       &  10 & 0.0023348120 & 0.5596158 & 0.0013065977\\\\\n\t chamber\\_of\\_secrets   & expel       &   5 & 0.0011674060 & 0.8472979 & 0.0009891406\\\\\n\t chamber\\_of\\_secrets   & jaunty      &   2 & 0.0004669624 & 1.9459101 & 0.0009086669\\\\\n\t deathly\\_hallows      & stunning    &  20 & 0.0018777580 & 0.5596158 & 0.0010508230\\\\\n\t deathly\\_hallows      & undesirable &   7 & 0.0006572153 & 1.2527630 & 0.0008233350\\\\\n\t deathly\\_hallows      & destruction &   6 & 0.0005633274 & 1.2527630 & 0.0007057157\\\\\n\t deathly\\_hallows      & destroy     &  22 & 0.0020655338 & 0.3364722 & 0.0006949948\\\\\n\t deathly\\_hallows      & moody       &  21 & 0.0019716459 & 0.3364722 & 0.0006634041\\\\\n\t deathly\\_hallows      & prisoners   &  21 & 0.0019716459 & 0.3364722 & 0.0006634041\\\\\n\t goblet\\_of\\_fire       & moody       & 309 & 0.0317966660 & 0.3364722 & 0.0106986953\\\\\n\t goblet\\_of\\_fire       & applauding  &  12 & 0.0012348220 & 0.8472979 & 0.0010462620\\\\\n\t goblet\\_of\\_fire       & supporters  &  24 & 0.0024696440 & 0.3364722 & 0.0008309666\\\\\n\t goblet\\_of\\_fire       & ensure      &  14 & 0.0014406256 & 0.5596158 & 0.0008061969\\\\\n\t goblet\\_of\\_fire       & horrific    &   5 & 0.0005145092 & 1.2527630 & 0.0006445580\\\\\n\t half\\_blood\\_prince    & outstanding &   9 & 0.0009672219 & 0.8472979 & 0.0008195251\\\\\n\t half\\_blood\\_prince    & disastrous  &   6 & 0.0006448146 & 1.2527630 & 0.0008077999\\\\\n\t half\\_blood\\_prince    & firing      &   7 & 0.0007522837 & 0.8472979 & 0.0006374084\\\\\n\t half\\_blood\\_prince    & aggression  &   3 & 0.0003224073 & 1.9459101 & 0.0006273757\\\\\n\t half\\_blood\\_prince    & arrests     &   3 & 0.0003224073 & 1.9459101 & 0.0006273757\\\\\n\t half\\_blood\\_prince    & compelled   &   3 & 0.0003224073 & 1.9459101 & 0.0006273757\\\\\n\t order\\_of\\_the\\_phoenix & grey        &  38 & 0.0028659778 & 0.8472979 & 0.0024283369\\\\\n\t order\\_of\\_the\\_phoenix & moody       &  85 & 0.0064107399 & 0.3364722 & 0.0021570360\\\\\n\t order\\_of\\_the\\_phoenix & improvement &  10 & 0.0007542047 & 0.8472979 & 0.0006390360\\\\\n\t order\\_of\\_the\\_phoenix & ban         &   9 & 0.0006787842 & 0.8472979 & 0.0005751324\\\\\n\t order\\_of\\_the\\_phoenix & authority   &  13 & 0.0009804661 & 0.5596158 & 0.0005486843\\\\\n\t philosophers\\_stone   & rob         &   5 & 0.0012889920 & 0.8472979 & 0.0010921602\\\\\n\t philosophers\\_stone   & heaven      &   2 & 0.0005155968 & 1.9459101 & 0.0010033051\\\\\n\t philosophers\\_stone   & favored     &   3 & 0.0007733952 & 1.2527630 & 0.0009688809\\\\\n\t philosophers\\_stone   & wicked      &   3 & 0.0007733952 & 0.8472979 & 0.0006552961\\\\\n\t philosophers\\_stone   & amuse       &   2 & 0.0005155968 & 1.2527630 & 0.0006459206\\\\\n\t prisoner\\_of\\_azkaban  & mischief    &   4 & 0.0007668712 & 1.2527630 & 0.0009607078\\\\\n\t prisoner\\_of\\_azkaban  & prisoner    &   4 & 0.0007668712 & 1.2527630 & 0.0009607078\\\\\n\t prisoner\\_of\\_azkaban  & axe         &   5 & 0.0009585890 & 0.8472979 & 0.0008122104\\\\\n\t prisoner\\_of\\_azkaban  & sabotage    &   3 & 0.0005751534 & 1.2527630 & 0.0007205308\\\\\n\t prisoner\\_of\\_azkaban  & betrayed    &  11 & 0.0021088957 & 0.3364722 & 0.0007095849\\\\\n\\end{tabular}\n",
            "text/plain": [
              "   book                 word        n   tf           idf       tf_idf      \n",
              "1  chamber_of_secrets   stall        12 0.0028017745 1.9459101 0.0054520014\n",
              "2  chamber_of_secrets   attacks      17 0.0039691805 0.3364722 0.0013355190\n",
              "3  chamber_of_secrets   award        10 0.0023348120 0.5596158 0.0013065977\n",
              "4  chamber_of_secrets   expel         5 0.0011674060 0.8472979 0.0009891406\n",
              "5  chamber_of_secrets   jaunty        2 0.0004669624 1.9459101 0.0009086669\n",
              "6  deathly_hallows      stunning     20 0.0018777580 0.5596158 0.0010508230\n",
              "7  deathly_hallows      undesirable   7 0.0006572153 1.2527630 0.0008233350\n",
              "8  deathly_hallows      destruction   6 0.0005633274 1.2527630 0.0007057157\n",
              "9  deathly_hallows      destroy      22 0.0020655338 0.3364722 0.0006949948\n",
              "10 deathly_hallows      moody        21 0.0019716459 0.3364722 0.0006634041\n",
              "11 deathly_hallows      prisoners    21 0.0019716459 0.3364722 0.0006634041\n",
              "12 goblet_of_fire       moody       309 0.0317966660 0.3364722 0.0106986953\n",
              "13 goblet_of_fire       applauding   12 0.0012348220 0.8472979 0.0010462620\n",
              "14 goblet_of_fire       supporters   24 0.0024696440 0.3364722 0.0008309666\n",
              "15 goblet_of_fire       ensure       14 0.0014406256 0.5596158 0.0008061969\n",
              "16 goblet_of_fire       horrific      5 0.0005145092 1.2527630 0.0006445580\n",
              "17 half_blood_prince    outstanding   9 0.0009672219 0.8472979 0.0008195251\n",
              "18 half_blood_prince    disastrous    6 0.0006448146 1.2527630 0.0008077999\n",
              "19 half_blood_prince    firing        7 0.0007522837 0.8472979 0.0006374084\n",
              "20 half_blood_prince    aggression    3 0.0003224073 1.9459101 0.0006273757\n",
              "21 half_blood_prince    arrests       3 0.0003224073 1.9459101 0.0006273757\n",
              "22 half_blood_prince    compelled     3 0.0003224073 1.9459101 0.0006273757\n",
              "23 order_of_the_phoenix grey         38 0.0028659778 0.8472979 0.0024283369\n",
              "24 order_of_the_phoenix moody        85 0.0064107399 0.3364722 0.0021570360\n",
              "25 order_of_the_phoenix improvement  10 0.0007542047 0.8472979 0.0006390360\n",
              "26 order_of_the_phoenix ban           9 0.0006787842 0.8472979 0.0005751324\n",
              "27 order_of_the_phoenix authority    13 0.0009804661 0.5596158 0.0005486843\n",
              "28 philosophers_stone   rob           5 0.0012889920 0.8472979 0.0010921602\n",
              "29 philosophers_stone   heaven        2 0.0005155968 1.9459101 0.0010033051\n",
              "30 philosophers_stone   favored       3 0.0007733952 1.2527630 0.0009688809\n",
              "31 philosophers_stone   wicked        3 0.0007733952 0.8472979 0.0006552961\n",
              "32 philosophers_stone   amuse         2 0.0005155968 1.2527630 0.0006459206\n",
              "33 prisoner_of_azkaban  mischief      4 0.0007668712 1.2527630 0.0009607078\n",
              "34 prisoner_of_azkaban  prisoner      4 0.0007668712 1.2527630 0.0009607078\n",
              "35 prisoner_of_azkaban  axe           5 0.0009585890 0.8472979 0.0008122104\n",
              "36 prisoner_of_azkaban  sabotage      3 0.0005751534 1.2527630 0.0007205308\n",
              "37 prisoner_of_azkaban  betrayed     11 0.0021088957 0.3364722 0.0007095849"
            ]
          },
          "metadata": {}
        }
      ],
      "source": [
        "### YOUR SOLUTION HERE\n",
        "\n",
        "all %>%\n",
        "  group_by(book) %>%\n",
        "  count(book, word, sort = TRUE) %>%\n",
        "  bind_tf_idf(word, book, n) %>%\n",
        "  arrange(book, -tf_idf) %>%\n",
        "  top_n(5, tf_idf)"
      ]
    },
    {
      "cell_type": "markdown",
      "source": [
        "It appears that negative, mysterious, and dark words appear frequently in Harry Potter books. It is also important to note that the code above does not exclude stop words such as \"the\" which can impact results."
      ],
      "metadata": {
        "id": "pQMq5QpFpVtt"
      }
    },
    {
      "cell_type": "markdown",
      "metadata": {
        "deletable": false,
        "editable": false,
        "id": "wK3R5ekO50Lj",
        "run_control": {
          "frozen": true
        }
      },
      "source": [
        "**(b)** Stop words are a set of commonly used words in a language like \"the\", \"of\", \"and\", \"to\", \"a\". The `stop_words` table contains a list of such words. If you ignore all the words in `stop_words`, what are the top 10 words (again ranked by TF-IDF) in each Harry Potter book? (1 point)\n",
        "\n",
        "_Hint_: use `anti_join` to exclude words in `stop_words`."
      ]
    },
    {
      "cell_type": "code",
      "execution_count": 281,
      "metadata": {
        "id": "_sni-_AHxh0q",
        "vscode": {
          "languageId": "r"
        },
        "colab": {
          "base_uri": "https://localhost:8080/",
          "height": 1000
        },
        "outputId": "23fbf577-6219-43e5-fee2-03062283b995"
      },
      "outputs": [
        {
          "output_type": "display_data",
          "data": {
            "text/html": [
              "<table class=\"dataframe\">\n",
              "<caption>A grouped_df: 82 × 6</caption>\n",
              "<thead>\n",
              "\t<tr><th scope=col>book</th><th scope=col>word</th><th scope=col>n</th><th scope=col>tf</th><th scope=col>idf</th><th scope=col>tf_idf</th></tr>\n",
              "\t<tr><th scope=col>&lt;chr&gt;</th><th scope=col>&lt;chr&gt;</th><th scope=col>&lt;int&gt;</th><th scope=col>&lt;dbl&gt;</th><th scope=col>&lt;dbl&gt;</th><th scope=col>&lt;dbl&gt;</th></tr>\n",
              "</thead>\n",
              "<tbody>\n",
              "\t<tr><td>chamber_of_secrets</td><td>stall      </td><td> 12</td><td>0.0037128713</td><td>1.9459101</td><td>0.0072249139</td></tr>\n",
              "\t<tr><td>chamber_of_secrets</td><td>attacks    </td><td> 17</td><td>0.0052599010</td><td>0.3364722</td><td>0.0017698107</td></tr>\n",
              "\t<tr><td>chamber_of_secrets</td><td>award      </td><td> 10</td><td>0.0030940594</td><td>0.5596158</td><td>0.0017314845</td></tr>\n",
              "\t<tr><td>chamber_of_secrets</td><td>expel      </td><td>  5</td><td>0.0015470297</td><td>0.8472979</td><td>0.0013107950</td></tr>\n",
              "\t<tr><td>chamber_of_secrets</td><td>jaunty     </td><td>  2</td><td>0.0006188119</td><td>1.9459101</td><td>0.0012041523</td></tr>\n",
              "\t<tr><td>chamber_of_secrets</td><td>crazy      </td><td>  5</td><td>0.0015470297</td><td>0.5596158</td><td>0.0008657422</td></tr>\n",
              "\t<tr><td>chamber_of_secrets</td><td>solved     </td><td>  3</td><td>0.0009282178</td><td>0.8472979</td><td>0.0007864770</td></tr>\n",
              "\t<tr><td>chamber_of_secrets</td><td>suspend    </td><td>  2</td><td>0.0006188119</td><td>1.2527630</td><td>0.0007752246</td></tr>\n",
              "\t<tr><td>chamber_of_secrets</td><td>fan        </td><td>  7</td><td>0.0021658416</td><td>0.3364722</td><td>0.0007287456</td></tr>\n",
              "\t<tr><td>chamber_of_secrets</td><td>dizzy      </td><td>  4</td><td>0.0012376238</td><td>0.5596158</td><td>0.0006925938</td></tr>\n",
              "\t<tr><td>chamber_of_secrets</td><td>revive     </td><td>  4</td><td>0.0012376238</td><td>0.5596158</td><td>0.0006925938</td></tr>\n",
              "\t<tr><td>deathly_hallows   </td><td>stunning   </td><td> 20</td><td>0.0024440914</td><td>0.5596158</td><td>0.0013677521</td></tr>\n",
              "\t<tr><td>deathly_hallows   </td><td>undesirable</td><td>  7</td><td>0.0008554320</td><td>1.2527630</td><td>0.0010716535</td></tr>\n",
              "\t<tr><td>deathly_hallows   </td><td>destruction</td><td>  6</td><td>0.0007332274</td><td>1.2527630</td><td>0.0009185602</td></tr>\n",
              "\t<tr><td>deathly_hallows   </td><td>destroy    </td><td> 22</td><td>0.0026885005</td><td>0.3364722</td><td>0.0009046058</td></tr>\n",
              "\t<tr><td>deathly_hallows   </td><td>moody      </td><td> 21</td><td>0.0025662960</td><td>0.3364722</td><td>0.0008634873</td></tr>\n",
              "\t<tr><td>deathly_hallows   </td><td>prisoners  </td><td> 21</td><td>0.0025662960</td><td>0.3364722</td><td>0.0008634873</td></tr>\n",
              "\t<tr><td>deathly_hallows   </td><td>strengthens</td><td>  3</td><td>0.0003666137</td><td>1.9459101</td><td>0.0007133973</td></tr>\n",
              "\t<tr><td>deathly_hallows   </td><td>astonished </td><td> 10</td><td>0.0012220457</td><td>0.5596158</td><td>0.0006838761</td></tr>\n",
              "\t<tr><td>deathly_hallows   </td><td>bore       </td><td> 10</td><td>0.0012220457</td><td>0.5596158</td><td>0.0006838761</td></tr>\n",
              "\t<tr><td>deathly_hallows   </td><td>hell       </td><td> 10</td><td>0.0012220457</td><td>0.5596158</td><td>0.0006838761</td></tr>\n",
              "\t<tr><td>deathly_hallows   </td><td>remorse    </td><td> 10</td><td>0.0012220457</td><td>0.5596158</td><td>0.0006838761</td></tr>\n",
              "\t<tr><td>goblet_of_fire    </td><td>moody      </td><td>309</td><td>0.0415881561</td><td>0.3364722</td><td>0.0139932599</td></tr>\n",
              "\t<tr><td>goblet_of_fire    </td><td>applauding </td><td> 12</td><td>0.0016150740</td><td>0.8472979</td><td>0.0013684488</td></tr>\n",
              "\t<tr><td>goblet_of_fire    </td><td>supporters </td><td> 24</td><td>0.0032301480</td><td>0.3364722</td><td>0.0010868551</td></tr>\n",
              "\t<tr><td>goblet_of_fire    </td><td>ensure     </td><td> 14</td><td>0.0018842530</td><td>0.5596158</td><td>0.0010544577</td></tr>\n",
              "\t<tr><td>goblet_of_fire    </td><td>horrific   </td><td>  5</td><td>0.0006729475</td><td>1.2527630</td><td>0.0008430437</td></tr>\n",
              "\t<tr><td>goblet_of_fire    </td><td>engage     </td><td>  3</td><td>0.0004037685</td><td>1.9459101</td><td>0.0007856972</td></tr>\n",
              "\t<tr><td>goblet_of_fire    </td><td>gray       </td><td> 35</td><td>0.0047106326</td><td>0.1541507</td><td>0.0007261472</td></tr>\n",
              "\t<tr><td>goblet_of_fire    </td><td>hurting    </td><td> 16</td><td>0.0021534320</td><td>0.3364722</td><td>0.0007245701</td></tr>\n",
              "\t<tr><td>⋮</td><td>⋮</td><td>⋮</td><td>⋮</td><td>⋮</td><td>⋮</td></tr>\n",
              "\t<tr><td>order_of_the_phoenix</td><td>strengthening</td><td> 5</td><td>0.0004993010</td><td>1.2527630</td><td>0.0006255058</td></tr>\n",
              "\t<tr><td>order_of_the_phoenix</td><td>outstanding  </td><td> 7</td><td>0.0006990214</td><td>0.8472979</td><td>0.0005922793</td></tr>\n",
              "\t<tr><td>order_of_the_phoenix</td><td>warnings     </td><td> 7</td><td>0.0006990214</td><td>0.8472979</td><td>0.0005922793</td></tr>\n",
              "\t<tr><td>philosophers_stone  </td><td>rob          </td><td> 5</td><td>0.0017686594</td><td>0.8472979</td><td>0.0014985813</td></tr>\n",
              "\t<tr><td>philosophers_stone  </td><td>heaven       </td><td> 2</td><td>0.0007074637</td><td>1.9459101</td><td>0.0013766609</td></tr>\n",
              "\t<tr><td>philosophers_stone  </td><td>favored      </td><td> 3</td><td>0.0010611956</td><td>1.2527630</td><td>0.0013294266</td></tr>\n",
              "\t<tr><td>philosophers_stone  </td><td>wicked       </td><td> 3</td><td>0.0010611956</td><td>0.8472979</td><td>0.0008991488</td></tr>\n",
              "\t<tr><td>philosophers_stone  </td><td>amuse        </td><td> 2</td><td>0.0007074637</td><td>1.2527630</td><td>0.0008862844</td></tr>\n",
              "\t<tr><td>philosophers_stone  </td><td>award        </td><td> 4</td><td>0.0014149275</td><td>0.5596158</td><td>0.0007918158</td></tr>\n",
              "\t<tr><td>philosophers_stone  </td><td>courage      </td><td> 6</td><td>0.0021223912</td><td>0.3364722</td><td>0.0007141257</td></tr>\n",
              "\t<tr><td>philosophers_stone  </td><td>restricted   </td><td> 6</td><td>0.0021223912</td><td>0.3364722</td><td>0.0007141257</td></tr>\n",
              "\t<tr><td>philosophers_stone  </td><td>gray         </td><td>13</td><td>0.0045985143</td><td>0.1541507</td><td>0.0007088641</td></tr>\n",
              "\t<tr><td>philosophers_stone  </td><td>astounding   </td><td> 1</td><td>0.0003537319</td><td>1.9459101</td><td>0.0006883304</td></tr>\n",
              "\t<tr><td>philosophers_stone  </td><td>blocks       </td><td> 1</td><td>0.0003537319</td><td>1.9459101</td><td>0.0006883304</td></tr>\n",
              "\t<tr><td>philosophers_stone  </td><td>delights     </td><td> 1</td><td>0.0003537319</td><td>1.9459101</td><td>0.0006883304</td></tr>\n",
              "\t<tr><td>philosophers_stone  </td><td>demands      </td><td> 1</td><td>0.0003537319</td><td>1.9459101</td><td>0.0006883304</td></tr>\n",
              "\t<tr><td>philosophers_stone  </td><td>gains        </td><td> 1</td><td>0.0003537319</td><td>1.9459101</td><td>0.0006883304</td></tr>\n",
              "\t<tr><td>philosophers_stone  </td><td>rejoice      </td><td> 1</td><td>0.0003537319</td><td>1.9459101</td><td>0.0006883304</td></tr>\n",
              "\t<tr><td>philosophers_stone  </td><td>rigged       </td><td> 1</td><td>0.0003537319</td><td>1.9459101</td><td>0.0006883304</td></tr>\n",
              "\t<tr><td>prisoner_of_azkaban </td><td>mischief     </td><td> 4</td><td>0.0010198878</td><td>1.2527630</td><td>0.0012776777</td></tr>\n",
              "\t<tr><td>prisoner_of_azkaban </td><td>prisoner     </td><td> 4</td><td>0.0010198878</td><td>1.2527630</td><td>0.0012776777</td></tr>\n",
              "\t<tr><td>prisoner_of_azkaban </td><td>axe          </td><td> 5</td><td>0.0012748598</td><td>0.8472979</td><td>0.0010801860</td></tr>\n",
              "\t<tr><td>prisoner_of_azkaban </td><td>sabotage     </td><td> 3</td><td>0.0007649159</td><td>1.2527630</td><td>0.0009582583</td></tr>\n",
              "\t<tr><td>prisoner_of_azkaban </td><td>betrayed     </td><td>11</td><td>0.0028046915</td><td>0.3364722</td><td>0.0009437008</td></tr>\n",
              "\t<tr><td>prisoner_of_azkaban </td><td>penalty      </td><td> 9</td><td>0.0022947476</td><td>0.3364722</td><td>0.0007721188</td></tr>\n",
              "\t<tr><td>prisoner_of_azkaban </td><td>burden       </td><td> 5</td><td>0.0012748598</td><td>0.5596158</td><td>0.0007134317</td></tr>\n",
              "\t<tr><td>prisoner_of_azkaban </td><td>criminal     </td><td> 5</td><td>0.0012748598</td><td>0.5596158</td><td>0.0007134317</td></tr>\n",
              "\t<tr><td>prisoner_of_azkaban </td><td>haunted      </td><td> 5</td><td>0.0012748598</td><td>0.5596158</td><td>0.0007134317</td></tr>\n",
              "\t<tr><td>prisoner_of_azkaban </td><td>success      </td><td> 5</td><td>0.0012748598</td><td>0.5596158</td><td>0.0007134317</td></tr>\n",
              "\t<tr><td>prisoner_of_azkaban </td><td>suck         </td><td> 5</td><td>0.0012748598</td><td>0.5596158</td><td>0.0007134317</td></tr>\n",
              "</tbody>\n",
              "</table>\n"
            ],
            "text/markdown": "\nA grouped_df: 82 × 6\n\n| book &lt;chr&gt; | word &lt;chr&gt; | n &lt;int&gt; | tf &lt;dbl&gt; | idf &lt;dbl&gt; | tf_idf &lt;dbl&gt; |\n|---|---|---|---|---|---|\n| chamber_of_secrets | stall       |  12 | 0.0037128713 | 1.9459101 | 0.0072249139 |\n| chamber_of_secrets | attacks     |  17 | 0.0052599010 | 0.3364722 | 0.0017698107 |\n| chamber_of_secrets | award       |  10 | 0.0030940594 | 0.5596158 | 0.0017314845 |\n| chamber_of_secrets | expel       |   5 | 0.0015470297 | 0.8472979 | 0.0013107950 |\n| chamber_of_secrets | jaunty      |   2 | 0.0006188119 | 1.9459101 | 0.0012041523 |\n| chamber_of_secrets | crazy       |   5 | 0.0015470297 | 0.5596158 | 0.0008657422 |\n| chamber_of_secrets | solved      |   3 | 0.0009282178 | 0.8472979 | 0.0007864770 |\n| chamber_of_secrets | suspend     |   2 | 0.0006188119 | 1.2527630 | 0.0007752246 |\n| chamber_of_secrets | fan         |   7 | 0.0021658416 | 0.3364722 | 0.0007287456 |\n| chamber_of_secrets | dizzy       |   4 | 0.0012376238 | 0.5596158 | 0.0006925938 |\n| chamber_of_secrets | revive      |   4 | 0.0012376238 | 0.5596158 | 0.0006925938 |\n| deathly_hallows    | stunning    |  20 | 0.0024440914 | 0.5596158 | 0.0013677521 |\n| deathly_hallows    | undesirable |   7 | 0.0008554320 | 1.2527630 | 0.0010716535 |\n| deathly_hallows    | destruction |   6 | 0.0007332274 | 1.2527630 | 0.0009185602 |\n| deathly_hallows    | destroy     |  22 | 0.0026885005 | 0.3364722 | 0.0009046058 |\n| deathly_hallows    | moody       |  21 | 0.0025662960 | 0.3364722 | 0.0008634873 |\n| deathly_hallows    | prisoners   |  21 | 0.0025662960 | 0.3364722 | 0.0008634873 |\n| deathly_hallows    | strengthens |   3 | 0.0003666137 | 1.9459101 | 0.0007133973 |\n| deathly_hallows    | astonished  |  10 | 0.0012220457 | 0.5596158 | 0.0006838761 |\n| deathly_hallows    | bore        |  10 | 0.0012220457 | 0.5596158 | 0.0006838761 |\n| deathly_hallows    | hell        |  10 | 0.0012220457 | 0.5596158 | 0.0006838761 |\n| deathly_hallows    | remorse     |  10 | 0.0012220457 | 0.5596158 | 0.0006838761 |\n| goblet_of_fire     | moody       | 309 | 0.0415881561 | 0.3364722 | 0.0139932599 |\n| goblet_of_fire     | applauding  |  12 | 0.0016150740 | 0.8472979 | 0.0013684488 |\n| goblet_of_fire     | supporters  |  24 | 0.0032301480 | 0.3364722 | 0.0010868551 |\n| goblet_of_fire     | ensure      |  14 | 0.0018842530 | 0.5596158 | 0.0010544577 |\n| goblet_of_fire     | horrific    |   5 | 0.0006729475 | 1.2527630 | 0.0008430437 |\n| goblet_of_fire     | engage      |   3 | 0.0004037685 | 1.9459101 | 0.0007856972 |\n| goblet_of_fire     | gray        |  35 | 0.0047106326 | 0.1541507 | 0.0007261472 |\n| goblet_of_fire     | hurting     |  16 | 0.0021534320 | 0.3364722 | 0.0007245701 |\n| ⋮ | ⋮ | ⋮ | ⋮ | ⋮ | ⋮ |\n| order_of_the_phoenix | strengthening |  5 | 0.0004993010 | 1.2527630 | 0.0006255058 |\n| order_of_the_phoenix | outstanding   |  7 | 0.0006990214 | 0.8472979 | 0.0005922793 |\n| order_of_the_phoenix | warnings      |  7 | 0.0006990214 | 0.8472979 | 0.0005922793 |\n| philosophers_stone   | rob           |  5 | 0.0017686594 | 0.8472979 | 0.0014985813 |\n| philosophers_stone   | heaven        |  2 | 0.0007074637 | 1.9459101 | 0.0013766609 |\n| philosophers_stone   | favored       |  3 | 0.0010611956 | 1.2527630 | 0.0013294266 |\n| philosophers_stone   | wicked        |  3 | 0.0010611956 | 0.8472979 | 0.0008991488 |\n| philosophers_stone   | amuse         |  2 | 0.0007074637 | 1.2527630 | 0.0008862844 |\n| philosophers_stone   | award         |  4 | 0.0014149275 | 0.5596158 | 0.0007918158 |\n| philosophers_stone   | courage       |  6 | 0.0021223912 | 0.3364722 | 0.0007141257 |\n| philosophers_stone   | restricted    |  6 | 0.0021223912 | 0.3364722 | 0.0007141257 |\n| philosophers_stone   | gray          | 13 | 0.0045985143 | 0.1541507 | 0.0007088641 |\n| philosophers_stone   | astounding    |  1 | 0.0003537319 | 1.9459101 | 0.0006883304 |\n| philosophers_stone   | blocks        |  1 | 0.0003537319 | 1.9459101 | 0.0006883304 |\n| philosophers_stone   | delights      |  1 | 0.0003537319 | 1.9459101 | 0.0006883304 |\n| philosophers_stone   | demands       |  1 | 0.0003537319 | 1.9459101 | 0.0006883304 |\n| philosophers_stone   | gains         |  1 | 0.0003537319 | 1.9459101 | 0.0006883304 |\n| philosophers_stone   | rejoice       |  1 | 0.0003537319 | 1.9459101 | 0.0006883304 |\n| philosophers_stone   | rigged        |  1 | 0.0003537319 | 1.9459101 | 0.0006883304 |\n| prisoner_of_azkaban  | mischief      |  4 | 0.0010198878 | 1.2527630 | 0.0012776777 |\n| prisoner_of_azkaban  | prisoner      |  4 | 0.0010198878 | 1.2527630 | 0.0012776777 |\n| prisoner_of_azkaban  | axe           |  5 | 0.0012748598 | 0.8472979 | 0.0010801860 |\n| prisoner_of_azkaban  | sabotage      |  3 | 0.0007649159 | 1.2527630 | 0.0009582583 |\n| prisoner_of_azkaban  | betrayed      | 11 | 0.0028046915 | 0.3364722 | 0.0009437008 |\n| prisoner_of_azkaban  | penalty       |  9 | 0.0022947476 | 0.3364722 | 0.0007721188 |\n| prisoner_of_azkaban  | burden        |  5 | 0.0012748598 | 0.5596158 | 0.0007134317 |\n| prisoner_of_azkaban  | criminal      |  5 | 0.0012748598 | 0.5596158 | 0.0007134317 |\n| prisoner_of_azkaban  | haunted       |  5 | 0.0012748598 | 0.5596158 | 0.0007134317 |\n| prisoner_of_azkaban  | success       |  5 | 0.0012748598 | 0.5596158 | 0.0007134317 |\n| prisoner_of_azkaban  | suck          |  5 | 0.0012748598 | 0.5596158 | 0.0007134317 |\n\n",
            "text/latex": "A grouped\\_df: 82 × 6\n\\begin{tabular}{llllll}\n book & word & n & tf & idf & tf\\_idf\\\\\n <chr> & <chr> & <int> & <dbl> & <dbl> & <dbl>\\\\\n\\hline\n\t chamber\\_of\\_secrets & stall       &  12 & 0.0037128713 & 1.9459101 & 0.0072249139\\\\\n\t chamber\\_of\\_secrets & attacks     &  17 & 0.0052599010 & 0.3364722 & 0.0017698107\\\\\n\t chamber\\_of\\_secrets & award       &  10 & 0.0030940594 & 0.5596158 & 0.0017314845\\\\\n\t chamber\\_of\\_secrets & expel       &   5 & 0.0015470297 & 0.8472979 & 0.0013107950\\\\\n\t chamber\\_of\\_secrets & jaunty      &   2 & 0.0006188119 & 1.9459101 & 0.0012041523\\\\\n\t chamber\\_of\\_secrets & crazy       &   5 & 0.0015470297 & 0.5596158 & 0.0008657422\\\\\n\t chamber\\_of\\_secrets & solved      &   3 & 0.0009282178 & 0.8472979 & 0.0007864770\\\\\n\t chamber\\_of\\_secrets & suspend     &   2 & 0.0006188119 & 1.2527630 & 0.0007752246\\\\\n\t chamber\\_of\\_secrets & fan         &   7 & 0.0021658416 & 0.3364722 & 0.0007287456\\\\\n\t chamber\\_of\\_secrets & dizzy       &   4 & 0.0012376238 & 0.5596158 & 0.0006925938\\\\\n\t chamber\\_of\\_secrets & revive      &   4 & 0.0012376238 & 0.5596158 & 0.0006925938\\\\\n\t deathly\\_hallows    & stunning    &  20 & 0.0024440914 & 0.5596158 & 0.0013677521\\\\\n\t deathly\\_hallows    & undesirable &   7 & 0.0008554320 & 1.2527630 & 0.0010716535\\\\\n\t deathly\\_hallows    & destruction &   6 & 0.0007332274 & 1.2527630 & 0.0009185602\\\\\n\t deathly\\_hallows    & destroy     &  22 & 0.0026885005 & 0.3364722 & 0.0009046058\\\\\n\t deathly\\_hallows    & moody       &  21 & 0.0025662960 & 0.3364722 & 0.0008634873\\\\\n\t deathly\\_hallows    & prisoners   &  21 & 0.0025662960 & 0.3364722 & 0.0008634873\\\\\n\t deathly\\_hallows    & strengthens &   3 & 0.0003666137 & 1.9459101 & 0.0007133973\\\\\n\t deathly\\_hallows    & astonished  &  10 & 0.0012220457 & 0.5596158 & 0.0006838761\\\\\n\t deathly\\_hallows    & bore        &  10 & 0.0012220457 & 0.5596158 & 0.0006838761\\\\\n\t deathly\\_hallows    & hell        &  10 & 0.0012220457 & 0.5596158 & 0.0006838761\\\\\n\t deathly\\_hallows    & remorse     &  10 & 0.0012220457 & 0.5596158 & 0.0006838761\\\\\n\t goblet\\_of\\_fire     & moody       & 309 & 0.0415881561 & 0.3364722 & 0.0139932599\\\\\n\t goblet\\_of\\_fire     & applauding  &  12 & 0.0016150740 & 0.8472979 & 0.0013684488\\\\\n\t goblet\\_of\\_fire     & supporters  &  24 & 0.0032301480 & 0.3364722 & 0.0010868551\\\\\n\t goblet\\_of\\_fire     & ensure      &  14 & 0.0018842530 & 0.5596158 & 0.0010544577\\\\\n\t goblet\\_of\\_fire     & horrific    &   5 & 0.0006729475 & 1.2527630 & 0.0008430437\\\\\n\t goblet\\_of\\_fire     & engage      &   3 & 0.0004037685 & 1.9459101 & 0.0007856972\\\\\n\t goblet\\_of\\_fire     & gray        &  35 & 0.0047106326 & 0.1541507 & 0.0007261472\\\\\n\t goblet\\_of\\_fire     & hurting     &  16 & 0.0021534320 & 0.3364722 & 0.0007245701\\\\\n\t ⋮ & ⋮ & ⋮ & ⋮ & ⋮ & ⋮\\\\\n\t order\\_of\\_the\\_phoenix & strengthening &  5 & 0.0004993010 & 1.2527630 & 0.0006255058\\\\\n\t order\\_of\\_the\\_phoenix & outstanding   &  7 & 0.0006990214 & 0.8472979 & 0.0005922793\\\\\n\t order\\_of\\_the\\_phoenix & warnings      &  7 & 0.0006990214 & 0.8472979 & 0.0005922793\\\\\n\t philosophers\\_stone   & rob           &  5 & 0.0017686594 & 0.8472979 & 0.0014985813\\\\\n\t philosophers\\_stone   & heaven        &  2 & 0.0007074637 & 1.9459101 & 0.0013766609\\\\\n\t philosophers\\_stone   & favored       &  3 & 0.0010611956 & 1.2527630 & 0.0013294266\\\\\n\t philosophers\\_stone   & wicked        &  3 & 0.0010611956 & 0.8472979 & 0.0008991488\\\\\n\t philosophers\\_stone   & amuse         &  2 & 0.0007074637 & 1.2527630 & 0.0008862844\\\\\n\t philosophers\\_stone   & award         &  4 & 0.0014149275 & 0.5596158 & 0.0007918158\\\\\n\t philosophers\\_stone   & courage       &  6 & 0.0021223912 & 0.3364722 & 0.0007141257\\\\\n\t philosophers\\_stone   & restricted    &  6 & 0.0021223912 & 0.3364722 & 0.0007141257\\\\\n\t philosophers\\_stone   & gray          & 13 & 0.0045985143 & 0.1541507 & 0.0007088641\\\\\n\t philosophers\\_stone   & astounding    &  1 & 0.0003537319 & 1.9459101 & 0.0006883304\\\\\n\t philosophers\\_stone   & blocks        &  1 & 0.0003537319 & 1.9459101 & 0.0006883304\\\\\n\t philosophers\\_stone   & delights      &  1 & 0.0003537319 & 1.9459101 & 0.0006883304\\\\\n\t philosophers\\_stone   & demands       &  1 & 0.0003537319 & 1.9459101 & 0.0006883304\\\\\n\t philosophers\\_stone   & gains         &  1 & 0.0003537319 & 1.9459101 & 0.0006883304\\\\\n\t philosophers\\_stone   & rejoice       &  1 & 0.0003537319 & 1.9459101 & 0.0006883304\\\\\n\t philosophers\\_stone   & rigged        &  1 & 0.0003537319 & 1.9459101 & 0.0006883304\\\\\n\t prisoner\\_of\\_azkaban  & mischief      &  4 & 0.0010198878 & 1.2527630 & 0.0012776777\\\\\n\t prisoner\\_of\\_azkaban  & prisoner      &  4 & 0.0010198878 & 1.2527630 & 0.0012776777\\\\\n\t prisoner\\_of\\_azkaban  & axe           &  5 & 0.0012748598 & 0.8472979 & 0.0010801860\\\\\n\t prisoner\\_of\\_azkaban  & sabotage      &  3 & 0.0007649159 & 1.2527630 & 0.0009582583\\\\\n\t prisoner\\_of\\_azkaban  & betrayed      & 11 & 0.0028046915 & 0.3364722 & 0.0009437008\\\\\n\t prisoner\\_of\\_azkaban  & penalty       &  9 & 0.0022947476 & 0.3364722 & 0.0007721188\\\\\n\t prisoner\\_of\\_azkaban  & burden        &  5 & 0.0012748598 & 0.5596158 & 0.0007134317\\\\\n\t prisoner\\_of\\_azkaban  & criminal      &  5 & 0.0012748598 & 0.5596158 & 0.0007134317\\\\\n\t prisoner\\_of\\_azkaban  & haunted       &  5 & 0.0012748598 & 0.5596158 & 0.0007134317\\\\\n\t prisoner\\_of\\_azkaban  & success       &  5 & 0.0012748598 & 0.5596158 & 0.0007134317\\\\\n\t prisoner\\_of\\_azkaban  & suck          &  5 & 0.0012748598 & 0.5596158 & 0.0007134317\\\\\n\\end{tabular}\n",
            "text/plain": [
              "   book                 word          n   tf           idf       tf_idf      \n",
              "1  chamber_of_secrets   stall          12 0.0037128713 1.9459101 0.0072249139\n",
              "2  chamber_of_secrets   attacks        17 0.0052599010 0.3364722 0.0017698107\n",
              "3  chamber_of_secrets   award          10 0.0030940594 0.5596158 0.0017314845\n",
              "4  chamber_of_secrets   expel           5 0.0015470297 0.8472979 0.0013107950\n",
              "5  chamber_of_secrets   jaunty          2 0.0006188119 1.9459101 0.0012041523\n",
              "6  chamber_of_secrets   crazy           5 0.0015470297 0.5596158 0.0008657422\n",
              "7  chamber_of_secrets   solved          3 0.0009282178 0.8472979 0.0007864770\n",
              "8  chamber_of_secrets   suspend         2 0.0006188119 1.2527630 0.0007752246\n",
              "9  chamber_of_secrets   fan             7 0.0021658416 0.3364722 0.0007287456\n",
              "10 chamber_of_secrets   dizzy           4 0.0012376238 0.5596158 0.0006925938\n",
              "11 chamber_of_secrets   revive          4 0.0012376238 0.5596158 0.0006925938\n",
              "12 deathly_hallows      stunning       20 0.0024440914 0.5596158 0.0013677521\n",
              "13 deathly_hallows      undesirable     7 0.0008554320 1.2527630 0.0010716535\n",
              "14 deathly_hallows      destruction     6 0.0007332274 1.2527630 0.0009185602\n",
              "15 deathly_hallows      destroy        22 0.0026885005 0.3364722 0.0009046058\n",
              "16 deathly_hallows      moody          21 0.0025662960 0.3364722 0.0008634873\n",
              "17 deathly_hallows      prisoners      21 0.0025662960 0.3364722 0.0008634873\n",
              "18 deathly_hallows      strengthens     3 0.0003666137 1.9459101 0.0007133973\n",
              "19 deathly_hallows      astonished     10 0.0012220457 0.5596158 0.0006838761\n",
              "20 deathly_hallows      bore           10 0.0012220457 0.5596158 0.0006838761\n",
              "21 deathly_hallows      hell           10 0.0012220457 0.5596158 0.0006838761\n",
              "22 deathly_hallows      remorse        10 0.0012220457 0.5596158 0.0006838761\n",
              "23 goblet_of_fire       moody         309 0.0415881561 0.3364722 0.0139932599\n",
              "24 goblet_of_fire       applauding     12 0.0016150740 0.8472979 0.0013684488\n",
              "25 goblet_of_fire       supporters     24 0.0032301480 0.3364722 0.0010868551\n",
              "26 goblet_of_fire       ensure         14 0.0018842530 0.5596158 0.0010544577\n",
              "27 goblet_of_fire       horrific        5 0.0006729475 1.2527630 0.0008430437\n",
              "28 goblet_of_fire       engage          3 0.0004037685 1.9459101 0.0007856972\n",
              "29 goblet_of_fire       gray           35 0.0047106326 0.1541507 0.0007261472\n",
              "30 goblet_of_fire       hurting        16 0.0021534320 0.3364722 0.0007245701\n",
              "⋮  ⋮                    ⋮             ⋮   ⋮            ⋮         ⋮           \n",
              "53 order_of_the_phoenix strengthening  5  0.0004993010 1.2527630 0.0006255058\n",
              "54 order_of_the_phoenix outstanding    7  0.0006990214 0.8472979 0.0005922793\n",
              "55 order_of_the_phoenix warnings       7  0.0006990214 0.8472979 0.0005922793\n",
              "56 philosophers_stone   rob            5  0.0017686594 0.8472979 0.0014985813\n",
              "57 philosophers_stone   heaven         2  0.0007074637 1.9459101 0.0013766609\n",
              "58 philosophers_stone   favored        3  0.0010611956 1.2527630 0.0013294266\n",
              "59 philosophers_stone   wicked         3  0.0010611956 0.8472979 0.0008991488\n",
              "60 philosophers_stone   amuse          2  0.0007074637 1.2527630 0.0008862844\n",
              "61 philosophers_stone   award          4  0.0014149275 0.5596158 0.0007918158\n",
              "62 philosophers_stone   courage        6  0.0021223912 0.3364722 0.0007141257\n",
              "63 philosophers_stone   restricted     6  0.0021223912 0.3364722 0.0007141257\n",
              "64 philosophers_stone   gray          13  0.0045985143 0.1541507 0.0007088641\n",
              "65 philosophers_stone   astounding     1  0.0003537319 1.9459101 0.0006883304\n",
              "66 philosophers_stone   blocks         1  0.0003537319 1.9459101 0.0006883304\n",
              "67 philosophers_stone   delights       1  0.0003537319 1.9459101 0.0006883304\n",
              "68 philosophers_stone   demands        1  0.0003537319 1.9459101 0.0006883304\n",
              "69 philosophers_stone   gains          1  0.0003537319 1.9459101 0.0006883304\n",
              "70 philosophers_stone   rejoice        1  0.0003537319 1.9459101 0.0006883304\n",
              "71 philosophers_stone   rigged         1  0.0003537319 1.9459101 0.0006883304\n",
              "72 prisoner_of_azkaban  mischief       4  0.0010198878 1.2527630 0.0012776777\n",
              "73 prisoner_of_azkaban  prisoner       4  0.0010198878 1.2527630 0.0012776777\n",
              "74 prisoner_of_azkaban  axe            5  0.0012748598 0.8472979 0.0010801860\n",
              "75 prisoner_of_azkaban  sabotage       3  0.0007649159 1.2527630 0.0009582583\n",
              "76 prisoner_of_azkaban  betrayed      11  0.0028046915 0.3364722 0.0009437008\n",
              "77 prisoner_of_azkaban  penalty        9  0.0022947476 0.3364722 0.0007721188\n",
              "78 prisoner_of_azkaban  burden         5  0.0012748598 0.5596158 0.0007134317\n",
              "79 prisoner_of_azkaban  criminal       5  0.0012748598 0.5596158 0.0007134317\n",
              "80 prisoner_of_azkaban  haunted        5  0.0012748598 0.5596158 0.0007134317\n",
              "81 prisoner_of_azkaban  success        5  0.0012748598 0.5596158 0.0007134317\n",
              "82 prisoner_of_azkaban  suck           5  0.0012748598 0.5596158 0.0007134317"
            ]
          },
          "metadata": {}
        }
      ],
      "source": [
        "### YOUR SOLUTION HERE\n",
        "\n",
        "all %>%\n",
        "  anti_join(stop_words, by = \"word\") %>%\n",
        "  group_by(book) %>%\n",
        "  count(book, word, sort = TRUE) %>%\n",
        "  bind_tf_idf(word, book, n) %>%\n",
        "  arrange(book, -tf_idf) %>%\n",
        "  top_n(10, tf_idf)"
      ]
    }
  ],
  "metadata": {
    "celltoolbar": "Create Assignment",
    "colab": {
      "provenance": []
    },
    "kernelspec": {
      "display_name": "R",
      "language": "R",
      "name": "ir"
    },
    "language_info": {
      "codemirror_mode": "r",
      "file_extension": ".r",
      "mimetype": "text/x-r-source",
      "name": "R",
      "pygments_lexer": "r",
      "version": "4.2.1"
    }
  },
  "nbformat": 4,
  "nbformat_minor": 0
}