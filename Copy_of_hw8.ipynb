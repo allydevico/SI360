{
  "cells": [
    {
      "cell_type": "code",
      "execution_count": 3,
      "metadata": {
        "deletable": false,
        "editable": false,
        "id": "1SPCENz_KDM-",
        "nbgrader": {
          "grade": false,
          "grade_id": "cell-d1761bfdb43c7ec3",
          "locked": true,
          "schema_version": 3,
          "solution": false
        },
        "vscode": {
          "languageId": "r"
        },
        "colab": {
          "base_uri": "https://localhost:8080/"
        },
        "outputId": "d0100631-e004-42f7-a667-e4d4555dde30"
      },
      "outputs": [
        {
          "output_type": "stream",
          "name": "stderr",
          "text": [
            "Warning message in system(\"timedatectl\", intern = TRUE):\n",
            "“running command 'timedatectl' had status 1”\n",
            "── \u001b[1mAttaching packages\u001b[22m ─────────────────────────────────────── tidyverse 1.3.1 ──\n",
            "\n",
            "\u001b[32m✔\u001b[39m \u001b[34mggplot2\u001b[39m 3.4.1     \u001b[32m✔\u001b[39m \u001b[34mpurrr  \u001b[39m 1.0.1\n",
            "\u001b[32m✔\u001b[39m \u001b[34mtibble \u001b[39m 3.2.0     \u001b[32m✔\u001b[39m \u001b[34mdplyr  \u001b[39m 1.1.0\n",
            "\u001b[32m✔\u001b[39m \u001b[34mtidyr  \u001b[39m 1.3.0     \u001b[32m✔\u001b[39m \u001b[34mstringr\u001b[39m 1.4.1\n",
            "\u001b[32m✔\u001b[39m \u001b[34mreadr  \u001b[39m 2.1.4     \u001b[32m✔\u001b[39m \u001b[34mforcats\u001b[39m 1.0.0\n",
            "\n",
            "── \u001b[1mConflicts\u001b[22m ────────────────────────────────────────── tidyverse_conflicts() ──\n",
            "\u001b[31m✖\u001b[39m \u001b[34mdplyr\u001b[39m::\u001b[32mfilter()\u001b[39m masks \u001b[34mstats\u001b[39m::filter()\n",
            "\u001b[31m✖\u001b[39m \u001b[34mdplyr\u001b[39m::\u001b[32mlag()\u001b[39m    masks \u001b[34mstats\u001b[39m::lag()\n",
            "\n",
            "\n",
            "Attaching package: ‘lubridate’\n",
            "\n",
            "\n",
            "The following objects are masked from ‘package:base’:\n",
            "\n",
            "    date, intersect, setdiff, union\n",
            "\n",
            "\n"
          ]
        }
      ],
      "source": [
        "library(tidyverse)\n",
        "library(stringr)\n",
        "library(lubridate)\n",
        "options(repr.plot.width=4, repr.plot.height=3)"
      ]
    },
    {
      "cell_type": "markdown",
      "metadata": {
        "deletable": false,
        "editable": false,
        "id": "6RuyPfWaABA8",
        "run_control": {
          "frozen": true
        }
      },
      "source": [
        "## Problem 1: March Madness"
      ]
    },
    {
      "cell_type": "markdown",
      "metadata": {
        "deletable": false,
        "editable": false,
        "id": "IgVzG5SYD_mn",
        "run_control": {
          "frozen": true
        }
      },
      "source": [
        "This month is [March Madness](https://en.wikipedia.org/wiki/NCAA_Division_I_men%27s_basketball_tournament). The following dataset contains March Madness results for the years 1985&mdash;2016:"
      ]
    },
    {
      "cell_type": "code",
      "execution_count": 4,
      "metadata": {
        "deletable": false,
        "editable": false,
        "id": "YjW2idCoJWG3",
        "colab": {
          "base_uri": "https://localhost:8080/"
        },
        "outputId": "d527c22e-643c-4655-c20e-a3e16e2627a2"
      },
      "outputs": [
        {
          "output_type": "stream",
          "name": "stderr",
          "text": [
            "\u001b[1mRows: \u001b[22m\u001b[34m2050\u001b[39m \u001b[1mColumns: \u001b[22m\u001b[34m10\u001b[39m\n",
            "\u001b[36m──\u001b[39m \u001b[1mColumn specification\u001b[22m \u001b[36m────────────────────────────────────────────────────────\u001b[39m\n",
            "\u001b[1mDelimiter:\u001b[22m \",\"\n",
            "\u001b[31mchr\u001b[39m (6): Date, Round, Region, Winner, Loser, Overtime\n",
            "\u001b[32mdbl\u001b[39m (4): Winning Seed, Winning Score, Losing Seed, Losing Score\n",
            "\n",
            "\u001b[36mℹ\u001b[39m Use `spec()` to retrieve the full column specification for this data.\n",
            "\u001b[36mℹ\u001b[39m Specify the column types or set `show_col_types = FALSE` to quiet this message.\n"
          ]
        }
      ],
      "source": [
        "ncaa <- read_csv(\"https://datasets.stats306.org/ncaa.csv.gz\")"
      ]
    },
    {
      "cell_type": "markdown",
      "metadata": {
        "id": "1RqdMxlHEiZy"
      },
      "source": [
        "(Note: this table is missing some data for various years, teams and rounds. For this exercise, assume the data are complete, and do not worry about any missing entries.)"
      ]
    },
    {
      "cell_type": "markdown",
      "metadata": {
        "deletable": false,
        "editable": false,
        "id": "CS_msQBUGUpd",
        "run_control": {
          "frozen": true
        }
      },
      "source": [
        "**1(a)** (2 pts) In 1985, Michigan made it to the Round of 32, before losing to Villanova. In 1989 Michigan won the national championship. Michigan also advanced to the national championship, but did not win, in 1992, 1993, and 2013.\n",
        "\n",
        "Make a plot showing how far Michigan advanced each year. In years where Michigan did not make the tournament at all, your plot should have a missing entry. Use a different color, fill, or marker to indicate years where Michigan won the national championship. \n",
        "\n",
        "Hints: \n",
        "\n",
        "- The same plot for Villanova could look like:\n",
        "\n",
        "![villanova](http://www-personal.umich.edu/~jonth/images/hw8/villanova.png)\n",
        "\n",
        "- To find the furthest, i.e. _maximum_, round reached each year, convert `Round` to an ordered factor, and use `group_by` and `summarize` along with an appropriate summary function."
      ]
    },
    {
      "cell_type": "code",
      "source": [
        "library(repr)"
      ],
      "metadata": {
        "id": "hWVL7wX7MgQ4"
      },
      "execution_count": 48,
      "outputs": []
    },
    {
      "cell_type": "code",
      "execution_count": 3,
      "metadata": {
        "id": "nPHwCBtsEJCB"
      },
      "outputs": [],
      "source": [
        "# YOUR SOLUTION HERE \n",
        "torny_levels=c (\"Opening Round\",\"Round of 64\",\"Round of 32\",\"Sweet Sixteen\",\"Elite Eight\",\"National Semifinals\",\"National Championship\")"
      ]
    },
    {
      "cell_type": "code",
      "source": [
        "ncaa%>%\n",
        "  filter(Loser == 'Michigan' | Winner == 'Michigan') %>%\n",
        "  mutate(Round = factor(Round, levels = torny_levels, ordered = T)) %>%\n",
        "  mutate(year = year(mdy(Date))) %>%\n",
        "  mutate(michigan_won_championship =ifelse((Winner == 'Michigan' & Round == 'National Championship'), 1, 0))  %>%\n",
        "  group_by(year) %>%\n",
        "  summarize(farthest_round = max(Round), `Won Championship` = ifelse((sum(michigan_won_championship) == 1), 'Won Championship', NA)) %>%\n",
        "  ggplot(aes(x = year,y = farthest_round, fill = `Won Championship`)) +\n",
        "  geom_col(orientation = \"x\") + \n",
        "  scale_fill_manual(values = 'red',limits = 'Won Championship') +\n",
        "  scale_y_discrete(drop = F) +\n",
        "  labs(fill = NULL, x = \"Year\", y = \"Furthest round reached\", title = \"March Madness results: Michigan\")"
      ],
      "metadata": {
        "id": "YJ00WQFeFYbb",
        "colab": {
          "base_uri": "https://localhost:8080/",
          "height": 497
        },
        "outputId": "495ce558-0318-4f43-9f3e-1019d8f7939b"
      },
      "execution_count": 53,
      "outputs": [
        {
          "output_type": "display_data",
          "data": {
            "text/plain": [
              "plot without title"
            ],
            "image/png": "[encoded data removed]"
          },
          "metadata": {
            "image/png": {
              "width": 480,
              "height": 480
            }
          }
        }
      ]
    },
    {
      "cell_type": "markdown",
      "metadata": {
        "id": "qDSJ0vJZ2_dR"
      },
      "source": [
        "**1(b)** (2 points)\n",
        "A [_Cinderella story_](https://www.ncaa.com/news/basketball-men/article/2021-03-01/11-greatest-march-madness-cinderella-stories) is a low-seeded team that goes deep in the NCAA tournament. For example, in 1986, the number 11 seed, Lousiana State, beat the number 6, 3, 2, and 1 seeds in succession, before ultimately losing in the semifinals:\n",
        "\n",
        "```\n",
        "# A tibble: 5 × 6\n",
        "  Date       Round               Winner          `Winning Seed` Loser    Losin…¹\n",
        "  <date>     <chr>               <chr>                    <dbl> <chr>      <dbl>\n",
        "1 1986-03-13 Round of 64         Louisiana State             11 Purdue         6\n",
        "2 1986-03-15 Round of 32         Louisiana State             11 Memphis        3\n",
        "3 1986-03-20 Sweet Sixteen       Louisiana State             11 Georgia…       2\n",
        "4 1986-03-22 Elite Eight         Louisiana State             11 Kentucky       1\n",
        "5 1986-03-29 National Semifinals Louisville                   2 Louisia…      11\n",
        "# … with abbreviated variable name ¹​`Losing Seed`\n",
        "```"
      ]
    },
    {
      "cell_type": "markdown",
      "metadata": {
        "deletable": false,
        "editable": false,
        "run_control": {
          "frozen": true
        },
        "id": "yX67uQrCEiZz"
      },
      "source": [
        "Define a team's \"Cinderella index\" to be the difference in seeding between the winning and losing team for each game that the team _won_. For example, the Cinderella index for the 1986 Louisiana State team shown above is $5 + 8 + 9 + 10 = 32$.\n",
        "\n",
        "Make a plot showing the top ten teams with the highest Cinderella index.\n",
        "\n",
        "Hint: the team with the highest Cinderella index is Lousiana State, 1986. The team with the second-highest is Villanova, 1985. There are actually 12 teams in the top 10 due to some ties."
      ]
    },
    {
      "cell_type": "code",
      "execution_count": 65,
      "metadata": {
        "id": "avoHwNlNnqVS",
        "colab": {
          "base_uri": "https://localhost:8080/",
          "height": 531
        },
        "outputId": "f46aaa58-87db-45d9-967f-13ca8ec531aa"
      },
      "outputs": [
        {
          "output_type": "stream",
          "name": "stderr",
          "text": [
            "\u001b[1m\u001b[22m`summarise()` has grouped output by 'Winner'. You can override using the\n",
            "`.groups` argument.\n"
          ]
        },
        {
          "output_type": "display_data",
          "data": {
            "text/plain": [
              "plot without title"
            ],
            "image/png": "[encoded data removed]"
          },
          "metadata": {
            "image/png": {
              "width": 480,
              "height": 480
            }
          }
        }
      ],
      "source": [
        "# YOUR SOLUTION HERE \n",
        "ncaa %>%\n",
        "  mutate(year = year(mdy(Date))) %>%\n",
        "  mutate(cinderella_score = `Winning Seed` - `Losing Seed`) %>%\n",
        "  group_by(Winner, year) %>%\n",
        "  summarize(cinderella_index = sum(cinderella_score)) %>%\n",
        "  arrange(-cinderella_index) %>%\n",
        "  unite(col = 'WinningTeam', c('Winner', 'year'), sep = \" \")   %>%\n",
        "  head(12) %>%\n",
        "  ggplot(aes(x = WinningTeam, y = cinderella_index)) +\n",
        "  geom_col() +\n",
        "  theme(axis.text.x = element_text(angle = 45, vjust = 1, hjust=1))\n",
        " \n",
        "\n",
        "  "
      ]
    },
    {
      "cell_type": "markdown",
      "metadata": {
        "deletable": false,
        "editable": false,
        "id": "dJDYVm6qGBfc",
        "run_control": {
          "frozen": true
        }
      },
      "source": [
        "## Problem 2\n",
        "The file `tweets.txt.gz` contains tweets from June, 2009. The file is in a special format. The first few lines are:"
      ]
    },
    {
      "cell_type": "code",
      "execution_count": 24,
      "metadata": {
        "id": "uLMQlmrJGHEh"
      },
      "outputs": [],
      "source": [
        "download.file(\"https://github.com/stats306/w23/tree/main/homeworks/hw8/tweets.txt.gz\", \"tweets.txt.gz\")\n"
      ]
    },
    {
      "cell_type": "code",
      "source": [
        "readLines(\"tweets.txt.gz\", n = 11) %>% writeLines"
      ],
      "metadata": {
        "colab": {
          "base_uri": "https://localhost:8080/"
        },
        "id": "XMbwQozdvmnP",
        "outputId": "171c02bc-0fb9-4dc2-e6e2-299e1e0b8e4a"
      },
      "execution_count": 25,
      "outputs": [
        {
          "output_type": "stream",
          "name": "stdout",
          "text": [
            "\n",
            "\n",
            "\n",
            "\n",
            "\n",
            "\n",
            "\n",
            "<!DOCTYPE html>\n",
            "<html lang=\"en\" data-color-mode=\"auto\" data-light-theme=\"light\" data-dark-theme=\"dark\" data-a11y-animated-images=\"system\">\n",
            "  <head>\n",
            "    <meta charset=\"utf-8\">\n"
          ]
        }
      ]
    },
    {
      "cell_type": "markdown",
      "metadata": {
        "deletable": false,
        "editable": false,
        "id": "PB2CayssGf7u",
        "run_control": {
          "frozen": true
        }
      },
      "source": [
        "Each datum consists of a triple of lines marked `T`, `U` and `W` containing the time of the tweet, the user, and the message itself, respectively. Each triple is separated by an empty line."
      ]
    },
    {
      "cell_type": "markdown",
      "metadata": {
        "deletable": false,
        "editable": false,
        "id": "fB7AeyDaGoU9",
        "run_control": {
          "frozen": true
        }
      },
      "source": [
        "**2(a) (0.5 point)**\n",
        "Read `tweets.txt.gz` in and store it as an R data frame/tibble called `tweets1`. It should have two character columns and 1.03m rows:\n",
        "```{r}\n",
        "# A tibble: 1,039,879 × 2\n",
        "   X1    X2                                                                     \n",
        "   <chr> <chr>                                                                  \n",
        " 1 T     \"2009-06-11 00:00:03\"                                                  \n",
        " 2 U     \"http://twitter.com/imdb\"                                              \n",
        " 3 W     \"No Post Title\"                                                        \n",
        " 4 T     \"2009-06-11 16:37:14\"                                                  \n",
        " 5 U     \"http://twitter.com/ncruralhealth\"                                     \n",
        " 6 W     \"No Post Title\"                                                        \n",
        " 7 T     \"2009-06-11 16:56:23\"                                                  \n",
        " 8 U     \"http://twitter.com/boydjones\"                                         \n",
        " 9 W     \"listening to \\\"Big Lizard - The Dead Milkmen\\\" ♫ http://blip.fm/~81kw…\n",
        "10 T     \"2009-06-11 16:56:59\"                                                  \n",
        "# … with 1,039,869 more rows\n",
        "```\n",
        "(**Hint**: The `.gz` file extension indicates that this file is compressed to save space. You can load the table using the **usual `tidyverse` table loading commands**, as if it were a regular text file."
      ]
    },
    {
      "cell_type": "code",
      "execution_count": 26,
      "metadata": {
        "id": "QJGlIS9cGe-h",
        "colab": {
          "base_uri": "https://localhost:8080/",
          "height": 1000
        },
        "outputId": "15bebdaa-da8e-4be6-dabe-a3a8b6a574c1"
      },
      "outputs": [
        {
          "output_type": "stream",
          "name": "stderr",
          "text": [
            "\u001b[1mRows: \u001b[22m\u001b[34m1039879\u001b[39m \u001b[1mColumns: \u001b[22m\u001b[34m2\u001b[39m\n",
            "\u001b[36m──\u001b[39m \u001b[1mColumn specification\u001b[22m \u001b[36m────────────────────────────────────────────────────────\u001b[39m\n",
            "\u001b[1mDelimiter:\u001b[22m \"\\t\"\n",
            "\u001b[31mchr\u001b[39m (2): X1, X2\n",
            "\n",
            "\u001b[36mℹ\u001b[39m Use `spec()` to retrieve the full column specification for this data.\n",
            "\u001b[36mℹ\u001b[39m Specify the column types or set `show_col_types = FALSE` to quiet this message.\n"
          ]
        },
        {
          "output_type": "display_data",
          "data": {
            "text/html": [
              "<table class=\"dataframe\">\n",
              "<caption>A spec_tbl_df: 1039879 × 2</caption>\n",
              "<thead>\n",
              "\t<tr><th scope=col>X1</th><th scope=col>X2</th></tr>\n",
              "\t<tr><th scope=col>&lt;chr&gt;</th><th scope=col>&lt;chr&gt;</th></tr>\n",
              "</thead>\n",
              "<tbody>\n",
              "\t<tr><td>T</td><td>2009-06-11 00:00:03                                                                                                                      </td></tr>\n",
              "\t<tr><td>U</td><td>http://twitter.com/imdb                                                                                                                  </td></tr>\n",
              "\t<tr><td>W</td><td>No Post Title                                                                                                                            </td></tr>\n",
              "\t<tr><td>T</td><td>2009-06-11 16:37:14                                                                                                                      </td></tr>\n",
              "\t<tr><td>U</td><td>http://twitter.com/ncruralhealth                                                                                                         </td></tr>\n",
              "\t<tr><td>W</td><td>No Post Title                                                                                                                            </td></tr>\n",
              "\t<tr><td>T</td><td>2009-06-11 16:56:23                                                                                                                      </td></tr>\n",
              "\t<tr><td>U</td><td>http://twitter.com/boydjones                                                                                                             </td></tr>\n",
              "\t<tr><td>W</td><td>listening to \"Big Lizard - The Dead Milkmen\" ♫ http://blip.fm/~81kwz                                                                     </td></tr>\n",
              "\t<tr><td>T</td><td>2009-06-11 16:56:59                                                                                                                      </td></tr>\n",
              "\t<tr><td>U</td><td>http://twitter.com/cameron987                                                                                                            </td></tr>\n",
              "\t<tr><td>W</td><td>@beatrizchavez A dork? NO way... you are. I just have no shame... I #squarespace want #squarespace that #squarespace iPhone #squarespace.</td></tr>\n",
              "\t<tr><td>T</td><td>2009-06-11 16:57:03                                                                                                                      </td></tr>\n",
              "\t<tr><td>U</td><td>http://twitter.com/selenato                                                                                                              </td></tr>\n",
              "\t<tr><td>W</td><td>@okaaaa 本当ね！2週間楽しみがありすぎわ、まじで…本当きどうさんへの愛がこんな形になるとは…イナズマ大人のアニメだわ＞＜                    </td></tr>\n",
              "\t<tr><td>T</td><td>2009-06-11 16:57:30                                                                                                                      </td></tr>\n",
              "\t<tr><td>U</td><td>http://twitter.com/nbeasley10                                                                                                            </td></tr>\n",
              "\t<tr><td>W</td><td>Just got a chance to buy All-Star tickets tomorrow. God Bless the Cardinals                                                              </td></tr>\n",
              "\t<tr><td>T</td><td>2009-06-11 16:57:31                                                                                                                      </td></tr>\n",
              "\t<tr><td>U</td><td>http://twitter.com/littlewing333                                                                                                         </td></tr>\n",
              "\t<tr><td>W</td><td>@kidhum and if an act has pull and they don't promote the show...how will their people ever know the show exists?                        </td></tr>\n",
              "\t<tr><td>T</td><td>2009-06-11 16:57:33                                                                                                                      </td></tr>\n",
              "\t<tr><td>U</td><td>http://twitter.com/lolcute                                                                                                               </td></tr>\n",
              "\t<tr><td>W</td><td>mebbe U fetch http://tinyurl.com/nz4fbr                                                                                                  </td></tr>\n",
              "\t<tr><td>T</td><td>2009-06-11 16:57:36                                                                                                                      </td></tr>\n",
              "\t<tr><td>U</td><td>http://twitter.com/fr0st22                                                                                                               </td></tr>\n",
              "\t<tr><td>W</td><td>I have broken 1,000 twitter updates. Paaaartaaaay!                                                                                       </td></tr>\n",
              "\t<tr><td>T</td><td>2009-06-11 16:57:59                                                                                                                      </td></tr>\n",
              "\t<tr><td>U</td><td>http://twitter.com/mavellsyrup                                                                                                           </td></tr>\n",
              "\t<tr><td>W</td><td>Food timmeeee :'D                                                                                                                        </td></tr>\n",
              "\t<tr><td>⋮</td><td>⋮</td></tr>\n",
              "\t<tr><td>U</td><td>http://twitter.com/preetisk                                                                                                                 </td></tr>\n",
              "\t<tr><td>W</td><td>RT @Acquired_Taste:Michael Jackson Im Sorry you couldn't tell the angels No ANd Heaven Couldn't wait.Oh How I WIll ALways Miss You Im So Sad</td></tr>\n",
              "\t<tr><td>T</td><td>2009-06-30 23:57:03                                                                                                                         </td></tr>\n",
              "\t<tr><td>U</td><td>http://twitter.com/focusedaily                                                                                                              </td></tr>\n",
              "\t<tr><td>W</td><td>RT @afronethea: P.S. friends...Vibe died a while ago. It's been a gossip mag in print for the last 4 yrs.                                   </td></tr>\n",
              "\t<tr><td>T</td><td>2009-06-30 23:57:04                                                                                                                         </td></tr>\n",
              "\t<tr><td>U</td><td>http://twitter.com/dean_coulson                                                                                                             </td></tr>\n",
              "\t<tr><td>W</td><td>I had an amazing day out in Brighton for Fin's Birthday, just not sure about the lobster look. It seems so last sun-burn. Happy Birthday Fin</td></tr>\n",
              "\t<tr><td>T</td><td>2009-06-30 23:57:08                                                                                                                         </td></tr>\n",
              "\t<tr><td>U</td><td>http://twitter.com/craiggentryjr                                                                                                            </td></tr>\n",
              "\t<tr><td>W</td><td>Just sponsored my first colombian child. I should've sooner. Very rewarding feeling that I have.                                            </td></tr>\n",
              "\t<tr><td>T</td><td>2009-06-30 23:57:13                                                                                                                         </td></tr>\n",
              "\t<tr><td>U</td><td>http://twitter.com/naylajones                                                                                                               </td></tr>\n",
              "\t<tr><td>W</td><td>@elianebatista HUASDHUAS obrigada pelas ajudas, mesmo!                                                                                      </td></tr>\n",
              "\t<tr><td>T</td><td>2009-06-30 23:57:13                                                                                                                         </td></tr>\n",
              "\t<tr><td>U</td><td>http://twitter.com/starwing                                                                                                                 </td></tr>\n",
              "\t<tr><td>W</td><td><span style=white-space:pre-wrap>just uploaded 38 new photos to Facebook \"DJ Craze &amp; DJ Klever - 26 June 2009\" album: http://bit.ly/18LicI #photography                      </span></td></tr>\n",
              "\t<tr><td>T</td><td>2009-06-30 23:57:14                                                                                                                         </td></tr>\n",
              "\t<tr><td>U</td><td>http://twitter.com/hubbit                                                                                                                   </td></tr>\n",
              "\t<tr><td>W</td><td>RT @thejoshuablog: MUST READ: \"This Is Why Insurance Companies Fear The Public Option(Updated)\" ( http://bit.ly/14KiXS )                    </td></tr>\n",
              "\t<tr><td>T</td><td>2009-06-30 23:57:17                                                                                                                         </td></tr>\n",
              "\t<tr><td>U</td><td>http://twitter.com/kirkflorida                                                                                                              </td></tr>\n",
              "\t<tr><td>W</td><td>RT @vdavisson: RT @kirkflorida What is happening in Honduras from a Honduran in Honduras! | Kirk's Work at Home Blog http://cli.gs/u3qQT TU </td></tr>\n",
              "\t<tr><td>T</td><td>2009-06-30 23:57:34                                                                                                                         </td></tr>\n",
              "\t<tr><td>U</td><td>http://twitter.com/seokillertrial                                                                                                           </td></tr>\n",
              "\t<tr><td>W</td><td>Twitter + OpenInviter API + TweetLater = Massive Viral Traffic Flow!!!! http://tinyurl.com/cmbqrl                                           </td></tr>\n",
              "\t<tr><td>T</td><td>2009-06-30 23:57:36                                                                                                                         </td></tr>\n",
              "\t<tr><td>U</td><td>http://twitter.com/ericboothc21                                                                                                             </td></tr>\n",
              "\t<tr><td>W</td><td><span style=white-space:pre-wrap>Chicago Local &gt; Quinn threatens 'double overtime' if no income tax increase approved http://tinyurl.com/ktjgec                              </span></td></tr>\n",
              "\t<tr><td>T</td><td>2009-06-30 23:57:53                                                                                                                         </td></tr>\n",
              "</tbody>\n",
              "</table>\n"
            ],
            "text/markdown": "\nA spec_tbl_df: 1039879 × 2\n\n| X1 &lt;chr&gt; | X2 &lt;chr&gt; |\n|---|---|\n| T | 2009-06-11 00:00:03                                                                                                                       |\n| U | http://twitter.com/imdb                                                                                                                   |\n| W | No Post Title                                                                                                                             |\n| T | 2009-06-11 16:37:14                                                                                                                       |\n| U | http://twitter.com/ncruralhealth                                                                                                          |\n| W | No Post Title                                                                                                                             |\n| T | 2009-06-11 16:56:23                                                                                                                       |\n| U | http://twitter.com/boydjones                                                                                                              |\n| W | listening to \"Big Lizard - The Dead Milkmen\" ♫ http://blip.fm/~81kwz                                                                      |\n| T | 2009-06-11 16:56:59                                                                                                                       |\n| U | http://twitter.com/cameron987                                                                                                             |\n| W | @beatrizchavez A dork? NO way... you are. I just have no shame... I #squarespace want #squarespace that #squarespace iPhone #squarespace. |\n| T | 2009-06-11 16:57:03                                                                                                                       |\n| U | http://twitter.com/selenato                                                                                                               |\n| W | @okaaaa 本当ね！2週間楽しみがありすぎわ、まじで…本当きどうさんへの愛がこんな形になるとは…イナズマ大人のアニメだわ＞＜                     |\n| T | 2009-06-11 16:57:30                                                                                                                       |\n| U | http://twitter.com/nbeasley10                                                                                                             |\n| W | Just got a chance to buy All-Star tickets tomorrow. God Bless the Cardinals                                                               |\n| T | 2009-06-11 16:57:31                                                                                                                       |\n| U | http://twitter.com/littlewing333                                                                                                          |\n| W | @kidhum and if an act has pull and they don't promote the show...how will their people ever know the show exists?                         |\n| T | 2009-06-11 16:57:33                                                                                                                       |\n| U | http://twitter.com/lolcute                                                                                                                |\n| W | mebbe U fetch http://tinyurl.com/nz4fbr                                                                                                   |\n| T | 2009-06-11 16:57:36                                                                                                                       |\n| U | http://twitter.com/fr0st22                                                                                                                |\n| W | I have broken 1,000 twitter updates. Paaaartaaaay!                                                                                        |\n| T | 2009-06-11 16:57:59                                                                                                                       |\n| U | http://twitter.com/mavellsyrup                                                                                                            |\n| W | Food timmeeee :'D                                                                                                                         |\n| ⋮ | ⋮ |\n| U | http://twitter.com/preetisk                                                                                                                  |\n| W | RT @Acquired_Taste:Michael Jackson Im Sorry you couldn't tell the angels No ANd Heaven Couldn't wait.Oh How I WIll ALways Miss You Im So Sad |\n| T | 2009-06-30 23:57:03                                                                                                                          |\n| U | http://twitter.com/focusedaily                                                                                                               |\n| W | RT @afronethea: P.S. friends...Vibe died a while ago. It's been a gossip mag in print for the last 4 yrs.                                    |\n| T | 2009-06-30 23:57:04                                                                                                                          |\n| U | http://twitter.com/dean_coulson                                                                                                              |\n| W | I had an amazing day out in Brighton for Fin's Birthday, just not sure about the lobster look. It seems so last sun-burn. Happy Birthday Fin |\n| T | 2009-06-30 23:57:08                                                                                                                          |\n| U | http://twitter.com/craiggentryjr                                                                                                             |\n| W | Just sponsored my first colombian child. I should've sooner. Very rewarding feeling that I have.                                             |\n| T | 2009-06-30 23:57:13                                                                                                                          |\n| U | http://twitter.com/naylajones                                                                                                                |\n| W | @elianebatista HUASDHUAS obrigada pelas ajudas, mesmo!                                                                                       |\n| T | 2009-06-30 23:57:13                                                                                                                          |\n| U | http://twitter.com/starwing                                                                                                                  |\n| W | just uploaded 38 new photos to Facebook \"DJ Craze &amp; DJ Klever - 26 June 2009\" album: http://bit.ly/18LicI #photography                       |\n| T | 2009-06-30 23:57:14                                                                                                                          |\n| U | http://twitter.com/hubbit                                                                                                                    |\n| W | RT @thejoshuablog: MUST READ: \"This Is Why Insurance Companies Fear The Public Option(Updated)\" ( http://bit.ly/14KiXS )                     |\n| T | 2009-06-30 23:57:17                                                                                                                          |\n| U | http://twitter.com/kirkflorida                                                                                                               |\n| W | RT @vdavisson: RT @kirkflorida What is happening in Honduras from a Honduran in Honduras! | Kirk's Work at Home Blog http://cli.gs/u3qQT TU  |\n| T | 2009-06-30 23:57:34                                                                                                                          |\n| U | http://twitter.com/seokillertrial                                                                                                            |\n| W | Twitter + OpenInviter API + TweetLater = Massive Viral Traffic Flow!!!! http://tinyurl.com/cmbqrl                                            |\n| T | 2009-06-30 23:57:36                                                                                                                          |\n| U | http://twitter.com/ericboothc21                                                                                                              |\n| W | Chicago Local &gt; Quinn threatens 'double overtime' if no income tax increase approved http://tinyurl.com/ktjgec                               |\n| T | 2009-06-30 23:57:53                                                                                                                          |\n\n",
            "text/latex": "A spec\\_tbl\\_df: 1039879 × 2\n\\begin{tabular}{ll}\n X1 & X2\\\\\n <chr> & <chr>\\\\\n\\hline\n\t T & 2009-06-11 00:00:03                                                                                                                      \\\\\n\t U & http://twitter.com/imdb                                                                                                                  \\\\\n\t W & No Post Title                                                                                                                            \\\\\n\t T & 2009-06-11 16:37:14                                                                                                                      \\\\\n\t U & http://twitter.com/ncruralhealth                                                                                                         \\\\\n\t W & No Post Title                                                                                                                            \\\\\n\t T & 2009-06-11 16:56:23                                                                                                                      \\\\\n\t U & http://twitter.com/boydjones                                                                                                             \\\\\n\t W & listening to \"Big Lizard - The Dead Milkmen\" ♫ http://blip.fm/\\textasciitilde{}81kwz                                                                     \\\\\n\t T & 2009-06-11 16:56:59                                                                                                                      \\\\\n\t U & http://twitter.com/cameron987                                                                                                            \\\\\n\t W & @beatrizchavez A dork? NO way... you are. I just have no shame... I \\#squarespace want \\#squarespace that \\#squarespace iPhone \\#squarespace.\\\\\n\t T & 2009-06-11 16:57:03                                                                                                                      \\\\\n\t U & http://twitter.com/selenato                                                                                                              \\\\\n\t W & @okaaaa 本当ね！2週間楽しみがありすぎわ、まじで…本当きどうさんへの愛がこんな形になるとは…イナズマ大人のアニメだわ＞＜                    \\\\\n\t T & 2009-06-11 16:57:30                                                                                                                      \\\\\n\t U & http://twitter.com/nbeasley10                                                                                                            \\\\\n\t W & Just got a chance to buy All-Star tickets tomorrow. God Bless the Cardinals                                                              \\\\\n\t T & 2009-06-11 16:57:31                                                                                                                      \\\\\n\t U & http://twitter.com/littlewing333                                                                                                         \\\\\n\t W & @kidhum and if an act has pull and they don't promote the show...how will their people ever know the show exists?                        \\\\\n\t T & 2009-06-11 16:57:33                                                                                                                      \\\\\n\t U & http://twitter.com/lolcute                                                                                                               \\\\\n\t W & mebbe U fetch http://tinyurl.com/nz4fbr                                                                                                  \\\\\n\t T & 2009-06-11 16:57:36                                                                                                                      \\\\\n\t U & http://twitter.com/fr0st22                                                                                                               \\\\\n\t W & I have broken 1,000 twitter updates. Paaaartaaaay!                                                                                       \\\\\n\t T & 2009-06-11 16:57:59                                                                                                                      \\\\\n\t U & http://twitter.com/mavellsyrup                                                                                                           \\\\\n\t W & Food timmeeee :'D                                                                                                                        \\\\\n\t ⋮ & ⋮\\\\\n\t U & http://twitter.com/preetisk                                                                                                                 \\\\\n\t W & RT @Acquired\\_Taste:Michael Jackson Im Sorry you couldn't tell the angels No ANd Heaven Couldn't wait.Oh How I WIll ALways Miss You Im So Sad\\\\\n\t T & 2009-06-30 23:57:03                                                                                                                         \\\\\n\t U & http://twitter.com/focusedaily                                                                                                              \\\\\n\t W & RT @afronethea: P.S. friends...Vibe died a while ago. It's been a gossip mag in print for the last 4 yrs.                                   \\\\\n\t T & 2009-06-30 23:57:04                                                                                                                         \\\\\n\t U & http://twitter.com/dean\\_coulson                                                                                                             \\\\\n\t W & I had an amazing day out in Brighton for Fin's Birthday, just not sure about the lobster look. It seems so last sun-burn. Happy Birthday Fin\\\\\n\t T & 2009-06-30 23:57:08                                                                                                                         \\\\\n\t U & http://twitter.com/craiggentryjr                                                                                                            \\\\\n\t W & Just sponsored my first colombian child. I should've sooner. Very rewarding feeling that I have.                                            \\\\\n\t T & 2009-06-30 23:57:13                                                                                                                         \\\\\n\t U & http://twitter.com/naylajones                                                                                                               \\\\\n\t W & @elianebatista HUASDHUAS obrigada pelas ajudas, mesmo!                                                                                      \\\\\n\t T & 2009-06-30 23:57:13                                                                                                                         \\\\\n\t U & http://twitter.com/starwing                                                                                                                 \\\\\n\t W & just uploaded 38 new photos to Facebook \"DJ Craze \\& DJ Klever - 26 June 2009\" album: http://bit.ly/18LicI \\#photography                      \\\\\n\t T & 2009-06-30 23:57:14                                                                                                                         \\\\\n\t U & http://twitter.com/hubbit                                                                                                                   \\\\\n\t W & RT @thejoshuablog: MUST READ: \"This Is Why Insurance Companies Fear The Public Option(Updated)\" ( http://bit.ly/14KiXS )                    \\\\\n\t T & 2009-06-30 23:57:17                                                                                                                         \\\\\n\t U & http://twitter.com/kirkflorida                                                                                                              \\\\\n\t W & RT @vdavisson: RT @kirkflorida What is happening in Honduras from a Honduran in Honduras! \\textbar{} Kirk's Work at Home Blog http://cli.gs/u3qQT TU \\\\\n\t T & 2009-06-30 23:57:34                                                                                                                         \\\\\n\t U & http://twitter.com/seokillertrial                                                                                                           \\\\\n\t W & Twitter + OpenInviter API + TweetLater = Massive Viral Traffic Flow!!!! http://tinyurl.com/cmbqrl                                           \\\\\n\t T & 2009-06-30 23:57:36                                                                                                                         \\\\\n\t U & http://twitter.com/ericboothc21                                                                                                             \\\\\n\t W & Chicago Local > Quinn threatens 'double overtime' if no income tax increase approved http://tinyurl.com/ktjgec                              \\\\\n\t T & 2009-06-30 23:57:53                                                                                                                         \\\\\n\\end{tabular}\n",
            "text/plain": [
              "        X1\n",
              "1       T \n",
              "2       U \n",
              "3       W \n",
              "4       T \n",
              "5       U \n",
              "6       W \n",
              "7       T \n",
              "8       U \n",
              "9       W \n",
              "10      T \n",
              "11      U \n",
              "12      W \n",
              "13      T \n",
              "14      U \n",
              "15      W \n",
              "16      T \n",
              "17      U \n",
              "18      W \n",
              "19      T \n",
              "20      U \n",
              "21      W \n",
              "22      T \n",
              "23      U \n",
              "24      W \n",
              "25      T \n",
              "26      U \n",
              "27      W \n",
              "28      T \n",
              "29      U \n",
              "30      W \n",
              "⋮       ⋮ \n",
              "1039850 U \n",
              "1039851 W \n",
              "1039852 T \n",
              "1039853 U \n",
              "1039854 W \n",
              "1039855 T \n",
              "1039856 U \n",
              "1039857 W \n",
              "1039858 T \n",
              "1039859 U \n",
              "1039860 W \n",
              "1039861 T \n",
              "1039862 U \n",
              "1039863 W \n",
              "1039864 T \n",
              "1039865 U \n",
              "1039866 W \n",
              "1039867 T \n",
              "1039868 U \n",
              "1039869 W \n",
              "1039870 T \n",
              "1039871 U \n",
              "1039872 W \n",
              "1039873 T \n",
              "1039874 U \n",
              "1039875 W \n",
              "1039876 T \n",
              "1039877 U \n",
              "1039878 W \n",
              "1039879 T \n",
              "        X2                                                                                                                                          \n",
              "1       2009-06-11 00:00:03                                                                                                                         \n",
              "2       http://twitter.com/imdb                                                                                                                     \n",
              "3       No Post Title                                                                                                                               \n",
              "4       2009-06-11 16:37:14                                                                                                                         \n",
              "5       http://twitter.com/ncruralhealth                                                                                                            \n",
              "6       No Post Title                                                                                                                               \n",
              "7       2009-06-11 16:56:23                                                                                                                         \n",
              "8       http://twitter.com/boydjones                                                                                                                \n",
              "9       listening to \"Big Lizard - The Dead Milkmen\" ♫ http://blip.fm/~81kwz                                                                        \n",
              "10      2009-06-11 16:56:59                                                                                                                         \n",
              "11      http://twitter.com/cameron987                                                                                                               \n",
              "12      @beatrizchavez A dork? NO way... you are. I just have no shame... I #squarespace want #squarespace that #squarespace iPhone #squarespace.   \n",
              "13      2009-06-11 16:57:03                                                                                                                         \n",
              "14      http://twitter.com/selenato                                                                                                                 \n",
              "15      @okaaaa 本当ね！2週間楽しみがありすぎわ、まじで…本当きどうさんへの愛がこんな形になるとは…イナズマ大人のアニメだわ＞＜                       \n",
              "16      2009-06-11 16:57:30                                                                                                                         \n",
              "17      http://twitter.com/nbeasley10                                                                                                               \n",
              "18      Just got a chance to buy All-Star tickets tomorrow. God Bless the Cardinals                                                                 \n",
              "19      2009-06-11 16:57:31                                                                                                                         \n",
              "20      http://twitter.com/littlewing333                                                                                                            \n",
              "21      @kidhum and if an act has pull and they don't promote the show...how will their people ever know the show exists?                           \n",
              "22      2009-06-11 16:57:33                                                                                                                         \n",
              "23      http://twitter.com/lolcute                                                                                                                  \n",
              "24      mebbe U fetch http://tinyurl.com/nz4fbr                                                                                                     \n",
              "25      2009-06-11 16:57:36                                                                                                                         \n",
              "26      http://twitter.com/fr0st22                                                                                                                  \n",
              "27      I have broken 1,000 twitter updates. Paaaartaaaay!                                                                                          \n",
              "28      2009-06-11 16:57:59                                                                                                                         \n",
              "29      http://twitter.com/mavellsyrup                                                                                                              \n",
              "30      Food timmeeee :'D                                                                                                                           \n",
              "⋮       ⋮                                                                                                                                           \n",
              "1039850 http://twitter.com/preetisk                                                                                                                 \n",
              "1039851 RT @Acquired_Taste:Michael Jackson Im Sorry you couldn't tell the angels No ANd Heaven Couldn't wait.Oh How I WIll ALways Miss You Im So Sad\n",
              "1039852 2009-06-30 23:57:03                                                                                                                         \n",
              "1039853 http://twitter.com/focusedaily                                                                                                              \n",
              "1039854 RT @afronethea: P.S. friends...Vibe died a while ago. It's been a gossip mag in print for the last 4 yrs.                                   \n",
              "1039855 2009-06-30 23:57:04                                                                                                                         \n",
              "1039856 http://twitter.com/dean_coulson                                                                                                             \n",
              "1039857 I had an amazing day out in Brighton for Fin's Birthday, just not sure about the lobster look. It seems so last sun-burn. Happy Birthday Fin\n",
              "1039858 2009-06-30 23:57:08                                                                                                                         \n",
              "1039859 http://twitter.com/craiggentryjr                                                                                                            \n",
              "1039860 Just sponsored my first colombian child. I should've sooner. Very rewarding feeling that I have.                                            \n",
              "1039861 2009-06-30 23:57:13                                                                                                                         \n",
              "1039862 http://twitter.com/naylajones                                                                                                               \n",
              "1039863 @elianebatista HUASDHUAS obrigada pelas ajudas, mesmo!                                                                                      \n",
              "1039864 2009-06-30 23:57:13                                                                                                                         \n",
              "1039865 http://twitter.com/starwing                                                                                                                 \n",
              "1039866 just uploaded 38 new photos to Facebook \"DJ Craze & DJ Klever - 26 June 2009\" album: http://bit.ly/18LicI #photography                      \n",
              "1039867 2009-06-30 23:57:14                                                                                                                         \n",
              "1039868 http://twitter.com/hubbit                                                                                                                   \n",
              "1039869 RT @thejoshuablog: MUST READ: \"This Is Why Insurance Companies Fear The Public Option(Updated)\" ( http://bit.ly/14KiXS )                    \n",
              "1039870 2009-06-30 23:57:17                                                                                                                         \n",
              "1039871 http://twitter.com/kirkflorida                                                                                                              \n",
              "1039872 RT @vdavisson: RT @kirkflorida What is happening in Honduras from a Honduran in Honduras! | Kirk's Work at Home Blog http://cli.gs/u3qQT TU \n",
              "1039873 2009-06-30 23:57:34                                                                                                                         \n",
              "1039874 http://twitter.com/seokillertrial                                                                                                           \n",
              "1039875 Twitter + OpenInviter API + TweetLater = Massive Viral Traffic Flow!!!! http://tinyurl.com/cmbqrl                                           \n",
              "1039876 2009-06-30 23:57:36                                                                                                                         \n",
              "1039877 http://twitter.com/ericboothc21                                                                                                             \n",
              "1039878 Chicago Local > Quinn threatens 'double overtime' if no income tax increase approved http://tinyurl.com/ktjgec                              \n",
              "1039879 2009-06-30 23:57:53                                                                                                                         "
            ]
          },
          "metadata": {}
        }
      ],
      "source": [
        "# YOUR SOLUTION HERE \n",
        "url <- \"https://raw.githubusercontent.com/stats306/w23/main/homeworks/hw8/tweets.txt.gz\"\n",
        "tweets1 <- read_tsv(url, col_names = FALSE)\n",
        "tweets1"
      ]
    },
    {
      "cell_type": "markdown",
      "metadata": {
        "deletable": false,
        "editable": false,
        "id": "WBpEubc3GuwA",
        "run_control": {
          "frozen": true
        }
      },
      "source": [
        "**2(b) (0.5 point)**\n",
        "Next, convert `tweets1` so that it has three columns reflecting the three variables present in this data set. Store the resulting table in a variable called `tweets2`. The first rows of `tweets2` will now look like:\n",
        "```\n",
        "# A tibble: 3 x 3\n",
        "  T                   U                                W                       \n",
        "  <chr>               <chr>                            <chr>                   \n",
        "1 2009-06-11 00:00:03 http://twitter.com/imdb          No Post Title           \n",
        "2 2009-06-11 16:37:14 http://twitter.com/ncruralhealth No Post Title           \n",
        "3 2009-06-11 16:56:23 http://twitter.com/boydjones     \"listening to \\\"Big Liz…\n",
        "```\n",
        "(*Hint*: If you are having trouble getting this working on the full data set, try subsetting the table to a small number of rows in order to debug your code. Most likely you will use a function which requires each tripplet T, U, W to have the same row index.)"
      ]
    },
    {
      "cell_type": "code",
      "source": [
        "tweets2 <- tweets1 %>%\n",
        "  mutate(row=ceiling(row_number()/3))%>%\n",
        "  pivot_wider(names_from=X1,values_from=X2) %>%\n",
        "  select(-row)\n",
        "\n",
        "tweets2"
      ],
      "metadata": {
        "colab": {
          "base_uri": "https://localhost:8080/",
          "height": 1000
        },
        "id": "NugpJ0P1j6m5",
        "outputId": "34e88617-6a3b-427a-e2fb-1565fc119103"
      },
      "execution_count": 69,
      "outputs": [
        {
          "output_type": "display_data",
          "data": {
            "text/html": [
              "<table class=\"dataframe\">\n",
              "<caption>A tibble: 346627 × 3</caption>\n",
              "<thead>\n",
              "\t<tr><th scope=col>T</th><th scope=col>U</th><th scope=col>W</th></tr>\n",
              "\t<tr><th scope=col>&lt;chr&gt;</th><th scope=col>&lt;chr&gt;</th><th scope=col>&lt;chr&gt;</th></tr>\n",
              "</thead>\n",
              "<tbody>\n",
              "\t<tr><td>2009-06-11 00:00:03</td><td>http://twitter.com/imdb          </td><td>No Post Title                                                                                                                            </td></tr>\n",
              "\t<tr><td>2009-06-11 16:37:14</td><td>http://twitter.com/ncruralhealth </td><td>No Post Title                                                                                                                            </td></tr>\n",
              "\t<tr><td>2009-06-11 16:56:23</td><td>http://twitter.com/boydjones     </td><td>listening to \"Big Lizard - The Dead Milkmen\" ♫ http://blip.fm/~81kwz                                                                     </td></tr>\n",
              "\t<tr><td>2009-06-11 16:56:59</td><td>http://twitter.com/cameron987    </td><td>@beatrizchavez A dork? NO way... you are. I just have no shame... I #squarespace want #squarespace that #squarespace iPhone #squarespace.</td></tr>\n",
              "\t<tr><td>2009-06-11 16:57:03</td><td>http://twitter.com/selenato      </td><td>@okaaaa 本当ね！2週間楽しみがありすぎわ、まじで…本当きどうさんへの愛がこんな形になるとは…イナズマ大人のアニメだわ＞＜                    </td></tr>\n",
              "\t<tr><td>2009-06-11 16:57:30</td><td>http://twitter.com/nbeasley10    </td><td>Just got a chance to buy All-Star tickets tomorrow. God Bless the Cardinals                                                              </td></tr>\n",
              "\t<tr><td>2009-06-11 16:57:31</td><td>http://twitter.com/littlewing333 </td><td>@kidhum and if an act has pull and they don't promote the show...how will their people ever know the show exists?                        </td></tr>\n",
              "\t<tr><td>2009-06-11 16:57:33</td><td>http://twitter.com/lolcute       </td><td>mebbe U fetch http://tinyurl.com/nz4fbr                                                                                                  </td></tr>\n",
              "\t<tr><td>2009-06-11 16:57:36</td><td>http://twitter.com/fr0st22       </td><td>I have broken 1,000 twitter updates. Paaaartaaaay!                                                                                       </td></tr>\n",
              "\t<tr><td>2009-06-11 16:57:59</td><td>http://twitter.com/mavellsyrup   </td><td>Food timmeeee :'D                                                                                                                        </td></tr>\n",
              "\t<tr><td>2009-06-11 16:58:14</td><td>http://twitter.com/c4ha2na9      </td><td>Panda Express? What does panda taste like, anyway?                                                                                       </td></tr>\n",
              "\t<tr><td>2009-06-11 16:58:20</td><td><span style=white-space:pre-wrap>http://twitter.com/shopaneer     </span></td><td><span style=white-space:pre-wrap>New York &amp; Company Coupon - Printable Coupon: Save $25 Off Your Order of $75 or More http://bit.ly/bFt82                                 </span></td></tr>\n",
              "\t<tr><td>2009-06-11 16:58:26</td><td>http://twitter.com/seeroy        </td><td>deep thought: The smell of cig smoke will probably always make me think of jamie's suburban.                                             </td></tr>\n",
              "\t<tr><td>2009-06-11 16:58:29</td><td>http://twitter.com/ericktobing   </td><td>Jam segini masih di kantor? Siapa takut..?!                                                                                              </td></tr>\n",
              "\t<tr><td>2009-06-11 16:58:31</td><td>http://twitter.com/slimscotch    </td><td>i HATE lying Mofo's...with that said time's up honey, NO ONE plays me for a fool..NO FUCKING ONE.                                        </td></tr>\n",
              "\t<tr><td>2009-06-11 16:58:38</td><td>http://twitter.com/emijanekavy   </td><td>thursday just became saturday! thank you rain.                                                                                           </td></tr>\n",
              "\t<tr><td>2009-06-11 16:58:40</td><td>http://twitter.com/honeybeess    </td><td>@iamweb please tell me you know who im talking about!!                                                                                   </td></tr>\n",
              "\t<tr><td>2009-06-11 16:58:42</td><td>http://twitter.com/suwen         </td><td>Lima, Wales, Bath, Paris, Rome. One day i will :)                                                                                        </td></tr>\n",
              "\t<tr><td>2009-06-11 16:58:49</td><td>http://twitter.com/urbangeisha   </td><td>14 more hours until results. X_X                                                                                                         </td></tr>\n",
              "\t<tr><td>2009-06-11 16:59:02</td><td>http://twitter.com/heysupqt      </td><td>Noons late enough to drink a white russian right?                                                                                        </td></tr>\n",
              "\t<tr><td>2009-06-11 16:59:08</td><td>http://twitter.com/ozarksredcross</td><td>RT @Federation: Red Cross Red Crescent ready to respond to Influenza A (H1N1) pandemic. http://bit.ly/yCdTz #h1n1                        </td></tr>\n",
              "\t<tr><td>2009-06-11 16:59:11</td><td>http://twitter.com/everzor       </td><td>All I nwant is you to vote! http://bit.ly/za8qH                                                                                          </td></tr>\n",
              "\t<tr><td>2009-06-11 16:59:12</td><td>http://twitter.com/passion_killer</td><td>http://bit.ly/lTSht very fun!!                                                                                                           </td></tr>\n",
              "\t<tr><td>2009-06-11 16:59:14</td><td>http://twitter.com/twittzat      </td><td>Mobilier : un tabouret à dossier design et coloré (et pas cher !) http://bit.ly/1880ta                                                   </td></tr>\n",
              "\t<tr><td>2009-06-11 16:59:15</td><td>http://twitter.com/andymedeiros  </td><td>@kaaaii Meu DEUS! HUHUSHUAHUSHUAHUSA                                                                                                     </td></tr>\n",
              "\t<tr><td>2009-06-11 16:59:24</td><td>http://twitter.com/imway2smooth  </td><td>On my way to San Diego...                                                                                                                </td></tr>\n",
              "\t<tr><td>2009-06-11 16:59:25</td><td>http://twitter.com/goaliegirl    </td><td>@chollis Sorry, $215 for Wed-Sun, $269 for Thurs-Sun. Just search westjet.com for Vancouver to MTL for Jun 25-28. :) (@metricjulie)      </td></tr>\n",
              "\t<tr><td>2009-06-11 16:59:25</td><td>http://twitter.com/stephmott     </td><td>Wearing my new green jacket today. It's not supposed to be 60 degrees in June.                                                           </td></tr>\n",
              "\t<tr><td>2009-06-11 16:59:29</td><td>http://twitter.com/zackbrat      </td><td>shopping at the mall good shit at the place                                                                                              </td></tr>\n",
              "\t<tr><td>2009-06-11 16:59:30</td><td>http://twitter.com/claudiasjarif </td><td>@lollygloria wess yang pantai indah kapuk itu must go itu fun abis!!                                                                     </td></tr>\n",
              "\t<tr><td>⋮</td><td>⋮</td><td>⋮</td></tr>\n",
              "\t<tr><td>2009-06-30 23:52:48</td><td>http://twitter.com/chastity_chevy </td><td>hungry!                                                                                                                                     </td></tr>\n",
              "\t<tr><td>2009-06-30 23:52:51</td><td>http://twitter.com/pagemoney      </td><td>A cyber acronym is a movement? @bowwow614 lmao.                                                                                             </td></tr>\n",
              "\t<tr><td>2009-06-30 23:52:58</td><td>http://twitter.com/jacquelinehyde </td><td>So gettng an iPhone in the fall...omg just found some awesome programs that will let me be more efficent!                                   </td></tr>\n",
              "\t<tr><td>2009-06-30 23:53:20</td><td>http://twitter.com/isisjade       </td><td>RT @essentialoilsu - Less than 24 hours to go - http://www.essentialoilsuccess.com learn how to build a successful YL business today!       </td></tr>\n",
              "\t<tr><td>2009-06-30 23:53:21</td><td>http://twitter.com/entertainmentuk</td><td>Jackson Tickets: Take Refund Or Souvenir: Around 750,000 fans paid between £50 and £150 for tickets to the shows.. http://tinyurl.com/lvqckx</td></tr>\n",
              "\t<tr><td>2009-06-30 23:53:51</td><td>http://twitter.com/geekgirlsrule  </td><td>@bafadam What Govneh said. Seriously. Doctor!                                                                                               </td></tr>\n",
              "\t<tr><td>2009-06-30 23:54:24</td><td>http://twitter.com/macosdad       </td><td>iPhone SDK 3.1 beta is available for developer download. http://bit.ly/nEYQF (via @TUAW)                                                    </td></tr>\n",
              "\t<tr><td>2009-06-30 23:54:40</td><td>http://twitter.com/ink_slinger    </td><td>I should totally sign up for this...and not warn my friends or family in advance. http://is.gd/1ju5f                                        </td></tr>\n",
              "\t<tr><td>2009-06-30 23:55:17</td><td>http://twitter.com/_missbela      </td><td>I just took the \"Which McFLY member are you?\" quiz and got: Danny! Try it: http://bit.ly/wqijd                                              </td></tr>\n",
              "\t<tr><td>2009-06-30 23:55:24</td><td>http://twitter.com/dq_pencil      </td><td>みゃーおん！                                                                                                                                </td></tr>\n",
              "\t<tr><td>2009-06-30 23:55:26</td><td>http://twitter.com/woodenmask     </td><td>@hurumble When I'm on an interview panel, I judge by how many ideas I can rip off for use in my classroom. Passion trumps everything.       </td></tr>\n",
              "\t<tr><td>2009-06-30 23:55:36</td><td>http://twitter.com/fattlip        </td><td>LOL!!! RT @YouLookGreatsays there's an entire universe within you, which may explain your weight problem.                                   </td></tr>\n",
              "\t<tr><td>2009-06-30 23:55:49</td><td>http://twitter.com/howtotweets    </td><td>RT: I don't know how to use twitter :s http://tinyurl.com/nvxmu4                                                                            </td></tr>\n",
              "\t<tr><td>2009-06-30 23:56:19</td><td>http://twitter.com/kamparker      </td><td>RT @lilduval: I bet a thousand bucks that Lil mama and shenehneh got the same hairstylist. ROTFLMFAO!!!!!!!!!!!                             </td></tr>\n",
              "\t<tr><td>2009-06-30 23:56:21</td><td>http://twitter.com/gtnew          </td><td>RT @alaidi Tankan WORS THAN EXPCTD AX THE BOARD Larg manuf -48 exp -43, Capex seen dropping 9.4% -also worse than expected. but Nikkei      </td></tr>\n",
              "\t<tr><td>2009-06-30 23:56:23</td><td>http://twitter.com/freeusfromthem </td><td>RT @MattMackowiak: Donate to KBH for Gov TONIGHT {it costs a lot to have admitted liars on the band wagon--Got Clients?}                    </td></tr>\n",
              "\t<tr><td>2009-06-30 23:56:31</td><td>http://twitter.com/enigmad        </td><td>RT @ismashphone: Blogging 'iPhone SDK 3.1 Beta is Available for Developers' http://bit.ly/yQxgs                                             </td></tr>\n",
              "\t<tr><td>2009-06-30 23:56:48</td><td>http://twitter.com/orbixint       </td><td>RT @bradgal: RT @USATODAY: Farrah Fawcett being laid to rest at funeral in L.A. http://tinyurl.com/lmnnba                                   </td></tr>\n",
              "\t<tr><td>2009-06-30 23:56:58</td><td>http://twitter.com/itsdestro      </td><td>RT @entreprediva: The darkest hour has only sixty minutes.~Morris Mandel. Good point.                                                       </td></tr>\n",
              "\t<tr><td>2009-06-30 23:57:01</td><td>http://twitter.com/preetisk       </td><td>RT @Acquired_Taste:Michael Jackson Im Sorry you couldn't tell the angels No ANd Heaven Couldn't wait.Oh How I WIll ALways Miss You Im So Sad</td></tr>\n",
              "\t<tr><td>2009-06-30 23:57:03</td><td>http://twitter.com/focusedaily    </td><td>RT @afronethea: P.S. friends...Vibe died a while ago. It's been a gossip mag in print for the last 4 yrs.                                   </td></tr>\n",
              "\t<tr><td>2009-06-30 23:57:04</td><td>http://twitter.com/dean_coulson   </td><td>I had an amazing day out in Brighton for Fin's Birthday, just not sure about the lobster look. It seems so last sun-burn. Happy Birthday Fin</td></tr>\n",
              "\t<tr><td>2009-06-30 23:57:08</td><td>http://twitter.com/craiggentryjr  </td><td>Just sponsored my first colombian child. I should've sooner. Very rewarding feeling that I have.                                            </td></tr>\n",
              "\t<tr><td>2009-06-30 23:57:13</td><td>http://twitter.com/naylajones     </td><td>@elianebatista HUASDHUAS obrigada pelas ajudas, mesmo!                                                                                      </td></tr>\n",
              "\t<tr><td>2009-06-30 23:57:13</td><td><span style=white-space:pre-wrap>http://twitter.com/starwing       </span></td><td><span style=white-space:pre-wrap>just uploaded 38 new photos to Facebook \"DJ Craze &amp; DJ Klever - 26 June 2009\" album: http://bit.ly/18LicI #photography                      </span></td></tr>\n",
              "\t<tr><td>2009-06-30 23:57:14</td><td>http://twitter.com/hubbit         </td><td>RT @thejoshuablog: MUST READ: \"This Is Why Insurance Companies Fear The Public Option(Updated)\" ( http://bit.ly/14KiXS )                    </td></tr>\n",
              "\t<tr><td>2009-06-30 23:57:17</td><td>http://twitter.com/kirkflorida    </td><td>RT @vdavisson: RT @kirkflorida What is happening in Honduras from a Honduran in Honduras! | Kirk's Work at Home Blog http://cli.gs/u3qQT TU </td></tr>\n",
              "\t<tr><td>2009-06-30 23:57:34</td><td>http://twitter.com/seokillertrial </td><td>Twitter + OpenInviter API + TweetLater = Massive Viral Traffic Flow!!!! http://tinyurl.com/cmbqrl                                           </td></tr>\n",
              "\t<tr><td>2009-06-30 23:57:36</td><td><span style=white-space:pre-wrap>http://twitter.com/ericboothc21   </span></td><td><span style=white-space:pre-wrap>Chicago Local &gt; Quinn threatens 'double overtime' if no income tax increase approved http://tinyurl.com/ktjgec                              </span></td></tr>\n",
              "\t<tr><td>2009-06-30 23:57:53</td><td>NA                                </td><td>NA                                                                                                                                          </td></tr>\n",
              "</tbody>\n",
              "</table>\n"
            ],
            "text/markdown": "\nA tibble: 346627 × 3\n\n| T &lt;chr&gt; | U &lt;chr&gt; | W &lt;chr&gt; |\n|---|---|---|\n| 2009-06-11 00:00:03 | http://twitter.com/imdb           | No Post Title                                                                                                                             |\n| 2009-06-11 16:37:14 | http://twitter.com/ncruralhealth  | No Post Title                                                                                                                             |\n| 2009-06-11 16:56:23 | http://twitter.com/boydjones      | listening to \"Big Lizard - The Dead Milkmen\" ♫ http://blip.fm/~81kwz                                                                      |\n| 2009-06-11 16:56:59 | http://twitter.com/cameron987     | @beatrizchavez A dork? NO way... you are. I just have no shame... I #squarespace want #squarespace that #squarespace iPhone #squarespace. |\n| 2009-06-11 16:57:03 | http://twitter.com/selenato       | @okaaaa 本当ね！2週間楽しみがありすぎわ、まじで…本当きどうさんへの愛がこんな形になるとは…イナズマ大人のアニメだわ＞＜                     |\n| 2009-06-11 16:57:30 | http://twitter.com/nbeasley10     | Just got a chance to buy All-Star tickets tomorrow. God Bless the Cardinals                                                               |\n| 2009-06-11 16:57:31 | http://twitter.com/littlewing333  | @kidhum and if an act has pull and they don't promote the show...how will their people ever know the show exists?                         |\n| 2009-06-11 16:57:33 | http://twitter.com/lolcute        | mebbe U fetch http://tinyurl.com/nz4fbr                                                                                                   |\n| 2009-06-11 16:57:36 | http://twitter.com/fr0st22        | I have broken 1,000 twitter updates. Paaaartaaaay!                                                                                        |\n| 2009-06-11 16:57:59 | http://twitter.com/mavellsyrup    | Food timmeeee :'D                                                                                                                         |\n| 2009-06-11 16:58:14 | http://twitter.com/c4ha2na9       | Panda Express? What does panda taste like, anyway?                                                                                        |\n| 2009-06-11 16:58:20 | http://twitter.com/shopaneer      | New York &amp; Company Coupon - Printable Coupon: Save $25 Off Your Order of $75 or More http://bit.ly/bFt82                                  |\n| 2009-06-11 16:58:26 | http://twitter.com/seeroy         | deep thought: The smell of cig smoke will probably always make me think of jamie's suburban.                                              |\n| 2009-06-11 16:58:29 | http://twitter.com/ericktobing    | Jam segini masih di kantor? Siapa takut..?!                                                                                               |\n| 2009-06-11 16:58:31 | http://twitter.com/slimscotch     | i HATE lying Mofo's...with that said time's up honey, NO ONE plays me for a fool..NO FUCKING ONE.                                         |\n| 2009-06-11 16:58:38 | http://twitter.com/emijanekavy    | thursday just became saturday! thank you rain.                                                                                            |\n| 2009-06-11 16:58:40 | http://twitter.com/honeybeess     | @iamweb please tell me you know who im talking about!!                                                                                    |\n| 2009-06-11 16:58:42 | http://twitter.com/suwen          | Lima, Wales, Bath, Paris, Rome. One day i will :)                                                                                         |\n| 2009-06-11 16:58:49 | http://twitter.com/urbangeisha    | 14 more hours until results. X_X                                                                                                          |\n| 2009-06-11 16:59:02 | http://twitter.com/heysupqt       | Noons late enough to drink a white russian right?                                                                                         |\n| 2009-06-11 16:59:08 | http://twitter.com/ozarksredcross | RT @Federation: Red Cross Red Crescent ready to respond to Influenza A (H1N1) pandemic. http://bit.ly/yCdTz #h1n1                         |\n| 2009-06-11 16:59:11 | http://twitter.com/everzor        | All I nwant is you to vote! http://bit.ly/za8qH                                                                                           |\n| 2009-06-11 16:59:12 | http://twitter.com/passion_killer | http://bit.ly/lTSht very fun!!                                                                                                            |\n| 2009-06-11 16:59:14 | http://twitter.com/twittzat       | Mobilier : un tabouret à dossier design et coloré (et pas cher !) http://bit.ly/1880ta                                                    |\n| 2009-06-11 16:59:15 | http://twitter.com/andymedeiros   | @kaaaii Meu DEUS! HUHUSHUAHUSHUAHUSA                                                                                                      |\n| 2009-06-11 16:59:24 | http://twitter.com/imway2smooth   | On my way to San Diego...                                                                                                                 |\n| 2009-06-11 16:59:25 | http://twitter.com/goaliegirl     | @chollis Sorry, $215 for Wed-Sun, $269 for Thurs-Sun. Just search westjet.com for Vancouver to MTL for Jun 25-28. :) (@metricjulie)       |\n| 2009-06-11 16:59:25 | http://twitter.com/stephmott      | Wearing my new green jacket today. It's not supposed to be 60 degrees in June.                                                            |\n| 2009-06-11 16:59:29 | http://twitter.com/zackbrat       | shopping at the mall good shit at the place                                                                                               |\n| 2009-06-11 16:59:30 | http://twitter.com/claudiasjarif  | @lollygloria wess yang pantai indah kapuk itu must go itu fun abis!!                                                                      |\n| ⋮ | ⋮ | ⋮ |\n| 2009-06-30 23:52:48 | http://twitter.com/chastity_chevy  | hungry!                                                                                                                                      |\n| 2009-06-30 23:52:51 | http://twitter.com/pagemoney       | A cyber acronym is a movement? @bowwow614 lmao.                                                                                              |\n| 2009-06-30 23:52:58 | http://twitter.com/jacquelinehyde  | So gettng an iPhone in the fall...omg just found some awesome programs that will let me be more efficent!                                    |\n| 2009-06-30 23:53:20 | http://twitter.com/isisjade        | RT @essentialoilsu - Less than 24 hours to go - http://www.essentialoilsuccess.com learn how to build a successful YL business today!        |\n| 2009-06-30 23:53:21 | http://twitter.com/entertainmentuk | Jackson Tickets: Take Refund Or Souvenir: Around 750,000 fans paid between £50 and £150 for tickets to the shows.. http://tinyurl.com/lvqckx |\n| 2009-06-30 23:53:51 | http://twitter.com/geekgirlsrule   | @bafadam What Govneh said. Seriously. Doctor!                                                                                                |\n| 2009-06-30 23:54:24 | http://twitter.com/macosdad        | iPhone SDK 3.1 beta is available for developer download. http://bit.ly/nEYQF (via @TUAW)                                                     |\n| 2009-06-30 23:54:40 | http://twitter.com/ink_slinger     | I should totally sign up for this...and not warn my friends or family in advance. http://is.gd/1ju5f                                         |\n| 2009-06-30 23:55:17 | http://twitter.com/_missbela       | I just took the \"Which McFLY member are you?\" quiz and got: Danny! Try it: http://bit.ly/wqijd                                               |\n| 2009-06-30 23:55:24 | http://twitter.com/dq_pencil       | みゃーおん！                                                                                                                                 |\n| 2009-06-30 23:55:26 | http://twitter.com/woodenmask      | @hurumble When I'm on an interview panel, I judge by how many ideas I can rip off for use in my classroom. Passion trumps everything.        |\n| 2009-06-30 23:55:36 | http://twitter.com/fattlip         | LOL!!! RT @YouLookGreatsays there's an entire universe within you, which may explain your weight problem.                                    |\n| 2009-06-30 23:55:49 | http://twitter.com/howtotweets     | RT: I don't know how to use twitter :s http://tinyurl.com/nvxmu4                                                                             |\n| 2009-06-30 23:56:19 | http://twitter.com/kamparker       | RT @lilduval: I bet a thousand bucks that Lil mama and shenehneh got the same hairstylist. ROTFLMFAO!!!!!!!!!!!                              |\n| 2009-06-30 23:56:21 | http://twitter.com/gtnew           | RT @alaidi Tankan WORS THAN EXPCTD AX THE BOARD Larg manuf -48 exp -43, Capex seen dropping 9.4% -also worse than expected. but Nikkei       |\n| 2009-06-30 23:56:23 | http://twitter.com/freeusfromthem  | RT @MattMackowiak: Donate to KBH for Gov TONIGHT {it costs a lot to have admitted liars on the band wagon--Got Clients?}                     |\n| 2009-06-30 23:56:31 | http://twitter.com/enigmad         | RT @ismashphone: Blogging 'iPhone SDK 3.1 Beta is Available for Developers' http://bit.ly/yQxgs                                              |\n| 2009-06-30 23:56:48 | http://twitter.com/orbixint        | RT @bradgal: RT @USATODAY: Farrah Fawcett being laid to rest at funeral in L.A. http://tinyurl.com/lmnnba                                    |\n| 2009-06-30 23:56:58 | http://twitter.com/itsdestro       | RT @entreprediva: The darkest hour has only sixty minutes.~Morris Mandel. Good point.                                                        |\n| 2009-06-30 23:57:01 | http://twitter.com/preetisk        | RT @Acquired_Taste:Michael Jackson Im Sorry you couldn't tell the angels No ANd Heaven Couldn't wait.Oh How I WIll ALways Miss You Im So Sad |\n| 2009-06-30 23:57:03 | http://twitter.com/focusedaily     | RT @afronethea: P.S. friends...Vibe died a while ago. It's been a gossip mag in print for the last 4 yrs.                                    |\n| 2009-06-30 23:57:04 | http://twitter.com/dean_coulson    | I had an amazing day out in Brighton for Fin's Birthday, just not sure about the lobster look. It seems so last sun-burn. Happy Birthday Fin |\n| 2009-06-30 23:57:08 | http://twitter.com/craiggentryjr   | Just sponsored my first colombian child. I should've sooner. Very rewarding feeling that I have.                                             |\n| 2009-06-30 23:57:13 | http://twitter.com/naylajones      | @elianebatista HUASDHUAS obrigada pelas ajudas, mesmo!                                                                                       |\n| 2009-06-30 23:57:13 | http://twitter.com/starwing        | just uploaded 38 new photos to Facebook \"DJ Craze &amp; DJ Klever - 26 June 2009\" album: http://bit.ly/18LicI #photography                       |\n| 2009-06-30 23:57:14 | http://twitter.com/hubbit          | RT @thejoshuablog: MUST READ: \"This Is Why Insurance Companies Fear The Public Option(Updated)\" ( http://bit.ly/14KiXS )                     |\n| 2009-06-30 23:57:17 | http://twitter.com/kirkflorida     | RT @vdavisson: RT @kirkflorida What is happening in Honduras from a Honduran in Honduras! | Kirk's Work at Home Blog http://cli.gs/u3qQT TU  |\n| 2009-06-30 23:57:34 | http://twitter.com/seokillertrial  | Twitter + OpenInviter API + TweetLater = Massive Viral Traffic Flow!!!! http://tinyurl.com/cmbqrl                                            |\n| 2009-06-30 23:57:36 | http://twitter.com/ericboothc21    | Chicago Local &gt; Quinn threatens 'double overtime' if no income tax increase approved http://tinyurl.com/ktjgec                               |\n| 2009-06-30 23:57:53 | NA                                 | NA                                                                                                                                           |\n\n",
            "text/latex": "A tibble: 346627 × 3\n\\begin{tabular}{lll}\n T & U & W\\\\\n <chr> & <chr> & <chr>\\\\\n\\hline\n\t 2009-06-11 00:00:03 & http://twitter.com/imdb           & No Post Title                                                                                                                            \\\\\n\t 2009-06-11 16:37:14 & http://twitter.com/ncruralhealth  & No Post Title                                                                                                                            \\\\\n\t 2009-06-11 16:56:23 & http://twitter.com/boydjones      & listening to \"Big Lizard - The Dead Milkmen\" ♫ http://blip.fm/\\textasciitilde{}81kwz                                                                     \\\\\n\t 2009-06-11 16:56:59 & http://twitter.com/cameron987     & @beatrizchavez A dork? NO way... you are. I just have no shame... I \\#squarespace want \\#squarespace that \\#squarespace iPhone \\#squarespace.\\\\\n\t 2009-06-11 16:57:03 & http://twitter.com/selenato       & @okaaaa 本当ね！2週間楽しみがありすぎわ、まじで…本当きどうさんへの愛がこんな形になるとは…イナズマ大人のアニメだわ＞＜                    \\\\\n\t 2009-06-11 16:57:30 & http://twitter.com/nbeasley10     & Just got a chance to buy All-Star tickets tomorrow. God Bless the Cardinals                                                              \\\\\n\t 2009-06-11 16:57:31 & http://twitter.com/littlewing333  & @kidhum and if an act has pull and they don't promote the show...how will their people ever know the show exists?                        \\\\\n\t 2009-06-11 16:57:33 & http://twitter.com/lolcute        & mebbe U fetch http://tinyurl.com/nz4fbr                                                                                                  \\\\\n\t 2009-06-11 16:57:36 & http://twitter.com/fr0st22        & I have broken 1,000 twitter updates. Paaaartaaaay!                                                                                       \\\\\n\t 2009-06-11 16:57:59 & http://twitter.com/mavellsyrup    & Food timmeeee :'D                                                                                                                        \\\\\n\t 2009-06-11 16:58:14 & http://twitter.com/c4ha2na9       & Panda Express? What does panda taste like, anyway?                                                                                       \\\\\n\t 2009-06-11 16:58:20 & http://twitter.com/shopaneer      & New York \\& Company Coupon - Printable Coupon: Save \\$25 Off Your Order of \\$75 or More http://bit.ly/bFt82                                 \\\\\n\t 2009-06-11 16:58:26 & http://twitter.com/seeroy         & deep thought: The smell of cig smoke will probably always make me think of jamie's suburban.                                             \\\\\n\t 2009-06-11 16:58:29 & http://twitter.com/ericktobing    & Jam segini masih di kantor? Siapa takut..?!                                                                                              \\\\\n\t 2009-06-11 16:58:31 & http://twitter.com/slimscotch     & i HATE lying Mofo's...with that said time's up honey, NO ONE plays me for a fool..NO FUCKING ONE.                                        \\\\\n\t 2009-06-11 16:58:38 & http://twitter.com/emijanekavy    & thursday just became saturday! thank you rain.                                                                                           \\\\\n\t 2009-06-11 16:58:40 & http://twitter.com/honeybeess     & @iamweb please tell me you know who im talking about!!                                                                                   \\\\\n\t 2009-06-11 16:58:42 & http://twitter.com/suwen          & Lima, Wales, Bath, Paris, Rome. One day i will :)                                                                                        \\\\\n\t 2009-06-11 16:58:49 & http://twitter.com/urbangeisha    & 14 more hours until results. X\\_X                                                                                                         \\\\\n\t 2009-06-11 16:59:02 & http://twitter.com/heysupqt       & Noons late enough to drink a white russian right?                                                                                        \\\\\n\t 2009-06-11 16:59:08 & http://twitter.com/ozarksredcross & RT @Federation: Red Cross Red Crescent ready to respond to Influenza A (H1N1) pandemic. http://bit.ly/yCdTz \\#h1n1                        \\\\\n\t 2009-06-11 16:59:11 & http://twitter.com/everzor        & All I nwant is you to vote! http://bit.ly/za8qH                                                                                          \\\\\n\t 2009-06-11 16:59:12 & http://twitter.com/passion\\_killer & http://bit.ly/lTSht very fun!!                                                                                                           \\\\\n\t 2009-06-11 16:59:14 & http://twitter.com/twittzat       & Mobilier : un tabouret à dossier design et coloré (et pas cher !) http://bit.ly/1880ta                                                   \\\\\n\t 2009-06-11 16:59:15 & http://twitter.com/andymedeiros   & @kaaaii Meu DEUS! HUHUSHUAHUSHUAHUSA                                                                                                     \\\\\n\t 2009-06-11 16:59:24 & http://twitter.com/imway2smooth   & On my way to San Diego...                                                                                                                \\\\\n\t 2009-06-11 16:59:25 & http://twitter.com/goaliegirl     & @chollis Sorry, \\$215 for Wed-Sun, \\$269 for Thurs-Sun. Just search westjet.com for Vancouver to MTL for Jun 25-28. :) (@metricjulie)      \\\\\n\t 2009-06-11 16:59:25 & http://twitter.com/stephmott      & Wearing my new green jacket today. It's not supposed to be 60 degrees in June.                                                           \\\\\n\t 2009-06-11 16:59:29 & http://twitter.com/zackbrat       & shopping at the mall good shit at the place                                                                                              \\\\\n\t 2009-06-11 16:59:30 & http://twitter.com/claudiasjarif  & @lollygloria wess yang pantai indah kapuk itu must go itu fun abis!!                                                                     \\\\\n\t ⋮ & ⋮ & ⋮\\\\\n\t 2009-06-30 23:52:48 & http://twitter.com/chastity\\_chevy  & hungry!                                                                                                                                     \\\\\n\t 2009-06-30 23:52:51 & http://twitter.com/pagemoney       & A cyber acronym is a movement? @bowwow614 lmao.                                                                                             \\\\\n\t 2009-06-30 23:52:58 & http://twitter.com/jacquelinehyde  & So gettng an iPhone in the fall...omg just found some awesome programs that will let me be more efficent!                                   \\\\\n\t 2009-06-30 23:53:20 & http://twitter.com/isisjade        & RT @essentialoilsu - Less than 24 hours to go - http://www.essentialoilsuccess.com learn how to build a successful YL business today!       \\\\\n\t 2009-06-30 23:53:21 & http://twitter.com/entertainmentuk & Jackson Tickets: Take Refund Or Souvenir: Around 750,000 fans paid between £50 and £150 for tickets to the shows.. http://tinyurl.com/lvqckx\\\\\n\t 2009-06-30 23:53:51 & http://twitter.com/geekgirlsrule   & @bafadam What Govneh said. Seriously. Doctor!                                                                                               \\\\\n\t 2009-06-30 23:54:24 & http://twitter.com/macosdad        & iPhone SDK 3.1 beta is available for developer download. http://bit.ly/nEYQF (via @TUAW)                                                    \\\\\n\t 2009-06-30 23:54:40 & http://twitter.com/ink\\_slinger     & I should totally sign up for this...and not warn my friends or family in advance. http://is.gd/1ju5f                                        \\\\\n\t 2009-06-30 23:55:17 & http://twitter.com/\\_missbela       & I just took the \"Which McFLY member are you?\" quiz and got: Danny! Try it: http://bit.ly/wqijd                                              \\\\\n\t 2009-06-30 23:55:24 & http://twitter.com/dq\\_pencil       & みゃーおん！                                                                                                                                \\\\\n\t 2009-06-30 23:55:26 & http://twitter.com/woodenmask      & @hurumble When I'm on an interview panel, I judge by how many ideas I can rip off for use in my classroom. Passion trumps everything.       \\\\\n\t 2009-06-30 23:55:36 & http://twitter.com/fattlip         & LOL!!! RT @YouLookGreatsays there's an entire universe within you, which may explain your weight problem.                                   \\\\\n\t 2009-06-30 23:55:49 & http://twitter.com/howtotweets     & RT: I don't know how to use twitter :s http://tinyurl.com/nvxmu4                                                                            \\\\\n\t 2009-06-30 23:56:19 & http://twitter.com/kamparker       & RT @lilduval: I bet a thousand bucks that Lil mama and shenehneh got the same hairstylist. ROTFLMFAO!!!!!!!!!!!                             \\\\\n\t 2009-06-30 23:56:21 & http://twitter.com/gtnew           & RT @alaidi Tankan WORS THAN EXPCTD AX THE BOARD Larg manuf -48 exp -43, Capex seen dropping 9.4\\% -also worse than expected. but Nikkei      \\\\\n\t 2009-06-30 23:56:23 & http://twitter.com/freeusfromthem  & RT @MattMackowiak: Donate to KBH for Gov TONIGHT \\{it costs a lot to have admitted liars on the band wagon--Got Clients?\\}                    \\\\\n\t 2009-06-30 23:56:31 & http://twitter.com/enigmad         & RT @ismashphone: Blogging 'iPhone SDK 3.1 Beta is Available for Developers' http://bit.ly/yQxgs                                             \\\\\n\t 2009-06-30 23:56:48 & http://twitter.com/orbixint        & RT @bradgal: RT @USATODAY: Farrah Fawcett being laid to rest at funeral in L.A. http://tinyurl.com/lmnnba                                   \\\\\n\t 2009-06-30 23:56:58 & http://twitter.com/itsdestro       & RT @entreprediva: The darkest hour has only sixty minutes.\\textasciitilde{}Morris Mandel. Good point.                                                       \\\\\n\t 2009-06-30 23:57:01 & http://twitter.com/preetisk        & RT @Acquired\\_Taste:Michael Jackson Im Sorry you couldn't tell the angels No ANd Heaven Couldn't wait.Oh How I WIll ALways Miss You Im So Sad\\\\\n\t 2009-06-30 23:57:03 & http://twitter.com/focusedaily     & RT @afronethea: P.S. friends...Vibe died a while ago. It's been a gossip mag in print for the last 4 yrs.                                   \\\\\n\t 2009-06-30 23:57:04 & http://twitter.com/dean\\_coulson    & I had an amazing day out in Brighton for Fin's Birthday, just not sure about the lobster look. It seems so last sun-burn. Happy Birthday Fin\\\\\n\t 2009-06-30 23:57:08 & http://twitter.com/craiggentryjr   & Just sponsored my first colombian child. I should've sooner. Very rewarding feeling that I have.                                            \\\\\n\t 2009-06-30 23:57:13 & http://twitter.com/naylajones      & @elianebatista HUASDHUAS obrigada pelas ajudas, mesmo!                                                                                      \\\\\n\t 2009-06-30 23:57:13 & http://twitter.com/starwing        & just uploaded 38 new photos to Facebook \"DJ Craze \\& DJ Klever - 26 June 2009\" album: http://bit.ly/18LicI \\#photography                      \\\\\n\t 2009-06-30 23:57:14 & http://twitter.com/hubbit          & RT @thejoshuablog: MUST READ: \"This Is Why Insurance Companies Fear The Public Option(Updated)\" ( http://bit.ly/14KiXS )                    \\\\\n\t 2009-06-30 23:57:17 & http://twitter.com/kirkflorida     & RT @vdavisson: RT @kirkflorida What is happening in Honduras from a Honduran in Honduras! \\textbar{} Kirk's Work at Home Blog http://cli.gs/u3qQT TU \\\\\n\t 2009-06-30 23:57:34 & http://twitter.com/seokillertrial  & Twitter + OpenInviter API + TweetLater = Massive Viral Traffic Flow!!!! http://tinyurl.com/cmbqrl                                           \\\\\n\t 2009-06-30 23:57:36 & http://twitter.com/ericboothc21    & Chicago Local > Quinn threatens 'double overtime' if no income tax increase approved http://tinyurl.com/ktjgec                              \\\\\n\t 2009-06-30 23:57:53 & NA                                 & NA                                                                                                                                          \\\\\n\\end{tabular}\n",
            "text/plain": [
              "       T                   U                                 \n",
              "1      2009-06-11 00:00:03 http://twitter.com/imdb           \n",
              "2      2009-06-11 16:37:14 http://twitter.com/ncruralhealth  \n",
              "3      2009-06-11 16:56:23 http://twitter.com/boydjones      \n",
              "4      2009-06-11 16:56:59 http://twitter.com/cameron987     \n",
              "5      2009-06-11 16:57:03 http://twitter.com/selenato       \n",
              "6      2009-06-11 16:57:30 http://twitter.com/nbeasley10     \n",
              "7      2009-06-11 16:57:31 http://twitter.com/littlewing333  \n",
              "8      2009-06-11 16:57:33 http://twitter.com/lolcute        \n",
              "9      2009-06-11 16:57:36 http://twitter.com/fr0st22        \n",
              "10     2009-06-11 16:57:59 http://twitter.com/mavellsyrup    \n",
              "11     2009-06-11 16:58:14 http://twitter.com/c4ha2na9       \n",
              "12     2009-06-11 16:58:20 http://twitter.com/shopaneer      \n",
              "13     2009-06-11 16:58:26 http://twitter.com/seeroy         \n",
              "14     2009-06-11 16:58:29 http://twitter.com/ericktobing    \n",
              "15     2009-06-11 16:58:31 http://twitter.com/slimscotch     \n",
              "16     2009-06-11 16:58:38 http://twitter.com/emijanekavy    \n",
              "17     2009-06-11 16:58:40 http://twitter.com/honeybeess     \n",
              "18     2009-06-11 16:58:42 http://twitter.com/suwen          \n",
              "19     2009-06-11 16:58:49 http://twitter.com/urbangeisha    \n",
              "20     2009-06-11 16:59:02 http://twitter.com/heysupqt       \n",
              "21     2009-06-11 16:59:08 http://twitter.com/ozarksredcross \n",
              "22     2009-06-11 16:59:11 http://twitter.com/everzor        \n",
              "23     2009-06-11 16:59:12 http://twitter.com/passion_killer \n",
              "24     2009-06-11 16:59:14 http://twitter.com/twittzat       \n",
              "25     2009-06-11 16:59:15 http://twitter.com/andymedeiros   \n",
              "26     2009-06-11 16:59:24 http://twitter.com/imway2smooth   \n",
              "27     2009-06-11 16:59:25 http://twitter.com/goaliegirl     \n",
              "28     2009-06-11 16:59:25 http://twitter.com/stephmott      \n",
              "29     2009-06-11 16:59:29 http://twitter.com/zackbrat       \n",
              "30     2009-06-11 16:59:30 http://twitter.com/claudiasjarif  \n",
              "⋮      ⋮                   ⋮                                 \n",
              "346598 2009-06-30 23:52:48 http://twitter.com/chastity_chevy \n",
              "346599 2009-06-30 23:52:51 http://twitter.com/pagemoney      \n",
              "346600 2009-06-30 23:52:58 http://twitter.com/jacquelinehyde \n",
              "346601 2009-06-30 23:53:20 http://twitter.com/isisjade       \n",
              "346602 2009-06-30 23:53:21 http://twitter.com/entertainmentuk\n",
              "346603 2009-06-30 23:53:51 http://twitter.com/geekgirlsrule  \n",
              "346604 2009-06-30 23:54:24 http://twitter.com/macosdad       \n",
              "346605 2009-06-30 23:54:40 http://twitter.com/ink_slinger    \n",
              "346606 2009-06-30 23:55:17 http://twitter.com/_missbela      \n",
              "346607 2009-06-30 23:55:24 http://twitter.com/dq_pencil      \n",
              "346608 2009-06-30 23:55:26 http://twitter.com/woodenmask     \n",
              "346609 2009-06-30 23:55:36 http://twitter.com/fattlip        \n",
              "346610 2009-06-30 23:55:49 http://twitter.com/howtotweets    \n",
              "346611 2009-06-30 23:56:19 http://twitter.com/kamparker      \n",
              "346612 2009-06-30 23:56:21 http://twitter.com/gtnew          \n",
              "346613 2009-06-30 23:56:23 http://twitter.com/freeusfromthem \n",
              "346614 2009-06-30 23:56:31 http://twitter.com/enigmad        \n",
              "346615 2009-06-30 23:56:48 http://twitter.com/orbixint       \n",
              "346616 2009-06-30 23:56:58 http://twitter.com/itsdestro      \n",
              "346617 2009-06-30 23:57:01 http://twitter.com/preetisk       \n",
              "346618 2009-06-30 23:57:03 http://twitter.com/focusedaily    \n",
              "346619 2009-06-30 23:57:04 http://twitter.com/dean_coulson   \n",
              "346620 2009-06-30 23:57:08 http://twitter.com/craiggentryjr  \n",
              "346621 2009-06-30 23:57:13 http://twitter.com/naylajones     \n",
              "346622 2009-06-30 23:57:13 http://twitter.com/starwing       \n",
              "346623 2009-06-30 23:57:14 http://twitter.com/hubbit         \n",
              "346624 2009-06-30 23:57:17 http://twitter.com/kirkflorida    \n",
              "346625 2009-06-30 23:57:34 http://twitter.com/seokillertrial \n",
              "346626 2009-06-30 23:57:36 http://twitter.com/ericboothc21   \n",
              "346627 2009-06-30 23:57:53 NA                                \n",
              "       W                                                                                                                                           \n",
              "1      No Post Title                                                                                                                               \n",
              "2      No Post Title                                                                                                                               \n",
              "3      listening to \"Big Lizard - The Dead Milkmen\" ♫ http://blip.fm/~81kwz                                                                        \n",
              "4      @beatrizchavez A dork? NO way... you are. I just have no shame... I #squarespace want #squarespace that #squarespace iPhone #squarespace.   \n",
              "5      @okaaaa 本当ね！2週間楽しみがありすぎわ、まじで…本当きどうさんへの愛がこんな形になるとは…イナズマ大人のアニメだわ＞＜                       \n",
              "6      Just got a chance to buy All-Star tickets tomorrow. God Bless the Cardinals                                                                 \n",
              "7      @kidhum and if an act has pull and they don't promote the show...how will their people ever know the show exists?                           \n",
              "8      mebbe U fetch http://tinyurl.com/nz4fbr                                                                                                     \n",
              "9      I have broken 1,000 twitter updates. Paaaartaaaay!                                                                                          \n",
              "10     Food timmeeee :'D                                                                                                                           \n",
              "11     Panda Express? What does panda taste like, anyway?                                                                                          \n",
              "12     New York & Company Coupon - Printable Coupon: Save $25 Off Your Order of $75 or More http://bit.ly/bFt82                                    \n",
              "13     deep thought: The smell of cig smoke will probably always make me think of jamie's suburban.                                                \n",
              "14     Jam segini masih di kantor? Siapa takut..?!                                                                                                 \n",
              "15     i HATE lying Mofo's...with that said time's up honey, NO ONE plays me for a fool..NO FUCKING ONE.                                           \n",
              "16     thursday just became saturday! thank you rain.                                                                                              \n",
              "17     @iamweb please tell me you know who im talking about!!                                                                                      \n",
              "18     Lima, Wales, Bath, Paris, Rome. One day i will :)                                                                                           \n",
              "19     14 more hours until results. X_X                                                                                                            \n",
              "20     Noons late enough to drink a white russian right?                                                                                           \n",
              "21     RT @Federation: Red Cross Red Crescent ready to respond to Influenza A (H1N1) pandemic. http://bit.ly/yCdTz #h1n1                           \n",
              "22     All I nwant is you to vote! http://bit.ly/za8qH                                                                                             \n",
              "23     http://bit.ly/lTSht very fun!!                                                                                                              \n",
              "24     Mobilier : un tabouret à dossier design et coloré (et pas cher !) http://bit.ly/1880ta                                                      \n",
              "25     @kaaaii Meu DEUS! HUHUSHUAHUSHUAHUSA                                                                                                        \n",
              "26     On my way to San Diego...                                                                                                                   \n",
              "27     @chollis Sorry, $215 for Wed-Sun, $269 for Thurs-Sun. Just search westjet.com for Vancouver to MTL for Jun 25-28. :) (@metricjulie)         \n",
              "28     Wearing my new green jacket today. It's not supposed to be 60 degrees in June.                                                              \n",
              "29     shopping at the mall good shit at the place                                                                                                 \n",
              "30     @lollygloria wess yang pantai indah kapuk itu must go itu fun abis!!                                                                        \n",
              "⋮      ⋮                                                                                                                                           \n",
              "346598 hungry!                                                                                                                                     \n",
              "346599 A cyber acronym is a movement? @bowwow614 lmao.                                                                                             \n",
              "346600 So gettng an iPhone in the fall...omg just found some awesome programs that will let me be more efficent!                                   \n",
              "346601 RT @essentialoilsu - Less than 24 hours to go - http://www.essentialoilsuccess.com learn how to build a successful YL business today!       \n",
              "346602 Jackson Tickets: Take Refund Or Souvenir: Around 750,000 fans paid between £50 and £150 for tickets to the shows.. http://tinyurl.com/lvqckx\n",
              "346603 @bafadam What Govneh said. Seriously. Doctor!                                                                                               \n",
              "346604 iPhone SDK 3.1 beta is available for developer download. http://bit.ly/nEYQF (via @TUAW)                                                    \n",
              "346605 I should totally sign up for this...and not warn my friends or family in advance. http://is.gd/1ju5f                                        \n",
              "346606 I just took the \"Which McFLY member are you?\" quiz and got: Danny! Try it: http://bit.ly/wqijd                                              \n",
              "346607 みゃーおん！                                                                                                                                \n",
              "346608 @hurumble When I'm on an interview panel, I judge by how many ideas I can rip off for use in my classroom. Passion trumps everything.       \n",
              "346609 LOL!!! RT @YouLookGreatsays there's an entire universe within you, which may explain your weight problem.                                   \n",
              "346610 RT: I don't know how to use twitter :s http://tinyurl.com/nvxmu4                                                                            \n",
              "346611 RT @lilduval: I bet a thousand bucks that Lil mama and shenehneh got the same hairstylist. ROTFLMFAO!!!!!!!!!!!                             \n",
              "346612 RT @alaidi Tankan WORS THAN EXPCTD AX THE BOARD Larg manuf -48 exp -43, Capex seen dropping 9.4% -also worse than expected. but Nikkei      \n",
              "346613 RT @MattMackowiak: Donate to KBH for Gov TONIGHT {it costs a lot to have admitted liars on the band wagon--Got Clients?}                    \n",
              "346614 RT @ismashphone: Blogging 'iPhone SDK 3.1 Beta is Available for Developers' http://bit.ly/yQxgs                                             \n",
              "346615 RT @bradgal: RT @USATODAY: Farrah Fawcett being laid to rest at funeral in L.A. http://tinyurl.com/lmnnba                                   \n",
              "346616 RT @entreprediva: The darkest hour has only sixty minutes.~Morris Mandel. Good point.                                                       \n",
              "346617 RT @Acquired_Taste:Michael Jackson Im Sorry you couldn't tell the angels No ANd Heaven Couldn't wait.Oh How I WIll ALways Miss You Im So Sad\n",
              "346618 RT @afronethea: P.S. friends...Vibe died a while ago. It's been a gossip mag in print for the last 4 yrs.                                   \n",
              "346619 I had an amazing day out in Brighton for Fin's Birthday, just not sure about the lobster look. It seems so last sun-burn. Happy Birthday Fin\n",
              "346620 Just sponsored my first colombian child. I should've sooner. Very rewarding feeling that I have.                                            \n",
              "346621 @elianebatista HUASDHUAS obrigada pelas ajudas, mesmo!                                                                                      \n",
              "346622 just uploaded 38 new photos to Facebook \"DJ Craze & DJ Klever - 26 June 2009\" album: http://bit.ly/18LicI #photography                      \n",
              "346623 RT @thejoshuablog: MUST READ: \"This Is Why Insurance Companies Fear The Public Option(Updated)\" ( http://bit.ly/14KiXS )                    \n",
              "346624 RT @vdavisson: RT @kirkflorida What is happening in Honduras from a Honduran in Honduras! | Kirk's Work at Home Blog http://cli.gs/u3qQT TU \n",
              "346625 Twitter + OpenInviter API + TweetLater = Massive Viral Traffic Flow!!!! http://tinyurl.com/cmbqrl                                           \n",
              "346626 Chicago Local > Quinn threatens 'double overtime' if no income tax increase approved http://tinyurl.com/ktjgec                              \n",
              "346627 NA                                                                                                                                          "
            ]
          },
          "metadata": {}
        }
      ]
    },
    {
      "cell_type": "markdown",
      "metadata": {
        "deletable": false,
        "editable": false,
        "id": "Q3et2QFPG2vh",
        "run_control": {
          "frozen": true
        }
      },
      "source": [
        "**2(c) (0.5 point)**\n",
        "Convert the `T` column to a properly formatted `datetime` object and give it (and the rest of the columns) an appropriate name. Also, strip off the leading `http://twitter.com/` from each user. Store the resulting table as `tweets3`. It will look like:\n",
        "```\n",
        "# A tibble: 346,627 × 3\n",
        "   time                user          tweet                                      \n",
        "   <dttm>              <chr>         <chr>                                      \n",
        " 1 2009-06-11 00:00:03 imdb          \"No Post Title\"                            \n",
        " 2 2009-06-11 16:37:14 ncruralhealth \"No Post Title\"                            \n",
        " 3 2009-06-11 16:56:23 boydjones     \"listening to \\\"Big Lizard - The Dead Milk…\n",
        " 4 2009-06-11 16:56:59 cameron987    \"@beatrizchavez A dork? NO way... you are.…\n",
        " 5 2009-06-11 16:57:03 selenato      \"@okaaaa 本当ね！2週間楽しみがありすぎわ、…\n",
        " 6 2009-06-11 16:57:30 nbeasley10    \"Just got a chance to buy All-Star tickets…\n",
        " 7 2009-06-11 16:57:31 littlewing333 \"@kidhum and if an act has pull and they d…\n",
        " 8 2009-06-11 16:57:33 lolcute       \"mebbe U fetch http://tinyurl.com/nz4fbr\"  \n",
        " 9 2009-06-11 16:57:36 fr0st22       \"I have broken 1,000 twitter updates. Paaa…\n",
        "10 2009-06-11 16:57:59 mavellsyrup   \"Food timmeeee :'D\"                        \n",
        "# … with 346,617 more rows\n",
        "```"
      ]
    },
    {
      "cell_type": "code",
      "source": [
        "library(magrittr)"
      ],
      "metadata": {
        "id": "vL-feyKck1nB"
      },
      "execution_count": 72,
      "outputs": []
    },
    {
      "cell_type": "code",
      "execution_count": 110,
      "metadata": {
        "id": "sNbaJNtpG_Q4",
        "colab": {
          "base_uri": "https://localhost:8080/",
          "height": 1000
        },
        "outputId": "961749f2-edb1-486f-afe4-cacce14464ea"
      },
      "outputs": [
        {
          "output_type": "display_data",
          "data": {
            "text/html": [
              "<table class=\"dataframe\">\n",
              "<caption>A tibble: 346627 × 3</caption>\n",
              "<thead>\n",
              "\t<tr><th scope=col>time</th><th scope=col>user</th><th scope=col>tweet</th></tr>\n",
              "\t<tr><th scope=col>&lt;dttm&gt;</th><th scope=col>&lt;chr&gt;</th><th scope=col>&lt;chr&gt;</th></tr>\n",
              "</thead>\n",
              "<tbody>\n",
              "\t<tr><td>2009-06-11 00:00:03</td><td>imdb          </td><td>No Post Title                                                                                                                            </td></tr>\n",
              "\t<tr><td>2009-06-11 16:37:14</td><td>ncruralhealth </td><td>No Post Title                                                                                                                            </td></tr>\n",
              "\t<tr><td>2009-06-11 16:56:23</td><td>boydjones     </td><td>listening to \"Big Lizard - The Dead Milkmen\" ♫ http://blip.fm/~81kwz                                                                     </td></tr>\n",
              "\t<tr><td>2009-06-11 16:56:59</td><td>cameron987    </td><td>@beatrizchavez A dork? NO way... you are. I just have no shame... I #squarespace want #squarespace that #squarespace iPhone #squarespace.</td></tr>\n",
              "\t<tr><td>2009-06-11 16:57:03</td><td>selenato      </td><td>@okaaaa 本当ね！2週間楽しみがありすぎわ、まじで…本当きどうさんへの愛がこんな形になるとは…イナズマ大人のアニメだわ＞＜                    </td></tr>\n",
              "\t<tr><td>2009-06-11 16:57:30</td><td>nbeasley10    </td><td>Just got a chance to buy All-Star tickets tomorrow. God Bless the Cardinals                                                              </td></tr>\n",
              "\t<tr><td>2009-06-11 16:57:31</td><td>littlewing333 </td><td>@kidhum and if an act has pull and they don't promote the show...how will their people ever know the show exists?                        </td></tr>\n",
              "\t<tr><td>2009-06-11 16:57:33</td><td>lolcute       </td><td>mebbe U fetch http://tinyurl.com/nz4fbr                                                                                                  </td></tr>\n",
              "\t<tr><td>2009-06-11 16:57:36</td><td>fr0st22       </td><td>I have broken 1,000 twitter updates. Paaaartaaaay!                                                                                       </td></tr>\n",
              "\t<tr><td>2009-06-11 16:57:59</td><td>mavellsyrup   </td><td>Food timmeeee :'D                                                                                                                        </td></tr>\n",
              "\t<tr><td>2009-06-11 16:58:14</td><td>c4ha2na9      </td><td>Panda Express? What does panda taste like, anyway?                                                                                       </td></tr>\n",
              "\t<tr><td>2009-06-11 16:58:20</td><td><span style=white-space:pre-wrap>shopaneer     </span></td><td><span style=white-space:pre-wrap>New York &amp; Company Coupon - Printable Coupon: Save $25 Off Your Order of $75 or More http://bit.ly/bFt82                                 </span></td></tr>\n",
              "\t<tr><td>2009-06-11 16:58:26</td><td>seeroy        </td><td>deep thought: The smell of cig smoke will probably always make me think of jamie's suburban.                                             </td></tr>\n",
              "\t<tr><td>2009-06-11 16:58:29</td><td>ericktobing   </td><td>Jam segini masih di kantor? Siapa takut..?!                                                                                              </td></tr>\n",
              "\t<tr><td>2009-06-11 16:58:31</td><td>slimscotch    </td><td>i HATE lying Mofo's...with that said time's up honey, NO ONE plays me for a fool..NO FUCKING ONE.                                        </td></tr>\n",
              "\t<tr><td>2009-06-11 16:58:38</td><td>emijanekavy   </td><td>thursday just became saturday! thank you rain.                                                                                           </td></tr>\n",
              "\t<tr><td>2009-06-11 16:58:40</td><td>honeybeess    </td><td>@iamweb please tell me you know who im talking about!!                                                                                   </td></tr>\n",
              "\t<tr><td>2009-06-11 16:58:42</td><td>suwen         </td><td>Lima, Wales, Bath, Paris, Rome. One day i will :)                                                                                        </td></tr>\n",
              "\t<tr><td>2009-06-11 16:58:49</td><td>urbangeisha   </td><td>14 more hours until results. X_X                                                                                                         </td></tr>\n",
              "\t<tr><td>2009-06-11 16:59:02</td><td>heysupqt      </td><td>Noons late enough to drink a white russian right?                                                                                        </td></tr>\n",
              "\t<tr><td>2009-06-11 16:59:08</td><td>ozarksredcross</td><td>RT @Federation: Red Cross Red Crescent ready to respond to Influenza A (H1N1) pandemic. http://bit.ly/yCdTz #h1n1                        </td></tr>\n",
              "\t<tr><td>2009-06-11 16:59:11</td><td>everzor       </td><td>All I nwant is you to vote! http://bit.ly/za8qH                                                                                          </td></tr>\n",
              "\t<tr><td>2009-06-11 16:59:12</td><td>passion_killer</td><td>http://bit.ly/lTSht very fun!!                                                                                                           </td></tr>\n",
              "\t<tr><td>2009-06-11 16:59:14</td><td>twittzat      </td><td>Mobilier : un tabouret à dossier design et coloré (et pas cher !) http://bit.ly/1880ta                                                   </td></tr>\n",
              "\t<tr><td>2009-06-11 16:59:15</td><td>andymedeiros  </td><td>@kaaaii Meu DEUS! HUHUSHUAHUSHUAHUSA                                                                                                     </td></tr>\n",
              "\t<tr><td>2009-06-11 16:59:24</td><td>imway2smooth  </td><td>On my way to San Diego...                                                                                                                </td></tr>\n",
              "\t<tr><td>2009-06-11 16:59:25</td><td>goaliegirl    </td><td>@chollis Sorry, $215 for Wed-Sun, $269 for Thurs-Sun. Just search westjet.com for Vancouver to MTL for Jun 25-28. :) (@metricjulie)      </td></tr>\n",
              "\t<tr><td>2009-06-11 16:59:25</td><td>stephmott     </td><td>Wearing my new green jacket today. It's not supposed to be 60 degrees in June.                                                           </td></tr>\n",
              "\t<tr><td>2009-06-11 16:59:29</td><td>zackbrat      </td><td>shopping at the mall good shit at the place                                                                                              </td></tr>\n",
              "\t<tr><td>2009-06-11 16:59:30</td><td>claudiasjarif </td><td>@lollygloria wess yang pantai indah kapuk itu must go itu fun abis!!                                                                     </td></tr>\n",
              "\t<tr><td>⋮</td><td>⋮</td><td>⋮</td></tr>\n",
              "\t<tr><td>2009-06-30 23:52:48</td><td>chastity_chevy </td><td>hungry!                                                                                                                                     </td></tr>\n",
              "\t<tr><td>2009-06-30 23:52:51</td><td>pagemoney      </td><td>A cyber acronym is a movement? @bowwow614 lmao.                                                                                             </td></tr>\n",
              "\t<tr><td>2009-06-30 23:52:58</td><td>jacquelinehyde </td><td>So gettng an iPhone in the fall...omg just found some awesome programs that will let me be more efficent!                                   </td></tr>\n",
              "\t<tr><td>2009-06-30 23:53:20</td><td>isisjade       </td><td>RT @essentialoilsu - Less than 24 hours to go - http://www.essentialoilsuccess.com learn how to build a successful YL business today!       </td></tr>\n",
              "\t<tr><td>2009-06-30 23:53:21</td><td>entertainmentuk</td><td>Jackson Tickets: Take Refund Or Souvenir: Around 750,000 fans paid between £50 and £150 for tickets to the shows.. http://tinyurl.com/lvqckx</td></tr>\n",
              "\t<tr><td>2009-06-30 23:53:51</td><td>geekgirlsrule  </td><td>@bafadam What Govneh said. Seriously. Doctor!                                                                                               </td></tr>\n",
              "\t<tr><td>2009-06-30 23:54:24</td><td>macosdad       </td><td>iPhone SDK 3.1 beta is available for developer download. http://bit.ly/nEYQF (via @TUAW)                                                    </td></tr>\n",
              "\t<tr><td>2009-06-30 23:54:40</td><td>ink_slinger    </td><td>I should totally sign up for this...and not warn my friends or family in advance. http://is.gd/1ju5f                                        </td></tr>\n",
              "\t<tr><td>2009-06-30 23:55:17</td><td>_missbela      </td><td>I just took the \"Which McFLY member are you?\" quiz and got: Danny! Try it: http://bit.ly/wqijd                                              </td></tr>\n",
              "\t<tr><td>2009-06-30 23:55:24</td><td>dq_pencil      </td><td>みゃーおん！                                                                                                                                </td></tr>\n",
              "\t<tr><td>2009-06-30 23:55:26</td><td>woodenmask     </td><td>@hurumble When I'm on an interview panel, I judge by how many ideas I can rip off for use in my classroom. Passion trumps everything.       </td></tr>\n",
              "\t<tr><td>2009-06-30 23:55:36</td><td>fattlip        </td><td>LOL!!! RT @YouLookGreatsays there's an entire universe within you, which may explain your weight problem.                                   </td></tr>\n",
              "\t<tr><td>2009-06-30 23:55:49</td><td>howtotweets    </td><td>RT: I don't know how to use twitter :s http://tinyurl.com/nvxmu4                                                                            </td></tr>\n",
              "\t<tr><td>2009-06-30 23:56:19</td><td>kamparker      </td><td>RT @lilduval: I bet a thousand bucks that Lil mama and shenehneh got the same hairstylist. ROTFLMFAO!!!!!!!!!!!                             </td></tr>\n",
              "\t<tr><td>2009-06-30 23:56:21</td><td>gtnew          </td><td>RT @alaidi Tankan WORS THAN EXPCTD AX THE BOARD Larg manuf -48 exp -43, Capex seen dropping 9.4% -also worse than expected. but Nikkei      </td></tr>\n",
              "\t<tr><td>2009-06-30 23:56:23</td><td>freeusfromthem </td><td>RT @MattMackowiak: Donate to KBH for Gov TONIGHT {it costs a lot to have admitted liars on the band wagon--Got Clients?}                    </td></tr>\n",
              "\t<tr><td>2009-06-30 23:56:31</td><td>enigmad        </td><td>RT @ismashphone: Blogging 'iPhone SDK 3.1 Beta is Available for Developers' http://bit.ly/yQxgs                                             </td></tr>\n",
              "\t<tr><td>2009-06-30 23:56:48</td><td>orbixint       </td><td>RT @bradgal: RT @USATODAY: Farrah Fawcett being laid to rest at funeral in L.A. http://tinyurl.com/lmnnba                                   </td></tr>\n",
              "\t<tr><td>2009-06-30 23:56:58</td><td>itsdestro      </td><td>RT @entreprediva: The darkest hour has only sixty minutes.~Morris Mandel. Good point.                                                       </td></tr>\n",
              "\t<tr><td>2009-06-30 23:57:01</td><td>preetisk       </td><td>RT @Acquired_Taste:Michael Jackson Im Sorry you couldn't tell the angels No ANd Heaven Couldn't wait.Oh How I WIll ALways Miss You Im So Sad</td></tr>\n",
              "\t<tr><td>2009-06-30 23:57:03</td><td>focusedaily    </td><td>RT @afronethea: P.S. friends...Vibe died a while ago. It's been a gossip mag in print for the last 4 yrs.                                   </td></tr>\n",
              "\t<tr><td>2009-06-30 23:57:04</td><td>dean_coulson   </td><td>I had an amazing day out in Brighton for Fin's Birthday, just not sure about the lobster look. It seems so last sun-burn. Happy Birthday Fin</td></tr>\n",
              "\t<tr><td>2009-06-30 23:57:08</td><td>craiggentryjr  </td><td>Just sponsored my first colombian child. I should've sooner. Very rewarding feeling that I have.                                            </td></tr>\n",
              "\t<tr><td>2009-06-30 23:57:13</td><td>naylajones     </td><td>@elianebatista HUASDHUAS obrigada pelas ajudas, mesmo!                                                                                      </td></tr>\n",
              "\t<tr><td>2009-06-30 23:57:13</td><td><span style=white-space:pre-wrap>starwing       </span></td><td><span style=white-space:pre-wrap>just uploaded 38 new photos to Facebook \"DJ Craze &amp; DJ Klever - 26 June 2009\" album: http://bit.ly/18LicI #photography                      </span></td></tr>\n",
              "\t<tr><td>2009-06-30 23:57:14</td><td>hubbit         </td><td>RT @thejoshuablog: MUST READ: \"This Is Why Insurance Companies Fear The Public Option(Updated)\" ( http://bit.ly/14KiXS )                    </td></tr>\n",
              "\t<tr><td>2009-06-30 23:57:17</td><td>kirkflorida    </td><td>RT @vdavisson: RT @kirkflorida What is happening in Honduras from a Honduran in Honduras! | Kirk's Work at Home Blog http://cli.gs/u3qQT TU </td></tr>\n",
              "\t<tr><td>2009-06-30 23:57:34</td><td>seokillertrial </td><td>Twitter + OpenInviter API + TweetLater = Massive Viral Traffic Flow!!!! http://tinyurl.com/cmbqrl                                           </td></tr>\n",
              "\t<tr><td>2009-06-30 23:57:36</td><td><span style=white-space:pre-wrap>ericboothc21   </span></td><td><span style=white-space:pre-wrap>Chicago Local &gt; Quinn threatens 'double overtime' if no income tax increase approved http://tinyurl.com/ktjgec                              </span></td></tr>\n",
              "\t<tr><td>2009-06-30 23:57:53</td><td>NA             </td><td>NA                                                                                                                                          </td></tr>\n",
              "</tbody>\n",
              "</table>\n"
            ],
            "text/markdown": "\nA tibble: 346627 × 3\n\n| time &lt;dttm&gt; | user &lt;chr&gt; | tweet &lt;chr&gt; |\n|---|---|---|\n| 2009-06-11 00:00:03 | imdb           | No Post Title                                                                                                                             |\n| 2009-06-11 16:37:14 | ncruralhealth  | No Post Title                                                                                                                             |\n| 2009-06-11 16:56:23 | boydjones      | listening to \"Big Lizard - The Dead Milkmen\" ♫ http://blip.fm/~81kwz                                                                      |\n| 2009-06-11 16:56:59 | cameron987     | @beatrizchavez A dork? NO way... you are. I just have no shame... I #squarespace want #squarespace that #squarespace iPhone #squarespace. |\n| 2009-06-11 16:57:03 | selenato       | @okaaaa 本当ね！2週間楽しみがありすぎわ、まじで…本当きどうさんへの愛がこんな形になるとは…イナズマ大人のアニメだわ＞＜                     |\n| 2009-06-11 16:57:30 | nbeasley10     | Just got a chance to buy All-Star tickets tomorrow. God Bless the Cardinals                                                               |\n| 2009-06-11 16:57:31 | littlewing333  | @kidhum and if an act has pull and they don't promote the show...how will their people ever know the show exists?                         |\n| 2009-06-11 16:57:33 | lolcute        | mebbe U fetch http://tinyurl.com/nz4fbr                                                                                                   |\n| 2009-06-11 16:57:36 | fr0st22        | I have broken 1,000 twitter updates. Paaaartaaaay!                                                                                        |\n| 2009-06-11 16:57:59 | mavellsyrup    | Food timmeeee :'D                                                                                                                         |\n| 2009-06-11 16:58:14 | c4ha2na9       | Panda Express? What does panda taste like, anyway?                                                                                        |\n| 2009-06-11 16:58:20 | shopaneer      | New York &amp; Company Coupon - Printable Coupon: Save $25 Off Your Order of $75 or More http://bit.ly/bFt82                                  |\n| 2009-06-11 16:58:26 | seeroy         | deep thought: The smell of cig smoke will probably always make me think of jamie's suburban.                                              |\n| 2009-06-11 16:58:29 | ericktobing    | Jam segini masih di kantor? Siapa takut..?!                                                                                               |\n| 2009-06-11 16:58:31 | slimscotch     | i HATE lying Mofo's...with that said time's up honey, NO ONE plays me for a fool..NO FUCKING ONE.                                         |\n| 2009-06-11 16:58:38 | emijanekavy    | thursday just became saturday! thank you rain.                                                                                            |\n| 2009-06-11 16:58:40 | honeybeess     | @iamweb please tell me you know who im talking about!!                                                                                    |\n| 2009-06-11 16:58:42 | suwen          | Lima, Wales, Bath, Paris, Rome. One day i will :)                                                                                         |\n| 2009-06-11 16:58:49 | urbangeisha    | 14 more hours until results. X_X                                                                                                          |\n| 2009-06-11 16:59:02 | heysupqt       | Noons late enough to drink a white russian right?                                                                                         |\n| 2009-06-11 16:59:08 | ozarksredcross | RT @Federation: Red Cross Red Crescent ready to respond to Influenza A (H1N1) pandemic. http://bit.ly/yCdTz #h1n1                         |\n| 2009-06-11 16:59:11 | everzor        | All I nwant is you to vote! http://bit.ly/za8qH                                                                                           |\n| 2009-06-11 16:59:12 | passion_killer | http://bit.ly/lTSht very fun!!                                                                                                            |\n| 2009-06-11 16:59:14 | twittzat       | Mobilier : un tabouret à dossier design et coloré (et pas cher !) http://bit.ly/1880ta                                                    |\n| 2009-06-11 16:59:15 | andymedeiros   | @kaaaii Meu DEUS! HUHUSHUAHUSHUAHUSA                                                                                                      |\n| 2009-06-11 16:59:24 | imway2smooth   | On my way to San Diego...                                                                                                                 |\n| 2009-06-11 16:59:25 | goaliegirl     | @chollis Sorry, $215 for Wed-Sun, $269 for Thurs-Sun. Just search westjet.com for Vancouver to MTL for Jun 25-28. :) (@metricjulie)       |\n| 2009-06-11 16:59:25 | stephmott      | Wearing my new green jacket today. It's not supposed to be 60 degrees in June.                                                            |\n| 2009-06-11 16:59:29 | zackbrat       | shopping at the mall good shit at the place                                                                                               |\n| 2009-06-11 16:59:30 | claudiasjarif  | @lollygloria wess yang pantai indah kapuk itu must go itu fun abis!!                                                                      |\n| ⋮ | ⋮ | ⋮ |\n| 2009-06-30 23:52:48 | chastity_chevy  | hungry!                                                                                                                                      |\n| 2009-06-30 23:52:51 | pagemoney       | A cyber acronym is a movement? @bowwow614 lmao.                                                                                              |\n| 2009-06-30 23:52:58 | jacquelinehyde  | So gettng an iPhone in the fall...omg just found some awesome programs that will let me be more efficent!                                    |\n| 2009-06-30 23:53:20 | isisjade        | RT @essentialoilsu - Less than 24 hours to go - http://www.essentialoilsuccess.com learn how to build a successful YL business today!        |\n| 2009-06-30 23:53:21 | entertainmentuk | Jackson Tickets: Take Refund Or Souvenir: Around 750,000 fans paid between £50 and £150 for tickets to the shows.. http://tinyurl.com/lvqckx |\n| 2009-06-30 23:53:51 | geekgirlsrule   | @bafadam What Govneh said. Seriously. Doctor!                                                                                                |\n| 2009-06-30 23:54:24 | macosdad        | iPhone SDK 3.1 beta is available for developer download. http://bit.ly/nEYQF (via @TUAW)                                                     |\n| 2009-06-30 23:54:40 | ink_slinger     | I should totally sign up for this...and not warn my friends or family in advance. http://is.gd/1ju5f                                         |\n| 2009-06-30 23:55:17 | _missbela       | I just took the \"Which McFLY member are you?\" quiz and got: Danny! Try it: http://bit.ly/wqijd                                               |\n| 2009-06-30 23:55:24 | dq_pencil       | みゃーおん！                                                                                                                                 |\n| 2009-06-30 23:55:26 | woodenmask      | @hurumble When I'm on an interview panel, I judge by how many ideas I can rip off for use in my classroom. Passion trumps everything.        |\n| 2009-06-30 23:55:36 | fattlip         | LOL!!! RT @YouLookGreatsays there's an entire universe within you, which may explain your weight problem.                                    |\n| 2009-06-30 23:55:49 | howtotweets     | RT: I don't know how to use twitter :s http://tinyurl.com/nvxmu4                                                                             |\n| 2009-06-30 23:56:19 | kamparker       | RT @lilduval: I bet a thousand bucks that Lil mama and shenehneh got the same hairstylist. ROTFLMFAO!!!!!!!!!!!                              |\n| 2009-06-30 23:56:21 | gtnew           | RT @alaidi Tankan WORS THAN EXPCTD AX THE BOARD Larg manuf -48 exp -43, Capex seen dropping 9.4% -also worse than expected. but Nikkei       |\n| 2009-06-30 23:56:23 | freeusfromthem  | RT @MattMackowiak: Donate to KBH for Gov TONIGHT {it costs a lot to have admitted liars on the band wagon--Got Clients?}                     |\n| 2009-06-30 23:56:31 | enigmad         | RT @ismashphone: Blogging 'iPhone SDK 3.1 Beta is Available for Developers' http://bit.ly/yQxgs                                              |\n| 2009-06-30 23:56:48 | orbixint        | RT @bradgal: RT @USATODAY: Farrah Fawcett being laid to rest at funeral in L.A. http://tinyurl.com/lmnnba                                    |\n| 2009-06-30 23:56:58 | itsdestro       | RT @entreprediva: The darkest hour has only sixty minutes.~Morris Mandel. Good point.                                                        |\n| 2009-06-30 23:57:01 | preetisk        | RT @Acquired_Taste:Michael Jackson Im Sorry you couldn't tell the angels No ANd Heaven Couldn't wait.Oh How I WIll ALways Miss You Im So Sad |\n| 2009-06-30 23:57:03 | focusedaily     | RT @afronethea: P.S. friends...Vibe died a while ago. It's been a gossip mag in print for the last 4 yrs.                                    |\n| 2009-06-30 23:57:04 | dean_coulson    | I had an amazing day out in Brighton for Fin's Birthday, just not sure about the lobster look. It seems so last sun-burn. Happy Birthday Fin |\n| 2009-06-30 23:57:08 | craiggentryjr   | Just sponsored my first colombian child. I should've sooner. Very rewarding feeling that I have.                                             |\n| 2009-06-30 23:57:13 | naylajones      | @elianebatista HUASDHUAS obrigada pelas ajudas, mesmo!                                                                                       |\n| 2009-06-30 23:57:13 | starwing        | just uploaded 38 new photos to Facebook \"DJ Craze &amp; DJ Klever - 26 June 2009\" album: http://bit.ly/18LicI #photography                       |\n| 2009-06-30 23:57:14 | hubbit          | RT @thejoshuablog: MUST READ: \"This Is Why Insurance Companies Fear The Public Option(Updated)\" ( http://bit.ly/14KiXS )                     |\n| 2009-06-30 23:57:17 | kirkflorida     | RT @vdavisson: RT @kirkflorida What is happening in Honduras from a Honduran in Honduras! | Kirk's Work at Home Blog http://cli.gs/u3qQT TU  |\n| 2009-06-30 23:57:34 | seokillertrial  | Twitter + OpenInviter API + TweetLater = Massive Viral Traffic Flow!!!! http://tinyurl.com/cmbqrl                                            |\n| 2009-06-30 23:57:36 | ericboothc21    | Chicago Local &gt; Quinn threatens 'double overtime' if no income tax increase approved http://tinyurl.com/ktjgec                               |\n| 2009-06-30 23:57:53 | NA              | NA                                                                                                                                           |\n\n",
            "text/latex": "A tibble: 346627 × 3\n\\begin{tabular}{lll}\n time & user & tweet\\\\\n <dttm> & <chr> & <chr>\\\\\n\\hline\n\t 2009-06-11 00:00:03 & imdb           & No Post Title                                                                                                                            \\\\\n\t 2009-06-11 16:37:14 & ncruralhealth  & No Post Title                                                                                                                            \\\\\n\t 2009-06-11 16:56:23 & boydjones      & listening to \"Big Lizard - The Dead Milkmen\" ♫ http://blip.fm/\\textasciitilde{}81kwz                                                                     \\\\\n\t 2009-06-11 16:56:59 & cameron987     & @beatrizchavez A dork? NO way... you are. I just have no shame... I \\#squarespace want \\#squarespace that \\#squarespace iPhone \\#squarespace.\\\\\n\t 2009-06-11 16:57:03 & selenato       & @okaaaa 本当ね！2週間楽しみがありすぎわ、まじで…本当きどうさんへの愛がこんな形になるとは…イナズマ大人のアニメだわ＞＜                    \\\\\n\t 2009-06-11 16:57:30 & nbeasley10     & Just got a chance to buy All-Star tickets tomorrow. God Bless the Cardinals                                                              \\\\\n\t 2009-06-11 16:57:31 & littlewing333  & @kidhum and if an act has pull and they don't promote the show...how will their people ever know the show exists?                        \\\\\n\t 2009-06-11 16:57:33 & lolcute        & mebbe U fetch http://tinyurl.com/nz4fbr                                                                                                  \\\\\n\t 2009-06-11 16:57:36 & fr0st22        & I have broken 1,000 twitter updates. Paaaartaaaay!                                                                                       \\\\\n\t 2009-06-11 16:57:59 & mavellsyrup    & Food timmeeee :'D                                                                                                                        \\\\\n\t 2009-06-11 16:58:14 & c4ha2na9       & Panda Express? What does panda taste like, anyway?                                                                                       \\\\\n\t 2009-06-11 16:58:20 & shopaneer      & New York \\& Company Coupon - Printable Coupon: Save \\$25 Off Your Order of \\$75 or More http://bit.ly/bFt82                                 \\\\\n\t 2009-06-11 16:58:26 & seeroy         & deep thought: The smell of cig smoke will probably always make me think of jamie's suburban.                                             \\\\\n\t 2009-06-11 16:58:29 & ericktobing    & Jam segini masih di kantor? Siapa takut..?!                                                                                              \\\\\n\t 2009-06-11 16:58:31 & slimscotch     & i HATE lying Mofo's...with that said time's up honey, NO ONE plays me for a fool..NO FUCKING ONE.                                        \\\\\n\t 2009-06-11 16:58:38 & emijanekavy    & thursday just became saturday! thank you rain.                                                                                           \\\\\n\t 2009-06-11 16:58:40 & honeybeess     & @iamweb please tell me you know who im talking about!!                                                                                   \\\\\n\t 2009-06-11 16:58:42 & suwen          & Lima, Wales, Bath, Paris, Rome. One day i will :)                                                                                        \\\\\n\t 2009-06-11 16:58:49 & urbangeisha    & 14 more hours until results. X\\_X                                                                                                         \\\\\n\t 2009-06-11 16:59:02 & heysupqt       & Noons late enough to drink a white russian right?                                                                                        \\\\\n\t 2009-06-11 16:59:08 & ozarksredcross & RT @Federation: Red Cross Red Crescent ready to respond to Influenza A (H1N1) pandemic. http://bit.ly/yCdTz \\#h1n1                        \\\\\n\t 2009-06-11 16:59:11 & everzor        & All I nwant is you to vote! http://bit.ly/za8qH                                                                                          \\\\\n\t 2009-06-11 16:59:12 & passion\\_killer & http://bit.ly/lTSht very fun!!                                                                                                           \\\\\n\t 2009-06-11 16:59:14 & twittzat       & Mobilier : un tabouret à dossier design et coloré (et pas cher !) http://bit.ly/1880ta                                                   \\\\\n\t 2009-06-11 16:59:15 & andymedeiros   & @kaaaii Meu DEUS! HUHUSHUAHUSHUAHUSA                                                                                                     \\\\\n\t 2009-06-11 16:59:24 & imway2smooth   & On my way to San Diego...                                                                                                                \\\\\n\t 2009-06-11 16:59:25 & goaliegirl     & @chollis Sorry, \\$215 for Wed-Sun, \\$269 for Thurs-Sun. Just search westjet.com for Vancouver to MTL for Jun 25-28. :) (@metricjulie)      \\\\\n\t 2009-06-11 16:59:25 & stephmott      & Wearing my new green jacket today. It's not supposed to be 60 degrees in June.                                                           \\\\\n\t 2009-06-11 16:59:29 & zackbrat       & shopping at the mall good shit at the place                                                                                              \\\\\n\t 2009-06-11 16:59:30 & claudiasjarif  & @lollygloria wess yang pantai indah kapuk itu must go itu fun abis!!                                                                     \\\\\n\t ⋮ & ⋮ & ⋮\\\\\n\t 2009-06-30 23:52:48 & chastity\\_chevy  & hungry!                                                                                                                                     \\\\\n\t 2009-06-30 23:52:51 & pagemoney       & A cyber acronym is a movement? @bowwow614 lmao.                                                                                             \\\\\n\t 2009-06-30 23:52:58 & jacquelinehyde  & So gettng an iPhone in the fall...omg just found some awesome programs that will let me be more efficent!                                   \\\\\n\t 2009-06-30 23:53:20 & isisjade        & RT @essentialoilsu - Less than 24 hours to go - http://www.essentialoilsuccess.com learn how to build a successful YL business today!       \\\\\n\t 2009-06-30 23:53:21 & entertainmentuk & Jackson Tickets: Take Refund Or Souvenir: Around 750,000 fans paid between £50 and £150 for tickets to the shows.. http://tinyurl.com/lvqckx\\\\\n\t 2009-06-30 23:53:51 & geekgirlsrule   & @bafadam What Govneh said. Seriously. Doctor!                                                                                               \\\\\n\t 2009-06-30 23:54:24 & macosdad        & iPhone SDK 3.1 beta is available for developer download. http://bit.ly/nEYQF (via @TUAW)                                                    \\\\\n\t 2009-06-30 23:54:40 & ink\\_slinger     & I should totally sign up for this...and not warn my friends or family in advance. http://is.gd/1ju5f                                        \\\\\n\t 2009-06-30 23:55:17 & \\_missbela       & I just took the \"Which McFLY member are you?\" quiz and got: Danny! Try it: http://bit.ly/wqijd                                              \\\\\n\t 2009-06-30 23:55:24 & dq\\_pencil       & みゃーおん！                                                                                                                                \\\\\n\t 2009-06-30 23:55:26 & woodenmask      & @hurumble When I'm on an interview panel, I judge by how many ideas I can rip off for use in my classroom. Passion trumps everything.       \\\\\n\t 2009-06-30 23:55:36 & fattlip         & LOL!!! RT @YouLookGreatsays there's an entire universe within you, which may explain your weight problem.                                   \\\\\n\t 2009-06-30 23:55:49 & howtotweets     & RT: I don't know how to use twitter :s http://tinyurl.com/nvxmu4                                                                            \\\\\n\t 2009-06-30 23:56:19 & kamparker       & RT @lilduval: I bet a thousand bucks that Lil mama and shenehneh got the same hairstylist. ROTFLMFAO!!!!!!!!!!!                             \\\\\n\t 2009-06-30 23:56:21 & gtnew           & RT @alaidi Tankan WORS THAN EXPCTD AX THE BOARD Larg manuf -48 exp -43, Capex seen dropping 9.4\\% -also worse than expected. but Nikkei      \\\\\n\t 2009-06-30 23:56:23 & freeusfromthem  & RT @MattMackowiak: Donate to KBH for Gov TONIGHT \\{it costs a lot to have admitted liars on the band wagon--Got Clients?\\}                    \\\\\n\t 2009-06-30 23:56:31 & enigmad         & RT @ismashphone: Blogging 'iPhone SDK 3.1 Beta is Available for Developers' http://bit.ly/yQxgs                                             \\\\\n\t 2009-06-30 23:56:48 & orbixint        & RT @bradgal: RT @USATODAY: Farrah Fawcett being laid to rest at funeral in L.A. http://tinyurl.com/lmnnba                                   \\\\\n\t 2009-06-30 23:56:58 & itsdestro       & RT @entreprediva: The darkest hour has only sixty minutes.\\textasciitilde{}Morris Mandel. Good point.                                                       \\\\\n\t 2009-06-30 23:57:01 & preetisk        & RT @Acquired\\_Taste:Michael Jackson Im Sorry you couldn't tell the angels No ANd Heaven Couldn't wait.Oh How I WIll ALways Miss You Im So Sad\\\\\n\t 2009-06-30 23:57:03 & focusedaily     & RT @afronethea: P.S. friends...Vibe died a while ago. It's been a gossip mag in print for the last 4 yrs.                                   \\\\\n\t 2009-06-30 23:57:04 & dean\\_coulson    & I had an amazing day out in Brighton for Fin's Birthday, just not sure about the lobster look. It seems so last sun-burn. Happy Birthday Fin\\\\\n\t 2009-06-30 23:57:08 & craiggentryjr   & Just sponsored my first colombian child. I should've sooner. Very rewarding feeling that I have.                                            \\\\\n\t 2009-06-30 23:57:13 & naylajones      & @elianebatista HUASDHUAS obrigada pelas ajudas, mesmo!                                                                                      \\\\\n\t 2009-06-30 23:57:13 & starwing        & just uploaded 38 new photos to Facebook \"DJ Craze \\& DJ Klever - 26 June 2009\" album: http://bit.ly/18LicI \\#photography                      \\\\\n\t 2009-06-30 23:57:14 & hubbit          & RT @thejoshuablog: MUST READ: \"This Is Why Insurance Companies Fear The Public Option(Updated)\" ( http://bit.ly/14KiXS )                    \\\\\n\t 2009-06-30 23:57:17 & kirkflorida     & RT @vdavisson: RT @kirkflorida What is happening in Honduras from a Honduran in Honduras! \\textbar{} Kirk's Work at Home Blog http://cli.gs/u3qQT TU \\\\\n\t 2009-06-30 23:57:34 & seokillertrial  & Twitter + OpenInviter API + TweetLater = Massive Viral Traffic Flow!!!! http://tinyurl.com/cmbqrl                                           \\\\\n\t 2009-06-30 23:57:36 & ericboothc21    & Chicago Local > Quinn threatens 'double overtime' if no income tax increase approved http://tinyurl.com/ktjgec                              \\\\\n\t 2009-06-30 23:57:53 & NA              & NA                                                                                                                                          \\\\\n\\end{tabular}\n",
            "text/plain": [
              "       time                user           \n",
              "1      2009-06-11 00:00:03 imdb           \n",
              "2      2009-06-11 16:37:14 ncruralhealth  \n",
              "3      2009-06-11 16:56:23 boydjones      \n",
              "4      2009-06-11 16:56:59 cameron987     \n",
              "5      2009-06-11 16:57:03 selenato       \n",
              "6      2009-06-11 16:57:30 nbeasley10     \n",
              "7      2009-06-11 16:57:31 littlewing333  \n",
              "8      2009-06-11 16:57:33 lolcute        \n",
              "9      2009-06-11 16:57:36 fr0st22        \n",
              "10     2009-06-11 16:57:59 mavellsyrup    \n",
              "11     2009-06-11 16:58:14 c4ha2na9       \n",
              "12     2009-06-11 16:58:20 shopaneer      \n",
              "13     2009-06-11 16:58:26 seeroy         \n",
              "14     2009-06-11 16:58:29 ericktobing    \n",
              "15     2009-06-11 16:58:31 slimscotch     \n",
              "16     2009-06-11 16:58:38 emijanekavy    \n",
              "17     2009-06-11 16:58:40 honeybeess     \n",
              "18     2009-06-11 16:58:42 suwen          \n",
              "19     2009-06-11 16:58:49 urbangeisha    \n",
              "20     2009-06-11 16:59:02 heysupqt       \n",
              "21     2009-06-11 16:59:08 ozarksredcross \n",
              "22     2009-06-11 16:59:11 everzor        \n",
              "23     2009-06-11 16:59:12 passion_killer \n",
              "24     2009-06-11 16:59:14 twittzat       \n",
              "25     2009-06-11 16:59:15 andymedeiros   \n",
              "26     2009-06-11 16:59:24 imway2smooth   \n",
              "27     2009-06-11 16:59:25 goaliegirl     \n",
              "28     2009-06-11 16:59:25 stephmott      \n",
              "29     2009-06-11 16:59:29 zackbrat       \n",
              "30     2009-06-11 16:59:30 claudiasjarif  \n",
              "⋮      ⋮                   ⋮              \n",
              "346598 2009-06-30 23:52:48 chastity_chevy \n",
              "346599 2009-06-30 23:52:51 pagemoney      \n",
              "346600 2009-06-30 23:52:58 jacquelinehyde \n",
              "346601 2009-06-30 23:53:20 isisjade       \n",
              "346602 2009-06-30 23:53:21 entertainmentuk\n",
              "346603 2009-06-30 23:53:51 geekgirlsrule  \n",
              "346604 2009-06-30 23:54:24 macosdad       \n",
              "346605 2009-06-30 23:54:40 ink_slinger    \n",
              "346606 2009-06-30 23:55:17 _missbela      \n",
              "346607 2009-06-30 23:55:24 dq_pencil      \n",
              "346608 2009-06-30 23:55:26 woodenmask     \n",
              "346609 2009-06-30 23:55:36 fattlip        \n",
              "346610 2009-06-30 23:55:49 howtotweets    \n",
              "346611 2009-06-30 23:56:19 kamparker      \n",
              "346612 2009-06-30 23:56:21 gtnew          \n",
              "346613 2009-06-30 23:56:23 freeusfromthem \n",
              "346614 2009-06-30 23:56:31 enigmad        \n",
              "346615 2009-06-30 23:56:48 orbixint       \n",
              "346616 2009-06-30 23:56:58 itsdestro      \n",
              "346617 2009-06-30 23:57:01 preetisk       \n",
              "346618 2009-06-30 23:57:03 focusedaily    \n",
              "346619 2009-06-30 23:57:04 dean_coulson   \n",
              "346620 2009-06-30 23:57:08 craiggentryjr  \n",
              "346621 2009-06-30 23:57:13 naylajones     \n",
              "346622 2009-06-30 23:57:13 starwing       \n",
              "346623 2009-06-30 23:57:14 hubbit         \n",
              "346624 2009-06-30 23:57:17 kirkflorida    \n",
              "346625 2009-06-30 23:57:34 seokillertrial \n",
              "346626 2009-06-30 23:57:36 ericboothc21   \n",
              "346627 2009-06-30 23:57:53 NA             \n",
              "       tweet                                                                                                                                       \n",
              "1      No Post Title                                                                                                                               \n",
              "2      No Post Title                                                                                                                               \n",
              "3      listening to \"Big Lizard - The Dead Milkmen\" ♫ http://blip.fm/~81kwz                                                                        \n",
              "4      @beatrizchavez A dork? NO way... you are. I just have no shame... I #squarespace want #squarespace that #squarespace iPhone #squarespace.   \n",
              "5      @okaaaa 本当ね！2週間楽しみがありすぎわ、まじで…本当きどうさんへの愛がこんな形になるとは…イナズマ大人のアニメだわ＞＜                       \n",
              "6      Just got a chance to buy All-Star tickets tomorrow. God Bless the Cardinals                                                                 \n",
              "7      @kidhum and if an act has pull and they don't promote the show...how will their people ever know the show exists?                           \n",
              "8      mebbe U fetch http://tinyurl.com/nz4fbr                                                                                                     \n",
              "9      I have broken 1,000 twitter updates. Paaaartaaaay!                                                                                          \n",
              "10     Food timmeeee :'D                                                                                                                           \n",
              "11     Panda Express? What does panda taste like, anyway?                                                                                          \n",
              "12     New York & Company Coupon - Printable Coupon: Save $25 Off Your Order of $75 or More http://bit.ly/bFt82                                    \n",
              "13     deep thought: The smell of cig smoke will probably always make me think of jamie's suburban.                                                \n",
              "14     Jam segini masih di kantor? Siapa takut..?!                                                                                                 \n",
              "15     i HATE lying Mofo's...with that said time's up honey, NO ONE plays me for a fool..NO FUCKING ONE.                                           \n",
              "16     thursday just became saturday! thank you rain.                                                                                              \n",
              "17     @iamweb please tell me you know who im talking about!!                                                                                      \n",
              "18     Lima, Wales, Bath, Paris, Rome. One day i will :)                                                                                           \n",
              "19     14 more hours until results. X_X                                                                                                            \n",
              "20     Noons late enough to drink a white russian right?                                                                                           \n",
              "21     RT @Federation: Red Cross Red Crescent ready to respond to Influenza A (H1N1) pandemic. http://bit.ly/yCdTz #h1n1                           \n",
              "22     All I nwant is you to vote! http://bit.ly/za8qH                                                                                             \n",
              "23     http://bit.ly/lTSht very fun!!                                                                                                              \n",
              "24     Mobilier : un tabouret à dossier design et coloré (et pas cher !) http://bit.ly/1880ta                                                      \n",
              "25     @kaaaii Meu DEUS! HUHUSHUAHUSHUAHUSA                                                                                                        \n",
              "26     On my way to San Diego...                                                                                                                   \n",
              "27     @chollis Sorry, $215 for Wed-Sun, $269 for Thurs-Sun. Just search westjet.com for Vancouver to MTL for Jun 25-28. :) (@metricjulie)         \n",
              "28     Wearing my new green jacket today. It's not supposed to be 60 degrees in June.                                                              \n",
              "29     shopping at the mall good shit at the place                                                                                                 \n",
              "30     @lollygloria wess yang pantai indah kapuk itu must go itu fun abis!!                                                                        \n",
              "⋮      ⋮                                                                                                                                           \n",
              "346598 hungry!                                                                                                                                     \n",
              "346599 A cyber acronym is a movement? @bowwow614 lmao.                                                                                             \n",
              "346600 So gettng an iPhone in the fall...omg just found some awesome programs that will let me be more efficent!                                   \n",
              "346601 RT @essentialoilsu - Less than 24 hours to go - http://www.essentialoilsuccess.com learn how to build a successful YL business today!       \n",
              "346602 Jackson Tickets: Take Refund Or Souvenir: Around 750,000 fans paid between £50 and £150 for tickets to the shows.. http://tinyurl.com/lvqckx\n",
              "346603 @bafadam What Govneh said. Seriously. Doctor!                                                                                               \n",
              "346604 iPhone SDK 3.1 beta is available for developer download. http://bit.ly/nEYQF (via @TUAW)                                                    \n",
              "346605 I should totally sign up for this...and not warn my friends or family in advance. http://is.gd/1ju5f                                        \n",
              "346606 I just took the \"Which McFLY member are you?\" quiz and got: Danny! Try it: http://bit.ly/wqijd                                              \n",
              "346607 みゃーおん！                                                                                                                                \n",
              "346608 @hurumble When I'm on an interview panel, I judge by how many ideas I can rip off for use in my classroom. Passion trumps everything.       \n",
              "346609 LOL!!! RT @YouLookGreatsays there's an entire universe within you, which may explain your weight problem.                                   \n",
              "346610 RT: I don't know how to use twitter :s http://tinyurl.com/nvxmu4                                                                            \n",
              "346611 RT @lilduval: I bet a thousand bucks that Lil mama and shenehneh got the same hairstylist. ROTFLMFAO!!!!!!!!!!!                             \n",
              "346612 RT @alaidi Tankan WORS THAN EXPCTD AX THE BOARD Larg manuf -48 exp -43, Capex seen dropping 9.4% -also worse than expected. but Nikkei      \n",
              "346613 RT @MattMackowiak: Donate to KBH for Gov TONIGHT {it costs a lot to have admitted liars on the band wagon--Got Clients?}                    \n",
              "346614 RT @ismashphone: Blogging 'iPhone SDK 3.1 Beta is Available for Developers' http://bit.ly/yQxgs                                             \n",
              "346615 RT @bradgal: RT @USATODAY: Farrah Fawcett being laid to rest at funeral in L.A. http://tinyurl.com/lmnnba                                   \n",
              "346616 RT @entreprediva: The darkest hour has only sixty minutes.~Morris Mandel. Good point.                                                       \n",
              "346617 RT @Acquired_Taste:Michael Jackson Im Sorry you couldn't tell the angels No ANd Heaven Couldn't wait.Oh How I WIll ALways Miss You Im So Sad\n",
              "346618 RT @afronethea: P.S. friends...Vibe died a while ago. It's been a gossip mag in print for the last 4 yrs.                                   \n",
              "346619 I had an amazing day out in Brighton for Fin's Birthday, just not sure about the lobster look. It seems so last sun-burn. Happy Birthday Fin\n",
              "346620 Just sponsored my first colombian child. I should've sooner. Very rewarding feeling that I have.                                            \n",
              "346621 @elianebatista HUASDHUAS obrigada pelas ajudas, mesmo!                                                                                      \n",
              "346622 just uploaded 38 new photos to Facebook \"DJ Craze & DJ Klever - 26 June 2009\" album: http://bit.ly/18LicI #photography                      \n",
              "346623 RT @thejoshuablog: MUST READ: \"This Is Why Insurance Companies Fear The Public Option(Updated)\" ( http://bit.ly/14KiXS )                    \n",
              "346624 RT @vdavisson: RT @kirkflorida What is happening in Honduras from a Honduran in Honduras! | Kirk's Work at Home Blog http://cli.gs/u3qQT TU \n",
              "346625 Twitter + OpenInviter API + TweetLater = Massive Viral Traffic Flow!!!! http://tinyurl.com/cmbqrl                                           \n",
              "346626 Chicago Local > Quinn threatens 'double overtime' if no income tax increase approved http://tinyurl.com/ktjgec                              \n",
              "346627 NA                                                                                                                                          "
            ]
          },
          "metadata": {}
        }
      ],
      "source": [
        "# YOUR SOLUTION HERE\n",
        "\n",
        "tweets3 <- tweets2 %>%\n",
        "  set_colnames(c(\"time\", \"user\", \"tweet\")) %>%\n",
        "  mutate(time = as.POSIXct(time, format = \"%Y-%m-%d %H:%M:%S\")) %>%\n",
        "  mutate(user = str_remove(user, \"http://twitter.com/\"))\n",
        "\n",
        "tweets3"
      ]
    },
    {
      "cell_type": "markdown",
      "metadata": {
        "id": "ji7X4G-TG794"
      },
      "source": [
        "**2(d) (1 point)**\n",
        "Create a plot that shows the tweet volume for each day of June 2009. For what **day of the month** was there the largest volume of tweets? Can you give an explanation for what caused this spike?\n",
        "\n",
        "*Hint*: Try reading tweets on the day of highest volume around 11:00PM, and/or Google the date."
      ]
    },
    {
      "cell_type": "code",
      "execution_count": 145,
      "metadata": {
        "id": "ASqLc1ziHBsG",
        "colab": {
          "base_uri": "https://localhost:8080/"
        },
        "outputId": "3a0b11f8-d77b-4f9a-f208-b6f7aea69670"
      },
      "outputs": [
        {
          "output_type": "stream",
          "name": "stderr",
          "text": [
            "Warning message:\n",
            "“\u001b[1m\u001b[22mThere were 2 warnings in `filter()`.\n",
            "The first warning was:\n",
            "\u001b[1m\u001b[22m\u001b[36mℹ\u001b[39m In argument: `month(time) == 6 && year(time) == 2009`.\n",
            "Caused by warning in `month(time) == 6 && year(time) == 2009`:\n",
            "\u001b[33m!\u001b[39m 'length(x) = 346627 > 1' in coercion to 'logical(1)'\n",
            "\u001b[1m\u001b[22m\u001b[36mℹ\u001b[39m Run `dplyr::last_dplyr_warnings()` to see the 1 remaining warning.”\n"
          ]
        }
      ],
      "source": [
        "# YOUR SOLUTION HERE \n",
        "\n",
        "june2009 <- tweets3 %>%\n",
        "  filter(month(time) == 6 && year(time) == 2009) %>%\n",
        "  mutate(day  = day(time)) %>%\n",
        "  group_by(day) %>%\n",
        "  summarise(tweetVolume = n()) %>%\n",
        "  arrange(-tweetVolume)"
      ]
    },
    {
      "cell_type": "code",
      "source": [
        "june2009"
      ],
      "metadata": {
        "colab": {
          "base_uri": "https://localhost:8080/",
          "height": 872
        },
        "id": "gQyiviaXsn0P",
        "outputId": "0b6b99e8-4bf6-48d0-9d8f-fda24d1a659d"
      },
      "execution_count": 146,
      "outputs": [
        {
          "output_type": "display_data",
          "data": {
            "text/html": [
              "<table class=\"dataframe\">\n",
              "<caption>A tibble: 25 × 2</caption>\n",
              "<thead>\n",
              "\t<tr><th scope=col>day</th><th scope=col>tweetVolume</th></tr>\n",
              "\t<tr><th scope=col>&lt;int&gt;</th><th scope=col>&lt;int&gt;</th></tr>\n",
              "</thead>\n",
              "<tbody>\n",
              "\t<tr><td>25</td><td>23031</td></tr>\n",
              "\t<tr><td>12</td><td>22457</td></tr>\n",
              "\t<tr><td>30</td><td>22302</td></tr>\n",
              "\t<tr><td>15</td><td>20892</td></tr>\n",
              "\t<tr><td>29</td><td>20580</td></tr>\n",
              "\t<tr><td>27</td><td>20469</td></tr>\n",
              "\t<tr><td>13</td><td>19427</td></tr>\n",
              "\t<tr><td>26</td><td>19313</td></tr>\n",
              "\t<tr><td>14</td><td>18929</td></tr>\n",
              "\t<tr><td>28</td><td>17777</td></tr>\n",
              "\t<tr><td>21</td><td>16669</td></tr>\n",
              "\t<tr><td>17</td><td>16531</td></tr>\n",
              "\t<tr><td>16</td><td>16197</td></tr>\n",
              "\t<tr><td>23</td><td>15715</td></tr>\n",
              "\t<tr><td>18</td><td>15511</td></tr>\n",
              "\t<tr><td>22</td><td>15382</td></tr>\n",
              "\t<tr><td>19</td><td>14911</td></tr>\n",
              "\t<tr><td>20</td><td>14787</td></tr>\n",
              "\t<tr><td>24</td><td>11004</td></tr>\n",
              "\t<tr><td>11</td><td> 4738</td></tr>\n",
              "\t<tr><td> 4</td><td>    1</td></tr>\n",
              "\t<tr><td> 5</td><td>    1</td></tr>\n",
              "\t<tr><td> 8</td><td>    1</td></tr>\n",
              "\t<tr><td> 9</td><td>    1</td></tr>\n",
              "\t<tr><td>10</td><td>    1</td></tr>\n",
              "</tbody>\n",
              "</table>\n"
            ],
            "text/markdown": "\nA tibble: 25 × 2\n\n| day &lt;int&gt; | tweetVolume &lt;int&gt; |\n|---|---|\n| 25 | 23031 |\n| 12 | 22457 |\n| 30 | 22302 |\n| 15 | 20892 |\n| 29 | 20580 |\n| 27 | 20469 |\n| 13 | 19427 |\n| 26 | 19313 |\n| 14 | 18929 |\n| 28 | 17777 |\n| 21 | 16669 |\n| 17 | 16531 |\n| 16 | 16197 |\n| 23 | 15715 |\n| 18 | 15511 |\n| 22 | 15382 |\n| 19 | 14911 |\n| 20 | 14787 |\n| 24 | 11004 |\n| 11 |  4738 |\n|  4 |     1 |\n|  5 |     1 |\n|  8 |     1 |\n|  9 |     1 |\n| 10 |     1 |\n\n",
            "text/latex": "A tibble: 25 × 2\n\\begin{tabular}{ll}\n day & tweetVolume\\\\\n <int> & <int>\\\\\n\\hline\n\t 25 & 23031\\\\\n\t 12 & 22457\\\\\n\t 30 & 22302\\\\\n\t 15 & 20892\\\\\n\t 29 & 20580\\\\\n\t 27 & 20469\\\\\n\t 13 & 19427\\\\\n\t 26 & 19313\\\\\n\t 14 & 18929\\\\\n\t 28 & 17777\\\\\n\t 21 & 16669\\\\\n\t 17 & 16531\\\\\n\t 16 & 16197\\\\\n\t 23 & 15715\\\\\n\t 18 & 15511\\\\\n\t 22 & 15382\\\\\n\t 19 & 14911\\\\\n\t 20 & 14787\\\\\n\t 24 & 11004\\\\\n\t 11 &  4738\\\\\n\t  4 &     1\\\\\n\t  5 &     1\\\\\n\t  8 &     1\\\\\n\t  9 &     1\\\\\n\t 10 &     1\\\\\n\\end{tabular}\n",
            "text/plain": [
              "   day tweetVolume\n",
              "1  25  23031      \n",
              "2  12  22457      \n",
              "3  30  22302      \n",
              "4  15  20892      \n",
              "5  29  20580      \n",
              "6  27  20469      \n",
              "7  13  19427      \n",
              "8  26  19313      \n",
              "9  14  18929      \n",
              "10 28  17777      \n",
              "11 21  16669      \n",
              "12 17  16531      \n",
              "13 16  16197      \n",
              "14 23  15715      \n",
              "15 18  15511      \n",
              "16 22  15382      \n",
              "17 19  14911      \n",
              "18 20  14787      \n",
              "19 24  11004      \n",
              "20 11   4738      \n",
              "21  4      1      \n",
              "22  5      1      \n",
              "23  8      1      \n",
              "24  9      1      \n",
              "25 10      1      "
            ]
          },
          "metadata": {}
        }
      ]
    },
    {
      "cell_type": "code",
      "source": [
        "june2009 %>%\n",
        "  ggplot(aes(x=day, y = tweetVolume)) +\n",
        "  geom_col()"
      ],
      "metadata": {
        "colab": {
          "base_uri": "https://localhost:8080/",
          "height": 197
        },
        "id": "VIIf4A9Lsppz",
        "outputId": "021777dc-6142-4d51-8bfd-b7ea05e07d5c"
      },
      "execution_count": 147,
      "outputs": [
        {
          "output_type": "display_data",
          "data": {
            "text/plain": [
              "plot without title"
            ],
            "image/png": "[encoded data removed]"
          },
          "metadata": {
            "image/png": {
              "width": 240,
              "height": 180
            }
          }
        }
      ]
    },
    {
      "cell_type": "markdown",
      "source": [
        "June 25th 2009 is the day with the largest volume of tweets at 23031 tweets. A reason for this may be due to the fact that both actress Farrah Fawcett and pop superstar Michael Jackson died 12 hours apart on that day. "
      ],
      "metadata": {
        "id": "WO2PRxgasue6"
      }
    },
    {
      "cell_type": "markdown",
      "metadata": {
        "id": "ctqC29ScHDIh"
      },
      "source": [
        "**2(e) (1 points)** One of the reason for the spike in 2(d) was related to a public figure in the music industry. On the day of highest volume in 2(d), what is the percentage of tweets that mentioned either **their first or last name**?"
      ]
    },
    {
      "cell_type": "code",
      "source": [
        " mutate(michigan_won_championship =ifelse((Winner == 'Michigan' & Round == 'National Championship'), 1, 0)) "
      ],
      "metadata": {
        "id": "y_TiAI_yvv6T"
      },
      "execution_count": null,
      "outputs": []
    },
    {
      "cell_type": "code",
      "execution_count": 175,
      "metadata": {
        "id": "ajo4NHNKLrz4",
        "colab": {
          "base_uri": "https://localhost:8080/",
          "height": 187
        },
        "outputId": "b5915835-b2d4-411c-ba21-8e9975f1390c"
      },
      "outputs": [
        {
          "output_type": "stream",
          "name": "stderr",
          "text": [
            "Warning message:\n",
            "“\u001b[1m\u001b[22mThere were 2 warnings in `filter()`.\n",
            "The first warning was:\n",
            "\u001b[1m\u001b[22m\u001b[36mℹ\u001b[39m In argument: `month(time) == 6 && year(time) == 2009`.\n",
            "Caused by warning in `month(time) == 6 && year(time) == 2009`:\n",
            "\u001b[33m!\u001b[39m 'length(x) = 346627 > 1' in coercion to 'logical(1)'\n",
            "\u001b[1m\u001b[22m\u001b[36mℹ\u001b[39m Run `dplyr::last_dplyr_warnings()` to see the 1 remaining warning.”\n",
            "Warning message in mean.default(., MJ):\n",
            "“argument is not numeric or logical: returning NA”\n"
          ]
        },
        {
          "output_type": "display_data",
          "data": {
            "text/html": [
              "&lt;NA&gt;"
            ],
            "text/markdown": "&lt;NA&gt;",
            "text/latex": "<NA>",
            "text/plain": [
              "[1] NA"
            ]
          },
          "metadata": {}
        }
      ],
      "source": [
        "# YOUR SOLUTION HERE \n",
        "\n",
        "tweets3 %>%\n",
        "  filter(month(time) == 6 && year(time) == 2009) %>%\n",
        "  filter(day(time) == 25) %>%\n",
        "  mutate(tweet = str_to_lower(tweet)) %>%\n",
        "  mutate(MJ = ifelse((str_detect(tweet, \"michael\") | str_detect(tweet, \"jackson\")), 1, 0)) %>%\n",
        "  mean(MJ)"
      ]
    },
    {
      "cell_type": "markdown",
      "metadata": {
        "deletable": false,
        "editable": false,
        "id": "qUtlpiTQHG9j",
        "run_control": {
          "frozen": true
        }
      },
      "source": [
        "# Challenge Problem: Writing a function\n",
        "\n",
        "(2 points) A few weeks ago, the university announced that it was pushing the start of the winter semester [back by one week](https://www.michigandaily.com/news/administration/board-of-regents-approves-extended-winter-break/) to January 10, 2024. Assume that the winter semester will always begin on the second Wednesday in January. Write a function called `winter_start_date(year)` which takes a year and returns the date on which winter classes will commence:\n",
        "\n",
        "    > winter_start_date(2024)\n",
        "    2024-01-10\n",
        "    > winter_start_date(3024)\n",
        "    3024-01-14"
      ]
    },
    {
      "cell_type": "code",
      "source": [
        "library(glue)"
      ],
      "metadata": {
        "id": "CyWizR8ofYHG"
      },
      "execution_count": 44,
      "outputs": []
    },
    {
      "cell_type": "code",
      "execution_count": 97,
      "metadata": {
        "id": "8sqaWZqHLn9P"
      },
      "outputs": [],
      "source": [
        "# YOUR SOLUTION HERE \n",
        "\n",
        "winter_start_date <- function(year) {\n",
        "  jan_first_date <- as.Date(paste(year, \"-01-01\", sep = \"\"))\n",
        "  first_day_of_week <- weekdays(jan_first_date)\n",
        "  to_wedns <- match(\"Wednesday\", weekdays(seq(jan_first_date, by = \"day\", length.out = 7))) + 7\n",
        "  return(format(jan_first_date + to_wedns -1, \"%Y-%m-%d\"))\n",
        "}"
      ]
    }
  ],
  "metadata": {
    "celltoolbar": "Create Assignment",
    "colab": {
      "provenance": []
    },
    "kernelspec": {
      "display_name": "R",
      "language": "R",
      "name": "ir"
    },
    "language_info": {
      "codemirror_mode": "r",
      "file_extension": ".r",
      "mimetype": "text/x-r-source",
      "name": "R",
      "pygments_lexer": "r",
      "version": "4.2.1"
    }
  },
  "nbformat": 4,
  "nbformat_minor": 0
}